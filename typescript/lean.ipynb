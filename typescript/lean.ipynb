{
 "cells": [
  {
   "cell_type": "code",
   "execution_count": 5,
   "metadata": {},
   "outputs": [
    {
     "name": "stdout",
     "output_type": "stream",
     "text": [
      "[ 'hah', 10 ]\n"
     ]
    },
    {
     "data": {
      "text/plain": [
       "undefined"
      ]
     },
     "execution_count": 5,
     "metadata": {},
     "output_type": "execute_result"
    }
   ],
   "source": [
    "{\n",
    "    let x:[string,number];\n",
    "    x =['hah',10];\n",
    "    console.log(x);\n",
    "    /*\n",
    "    x[3]='a';\n",
    "    x[4]=1;\n",
    "     console.log(x);\n",
    "     */\n",
    "}"
   ]
  },
  {
   "cell_type": "code",
   "execution_count": 6,
   "metadata": {},
   "outputs": [
    {
     "name": "stdout",
     "output_type": "stream",
     "text": [
      "{ _b: 'a', _c: 1 }\n",
      "{ _b: 'a', _c: 1 }\n"
     ]
    },
    {
     "data": {
      "text/plain": [
       "undefined"
      ]
     },
     "execution_count": 6,
     "metadata": {},
     "output_type": "execute_result"
    }
   ],
   "source": [
    "{\n",
    "    type _a ={\n",
    "        _b:string,\n",
    "        _c:number\n",
    "    };\n",
    "    interface __a {\n",
    "        _b:string,\n",
    "        _c:number\n",
    "    }\n",
    "    \n",
    "    let ra:_a = {\n",
    "        _b:'a',\n",
    "        _c:1\n",
    "    }\n",
    "    let rra:__a ={\n",
    "        _b:'a',\n",
    "        _c:1\n",
    "    }\n",
    "    console.log(ra);\n",
    "    console.log(rra);\n",
    "}"
   ]
  },
  {
   "cell_type": "code",
   "execution_count": null,
   "metadata": {},
   "outputs": [],
   "source": []
  }
 ],
 "metadata": {
  "kernelspec": {
   "display_name": "Typescript 3.7",
   "language": "typescript",
   "name": "typescript"
  },
  "language_info": {
   "file_extension": ".ts",
   "mimetype": "application/x-typescript",
   "name": "typescript",
   "version": "3.7.2"
  }
 },
 "nbformat": 4,
 "nbformat_minor": 4
}
