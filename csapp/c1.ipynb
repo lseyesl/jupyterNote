{
 "cells": [
  {
   "cell_type": "markdown",
   "metadata": {},
   "source": [
    "# a tour of computer systems"
   ]
  },
  {
   "cell_type": "code",
   "execution_count": 2,
   "metadata": {},
   "outputs": [
    {
     "name": "stdout",
     "output_type": "stream",
     "text": [
      "hello, world\n"
     ]
    }
   ],
   "source": [
    "#include <stdio.h>\n",
    "int main(){\n",
    "    printf(\"hello, world\\n\");\n",
    "    return 0;\n",
    "}"
   ]
  },
  {
   "cell_type": "markdown",
   "metadata": {},
   "source": [
    "## 1.1 information is bits + context"
   ]
  },
  {
   "cell_type": "markdown",
   "metadata": {},
   "source": [
    "## 1.2 programs are translated by other programs into different forms\n",
    "\n",
    "[the compilation system](./graph/the_compilation_system.dio)\n",
    "\n",
    "```bash\n",
    " gcc -o hello hello.c\n",
    "```\n",
    "\n",
    "four programs for compilation\n",
    "- preprocessor\n",
    "- compiler\n",
    "- assembler\n",
    "- linker"
   ]
  },
  {
   "cell_type": "markdown",
   "metadata": {},
   "source": [
    "## 1.3 it pays to understand how compilation systems work"
   ]
  },
  {
   "cell_type": "markdown",
   "metadata": {},
   "source": [
    "## 1.4 processors read and interpret instructions stored in memory\n",
    "\n",
    "### 1.4.1 hardware organization of a system\n",
    "\n",
    "[hardware](./graph/hardware.dio)\n",
    "\n",
    "*Buses* is designed to transfer fixed-size chunks of bytes known as *words*.\n",
    "\n",
    "I/O device is connected to the I/O bus by either a *controller* or *adapter*.\n",
    "\n",
    "cpu (central processing unit)\n",
    "- load: copy a byte or a word form main memory into a register,overwriteing the previous contents of the register.\n",
    "- store: copy a byte or a word form a register to a location in main memory,overwriting the previous contents of that location\n",
    "- operate: copy the contents of two registers to the ALU, perform an arithmetic operation on the two words, and store the result in a register, overwriting the previous contents of that register.\n",
    "- jump: extract a word from the instruction itself and copy that word into the program counter(pc) ,overwriting the previous value of the pc.\n",
    "\n",
    "### 1.4.2 running the hello program\n",
    "\n",
    "DMA(direct memory access)"
   ]
  },
  {
   "cell_type": "markdown",
   "metadata": {},
   "source": [
    "## 1.5 caches matter\n",
    "\n",
    "a major goal for system designers is to make these copy operations run as fast as possible.\n",
    "\n",
    "SRAM(static random access memory)"
   ]
  },
  {
   "cell_type": "markdown",
   "metadata": {},
   "source": [
    "## 1.6 storage devices form a hierarchy"
   ]
  },
  {
   "cell_type": "markdown",
   "metadata": {},
   "source": [
    "## 1.7 the operating system manages the hardware\n",
    "\n",
    "primary purposes:\n",
    "- to protect the hardware from misuse by runaway applicatoins \n",
    "- to provide applications with simple and uniform mechanisms form manipulationg complicated and often wildly different low-level hardware devices.\n",
    "\n",
    "### 1.71 processes\n",
    "\n",
    "a process is the operating system's abstraction for a running program.\n",
    "\n",
    "### 1.72 threads\n",
    "\n",
    "### 1.73 virtual memory\n",
    "\n",
    "- program code and data\n",
    "- heap\n",
    "- shared libraries\n",
    "- stack\n",
    "- kernel virutal memory\n",
    "\n",
    "### 1.74 files"
   ]
  },
  {
   "cell_type": "markdown",
   "metadata": {},
   "source": [
    "## 1.8 systems communicate with other systems using networks"
   ]
  },
  {
   "cell_type": "markdown",
   "metadata": {},
   "source": [
    "## 1.9 important themes\n",
    "\n",
    "### 1.9.1 amdahl's law\n",
    "\n",
    "### 1.9.2 concurrency and parallelism\n",
    "\n",
    "- thread-level concurrency\n",
    "- instruction-level parallelism\n",
    "- single-instruction,multiple-data (SIMD) parallelism\n",
    "\n",
    "### 1.9.3 the importance of abstractions in computer systems"
   ]
  },
  {
   "cell_type": "markdown",
   "metadata": {},
   "source": [
    "## 1.10 summary"
   ]
  }
 ],
 "metadata": {
  "kernelspec": {
   "display_name": "C",
   "language": "c",
   "name": "c"
  },
  "language_info": {
   "file_extension": ".c",
   "mimetype": "text/plain",
   "name": "c"
  }
 },
 "nbformat": 4,
 "nbformat_minor": 4
}
