{
 "cells": [
  {
   "cell_type": "markdown",
   "metadata": {},
   "source": [
    "# representing and manipulating information"
   ]
  },
  {
   "cell_type": "code",
   "execution_count": 1,
   "metadata": {},
   "outputs": [
    {
     "name": "stderr",
     "output_type": "stream",
     "text": [
      "/tmp/tmp60ustryo.c: In function ‘main’:\n",
      "/tmp/tmp60ustryo.c:4:29: warning: integer overflow in expression [-Woverflow]\n",
      "     printf(\"%d\\n\",((500*400)*(300*200)));\n",
      "                             ^\n",
      "/tmp/tmp60ustryo.c:5:35: warning: integer overflow in expression [-Woverflow]\n",
      "     printf(\"%d\\n\",(((500*400)*300)*200));\n",
      "                                   ^\n",
      "/tmp/tmp60ustryo.c:6:35: warning: integer overflow in expression [-Woverflow]\n",
      "     printf(\"%d\\n\",(((200*500)*300)*400));\n",
      "                                   ^\n",
      "/tmp/tmp60ustryo.c:7:23: warning: integer overflow in expression [-Woverflow]\n",
      "     printf(\"%d\\n\",(400*(200*(300*500))));\n",
      "                       ^\n"
     ]
    },
    {
     "name": "stdout",
     "output_type": "stream",
     "text": [
      "-884901888\n",
      "-884901888\n",
      "-884901888\n",
      "-884901888\n"
     ]
    }
   ],
   "source": [
    "#include <stdio.h>\n",
    "int main()\n",
    "{\n",
    "    printf(\"%d\\n\",((500*400)*(300*200)));\n",
    "    printf(\"%d\\n\",(((500*400)*300)*200));\n",
    "    printf(\"%d\\n\",(((200*500)*300)*400));\n",
    "    printf(\"%d\\n\",(400*(200*(300*500))));\n",
    "    return 0;\n",
    "}"
   ]
  },
  {
   "cell_type": "code",
   "execution_count": 3,
   "metadata": {},
   "outputs": [
    {
     "name": "stdout",
     "output_type": "stream",
     "text": [
      "0.000000\n",
      "3.140000\n"
     ]
    }
   ],
   "source": [
    "#include <stdio.h>\n",
    "int main()\n",
    "{\n",
    "    printf(\"%f\\n\",((3.14+1e20)-1e20));\n",
    "    printf(\"%f\\n\",(3.14+(1e20-1e20)));\n",
    "    return 0;\n",
    "}"
   ]
  },
  {
   "cell_type": "markdown",
   "metadata": {},
   "source": [
    "## 2.1 information storage\n",
    "\n",
    "----------------------------------\n",
    "c versin | gcc command-line option\n",
    "----------------------------------\n",
    "GNU 89 | none, -std=gnu89\n",
    "ANSI,ISO C90 | -ansi, -std=c89\n",
    "ISO C99 | -std=c99\n",
    "ISO C11 | -std=c11\n",
    "----------------------------------\n",
    "\n",
    "### 2.1.1 hexadecimal notation\n",
    "\n",
    "**\n",
    " 1 byte = 8 bits\n",
    "**\n",
    "\n",
    "### 2.1.2 data size\n",
    "\n",
    "a machine with a w-bit word size,the virtual addresses can range from 0 to $2^w -1$,giving the program access to at most $2^w$ bytes.\n",
    "\n",
    "```bash\n",
    "    gcc -m32 prog.c #32位\n",
    "    gcc -m64 prog.c #64位\n",
    "```\n",
    "\n",
    "### 2.1.3 addressing adn byte ordering\n",
    "\n",
    "- little endian: where the least significant byte comes first\n",
    "- big endian: where the most significant byte comes first"
   ]
  },
  {
   "cell_type": "code",
   "execution_count": null,
   "metadata": {},
   "outputs": [],
   "source": [
    "#include <stdio.h>\n",
    "\n",
    "typedef unsigned char *byte_pointer;\n",
    "\n",
    "void show_bytes(byte_pointer start,size_t len){\n",
    "    size_t i;\n",
    "    for(i=0;i<len;i++)\n",
    "        printf(\" %.2x\",start[i]);\n",
    "    printf(\"\\n\");\n",
    "}\n",
    "\n",
    "void show_int(int x){\n",
    "    show_bytes((byte_pointer) &x, sizeof(int));\n",
    "}\n",
    "\n",
    "void show_float(float x){\n",
    "    show_bytes((byte_pointer) &x, sizeof(float));\n",
    "}\n",
    "\n",
    "void show_pointer(void *x){\n",
    "    show_bytes((byte_pointer) &x, sizeof(void *));\n",
    "}\n",
    "\n",
    "void test_show_bytes(int val){\n",
    "    int ival = val;\n",
    "    float fval = (float) ival;\n",
    "    int *pval = &ival;\n",
    "    show_int(ival);\n",
    "    show_float(fval);\n",
    "    show_pointer(pval);\n",
    "}\n",
    "\n",
    "int main(){\n",
    "    int num = 12345;\n",
    "    test_show_bytes(num);\n",
    "}"
   ]
  },
  {
   "cell_type": "markdown",
   "metadata": {},
   "source": [
    "### 2.1.4 representing strings"
   ]
  },
  {
   "cell_type": "code",
   "execution_count": 3,
   "metadata": {},
   "outputs": [
    {
     "name": "stdout",
     "output_type": "stream",
     "text": [
      " 61 62 63 64 65 66\n"
     ]
    }
   ],
   "source": [
    "#include <stdio.h>\n",
    "#include <string.h>\n",
    "\n",
    "typedef unsigned char *byte_pointer;\n",
    "\n",
    "void show_bytes(byte_pointer start,size_t len){\n",
    "    size_t i;\n",
    "    for(i=0;i<len;i++)\n",
    "        printf(\" %.2x\",start[i]);\n",
    "    printf(\"\\n\");\n",
    "}\n",
    "\n",
    "void show_int(int x){\n",
    "    show_bytes((byte_pointer) &x, sizeof(int));\n",
    "}\n",
    "\n",
    "void show_float(float x){\n",
    "    show_bytes((byte_pointer) &x, sizeof(float));\n",
    "}\n",
    "\n",
    "void show_pointer(void *x){\n",
    "    show_bytes((byte_pointer) &x, sizeof(void *));\n",
    "}\n",
    "\n",
    "int main(){\n",
    "    const char *s = \"abcdef\";\n",
    "    show_bytes((byte_pointer) s, strlen(s));\n",
    "}"
   ]
  },
  {
   "cell_type": "markdown",
   "metadata": {},
   "source": [
    "### 2.1.5 representing code\n",
    "\n",
    "### 2.1.6 introduction to boolean algebra\n",
    "\n",
    "```\n",
    "~\n",
    "-----\n",
    "0  1\n",
    "1  0\n",
    "\n",
    "&  0  1\n",
    "-------\n",
    "0  0  0\n",
    "1  0  1\n",
    "\n",
    "|  0  1\n",
    "-------\n",
    "0  0  1\n",
    "1  1  1\n",
    "\n",
    "^  0  1\n",
    "-------\n",
    "0  0  1\n",
    "1  1  0\n",
    "```"
   ]
  },
  {
   "cell_type": "code",
   "execution_count": 7,
   "metadata": {},
   "outputs": [
    {
     "name": "stdout",
     "output_type": "stream",
     "text": [
      "5,4,3,2,1,"
     ]
    }
   ],
   "source": [
    "#include <stdio.h>\n",
    "\n",
    "void inplace_swap(int *x,int *y){\n",
    "    *y = *x ^ *y;\n",
    "    *x = *x ^ *y;\n",
    "    *y = *x ^ *y;\n",
    "}\n",
    "void reverse_array(int a[], int cnt){\n",
    "    int first,last;\n",
    "    for(first=0,last=cnt-1;first<last;first++,last--){\n",
    "        inplace_swap(&a[first],&a[last]);\n",
    "    }\n",
    "}\n",
    "int main(){\n",
    "    int a[] ={1,2,3,4,5};\n",
    "    reverse_array(a,5);\n",
    "    for(int i =0;i<5;i++){\n",
    "        printf(\"%d,\",a[i]);\n",
    "    }\n",
    "    return 0;\n",
    "}"
   ]
  },
  {
   "cell_type": "markdown",
   "metadata": {},
   "source": [
    "### 2.1.8 logical operations in c"
   ]
  },
  {
   "cell_type": "code",
   "execution_count": 9,
   "metadata": {},
   "outputs": [
    {
     "name": "stdout",
     "output_type": "stream",
     "text": [
      "x&y:20\n",
      "x|y:7f\n",
      "~x|~y:ffffffdf\n",
      "x&!y:0\n"
     ]
    }
   ],
   "source": [
    "#include <stdio.h>\n",
    "int main(){\n",
    "    int x = 0x66;\n",
    "    int y = 0x39;\n",
    "    printf(\"x&y:%x\\n\",x&y);\n",
    "    printf(\"x|y:%x\\n\",x|y);\n",
    "    printf(\"~x|~y:%x\\n\",~x|~y);\n",
    "    printf(\"x&!y:%x\\n\",x&!y);\n",
    "    return 0;\n",
    "}"
   ]
  },
  {
   "cell_type": "code",
   "execution_count": 10,
   "metadata": {},
   "outputs": [
    {
     "name": "stdout",
     "output_type": "stream",
     "text": [
      "x&y:1\n",
      "x|y:1\n",
      "~x|~y:0\n",
      "x&!y:1\n"
     ]
    }
   ],
   "source": [
    "#include <stdio.h>\n",
    "int main(){\n",
    "    int x = 0x66;\n",
    "    int y = 0x39;\n",
    "    printf(\"x&y:%d\\n\",x&&y);\n",
    "    printf(\"x|y:%d\\n\",x||y);\n",
    "    printf(\"~x|~y:%d\\n\",!x||!y);\n",
    "    printf(\"x&!y:%d\\n\",x&&~y);\n",
    "    return 0;\n",
    "}"
   ]
  },
  {
   "cell_type": "markdown",
   "metadata": {},
   "source": [
    "### 2.1.9 shift operations in c"
   ]
  },
  {
   "cell_type": "code",
   "execution_count": 24,
   "metadata": {},
   "outputs": [
    {
     "name": "stdout",
     "output_type": "stream",
     "text": [
      "ffffffff\n",
      "fffffffc\n",
      "3fffffff\n",
      "fffffffc\n"
     ]
    }
   ],
   "source": [
    "#include <stdio.h>\n",
    "int main(){\n",
    "    int x = -1;\n",
    "    unsigned int y = 0xffffffff;\n",
    "    printf(\"%x\\n\",x>>2);  \n",
    "    printf(\"%x\\n\",x<<2);\n",
    "    printf(\"%x\\n\",y>>2);\n",
    "    printf(\"%x\\n\",y<<2);\n",
    "    return 0;\n",
    "}"
   ]
  },
  {
   "cell_type": "code",
   "execution_count": null,
   "metadata": {},
   "outputs": [],
   "source": []
  }
 ],
 "metadata": {
  "kernelspec": {
   "display_name": "C",
   "language": "c",
   "name": "c"
  },
  "language_info": {
   "file_extension": ".c",
   "mimetype": "text/plain",
   "name": "c"
  }
 },
 "nbformat": 4,
 "nbformat_minor": 4
}
