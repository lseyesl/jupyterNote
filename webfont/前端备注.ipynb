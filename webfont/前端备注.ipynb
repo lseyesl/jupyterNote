{
 "cells": [
  {
   "cell_type": "markdown",
   "metadata": {},
   "source": [
    "复制粘贴代码"
   ]
  },
  {
   "cell_type": "code",
   "execution_count": null,
   "metadata": {
    "jupyter": {
     "source_hidden": true
    },
    "tags": []
   },
   "outputs": [],
   "source": [
    "view.on('click', '.js_copy', function () {\n",
    "    var self = $(this);\n",
    "    if (self.hasClass('disable')) {\n",
    "        return false;\n",
    "    }\n",
    "    self.addClass('disable');\n",
    "    self.find('i').text('成功！');\n",
    "    var selectObj = $(this).find('input[type=text]')[0];\n",
    "    var target = document.activeElement;\n",
    "    selectObj.focus();\n",
    "    if(selectObj.setSelectionRange){\n",
    "        selectObj.setSelectionRange(0, selectObj.value.length);\n",
    "        document.execCommand('copy', false);\n",
    "    }else{\n",
    "        var range = selectObj.createTextRange();                   \n",
    "        range.select();\n",
    "        range.execCommand('copy')\n",
    "    }                \n",
    "\n",
    "    target.focus();\n",
    "    setTimeout(function () {\n",
    "        self.find('i').text('复制');\n",
    "        self.removeClass('disable');\n",
    "    }, 800);\n",
    "});"
   ]
  },
  {
   "cell_type": "markdown",
   "metadata": {},
   "source": [
    "## ast css 序列化css"
   ]
  },
  {
   "cell_type": "code",
   "execution_count": null,
   "metadata": {
    "jupyter": {
     "source_hidden": true
    },
    "tags": []
   },
   "outputs": [],
   "source": [
    "let newRule = /(?:([A-Z0-9-%@]+) *:? *([^{;]+?);|([^;}{]*?) *{)|(})/gi;\n",
    "let ruleClean = /\\/\\*[^]*?\\*\\/|\\s\\s+|\\n/g;\n",
    "\n",
    "/**\n",
    " * Convert a css style string into a object\n",
    " * @param {String} val\n",
    " * @returns {Object}\n",
    " */\n",
    "export let astish = (val) => {\n",
    "    let tree = [{}];\n",
    "    let block;\n",
    "\n",
    "    while ((block = newRule.exec(val.replace(ruleClean, '')))) {\n",
    "        // Remove the current entry\n",
    "        if (block[4]) tree.shift();\n",
    "\n",
    "        if (block[3]) {\n",
    "            tree.unshift((tree[0][block[3]] = tree[0][block[3]] || {}));\n",
    "        } else if (!block[4]) {\n",
    "            tree[0][block[1]] = block[2];\n",
    "        }\n",
    "    }\n",
    "\n",
    "    return tree[0];\n",
    "};\n"
   ]
  },
  {
   "cell_type": "markdown",
   "metadata": {},
   "source": [
    "env 判断yarn or npm "
   ]
  },
  {
   "cell_type": "code",
   "execution_count": 1,
   "metadata": {},
   "outputs": [
    {
     "name": "stdout",
     "output_type": "stream",
     "text": [
      "npm\n"
     ]
    }
   ],
   "source": [
    "/yarn/.test(process.env.npm_execpath)?'yarn':'npm';"
   ]
  },
  {
   "cell_type": "markdown",
   "metadata": {},
   "source": [
    "clearScreen"
   ]
  },
  {
   "cell_type": "code",
   "execution_count": null,
   "metadata": {},
   "outputs": [],
   "source": [
    "{\n",
    "    const repeatCount = process.stdout.rows - 2;\n",
    "    const blank = repeatCount > 0 ? '\\n'.repeat(repeatCount):'';\n",
    "    console.log(blank);\n",
    "}"
   ]
  }
 ],
 "metadata": {
  "kernelspec": {
   "display_name": "JavaScript",
   "language": "javascript",
   "name": "jslab"
  },
  "language_info": {
   "file_extension": ".js",
   "mimetype": "text/javascript",
   "name": "javascript",
   "version": ""
  }
 },
 "nbformat": 4,
 "nbformat_minor": 4
}
