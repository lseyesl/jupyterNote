{
 "cells": [
  {
   "cell_type": "markdown",
   "metadata": {},
   "source": [
    "# 下载\n",
    "\n",
    "## createObjectURL\n"
   ]
  },
  {
   "cell_type": "code",
   "execution_count": null,
   "metadata": {},
   "outputs": [],
   "source": [
    "{\n",
    "    let blob = new Blob([this._csv], { \"type\": \"text/\" + FileType + \";charset=utf8;\" });\n",
    "    let link = document.createElement(\"a\");\n",
    "    link.href = URL.createObjectURL(blob);\n",
    "\n",
    "    link.setAttribute('visibility', 'hidden');\n",
    "    link.download = this._options.filename.replace(/ /g, \"_\") + fileExtension;\n",
    "\n",
    "    document.body.appendChild(link);\n",
    "    link.click();\n",
    "    document.body.removeChild(link);\n",
    "    URL.revokeObjectURL(link.href);\n",
    "}"
   ]
  },
  {
   "cell_type": "markdown",
   "metadata": {},
   "source": [
    "## Blob\n",
    "\n",
    "File 基于 Blob\n",
    "\n",
    "从Blob中读取数据\n",
    "\n",
    "1.  FileReader"
   ]
  },
  {
   "cell_type": "code",
   "execution_count": null,
   "metadata": {},
   "outputs": [],
   "source": [
    "{\n",
    "    var blob = new Blob(['abc'],{type:'text'});\n",
    "    var reader = new FileReader();\n",
    "    reader.addEventListener('loadend',function(){\n",
    "        console.log(reader.result);\n",
    "    })\n",
    "    reader.readAsArrayBuffer(blob);\n",
    "}"
   ]
  },
  {
   "cell_type": "code",
   "execution_count": null,
   "metadata": {},
   "outputs": [],
   "source": [
    "2. Response"
   ]
  },
  {
   "cell_type": "code",
   "execution_count": 1,
   "metadata": {},
   "outputs": [
    {
     "name": "stderr",
     "output_type": "stream",
     "text": [
      "2:20 - Cannot find name 'Blob'. Did you mean 'blob'?\n",
      "3:27 - Cannot find name 'Response'.\n"
     ]
    }
   ],
   "source": [
    "{\n",
    "    var blob = new Blob(['abc'],{type:'text'});\n",
    "    var text = await (new Response(blob)).text()\n",
    "    console.log(text);\n",
    "}"
   ]
  },
  {
   "cell_type": "markdown",
   "metadata": {},
   "source": [
    "```javascript\n",
    "    let myResponse = new Response(body,init);\n",
    "```\n",
    "body \n",
    "    Blob,BufferSource,FormData,ReadableStream,URLSearchParams,USVString\n",
    "init\n",
    "    可选对象，包含要应用到response 上的任何自定义设置\n",
    "       status, statusText, headers 等"
   ]
  }
 ],
 "metadata": {
  "kernelspec": {
   "display_name": "JavaScript",
   "language": "javascript",
   "name": "jslab"
  },
  "language_info": {
   "file_extension": ".js",
   "mimetype": "text/javascript",
   "name": "javascript",
   "version": ""
  }
 },
 "nbformat": 4,
 "nbformat_minor": 4
}
