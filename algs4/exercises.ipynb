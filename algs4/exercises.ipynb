{
 "cells": [
  {
   "cell_type": "code",
   "execution_count": null,
   "metadata": {},
   "outputs": [],
   "source": [
    "%%loadFromPOM\n",
    "<repository>\n",
    "    <id>Spring Plugins</id>\n",
    "    <url>https://repo.spring.io/plugins-release/</url>\n",
    "</repository>\n",
    "\n",
    "<dependency>\n",
    "  <groupId>edu.princeton.cs</groupId>\n",
    "  <artifactId>algs4</artifactId>\n",
    "  <version>1.0.4</version>\n",
    "</dependency>"
   ]
  },
  {
   "cell_type": "code",
   "execution_count": 3,
   "metadata": {},
   "outputs": [],
   "source": [
    "import edu.princeton.cs.algs4.*"
   ]
  },
  {
   "cell_type": "code",
   "execution_count": 1,
   "metadata": {},
   "outputs": [
    {
     "data": {
      "text/plain": [
       "7"
      ]
     },
     "execution_count": 1,
     "metadata": {},
     "output_type": "execute_result"
    }
   ],
   "source": [
    "(0+15)/2"
   ]
  },
  {
   "cell_type": "code",
   "execution_count": 2,
   "metadata": {},
   "outputs": [
    {
     "data": {
      "text/plain": [
       "200.0000002"
      ]
     },
     "execution_count": 2,
     "metadata": {},
     "output_type": "execute_result"
    }
   ],
   "source": [
    "2.0e-6*100000000.1"
   ]
  },
  {
   "cell_type": "code",
   "execution_count": 3,
   "metadata": {},
   "outputs": [
    {
     "data": {
      "text/plain": [
       "2.0E-6"
      ]
     },
     "execution_count": 3,
     "metadata": {},
     "output_type": "execute_result"
    }
   ],
   "source": [
    "2.0e-6"
   ]
  },
  {
   "cell_type": "code",
   "execution_count": 4,
   "metadata": {},
   "outputs": [
    {
     "data": {
      "text/plain": [
       "true"
      ]
     },
     "execution_count": 4,
     "metadata": {},
     "output_type": "execute_result"
    }
   ],
   "source": [
    "true && false || true && true"
   ]
  },
  {
   "cell_type": "code",
   "execution_count": 5,
   "metadata": {},
   "outputs": [
    {
     "data": {
      "text/plain": [
       "1.618"
      ]
     },
     "execution_count": 5,
     "metadata": {},
     "output_type": "execute_result"
    }
   ],
   "source": [
    "(1+2.236)/2"
   ]
  },
  {
   "cell_type": "code",
   "execution_count": 6,
   "metadata": {},
   "outputs": [
    {
     "data": {
      "text/plain": [
       "10.0"
      ]
     },
     "execution_count": 6,
     "metadata": {},
     "output_type": "execute_result"
    }
   ],
   "source": [
    "1+2+3+4.0"
   ]
  },
  {
   "cell_type": "code",
   "execution_count": 7,
   "metadata": {},
   "outputs": [
    {
     "data": {
      "text/plain": [
       "true"
      ]
     },
     "execution_count": 7,
     "metadata": {},
     "output_type": "execute_result"
    }
   ],
   "source": [
    "4.1>4"
   ]
  },
  {
   "cell_type": "code",
   "execution_count": 8,
   "metadata": {},
   "outputs": [
    {
     "data": {
      "text/plain": [
       "33"
      ]
     },
     "execution_count": 8,
     "metadata": {},
     "output_type": "execute_result"
    }
   ],
   "source": [
    "1+2+\"3\""
   ]
  },
  {
   "cell_type": "code",
   "execution_count": 9,
   "metadata": {},
   "outputs": [
    {
     "name": "stdout",
     "output_type": "stream",
     "text": [
      "not equal\n",
      "equal\n"
     ]
    }
   ],
   "source": [
    "public class ThreeEq{\n",
    "    public static void run(int[] argv)\n",
    "    {\n",
    "        if(argv[0]==argv[1]&&argv[1]==argv[2]){\n",
    "            System.out.print(\"equal\\n\");\n",
    "        }else{\n",
    "            System.out.print(\"not equal\\n\");\n",
    "        }\n",
    "    }\n",
    "}\n",
    "\n",
    "ThreeEq a = new ThreeEq();\n",
    "int[] args = {1,2,3};\n",
    "int[] args2 = {1,1,1};\n",
    "a.run(args);\n",
    "a.run(args2);"
   ]
  },
  {
   "cell_type": "code",
   "execution_count": 13,
   "metadata": {},
   "outputs": [
    {
     "name": "stdout",
     "output_type": "stream",
     "text": [
      "1,0,0"
     ]
    },
    {
     "data": {
      "text/plain": [
       "java.io.PrintStream@3a50433e"
      ]
     },
     "execution_count": 13,
     "metadata": {},
     "output_type": "execute_result"
    }
   ],
   "source": [
    "int a=1,b = 2,c;\n",
    "\n",
    "//if(a>b) then c = 0; \n",
    "\n",
    "//if a>b {c=0};\n",
    "\n",
    "//if (a>b) c = 0;\n",
    "\n",
    "if(a>b) c = 0; else b = 0;\n",
    "System.out.printf(\"%d,%d,%d\",a,b,c);"
   ]
  },
  {
   "cell_type": "code",
   "execution_count": 21,
   "metadata": {},
   "outputs": [
    {
     "name": "stdout",
     "output_type": "stream",
     "text": [
      "true\n"
     ]
    }
   ],
   "source": [
    "public class Range01\n",
    "{\n",
    "    public static void run(double[] num)\n",
    "    {\n",
    "        if(num[0]>0&&num[0]<1&&num[1]>0&&num[1]<1){\n",
    "            StdOut.println(\"true\");\n",
    "        }else{\n",
    "            StdOut.println(\"false\");\n",
    "        }\n",
    "    }\n",
    "}\n",
    "Range01 a = new Range01();\n",
    "double[] num = {0.0000001,0.9999999999};\n",
    "a.run(num);"
   ]
  },
  {
   "cell_type": "code",
   "execution_count": 23,
   "metadata": {},
   "outputs": [
    {
     "name": "stdout",
     "output_type": "stream",
     "text": [
      "0:1\n",
      "1:0\n",
      "1:1\n",
      "2:1\n",
      "3:2\n",
      "5:3\n",
      "8:5\n",
      "13:8\n",
      "21:13\n",
      "34:21\n",
      "55:34\n",
      "89:55\n",
      "144:89\n",
      "233:144\n",
      "377:233\n",
      "610:377\n"
     ]
    }
   ],
   "source": [
    "int f = 0;\n",
    "int g = 1;\n",
    "for(int i = 0;i<=15;i++)\n",
    "{\n",
    "    StdOut.print(f);\n",
    "    StdOut.print(\":\");\n",
    "    StdOut.println(g);\n",
    "    f = f + g;\n",
    "    g = f - g;\n",
    "}"
   ]
  },
  {
   "cell_type": "code",
   "execution_count": 4,
   "metadata": {},
   "outputs": [
    {
     "name": "stdout",
     "output_type": "stream",
     "text": [
      "3.0001\n"
     ]
    }
   ],
   "source": [
    "double t = 9.0;\n",
    "while(Math.abs(t-9.0/t)>.001)\n",
    "    t = (9.0/t+t)/2.0;\n",
    "StdOut.printf(\"%.4f\\n\",t);"
   ]
  },
  {
   "cell_type": "code",
   "execution_count": 5,
   "metadata": {},
   "outputs": [
    {
     "name": "stdout",
     "output_type": "stream",
     "text": [
      "499500\n"
     ]
    }
   ],
   "source": [
    "int sum = 0;\n",
    "for(int i = 1;i<1000;i++)\n",
    "    for(int j = 0; j<i;j++)\n",
    "        sum++;\n",
    "StdOut.println(sum);"
   ]
  },
  {
   "cell_type": "code",
   "execution_count": 6,
   "metadata": {},
   "outputs": [
    {
     "name": "stdout",
     "output_type": "stream",
     "text": [
      "10000\n"
     ]
    }
   ],
   "source": [
    "int sum = 0;\n",
    "for(int i = 1;i<1000;i*=2)\n",
    "    for(int j = 0;j<1000;j++)\n",
    "        sum++;\n",
    "StdOut.println(sum);"
   ]
  },
  {
   "cell_type": "code",
   "execution_count": 1,
   "metadata": {},
   "outputs": [
    {
     "name": "stdout",
     "output_type": "stream",
     "text": [
      "b\n"
     ]
    }
   ],
   "source": [
    "System.out.println('b');"
   ]
  },
  {
   "cell_type": "code",
   "execution_count": 2,
   "metadata": {},
   "outputs": [
    {
     "name": "stdout",
     "output_type": "stream",
     "text": [
      "197\n"
     ]
    }
   ],
   "source": [
    "System.out.println('b'+'c');"
   ]
  },
  {
   "cell_type": "code",
   "execution_count": 3,
   "metadata": {},
   "outputs": [
    {
     "name": "stdout",
     "output_type": "stream",
     "text": [
      "e\n"
     ]
    }
   ],
   "source": [
    "System.out.println((char)('a'+4))"
   ]
  },
  {
   "cell_type": "code",
   "execution_count": 7,
   "metadata": {},
   "outputs": [
    {
     "name": "stdout",
     "output_type": "stream",
     "text": [
      "101\n"
     ]
    }
   ],
   "source": [
    "String s = \"\";\n",
    "int N = 5;\n",
    "for(int n = N;n>0;n/=2){\n",
    "    s = (n%2)+s;\n",
    "}\n",
    "StdOut.println(s);"
   ]
  },
  {
   "cell_type": "code",
   "execution_count": 8,
   "metadata": {},
   "outputs": [
    {
     "ename": "EvalException",
     "evalue": "null",
     "output_type": "error",
     "traceback": [
      "\u001b[1m\u001b[31m---------------------------------------------------------------------------\u001b[0m",
      "\u001b[1m\u001b[31mjava.lang.NullPointerException: null\u001b[0m",
      "\u001b[1m\u001b[31m\tat .(#25:1)\u001b[0m"
     ]
    }
   ],
   "source": [
    "int [] a;\n",
    "for(int i =0;i<20;i++)\n",
    "    a[i]=i*i;"
   ]
  },
  {
   "cell_type": "code",
   "execution_count": 13,
   "metadata": {},
   "outputs": [
    {
     "name": "stdout",
     "output_type": "stream",
     "text": [
      "    1    2    3\n",
      "    3    4    5    6\n",
      "    9    0\n"
     ]
    }
   ],
   "source": [
    "public class MatrixBool\n",
    "{\n",
    "    public static void run(int[][] arr)\n",
    "    {\n",
    "        for(var i=0;i<arr.length;i++)\n",
    "        {\n",
    "            for(var j =0;j<arr[i].length;j++)\n",
    "            {\n",
    "                StdOut.printf(\"%5d\",arr[i][j]);\n",
    "            }\n",
    "            StdOut.print(\"\\n\");      \n",
    "        }                      \n",
    "    }\n",
    "}\n",
    "MatrixBool a = new MatrixBool();\n",
    "int[][]arr = {\n",
    "    {1,2,3},\n",
    "    {3,4,5,6},\n",
    "    {9,0}\n",
    "};\n",
    "a.run(arr);"
   ]
  },
  {
   "cell_type": "code",
   "execution_count": 4,
   "metadata": {},
   "outputs": [
    {
     "name": "stdout",
     "output_type": "stream",
     "text": [
      "0\n",
      "1\n",
      "2\n",
      "3\n",
      "4\n",
      "5\n",
      "6\n",
      "7\n",
      "8\n",
      "9\n"
     ]
    }
   ],
   "source": [
    "int[] a = new int[10];\n",
    "for(int i = 0;i<10;i++)\n",
    "    a[i]=9-i;\n",
    "for(int i = 0;i<10;i++)\n",
    "    a[i]=a[a[i]];\n",
    "for(int i = 0;i<10;i++)\n",
    "    StdOut.println(i);"
   ]
  },
  {
   "cell_type": "code",
   "execution_count": 4,
   "metadata": {},
   "outputs": [
    {
     "name": "stdout",
     "output_type": "stream",
     "text": [
      "    1    4\n",
      "    2    5\n",
      "    3    6\n"
     ]
    }
   ],
   "source": [
    "public class MatrixMN\n",
    "{\n",
    "    public static void run(int[][] argv)\n",
    "    {\n",
    "        for(int j = 0;j<argv[0].length;j++)\n",
    "        {\n",
    "            for(int i = 0;i<argv.length;i++)\n",
    "            {\n",
    "                StdOut.printf(\"%5d\",argv[i][j]);\n",
    "            }\n",
    "            StdOut.print(\"\\n\");\n",
    "        }        \n",
    "    }\n",
    "}\n",
    "MatrixMN a = new MatrixMN();\n",
    "int[][]num = {\n",
    "    {1,2,3},\n",
    "    {4,5,6}\n",
    "};\n",
    "a.run(num);"
   ]
  },
  {
   "cell_type": "code",
   "execution_count": 3,
   "metadata": {},
   "outputs": [
    {
     "data": {
      "text/plain": [
       "2"
      ]
     },
     "execution_count": 3,
     "metadata": {},
     "output_type": "execute_result"
    }
   ],
   "source": [
    "public class Test\n",
    "{\n",
    "    public static int run(int N)\n",
    "    {\n",
    "       int num = 0;\n",
    "       int res = 1;\n",
    "       while(res*2<N){\n",
    "           res*=2;\n",
    "           num++;\n",
    "       }\n",
    "       return num;\n",
    "    }\n",
    "}\n",
    "Test a = new Test();\n",
    "a.run(5);"
   ]
  },
  {
   "cell_type": "code",
   "execution_count": 8,
   "metadata": {},
   "outputs": [
    {
     "name": "stdout",
     "output_type": "stream",
     "text": [
      "0\n",
      "1\n",
      "0\n",
      "1\n",
      "1\n",
      "1\n",
      "1\n"
     ]
    }
   ],
   "source": [
    "public class Test\n",
    "{\n",
    "    public static int[] run(int[] arr,int M)\n",
    "    {\n",
    "        int[] Temp = new int[M];\n",
    "        for(int i =0;i<M;i++){\n",
    "            Temp[i]=0;\n",
    "        }\n",
    "        for(int i =0;i<arr.length;i++){\n",
    "            int _temp = arr[i];\n",
    "            if(_temp<M){\n",
    "                Temp[_temp]++;\n",
    "            }\n",
    "        }\n",
    "        return Temp;\n",
    "    }\n",
    "}\n",
    "Test a = new Test();\n",
    "int[] arr = {1,3,4,5,6};\n",
    "int[] b = new int[7];\n",
    "b = a.run(arr,7);\n",
    "for(int i =0;i<b.length;i++){\n",
    "    StdOut.println(b[i]);\n",
    "}"
   ]
  },
  {
   "cell_type": "code",
   "execution_count": 4,
   "metadata": {},
   "outputs": [
    {
     "name": "stdout",
     "output_type": "stream",
     "text": [
      "11\n",
      "22\n",
      "3113\n",
      "114224\n",
      "22531135\n",
      "311361142246\n"
     ]
    }
   ],
   "source": [
    "public static String exR1(int n)\n",
    "{\n",
    "    if(n<=0) return \"\";\n",
    "    return exR1(n-3) + n + exR1(n-2) +n;\n",
    "}\n",
    "StdOut.println(exR1(1));\n",
    "StdOut.println(exR1(2));\n",
    "StdOut.println(exR1(3));\n",
    "StdOut.println(exR1(4));\n",
    "StdOut.println(exR1(5));\n",
    "StdOut.println(exR1(6));"
   ]
  },
  {
   "cell_type": "code",
   "execution_count": 7,
   "metadata": {},
   "outputs": [
    {
     "name": "stdout",
     "output_type": "stream",
     "text": [
      "50\n",
      "33\n"
     ]
    }
   ],
   "source": [
    "public static int mystery(int a, int b)\n",
    "{\n",
    "    if(b==0) return 0;\n",
    "    if(b%2==0) return mystery(a+a,b/2);\n",
    "    return mystery(a+a,b/2)+a;\n",
    "}\n",
    "StdOut.println(mystery(2,25));\n",
    "StdOut.println(mystery(3,11));"
   ]
  },
  {
   "cell_type": "code",
   "execution_count": null,
   "metadata": {},
   "outputs": [
    {
     "name": "stdout",
     "output_type": "stream",
     "text": [
      "0 0\n",
      "1 1\n",
      "2 1\n",
      "3 2\n",
      "4 3\n",
      "5 5\n",
      "6 8\n",
      "7 13\n",
      "8 21\n",
      "9 34\n",
      "10 55\n",
      "11 89\n",
      "12 144\n",
      "13 233\n",
      "14 377\n",
      "15 610\n",
      "16 987\n",
      "17 1597\n",
      "18 2584\n",
      "19 4181\n",
      "20 6765\n",
      "21 10946\n",
      "22 17711\n",
      "23 28657\n",
      "24 46368\n",
      "25 75025\n",
      "26 121393\n",
      "27 196418\n",
      "28 317811\n",
      "29 514229\n",
      "30 832040\n",
      "31 1346269\n",
      "32 2178309\n",
      "33 3524578\n",
      "34 5702887\n",
      "35 9227465\n",
      "36 14930352\n",
      "37 24157817\n",
      "38 39088169\n",
      "39 63245986\n",
      "40 102334155\n",
      "41 165580141\n",
      "42 267914296\n",
      "43 433494437\n",
      "44 701408733\n",
      "45 1134903170\n",
      "46 1836311903\n",
      "47 2971215073\n"
     ]
    }
   ],
   "source": [
    "public class Fibonacci\n",
    "{\n",
    "    public static long F(int N)\n",
    "    {\n",
    "        if(N==0) return 0;\n",
    "        if(N==1) return 1;\n",
    "        return F(N-1) + F(N-2);\n",
    "    }\n",
    "    public static void run()\n",
    "    {\n",
    "        for(int N = 0;N<100;N++)\n",
    "            StdOut.println(N+\" \"+F(N));\n",
    "    }\n",
    "}\n",
    "Fibonacci a = new Fibonacci();\n",
    "a.run();"
   ]
  },
  {
   "cell_type": "code",
   "execution_count": 4,
   "metadata": {},
   "outputs": [
    {
     "name": "stdout",
     "output_type": "stream",
     "text": [
      "0.0\n",
      "0.0\n",
      "0.027777777777777776\n",
      "0.05555555555555555\n",
      "0.08333333333333333\n",
      "0.1111111111111111\n",
      "0.1388888888888889\n",
      "0.16666666666666666\n",
      "0.1388888888888889\n",
      "0.1111111111111111\n",
      "0.08333333333333333\n",
      "0.05555555555555555\n",
      "0.027777777777777776\n"
     ]
    }
   ],
   "source": [
    "int SIDES = 6;\n",
    "double [] dist = new double[2*SIDES+1];\n",
    "for(int i = 1;i<=SIDES;i++)\n",
    "    for(int j = 1;j<=SIDES;j++)\n",
    "        dist[i+j]+=1.0;\n",
    "\n",
    "for(int k = 2;k<=2*SIDES;k++)\n",
    "    dist[k]/=36.0;\n",
    "for(int i = 0;i<13;i++){\n",
    "    StdOut.println(dist[i]);\n",
    "}"
   ]
  },
  {
   "cell_type": "code",
   "execution_count": 4,
   "metadata": {},
   "outputs": [
    {
     "name": "stdout",
     "output_type": "stream",
     "text": [
      "static\n"
     ]
    }
   ],
   "source": [
    "public class A\n",
    "{\n",
    "    public static void a()\n",
    "    {\n",
    "        StdOut.println(\"static\");\n",
    "    }\n",
    "}\n",
    "A.a();"
   ]
  },
  {
   "cell_type": "code",
   "execution_count": null,
   "metadata": {},
   "outputs": [],
   "source": []
  }
 ],
 "metadata": {
  "kernelspec": {
   "display_name": "Java",
   "language": "java",
   "name": "java"
  },
  "language_info": {
   "name": ""
  }
 },
 "nbformat": 4,
 "nbformat_minor": 4
}
