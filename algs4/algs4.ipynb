{
 "cells": [
  {
   "cell_type": "code",
   "execution_count": 1,
   "metadata": {},
   "outputs": [],
   "source": [
    "%%loadFromPOM\n",
    "<repository>\n",
    "    <id>Spring Plugins</id>\n",
    "    <url>https://repo.spring.io/plugins-release/</url>\n",
    "</repository>\n",
    "\n",
    "<dependency>\n",
    "  <groupId>edu.princeton.cs</groupId>\n",
    "  <artifactId>algs4</artifactId>\n",
    "  <version>1.0.4</version>\n",
    "</dependency>\n"
   ]
  },
  {
   "cell_type": "code",
   "execution_count": 2,
   "metadata": {},
   "outputs": [],
   "source": [
    "import edu.princeton.cs.algs4.*"
   ]
  },
  {
   "cell_type": "code",
   "execution_count": 3,
   "metadata": {},
   "outputs": [
    {
     "name": "stdout",
     "output_type": "stream",
     "text": [
      "50\n",
      "99\n",
      "13\n"
     ]
    }
   ],
   "source": [
    "import java.util.Arrays;\n",
    "public class BinarySearch\n",
    "{\n",
    "    public static int rank(int key, int[] a)\n",
    "    {\n",
    "        int lo = 0;\n",
    "        int hi = a.length - 1;\n",
    "        while(lo <= hi)\n",
    "        {\n",
    "            int mid = lo + (hi - lo)/2;\n",
    "            if(key < a[mid]){\n",
    "                hi = mid -1;\n",
    "            }else if(key>a[mid]){\n",
    "                lo = mid + 1;\n",
    "            }else{\n",
    "                return mid;\n",
    "            }\n",
    "        }\n",
    "        return -1;\n",
    "    }\n",
    "    \n",
    "    public static void run()\n",
    "    {\n",
    "        int[] whitelist = In.readInts(\"./algs4-data/tinyW.txt\");\n",
    "        int[] Infile = In.readInts(\"./algs4-data/tinyT.txt\");       \n",
    "        Arrays.sort(whitelist);\n",
    "        int i = 0;\n",
    "        while(i<Infile.length)\n",
    "        {\n",
    "            int key = Infile[i];\n",
    "            i++;\n",
    "            if(rank(key,whitelist)<0){\n",
    "                StdOut.println(key);\n",
    "            }\n",
    "        }\n",
    "    }\n",
    "}\n",
    "BinarySearch a = new BinarySearch();\n",
    "a.run()"
   ]
  },
  {
   "cell_type": "code",
   "execution_count": 12,
   "metadata": {},
   "outputs": [
    {
     "ename": "EvalException",
     "evalue": "Could not initialize class edu.princeton.cs.algs4.StdDraw",
     "output_type": "error",
     "traceback": [
      "\u001b[1m\u001b[31m---------------------------------------------------------------------------\u001b[0m",
      "\u001b[1m\u001b[31mjava.lang.NoClassDefFoundError: Could not initialize class edu.princeton.cs.algs4.StdDraw\u001b[0m",
      "\u001b[1m\u001b[31m\tat .(#34:1)\u001b[0m"
     ]
    }
   ],
   "source": [
    "StdDraw.setPenRadius(0.05);\n",
    "StdDraw.setPenColor(StdDraw.BLUE);\n",
    "StdDraw.point(0.5,0.5);\n",
    "StdDraw.setPenColor(StdDraw.MAGENTA);\n",
    "StdDraw.line(0.2,0.2,0.8,0.2);"
   ]
  },
  {
   "cell_type": "code",
   "execution_count": null,
   "metadata": {},
   "outputs": [],
   "source": []
  }
 ],
 "metadata": {
  "kernelspec": {
   "display_name": "Java",
   "language": "java",
   "name": "java"
  },
  "language_info": {
   "name": ""
  }
 },
 "nbformat": 4,
 "nbformat_minor": 4
}
