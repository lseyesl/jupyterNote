{
 "cells": [
  {
   "cell_type": "markdown",
   "metadata": {},
   "source": [
    "引入所需要的类库"
   ]
  },
  {
   "cell_type": "code",
   "execution_count": 1,
   "metadata": {},
   "outputs": [],
   "source": [
    "%%loadFromPOM\n",
    "<repository>\n",
    "    <id>Spring Plugins</id>\n",
    "    <url>https://repo.spring.io/plugins-release/</url>\n",
    "</repository>\n",
    "\n",
    "<dependency>\n",
    "  <groupId>edu.princeton.cs</groupId>\n",
    "  <artifactId>algs4</artifactId>\n",
    "  <version>1.0.4</version>\n",
    "</dependency>"
   ]
  },
  {
   "cell_type": "code",
   "execution_count": 2,
   "metadata": {},
   "outputs": [],
   "source": [
    "import edu.princeton.cs.algs4.*"
   ]
  },
  {
   "cell_type": "markdown",
   "metadata": {},
   "source": [
    "# 抽象数据\n",
    "\n",
    "*数据类型*指的是一组值和一组对这些值的操作的集合\n",
    "\n",
    "*抽象数据类型*(ADT) 是一种能够对使用者隐藏数据表示的数据类型\n",
    "\n",
    "尽管数据类型定义的基础是一组值的集合，但在API可见的仅是对它们的操作，而非它们的意义"
   ]
  },
  {
   "cell_type": "code",
   "execution_count": 3,
   "metadata": {},
   "outputs": [],
   "source": [
    "public class Counter implements Comparable<Counter>\n",
    "{\n",
    "    private final String name;\n",
    "    private int count = 0;\n",
    "    public Counter(String id){\n",
    "        name = id;\n",
    "    }\n",
    "    \n",
    "    public void increment(){\n",
    "        count++;\n",
    "    }\n",
    "    public int tally(){\n",
    "        return count;\n",
    "    }\n",
    "    public String toString(){\n",
    "        return count+ \" \"+ name;\n",
    "    }\n",
    "    @Override\n",
    "    public int compareTo(Counter that){\n",
    "        if(this.count<that.count) return -1;\n",
    "        else if(this.count>that.count) return +1;\n",
    "        else return 0;\n",
    "    }\n",
    "    \n",
    "    public static void main(String[] args){\n",
    "        int n  = Integer.parseInt(args[0]);\n",
    "        int trials = Integer.parseInt(args[1]);\n",
    "        \n",
    "        Counter[] hits = new Counter[n];\n",
    "        for(int i =0;i<n;i++){\n",
    "            hits[i]= new Counter(\"counter\" + i);\n",
    "        }\n",
    "        for(int t = 0; t< trials;t++){\n",
    "            hits[StdRandom.uniform(n)].increment();\n",
    "        }\n",
    "        \n",
    "        for(int i =0;i<n;i++){\n",
    "            StdOut.println(hits[i]);\n",
    "        }\n",
    "    }\n",
    "}"
   ]
  },
  {
   "cell_type": "code",
   "execution_count": 4,
   "metadata": {},
   "outputs": [
    {
     "name": "stdout",
     "output_type": "stream",
     "text": [
      "0 counter0\n",
      "1 counter1\n",
      "1 counter2\n"
     ]
    }
   ],
   "source": [
    "String[] arr = {\"3\",\"2\"};\n",
    "Counter.main(arr);"
   ]
  },
  {
   "cell_type": "code",
   "execution_count": 5,
   "metadata": {},
   "outputs": [],
   "source": [
    "public class Flips\n",
    "{\n",
    "    public static void main(String[] args){\n",
    "        int T = Integer.parseInt(args[0]);\n",
    "        Counter heads = new Counter(\"heads\");\n",
    "        Counter tails = new Counter(\"tails\");\n",
    "        for(int t = 0;t<T;t++){\n",
    "            if(StdRandom.bernoulli(0.5)){\n",
    "                heads.increment();\n",
    "            }else{\n",
    "                tails.increment();\n",
    "            }\n",
    "        }\n",
    "        StdOut.println(heads);\n",
    "        StdOut.println(tails);\n",
    "        int d = heads.tally() - tails.tally();\n",
    "        StdOut.println(\"data: \"+ Math.abs(d));\n",
    "    }\n",
    "}"
   ]
  },
  {
   "cell_type": "code",
   "execution_count": 6,
   "metadata": {},
   "outputs": [
    {
     "name": "stdout",
     "output_type": "stream",
     "text": [
      "4 heads\n",
      "6 tails\n",
      "data: 2\n"
     ]
    }
   ],
   "source": [
    "String[] args = {\"10\"};\n",
    "Flips.main(args);"
   ]
  },
  {
   "cell_type": "code",
   "execution_count": 7,
   "metadata": {},
   "outputs": [
    {
     "name": "stdout",
     "output_type": "stream",
     "text": [
      "500995 tails wins\n"
     ]
    }
   ],
   "source": [
    "public class FlipsMax\n",
    "{\n",
    "    public static Counter max(Counter x, Counter y){\n",
    "        if(x.tally()>y.tally()) return x;\n",
    "        else return y;\n",
    "    }\n",
    "    \n",
    "    public static void main(String[] args){\n",
    "        int T = Integer.parseInt(args[0]);\n",
    "        Counter heads = new Counter(\"heads\");\n",
    "        Counter tails = new Counter(\"tails\");\n",
    "        for(int t =0;t<T;t++){\n",
    "            if(StdRandom.bernoulli(0.5)){\n",
    "                heads.increment();\n",
    "            }else{\n",
    "                tails.increment();\n",
    "            }\n",
    "        }\n",
    "        if(heads.tally()==tails.tally())\n",
    "            StdOut.println(\"Tie\");\n",
    "        else StdOut.println(max(heads,tails)+\" wins\");\n",
    "    }\n",
    "}\n",
    "\n",
    "String[] argv = {\"1000000\"};\n",
    "FlipsMax.main(argv);"
   ]
  },
  {
   "cell_type": "code",
   "execution_count": 10,
   "metadata": {},
   "outputs": [
    {
     "name": "stdout",
     "output_type": "stream",
     "text": [
      "16883 1's'\n",
      "16708 2's'\n",
      "16523 3's'\n",
      "16640 4's'\n",
      "16522 5's'\n",
      "16724 6's'\n"
     ]
    }
   ],
   "source": [
    "public class Rolls\n",
    "{\n",
    "    public static void main(String[] args)\n",
    "    {\n",
    "        int T = Integer.parseInt(args[0]);\n",
    "        int SIDES = 6;\n",
    "        Counter[] rolls = new Counter[SIDES+1];\n",
    "        for(int i = 1;i<=SIDES;i++)\n",
    "            rolls[i]=new Counter(i+ \"'s'\");\n",
    "\n",
    "        for(int t = 0;t<T;t++){\n",
    "            int result = StdRandom.uniform(1,SIDES+1);\n",
    "            rolls[result].increment();\n",
    "        }\n",
    "\n",
    "        for(int i = 1;i<=SIDES;i++)\n",
    "            StdOut.println(rolls[i]);\n",
    "    }\n",
    "}\n",
    "\n",
    "String[] argv = {\"100000\"};\n",
    "Rolls.main(argv);"
   ]
  },
  {
   "cell_type": "code",
   "execution_count": null,
   "metadata": {},
   "outputs": [],
   "source": [
    "public static void drawInterval(String[] args){\n",
    "    double xlo = Double.parseDouble(args[0]);\n",
    "    double xhi = Double.parseDouble(args[1]);\n",
    "    double ylo = Double.parseDouble(args[2]);\n",
    "    double yhi = Double.parseDouble(args[3]);\n",
    "    int T = Integer.parseInt(args[4]);\n",
    "    \n",
    "    Interval1D xinterval = new Interval1D(xlo,xhi);\n",
    "    Interval1D yinterval = new Interval1D(ylo,yhi);\n",
    "    Interval2D box = new Interval2D(xinterval,yinterval);\n",
    "    box.draw();\n",
    "    \n",
    "    Counter c = new Counter(\"hits\");\n",
    "    for(int t = 0;t<T;t++){\n",
    "        double x = Math.random();\n",
    "        double y = Math.random();\n",
    "        Point2D p = new Point2D(x,y);\n",
    "        if(box.contains(p)) c.increment();\n",
    "        else p.draw();\n",
    "    }\n",
    "    StdOut.println(c);\n",
    "    StdOut.println(box.area());\n",
    "}\n",
    "String[] argv = {\".2\",\".5\",\".5\",\".6\",\"10000\"};\n",
    "drawInterval(argv);"
   ]
  },
  {
   "cell_type": "code",
   "execution_count": 3,
   "metadata": {},
   "outputs": [],
   "source": [
    "public class Cat\n",
    "{\n",
    "    public static void main(String[] args){\n",
    "        Out out = new Out(args[args.length - 1]);\n",
    "        for(int i = 0;i<args.length -1;i++){\n",
    "            In in = new In(args[i]);\n",
    "            String s = in.readAll();\n",
    "            out.println(s);\n",
    "            in.close();\n",
    "        }\n",
    "        out.close();\n",
    "    }\n",
    "}\n",
    "\n",
    "String[] instring = {\"./algs4-data/in1.txt\",\"./algs4-data/in2.txt\",\"out.txt\"};\n",
    "Cat.main(instring);"
   ]
  },
  {
   "cell_type": "code",
   "execution_count": null,
   "metadata": {},
   "outputs": [],
   "source": [
    "public class Accumulator\n",
    "{\n",
    "    private double total;\n",
    "    private int N;\n",
    "    public void addDataValue(double val){\n",
    "        N++;\n",
    "        total+=val;\n",
    "    }\n",
    "    public double mean(){\n",
    "        return total/N;\n",
    "    }\n",
    "    public String toString(){\n",
    "        return \"Mean (\"+N + \" values): \"+String.format(\"%7.5f\",mean());\n",
    "    }\n",
    "}"
   ]
  },
  {
   "cell_type": "code",
   "execution_count": 3,
   "metadata": {},
   "outputs": [],
   "source": [
    "public class VisualAccumulator\n",
    "{\n",
    "    private double total;\n",
    "    private int N;\n",
    "    public VisualAccumulator(int trials,double max){\n",
    "        StdDraw.setXscale(0,trials);\n",
    "        StdDraw.setYscale(0,max);\n",
    "        StdDraw.setPenRadius(.005);\n",
    "    }\n",
    "    public void addDataValue(double val){\n",
    "        N++;\n",
    "        total+=val;\n",
    "        StdDraw.setPenColor(StdDraw.DARK_GRAY);\n",
    "        StdDraw.point(N,val);\n",
    "        StdDraw.setPenColor(StdDraw.RED);\n",
    "        StdDraw.point(N,total/N);\n",
    "    }\n",
    "    public double mean(){\n",
    "        return total/N;\n",
    "    }\n",
    "    public String toString(){\n",
    "        return \"Mean (\"+N + \" values): \"+String.format(\"%7.5f\",mean());\n",
    "    }\n",
    "}"
   ]
  },
  {
   "cell_type": "code",
   "execution_count": 5,
   "metadata": {},
   "outputs": [
    {
     "ename": "EvalException",
     "evalue": "Could not initialize class edu.princeton.cs.algs4.StdDraw",
     "output_type": "error",
     "traceback": [
      "\u001b[1m\u001b[31m---------------------------------------------------------------------------\u001b[0m",
      "\u001b[1m\u001b[31mjava.lang.NoClassDefFoundError: Could not initialize class edu.princeton.cs.algs4.StdDraw\u001b[0m",
      "\u001b[1m\u001b[31m\tat VisualAccumulator.<init>(#16:6)\u001b[0m",
      "\u001b[1m\u001b[31m\tat TestVisualAccumulator.main(#17:5)\u001b[0m",
      "\u001b[1m\u001b[31m\tat .(#20:1)\u001b[0m"
     ]
    }
   ],
   "source": [
    "public class TestVisualAccumulator\n",
    "{\n",
    "    public static void main(String[] args){\n",
    "        int T = Integer.parseInt(args[0]);\n",
    "        VisualAccumulator a = new VisualAccumulator(T,1.0);\n",
    "        for(int t=0;t<T;t++)\n",
    "            a.addDataValue(StdRandom.random());\n",
    "        StdOut.println(a);\n",
    "    }\n",
    "}\n",
    "String[] argv = {\"2000\"};\n",
    "TestVisualAccumulator.main(argv);"
   ]
  },
  {
   "cell_type": "markdown",
   "metadata": {},
   "source": [
    "*抽象数据类型*是一种想用例隐藏内部表示的数据类型\n",
    "\n",
    "封装实现了模块化编程：\n",
    "+ 独立开发用例和实现的代码\n",
    "+ 切换至改进的实现而不会影响用例的代码\n",
    "+ 支持尚未编写的程序（对于后续用例，API能够起到指南的作用）\n",
    "\n",
    "封装也隔离了数据类型的操作：\n",
    "+ 限制潜在的错误\n",
    "+ 在实现中添加一致性检查等调试工具\n",
    "+ 确保用例代码更清晰"
   ]
  },
  {
   "cell_type": "code",
   "execution_count": null,
   "metadata": {},
   "outputs": [],
   "source": [
    "import java.util.Arrays;\n",
    "public class StaticSETofInts\n",
    "{\n",
    "    private int[] a;\n",
    "    public StaticSETofInts(int[] keys)\n",
    "    {\n",
    "        a = new int[keys.length];\n",
    "        for(int i =0;i<keys.length;i++)\n",
    "            a[i]= keys[i];\n",
    "        Arrays.sort(a);\n",
    "    }\n",
    "    public boolean contains(int key)\n",
    "    {\n",
    "        return rank(key) != -1;\n",
    "    }\n",
    "    private int rank(int key)\n",
    "    {\n",
    "        int lo = 0;\n",
    "        int hi = a.length -1;\n",
    "        while(lo<=hi)\n",
    "        {\n",
    "            int mid = lo +(hi-lo)/2;\n",
    "            if(key<a[mid]) hi = mid -1;\n",
    "            else if(key>a[mid]) lo = mid +1;\n",
    "            else return mid;\n",
    "        }\n",
    "        return -1;\n",
    "    }\n",
    "}"
   ]
  },
  {
   "cell_type": "code",
   "execution_count": null,
   "metadata": {},
   "outputs": [],
   "source": [
    "public class Whitelist\n",
    "{\n",
    "    public static void main(String[] args)\n",
    "    {\n",
    "        int[] w = In.readInts(args[0]);\n",
    "        StaticSETofInts set = new StaticSETofInts(w);\n",
    "        while(!StdIn.isEmpty())\n",
    "        {\n",
    "            int key = StdIn.readInt();\n",
    "            if(!set.contains(key))\n",
    "                StdOut.println(key);\n",
    "        }\n",
    "    }\n",
    "}"
   ]
  },
  {
   "cell_type": "markdown",
   "metadata": {},
   "source": [
    "接口继承"
   ]
  },
  {
   "cell_type": "code",
   "execution_count": null,
   "metadata": {},
   "outputs": [],
   "source": [
    "子类继承"
   ]
  }
 ],
 "metadata": {
  "kernelspec": {
   "display_name": "Java",
   "language": "java",
   "name": "java"
  },
  "language_info": {
   "name": ""
  }
 },
 "nbformat": 4,
 "nbformat_minor": 4
}
