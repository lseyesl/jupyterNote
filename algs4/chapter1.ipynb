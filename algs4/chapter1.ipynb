{
 "cells": [
  {
   "cell_type": "markdown",
   "metadata": {},
   "source": [
    "引入所需要的类库"
   ]
  },
  {
   "cell_type": "code",
   "execution_count": 1,
   "metadata": {},
   "outputs": [],
   "source": [
    "%%loadFromPOM\n",
    "<repository>\n",
    "    <id>Spring Plugins</id>\n",
    "    <url>https://repo.spring.io/plugins-release/</url>\n",
    "</repository>\n",
    "\n",
    "<dependency>\n",
    "  <groupId>edu.princeton.cs</groupId>\n",
    "  <artifactId>algs4</artifactId>\n",
    "  <version>1.0.4</version>\n",
    "</dependency>"
   ]
  },
  {
   "cell_type": "code",
   "execution_count": 2,
   "metadata": {},
   "outputs": [],
   "source": [
    "import edu.princeton.cs.algs4.*"
   ]
  },
  {
   "cell_type": "markdown",
   "metadata": {},
   "source": [
    "# 抽象数据\n",
    "\n",
    "*数据类型*指的是一组值和一组对这些值的操作的集合\n",
    "\n",
    "*抽象数据类型*(ADT) 是一种能够对使用者隐藏数据表示的数据类型\n",
    "\n",
    "尽管数据类型定义的基础是一组值的集合，但在API可见的仅是对它们的操作，而非它们的意义"
   ]
  },
  {
   "cell_type": "code",
   "execution_count": 11,
   "metadata": {},
   "outputs": [],
   "source": [
    "public class Counter implements Comparable<Counter>\n",
    "{\n",
    "    private final String name;\n",
    "    private int count = 0;\n",
    "    public Counter(String id){\n",
    "        name = id;\n",
    "    }\n",
    "    \n",
    "    public void increment(){\n",
    "        count++;\n",
    "    }\n",
    "    public int tally(){\n",
    "        return count;\n",
    "    }\n",
    "    public String toString(){\n",
    "        return count+ \" \"+ name;\n",
    "    }\n",
    "    @Override\n",
    "    public int compareTo(Counter that){\n",
    "        if(this.count<that.count) return -1;\n",
    "        else if(this.count>that.count) return +1;\n",
    "        else return 0;\n",
    "    }\n",
    "    \n",
    "    public static void main(String[] args){\n",
    "        int n  = Integer.parseInt(args[0]);\n",
    "        int trials = Integer.parseInt(args[1]);\n",
    "        \n",
    "        Counter[] hits = new Counter[n];\n",
    "        for(int i =0;i<n;i++){\n",
    "            hits[i]= new Counter(\"counter\" + i);\n",
    "        }\n",
    "        for(int t = 0; t< trials;t++){\n",
    "            hits[StdRandom.uniform(n)].increment();\n",
    "        }\n",
    "        \n",
    "        for(int i =0;i<n;i++){\n",
    "            StdOut.println(hits[i]);\n",
    "        }\n",
    "    }\n",
    "}"
   ]
  },
  {
   "cell_type": "code",
   "execution_count": 12,
   "metadata": {},
   "outputs": [
    {
     "name": "stdout",
     "output_type": "stream",
     "text": [
      "0 counter0\n",
      "1 counter1\n",
      "1 counter2\n"
     ]
    }
   ],
   "source": [
    "String[] arr = {\"3\",\"2\"};\n",
    "Counter.main(arr);"
   ]
  },
  {
   "cell_type": "code",
   "execution_count": 13,
   "metadata": {},
   "outputs": [],
   "source": [
    "public class Flips\n",
    "{\n",
    "    public static void main(String[] args){\n",
    "        int T = Integer.parseInt(args[0]);\n",
    "        Counter heads = new Counter(\"heads\");\n",
    "        Counter tails = new Counter(\"tails\");\n",
    "        for(int t = 0;t<T;t++){\n",
    "            if(StdRandom.bernoulli(0.5)){\n",
    "                heads.increment();\n",
    "            }else{\n",
    "                tails.increment();\n",
    "            }\n",
    "        }\n",
    "        StdOut.println(heads);\n",
    "        StdOut.println(tails);\n",
    "        int d = heads.tally() - tails.tally();\n",
    "        StdOut.println(\"data: \"+ Math.abs(d));\n",
    "    }\n",
    "}"
   ]
  },
  {
   "cell_type": "code",
   "execution_count": 14,
   "metadata": {},
   "outputs": [
    {
     "name": "stdout",
     "output_type": "stream",
     "text": [
      "7 heads\n",
      "3 tails\n",
      "data: 4\n"
     ]
    }
   ],
   "source": [
    "String[] args = {\"10\"};\n",
    "Flips.main(args);"
   ]
  },
  {
   "cell_type": "code",
   "execution_count": null,
   "metadata": {},
   "outputs": [],
   "source": []
  }
 ],
 "metadata": {
  "kernelspec": {
   "display_name": "Java",
   "language": "java",
   "name": "java"
  },
  "language_info": {
   "name": ""
  }
 },
 "nbformat": 4,
 "nbformat_minor": 4
}
