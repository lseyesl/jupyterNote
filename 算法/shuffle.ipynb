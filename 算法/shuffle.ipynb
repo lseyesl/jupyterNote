{
 "cells": [
  {
   "cell_type": "markdown",
   "metadata": {},
   "source": [
    "简单的洗牌算法"
   ]
  },
  {
   "cell_type": "code",
   "execution_count": 2,
   "metadata": {},
   "outputs": [
    {
     "name": "stdout",
     "output_type": "stream",
     "text": [
      "[ 1, 2, 5, 7, 3, 4 ]\n",
      "randomIdx 4\n",
      "randomIdx 1\n",
      "randomIdx 3\n",
      "randomIdx 1\n",
      "randomIdx 1\n",
      "randomIdx 0\n",
      "[ 1, 5, 4, 7, 2, 3 ]\n"
     ]
    }
   ],
   "source": [
    "{\n",
    "    Array.prototype.shuffle = function(){\n",
    "        let input = this;\n",
    "        for(let i =input.length-1;i>=0;i--){\n",
    "            let randomIdx = Math.floor(Math.random()*(i+1));\n",
    "            let valIdx = input[i];\n",
    "            input[i] = input[randomIdx];\n",
    "            input[randomIdx] = valIdx;\n",
    "        }\n",
    "        return input;\n",
    "    }\n",
    "    \n",
    "    let b = [1,2,5,7,3,4].shuffle();\n",
    "    console.log(b)\n",
    "}"
   ]
  },
  {
   "cell_type": "code",
   "execution_count": null,
   "metadata": {},
   "outputs": [],
   "source": []
  }
 ],
 "metadata": {
  "kernelspec": {
   "display_name": "Javascript (Node.js)",
   "language": "javascript",
   "name": "javascript"
  },
  "language_info": {
   "file_extension": ".js",
   "mimetype": "application/javascript",
   "name": "javascript",
   "version": "12.13.0"
  }
 },
 "nbformat": 4,
 "nbformat_minor": 4
}
