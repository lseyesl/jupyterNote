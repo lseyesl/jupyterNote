{
 "cells": [
  {
   "cell_type": "markdown",
   "id": "bcb59ff4-598a-4dd1-9a61-369aa4e1914c",
   "metadata": {},
   "source": [
    "# timer\n",
    "\n",
    "## timerRef.unref()\n",
    "\n",
    "当程序执行完成后，`setinterval` 会跟随停止"
   ]
  },
  {
   "cell_type": "code",
   "execution_count": null,
   "id": "13e2d99f-74e9-4d58-bbd3-db128550f888",
   "metadata": {},
   "outputs": [],
   "source": [
    "{\n",
    "    /*不要在此执行，不好使*/\n",
    "    function monitor(){\n",
    "        console.log(process.memoryUsage());\n",
    "    }\n",
    "    \n",
    "    var id = setInterval(monitor,1000);\n",
    "    id.unref();\n",
    "    \n",
    "    setTimeout(function(){\n",
    "            console.log('done');\n",
    "    },5000);\n",
    "}"
   ]
  },
  {
   "cell_type": "markdown",
   "id": "cd4afa89-d9c4-4f62-a60a-689fc4b6e405",
   "metadata": {},
   "source": [
    "## nextTick\n",
    "\n",
    "process.nextTick 允许你把一个回调函数放到下次事件轮询队列头上"
   ]
  }
 ],
 "metadata": {
  "kernelspec": {
   "display_name": "TypeScript",
   "language": "typescript",
   "name": "tslab"
  },
  "language_info": {
   "codemirror_mode": {
    "mode": "typescript",
    "name": "javascript",
    "typescript": true
   },
   "file_extension": ".ts",
   "mimetype": "text/typescript",
   "name": "typescript",
   "version": "3.7.2"
  }
 },
 "nbformat": 4,
 "nbformat_minor": 5
}
