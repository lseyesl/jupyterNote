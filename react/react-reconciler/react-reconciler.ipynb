{
 "cells": [
  {
   "cell_type": "markdown",
   "metadata": {},
   "source": [
    "# react-reconciler\n",
    "\n",
    "是实现多种render的基石\n",
    "\n",
    "**For an introduction to writing a very simple custom renderer, check out this article series:**\n",
    "\n",
    "* **[Building a simple custom renderer to DOM](https://medium.com/@agent_hunt/hello-world-custom-react-renderer-9a95b7cd04bc)**\n",
    "* **[Building a simple custom renderer to native](https://medium.com/@agent_hunt/introduction-to-react-native-renderers-aka-react-native-is-the-java-and-react-native-renderers-are-828a0022f433)**\n",
    "\n",
    "todo list\n",
    "\n",
    "- [ ] 相关阅读\n",
    "    - [ ] custom renderer to DOM\n",
    "    - [ ] custom renderer to native"
   ]
  },
  {
   "cell_type": "markdown",
   "metadata": {},
   "source": [
    "## ReacFiber.js\n",
    "\n",
    "整体代码逻辑：\n",
    "```\n",
    " //基础\n",
    " type Fiber\n",
    " func fiberNode\n",
    " func createFiber\n",
    " \n",
    " //动态过程\n",
    " func createWorkInProgress\n",
    " func resetWorkInProgress\n",
    " \n",
    " //\n",
    " func createHostRootFiber\n",
    " \n",
    " other func //具体实现\n",
    "``` \n",
    "\n",
    "[reactfiber.js](./ReactFiber.ipynb)"
   ]
  },
  {
   "cell_type": "markdown",
   "metadata": {},
   "source": []
  }
 ],
 "metadata": {
  "kernelspec": {
   "display_name": "Typescript 3.7",
   "language": "typescript",
   "name": "typescript"
  },
  "language_info": {
   "file_extension": ".ts",
   "mimetype": "application/x-typescript",
   "name": "typescript",
   "version": "3.7.2"
  }
 },
 "nbformat": 4,
 "nbformat_minor": 4
}
