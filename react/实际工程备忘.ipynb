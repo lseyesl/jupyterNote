{
 "cells": [
  {
   "cell_type": "code",
   "execution_count": null,
   "metadata": {},
   "outputs": [],
   "source": [
    "/*\n",
    "    useEffect 依赖对象的情况\n",
    "*/\n",
    "\n",
    "import { isEqual } from 'lodash';\n",
    "\n",
    "function useCampare(value, compare) {\n",
    "  const ref = useRef(null);\n",
    "\n",
    "  if (!compare(value, ref.current)) {\n",
    "    ref.current = value;\n",
    "  }\n",
    "\n",
    "  return ref.current;\n",
    "}\n",
    "\n",
    "function Child({ list }) {\n",
    "  const listArr = useCampare(list, isEqual);\n",
    "\n",
    "  useEffect(() => {\n",
    "    console.log(listArr);\n",
    "  }, [listArr]);\n",
    "}"
   ]
  },
  {
   "cell_type": "markdown",
   "metadata": {},
   "source": [
    " useEffect 副作用操作\n",
    " \n",
    " ```javascript\n",
    "    useEffect(()=>{\n",
    "        dosomething();\n",
    "        return ()=>{\n",
    "            clearEffect();\n",
    "        }\n",
    "    },[])\n",
    " ```\n",
    " dom相关操作执行时，最好加入销毁操作。"
   ]
  },
  {
   "cell_type": "markdown",
   "metadata": {},
   "source": [
    "## mongodb\n",
    "\n",
    "### sort 问题\n",
    "\n",
    "当排序文件特别大的情况下 sort 排序会超出mongo限制的32M内存\n",
    "排序是在内存中进行\n",
    "\n",
    "可以使用 skip limit 做限制。但是三个都存在的情况下 sort 会先执行，所以治标不治本。\n",
    "\n",
    "可以使用管道 aggregate 操作。\n",
    "但是更好的办法是使用索引。\n",
    "\n",
    "\n",
    "### aggregate\n",
    "\n",
    "使用聚合排序的时候要使用唯一id 作为子排序字段，不然会出现数据重复，缺少等情况\n"
   ]
  }
 ],
 "metadata": {
  "kernelspec": {
   "display_name": "TypeScript",
   "language": "typescript",
   "name": "tslab"
  },
  "language_info": {
   "codemirror_mode": {
    "mode": "typescript",
    "name": "javascript",
    "typescript": true
   },
   "file_extension": ".ts",
   "mimetype": "text/typescript",
   "name": "typescript",
   "version": "3.7.2"
  }
 },
 "nbformat": 4,
 "nbformat_minor": 4
}
