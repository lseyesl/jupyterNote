{
 "cells": [
  {
   "cell_type": "markdown",
   "metadata": {},
   "source": [
    "# react-test-renderer\n",
    "\n",
    "react renderer库\n",
    "不限定与native 和 browser \n",
    "\n",
    "用于输出 render 的 JSON 对象\n",
    "\n",
    "//todo  依赖与reconciler"
   ]
  }
 ],
 "metadata": {
  "kernelspec": {
   "display_name": "Typescript 3.5",
   "language": "typescript",
   "name": "typescript"
  },
  "language_info": {
   "file_extension": ".ts",
   "mimetype": "application/x-typescript",
   "name": "typescript",
   "version": "3.5.3"
  }
 },
 "nbformat": 4,
 "nbformat_minor": 4
}
