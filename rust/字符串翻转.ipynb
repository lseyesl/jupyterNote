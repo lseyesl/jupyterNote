{
 "cells": [
  {
   "cell_type": "code",
   "execution_count": null,
   "metadata": {},
   "outputs": [],
   "source": [
    "# 字符串翻转操作"
   ]
  },
  {
   "cell_type": "code",
   "execution_count": null,
   "metadata": {},
   "outputs": [
    {
     "name": "stdout",
     "output_type": "stream",
     "text": [
      "str = cba\n"
     ]
    }
   ],
   "source": [
    "pub fn reverse(input: &str)->String { \n",
    "    input.chars().rev().collect()\n",
    "}\n",
    "\n",
    "println!(\"str = {}\",reverse(\"abc\"));"
   ]
  },
  {
   "cell_type": "code",
   "execution_count": 3,
   "metadata": {},
   "outputs": [
    {
     "name": "stdout",
     "output_type": "stream",
     "text": [
      "str = 🚩😊🤔😋\n"
     ]
    }
   ],
   "source": [
    ":dep unicode-segmentation\n",
    "extern crate unicode_segmentation;\n",
    "use unicode_segmentation::UnicodeSegmentation;\n",
    "\n",
    "pub fn reverse2(input: &str) -> String {\n",
    "    input.graphemes(true).rev().collect()\n",
    "}\n",
    "println!(\"str = {}\", reverse2(\"😋🤔😊🚩\"));"
   ]
  }
 ],
 "metadata": {
  "kernelspec": {
   "display_name": "Rust",
   "language": "rust",
   "name": "rust"
  },
  "language_info": {
   "codemirror_mode": "rust",
   "file_extension": ".rs",
   "mimetype": "text/rust",
   "name": "rust",
   "pygment_lexer": "rust",
   "version": ""
  }
 },
 "nbformat": 4,
 "nbformat_minor": 2
}
