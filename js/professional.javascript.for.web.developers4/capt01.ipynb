{
 "cells": [
  {
   "cell_type": "markdown",
   "metadata": {},
   "source": [
    "summary\n",
    "- ECMAScript provides the core functionality\n",
    "- The Document Object Model(DOM) provides methods and interfaces for working with the content of a web page\n",
    "- The Browser Object Model(DOM) provides methods and interfaces for interacting with the browser"
   ]
  },
  {
   "cell_type": "markdown",
   "metadata": {},
   "source": [
    "script tag attributes\n",
    "\n",
    "- async  indicates that the script should begin downloading immediately\n",
    "         but should not prevent other actions on the page such as \n",
    "         downloading resources or waiting for other scripts to load. \n",
    "         Valid only for external script files.\n",
    "         (指示脚本应立即开始下载但不应阻止页面上的其他操作，例如下载资源或\n",
    "          等待其他脚本加载。仅对外部脚本文件有效。)\n",
    "\n",
    "- charset character set of the code \n",
    "          (指定引入文件的字符集，没有太大作用)\n",
    "          \n",
    "- crossorigin 'anonymous' configure the request for the file to not have the credentials flag set\n",
    "              'use-credentials' will set the credentials flag. need server has Access-Control-Allow-Origin\n",
    "              \n",
    "- defer   indicates that the execution of the script can safely be deferred until after\n",
    "          the document's content has been completely parsed and displayed.Valid only for\n",
    "          external script.\n",
    "          \n",
    "- integrity  allows for verification of subresource integrity(SRI) by checking\n",
    "             the retrieved resource against a provided cryptographic signature.\n",
    "             if the signature of the retrieved resource does not match that specified\n",
    "             by this attribute,the page will error and the script will not execute.\n",
    "             this is usefull for ensuring that a Content Delivery Network(cdn) is not\n",
    "             serving malicious payloads.\n",
    "             \n",
    "- language  most browsers ignore this attribute\n",
    "\n",
    "- src     indicates an external file that contains code to be executed\n",
    "\n",
    "- type  replaces language attributes. indicates the content type (also called MIME type)\n",
    "       \n",
    "       \n",
    "**\n",
    "The purpose of defer is to indicate that a script won’t be changing the structure of the page \n",
    "as it executes. As such, the script can be run safely after the entire page has been parsed. \n",
    "that scripts will be executed in the order in which they appear, so the first deferred\n",
    "script executes before the second deferred script, and both will execute before the DOMContentLoaded\n",
    "event \n",
    "\n",
    "scripts marked as async are not guaranteed to execute in the order in which they are specified\n",
    "**"
   ]
  }
 ],
 "metadata": {
  "kernelspec": {
   "display_name": "JavaScript",
   "language": "javascript",
   "name": "jslab"
  },
  "language_info": {
   "file_extension": ".js",
   "mimetype": "text/javascript",
   "name": "javascript",
   "version": ""
  }
 },
 "nbformat": 4,
 "nbformat_minor": 4
}
