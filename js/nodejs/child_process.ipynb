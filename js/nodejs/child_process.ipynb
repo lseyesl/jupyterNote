{
 "cells": [
  {
   "attachments": {},
   "cell_type": "markdown",
   "metadata": {},
   "source": [
    "# 子进程相关"
   ]
  },
  {
   "cell_type": "code",
   "execution_count": 2,
   "metadata": {},
   "outputs": [],
   "source": [
    "/**\n",
    " *  ssh 到远程服务器执行代码的时候，由于子进程比较耗时，可能会出现ssh 断开，导致session失效，进程中断。\n",
    " *  所以需要把父子进程隔离开。\n",
    " */\n",
    "\n",
    "const { spawn } = require('child_process');\n",
    "const { resolve } = require('path');\n",
    "const { readdirSync, statSync, openSync } = require('fs');\n",
    "// 创建需要存储log 的文件 openSync flag 为 a 不存在会自动创建\n",
    "const log = openSync('log.txt','a')\n",
    "const ls = spawn('ls',['-a'],{\n",
    "    // 分离父子进程的通信，只有这样子进程才能脱离父进程\n",
    "    stdio:['ignore',log,log],\n",
    "    // 子进程与父进程分离\n",
    "    detached: true\n",
    "})\n",
    "// 父子进程解绑\n",
    "ls.unref();"
   ]
  },
  {
   "cell_type": "code",
   "execution_count": null,
   "metadata": {},
   "outputs": [],
   "source": [
    "const { spawn } = require('child_process');\n",
    "\n",
    "const ls = spawn('pwd');\n",
    "\n",
    "ls.stdout.on('data',(data)=>{\n",
    "    console.log(data);\n",
    "})\n",
    "ls.stderr.on('data',(data)=>{\n",
    "    console.log(data);\n",
    "})\n",
    "ls.on('close',(code)=>{\n",
    "    console.log(`close code: ${code}`);\n",
    "})"
   ]
  }
 ],
 "metadata": {
  "kernelspec": {
   "display_name": "JavaScript",
   "language": "javascript",
   "name": "jslab"
  },
  "language_info": {
   "file_extension": ".js",
   "mimetype": "text/javascript",
   "name": "javascript",
   "version": ""
  },
  "orig_nbformat": 4
 },
 "nbformat": 4,
 "nbformat_minor": 2
}
