{
 "cells": [
  {
   "cell_type": "markdown",
   "id": "8019f638-ecda-427b-b548-b1dc03b1ce1b",
   "metadata": {},
   "source": [
    "# webpack 初始化"
   ]
  },
  {
   "cell_type": "markdown",
   "id": "951f9076-4d93-46b9-b86d-f516c3c9d9b8",
   "metadata": {},
   "source": [
    "## createCompiler\n",
    "\n",
    "webpack 初始化的任务\n",
    "\n",
    "1. 初始化日志系统，确定文件系统[输入系统，输出系统]，输出系统又包括内存文件系统，和直接的文件系统\n",
    "2. 创立 compiler [MultiCompiler，Compiler]  其中 MultiCompiler 针对 数组 options\n",
    "3. 执行 compiler"
   ]
  },
  {
   "cell_type": "code",
   "execution_count": null,
   "id": "a91d3633-11ea-475c-a332-170a1ecae214",
   "metadata": {},
   "outputs": [],
   "source": [
    "// 不管是MultCompiler 还是 Compiler 最终都会调用 createCompiler\n",
    "const createCompiler = rawOptions => {\n",
    "\tconst options = getNormalizedWebpackOptions(rawOptions);\n",
    "\t// options.context = cwd\n",
    "\t// 日志系统\n",
    "\tapplyWebpackOptionsBaseDefaults(options);\n",
    "\tconst compiler = new Compiler(options.context, options);\n",
    "\t// 日志，文件系统\n",
    "\tnew NodeEnvironmentPlugin({\n",
    "\t\tinfrastructureLogging: options.infrastructureLogging\n",
    "\t}).apply(compiler);\n",
    "\t// 插件调用\n",
    "\tif (Array.isArray(options.plugins)) {\n",
    "\t\tfor (const plugin of options.plugins) {\n",
    "\t\t\tif (typeof plugin === \"function\") {\n",
    "\t\t\t\tplugin.call(compiler, compiler);\n",
    "\t\t\t} else {\n",
    "\t\t\t\tplugin.apply(compiler);\n",
    "\t\t\t}\n",
    "\t\t}\n",
    "\t}\n",
    "\t// 应用 webpack config\n",
    "\tapplyWebpackOptionsDefaults(options);\n",
    "\tcompiler.hooks.environment.call();\n",
    "\tcompiler.hooks.afterEnvironment.call();\n",
    "\tnew WebpackOptionsApply().process(options, compiler);\n",
    "\tcompiler.hooks.initialize.call();\n",
    "\treturn compiler;\n",
    "};"
   ]
  },
  {
   "cell_type": "code",
   "execution_count": null,
   "id": "9239411c-82a1-4853-bb4c-c0e54dfd6bdd",
   "metadata": {},
   "outputs": [],
   "source": [
    "// create 函数就是createCompiler的过程\n",
    "const { compiler, watch, watchOptions } = create();\n",
    "// 监听变化\n",
    "if (watch) {\n",
    "    compiler.watch(watchOptions, callback);\n",
    "// 生成文件\n",
    "} else {\n",
    "    compiler.run((err, stats) => {\n",
    "        compiler.close(err2 => {\n",
    "            callback(err || err2, stats);\n",
    "        });\n",
    "    });\n",
    "}\n",
    "return compiler;"
   ]
  }
 ],
 "metadata": {
  "kernelspec": {
   "display_name": "TypeScript",
   "language": "typescript",
   "name": "tslab"
  },
  "language_info": {
   "codemirror_mode": {
    "mode": "typescript",
    "name": "javascript",
    "typescript": true
   },
   "file_extension": ".ts",
   "mimetype": "text/typescript",
   "name": "typescript",
   "version": "3.7.2"
  }
 },
 "nbformat": 4,
 "nbformat_minor": 5
}
