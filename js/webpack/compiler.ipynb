{
 "cells": [
  {
   "cell_type": "markdown",
   "id": "17130ab4-e895-4470-99f2-14900b44d4c7",
   "metadata": {},
   "source": [
    "# compiler"
   ]
  },
  {
   "cell_type": "markdown",
   "id": "26101c40-37fe-4736-a4c9-71dba98165ae",
   "metadata": {},
   "source": [
    "## compiler 是整个webpack 的核心， 控制着整个webpack的生命周期"
   ]
  },
  {
   "cell_type": "code",
   "execution_count": null,
   "id": "85b11849-fee1-43c8-8085-68229538d961",
   "metadata": {
    "jupyter": {
     "source_hidden": true
    },
    "tags": []
   },
   "outputs": [],
   "source": [
    "// compiler 钩子函数\n",
    "\n",
    "this.hooks = Object.freeze({\n",
    "    /** @type {SyncHook<[]>} */\n",
    "    initialize: new SyncHook([]),\n",
    "\n",
    "    /** @type {SyncBailHook<[Compilation], boolean>} */\n",
    "    shouldEmit: new SyncBailHook([\"compilation\"]),\n",
    "    /** @type {AsyncSeriesHook<[Stats]>} */\n",
    "    done: new AsyncSeriesHook([\"stats\"]),\n",
    "    /** @type {SyncHook<[Stats]>} */\n",
    "    afterDone: new SyncHook([\"stats\"]),\n",
    "    /** @type {AsyncSeriesHook<[]>} */\n",
    "    additionalPass: new AsyncSeriesHook([]),\n",
    "    /** @type {AsyncSeriesHook<[Compiler]>} */\n",
    "    beforeRun: new AsyncSeriesHook([\"compiler\"]),\n",
    "    /** @type {AsyncSeriesHook<[Compiler]>} */\n",
    "    run: new AsyncSeriesHook([\"compiler\"]),\n",
    "    /** @type {AsyncSeriesHook<[Compilation]>} */\n",
    "    emit: new AsyncSeriesHook([\"compilation\"]),\n",
    "    /** @type {AsyncSeriesHook<[string, AssetEmittedInfo]>} */\n",
    "    assetEmitted: new AsyncSeriesHook([\"file\", \"info\"]),\n",
    "    /** @type {AsyncSeriesHook<[Compilation]>} */\n",
    "    afterEmit: new AsyncSeriesHook([\"compilation\"]),\n",
    "\n",
    "    /** @type {SyncHook<[Compilation, CompilationParams]>} */\n",
    "    thisCompilation: new SyncHook([\"compilation\", \"params\"]),\n",
    "    /** @type {SyncHook<[Compilation, CompilationParams]>} */\n",
    "    compilation: new SyncHook([\"compilation\", \"params\"]),\n",
    "    /** @type {SyncHook<[NormalModuleFactory]>} */\n",
    "    normalModuleFactory: new SyncHook([\"normalModuleFactory\"]),\n",
    "    /** @type {SyncHook<[ContextModuleFactory]>}  */\n",
    "    contextModuleFactory: new SyncHook([\"contextModuleFactory\"]),\n",
    "\n",
    "    /** @type {AsyncSeriesHook<[CompilationParams]>} */\n",
    "    beforeCompile: new AsyncSeriesHook([\"params\"]),\n",
    "    /** @type {SyncHook<[CompilationParams]>} */\n",
    "    compile: new SyncHook([\"params\"]),\n",
    "    /** @type {AsyncParallelHook<[Compilation]>} */\n",
    "    make: new AsyncParallelHook([\"compilation\"]),\n",
    "    /** @type {AsyncParallelHook<[Compilation]>} */\n",
    "    finishMake: new AsyncSeriesHook([\"compilation\"]),\n",
    "    /** @type {AsyncSeriesHook<[Compilation]>} */\n",
    "    afterCompile: new AsyncSeriesHook([\"compilation\"]),\n",
    "\n",
    "    /** @type {AsyncSeriesHook<[]>} */\n",
    "    readRecords: new AsyncSeriesHook([]),\n",
    "    /** @type {AsyncSeriesHook<[]>} */\n",
    "    emitRecords: new AsyncSeriesHook([]),\n",
    "\n",
    "    /** @type {AsyncSeriesHook<[Compiler]>} */\n",
    "    watchRun: new AsyncSeriesHook([\"compiler\"]),\n",
    "    /** @type {SyncHook<[Error]>} */\n",
    "    failed: new SyncHook([\"error\"]),\n",
    "    /** @type {SyncHook<[string | null, number]>} */\n",
    "    invalid: new SyncHook([\"filename\", \"changeTime\"]),\n",
    "    /** @type {SyncHook<[]>} */\n",
    "    watchClose: new SyncHook([]),\n",
    "    /** @type {AsyncSeriesHook<[]>} */\n",
    "    shutdown: new AsyncSeriesHook([]),\n",
    "\n",
    "    /** @type {SyncBailHook<[string, string, any[]], true>} */\n",
    "    infrastructureLog: new SyncBailHook([\"origin\", \"type\", \"args\"]),\n",
    "\n",
    "    // TODO the following hooks are weirdly located here\n",
    "    // TODO move them for webpack 5\n",
    "    /** @type {SyncHook<[]>} */\n",
    "    environment: new SyncHook([]),\n",
    "    /** @type {SyncHook<[]>} */\n",
    "    afterEnvironment: new SyncHook([]),\n",
    "    /** @type {SyncHook<[Compiler]>} */\n",
    "    afterPlugins: new SyncHook([\"compiler\"]),\n",
    "    /** @type {SyncHook<[Compiler]>} */\n",
    "    afterResolvers: new SyncHook([\"compiler\"]),\n",
    "    /** @type {SyncBailHook<[string, Entry], boolean>} */\n",
    "    entryOption: new SyncBailHook([\"context\", \"entry\"])\n",
    "});"
   ]
  },
  {
   "cell_type": "markdown",
   "id": "7bfa66db-fdff-42ec-8700-f0fa3cfe7e8b",
   "metadata": {},
   "source": [
    "## compiler run 函数"
   ]
  },
  {
   "cell_type": "code",
   "execution_count": null,
   "id": "32e700cb-46a7-4f93-9093-df1cf4903045",
   "metadata": {
    "jupyter": {
     "source_hidden": true
    },
    "tags": []
   },
   "outputs": [],
   "source": [
    "run(callback){\n",
    "        const run = () => {\n",
    "            /**\n",
    "                依次出发 beforeRun, run, 通知各个插件\n",
    "                然后运行readRecords 和 compile 开始编译\n",
    "            **/\n",
    "            this.hooks.beforeRun.callAsync(this, err => {\n",
    "\t\t\t\tif (err) return finalCallback(err);\n",
    "\n",
    "\t\t\t\tthis.hooks.run.callAsync(this, err => {\n",
    "\t\t\t\t\tif (err) return finalCallback(err);\n",
    "\n",
    "\t\t\t\t\tthis.readRecords(err => {\n",
    "\t\t\t\t\t\tif (err) return finalCallback(err);\n",
    "\n",
    "\t\t\t\t\t\tthis.compile(onCompiled);\n",
    "\t\t\t\t\t});\n",
    "\t\t\t\t});\n",
    "\t\t\t});\n",
    "\t\t};\n",
    "        // 先判断当前是否正在运行中\n",
    "        // 如果运行中，出发end事件，然后在重新运行\n",
    "\t\tif (this.idle) {\n",
    "\t\t\tthis.cache.endIdle(err => {\n",
    "\t\t\t\tif (err) return finalCallback(err);\n",
    "\n",
    "\t\t\t\tthis.idle = false;\n",
    "\t\t\t\trun();\n",
    "\t\t\t});\n",
    "\t\t} else {\n",
    "\t\t\trun();\n",
    "\t\t}\n",
    "}"
   ]
  },
  {
   "cell_type": "markdown",
   "id": "1c6752f9-0749-439d-b9df-e95dc7e98747",
   "metadata": {},
   "source": [
    "## compiler compile 函数"
   ]
  },
  {
   "cell_type": "code",
   "execution_count": null,
   "id": "c7abfe39-fb9f-4ccc-8516-19445bbb5af3",
   "metadata": {
    "tags": []
   },
   "outputs": [],
   "source": [
    "/**\n",
    "    依次执行钩子函数 beforeCompile compile make finishMake afterCompile\n",
    "    \n",
    "    \n",
    "**/\n",
    "\n",
    "compile(callback) {\n",
    "    const params = this.newCompilationParams();\n",
    "    this.hooks.beforeCompile.callAsync(params, err => {\n",
    "        if (err) return callback(err);\n",
    "\n",
    "        this.hooks.compile.call(params);\n",
    "\n",
    "        const compilation = this.newCompilation(params);\n",
    "\n",
    "        const logger = compilation.getLogger(\"webpack.Compiler\");\n",
    "\n",
    "        logger.time(\"make hook\");\n",
    "        this.hooks.make.callAsync(compilation, err => {\n",
    "            logger.timeEnd(\"make hook\");\n",
    "            if (err) return callback(err);\n",
    "\n",
    "            logger.time(\"finish make hook\");\n",
    "            this.hooks.finishMake.callAsync(compilation, err => {\n",
    "                logger.timeEnd(\"finish make hook\");\n",
    "                if (err) return callback(err);\n",
    "\n",
    "                process.nextTick(() => {\n",
    "                    logger.time(\"finish compilation\");\n",
    "                    compilation.finish(err => {\n",
    "                        logger.timeEnd(\"finish compilation\");\n",
    "                        if (err) return callback(err);\n",
    "\n",
    "                        logger.time(\"seal compilation\");\n",
    "                        compilation.seal(err => {\n",
    "                            logger.timeEnd(\"seal compilation\");\n",
    "                            if (err) return callback(err);\n",
    "\n",
    "                            logger.time(\"afterCompile hook\");\n",
    "                            this.hooks.afterCompile.callAsync(compilation, err => {\n",
    "                                logger.timeEnd(\"afterCompile hook\");\n",
    "                                if (err) return callback(err);\n",
    "\n",
    "                                return callback(null, compilation);\n",
    "                            });\n",
    "                        });\n",
    "                    });\n",
    "                });\n",
    "            });\n",
    "        });\n",
    "    });\n",
    "}"
   ]
  },
  {
   "cell_type": "markdown",
   "id": "230bb09b-a412-4b52-962a-0d6662074217",
   "metadata": {},
   "source": [
    "主要关注点：\n",
    "`const params = this.newCompilationParams();`\n",
    "`const compilation = this.newCompilation(params);`"
   ]
  },
  {
   "cell_type": "code",
   "execution_count": null,
   "id": "1a25b73b-65c5-435f-bf48-e36f985b9323",
   "metadata": {},
   "outputs": [],
   "source": [
    "newCompilationParams() {\n",
    "    // 这两个都是解析module的\n",
    "    const params = {\n",
    "        // 针对正常的node_modules\n",
    "        normalModuleFactory: this.createNormalModuleFactory(),\n",
    "        // 针对文件\n",
    "        contextModuleFactory: this.createContextModuleFactory()\n",
    "    };\n",
    "    return params;\n",
    "}"
   ]
  }
 ],
 "metadata": {
  "kernelspec": {
   "display_name": "TypeScript",
   "language": "typescript",
   "name": "tslab"
  },
  "language_info": {
   "codemirror_mode": {
    "mode": "typescript",
    "name": "javascript",
    "typescript": true
   },
   "file_extension": ".ts",
   "mimetype": "text/typescript",
   "name": "typescript",
   "version": "3.7.2"
  }
 },
 "nbformat": 4,
 "nbformat_minor": 5
}
