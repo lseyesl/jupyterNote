{
 "cells": [
  {
   "cell_type": "markdown",
   "id": "99ede5e2-864d-42b4-b6c8-e3c6428a47b7",
   "metadata": {},
   "source": [
    "# vite"
   ]
  },
  {
   "cell_type": "markdown",
   "id": "a9664034-2db4-417a-853f-82d35e367d64",
   "metadata": {},
   "source": [
    "## hmr"
   ]
  },
  {
   "cell_type": "code",
   "execution_count": null,
   "id": "5a44f15d-18c0-4ea3-87ca-1e5867d05fba",
   "metadata": {
    "jupyter": {
     "source_hidden": true
    },
    "tags": []
   },
   "outputs": [],
   "source": [
    "{\n",
    "    /*\n",
    "        ws msg type\n",
    "    */\n",
    "    \n",
    "    let payload = {\n",
    "        type:null,\n",
    "        updates:[{\n",
    "            type:null,\n",
    "            path:null,\n",
    "            timestamp:null\n",
    "        }],\n",
    "        event:null,\n",
    "        data:null,\n",
    "        paths:null,\n",
    "        err:null,\n",
    "    }\n",
    "    switch(payload.type){\n",
    "        case 'connected':\n",
    "            setInterval(()=>ws.send('ping'),1000) // 保持 ws keep alive;\n",
    "            break;\n",
    "        case 'update':\n",
    "            if(isFirst && hasError){\n",
    "                window.location.reload()\n",
    "            }else{\n",
    "                clearError();\n",
    "            }\n",
    "            \n",
    "            payload.updates.forEach(item=>{\n",
    "                if(item.type == 'js-update'){\n",
    "                    // 如果更新的是js文件\n",
    "                    queueUpdate(fetchUpdate(item))\n",
    "                }else{\n",
    "                    // 如果是css文件\n",
    "                    link.href = item.path + '?v='+ item.timestamp;\n",
    "                    // 更新link的 href地址\n",
    "                }\n",
    "                \n",
    "            })\n",
    "            break;\n",
    "        case 'custom':\n",
    "            const cbs = customListenersMap.get(payload.event);\n",
    "            if(cbs){\n",
    "                cbs.forEach(cb=>cb(payload.data))\n",
    "            }\n",
    "            break;\n",
    "        case 'full-reload':\n",
    "            window.location.reload();\n",
    "            break;\n",
    "        case 'prune':\n",
    "            // 清理残留的无用modules 逻辑，消除影响。side effects;\n",
    "            payload.paths.forEach(path=>{\n",
    "                const fn = pruneMap.get(path);\n",
    "                if(fn){\n",
    "                    fn(dataMap.get(path))\n",
    "                }\n",
    "            })\n",
    "            break;\n",
    "        case 'error':\n",
    "            showError();\n",
    "            break;\n",
    "        default:\n",
    "            return payload;\n",
    "    }\n",
    "\n",
    "}"
   ]
  },
  {
   "cell_type": "markdown",
   "id": "17f8be57-b1b9-4119-bafb-b551f552b8ce",
   "metadata": {},
   "source": [
    "## cli \n",
    "\n",
    "### cac 命令说明"
   ]
  },
  {
   "cell_type": "code",
   "execution_count": 1,
   "id": "fb059c6a-3e51-420a-ab6b-94c52de994d7",
   "metadata": {
    "collapsed": true,
    "jupyter": {
     "outputs_hidden": true
    },
    "tags": []
   },
   "outputs": [
    {
     "name": "stdout",
     "output_type": "stream",
     "text": [
      "{\n",
      "  \"args\": [\n",
      "    \"kernel\"\n",
      "  ],\n",
      "  \"options\": {\n",
      "    \"--\": [],\n",
      "    \"configPath\": \"/home/lseyesl/.local/share/jupyter/runtime/kernel-0654e12f-9aef-4132-b62b-e91ee0f8f158.json\"\n",
      "  }\n",
      "}\n"
     ]
    }
   ],
   "source": [
    "{\n",
    "    const cac = require('cac');\n",
    "    const cli = cac('cus');//显示当前命令说明所指向的package名称\n",
    "    \n",
    "    cli.version('1.1.1.1');\n",
    "    cli.help();\n",
    "    \n",
    "    cli.command('build [root]').option('--file file','desc').action((root,options)=>{\n",
    "        console.log(root,options);\n",
    "    })\n",
    "    \n",
    "    const parsed = cli.parse();\n",
    "    console.log(JSON.stringify(parsed,null,2));\n",
    "}"
   ]
  },
  {
   "cell_type": "markdown",
   "id": "ac240d30-0875-440e-a8f9-99e0ebd5d28e",
   "metadata": {},
   "source": [
    "### node 执行系统命令"
   ]
  },
  {
   "cell_type": "code",
   "execution_count": 3,
   "id": "85dfa3db-fefd-4539-98d3-5bb310c903db",
   "metadata": {
    "collapsed": true,
    "jupyter": {
     "outputs_hidden": true,
     "source_hidden": true
    },
    "tags": []
   },
   "outputs": [
    {
     "name": "stdout",
     "output_type": "stream",
     "text": [
      ".\n",
      "..\n",
      ".ipynb_checkpoints\n",
      "node_modules\n",
      "package-lock.json\n",
      "package.json\n",
      "reactive.ipynb\n",
      "vite.ipynb\n",
      "vue.ipynb\n",
      "vuex.ipynb\n"
     ]
    }
   ],
   "source": [
    "{\n",
    "    const execa = require('execa');\n",
    "    const fs = require('fs');\n",
    "    \n",
    "    async function main(){\n",
    "        let res = await execa('ls',['-a']);\n",
    "        if(res.exitCode === 0) {\n",
    "            let list = res.stdout.split('\\n');\n",
    "            list.forEach(item=>{\n",
    "                console.log(item);\n",
    "            })\n",
    "        }else{\n",
    "            console.error(res.stderr);\n",
    "        }\n",
    "    }\n",
    "    \n",
    "    main();\n",
    "}"
   ]
  },
  {
   "cell_type": "markdown",
   "id": "286ed795-a832-48bc-8b16-0738a1c75201",
   "metadata": {},
   "source": [
    "### dev Server"
   ]
  },
  {
   "cell_type": "code",
   "execution_count": null,
   "id": "c50d1a33-a269-4d89-8ec6-c77f8a2ab7ae",
   "metadata": {
    "jupyter": {
     "source_hidden": true
    },
    "tags": []
   },
   "outputs": [],
   "source": [
    "{\n",
    "    const http = require('http');\n",
    "    const ws = require('ws');\n",
    "    const path = require('path');\n",
    "    const chokidar = require('chokidar'); //监听文件变化\n",
    "    const fs = require('fs');\n",
    "    \n",
    "    // 文件类型对应\n",
    "    const type2media = {\n",
    "        '.html':'text/html',\n",
    "        '.js':'application/javascript',\n",
    "        '.css':'text/css',\n",
    "    }\n",
    "    \n",
    "    const server = http.createServer((req,res)=>{\n",
    "        console.log('req',req.url);\n",
    "        let queryIdx = req.url.indexOf('?');\n",
    "        if(queryIdx<0){\n",
    "            queryIdx = req.url.length;\n",
    "        }\n",
    "        \n",
    "        const _url = req.url.slice(0,queryIdx);\n",
    "        console.log('_url',_url);\n",
    "        const _filename = _url == '/'?'index.html':_url.slice(1);\n",
    "        console.log('_filename',_filename);\n",
    "        const file = path.resolve(__dirname,'dynamic',_filename);\n",
    "        \n",
    "        if(fs.existsSync(file)){\n",
    "            const ext = path.extname(file);\n",
    "            console.log('ext:',ext);\n",
    "            res.writeHead(200,{'Content-Type':type2media[ext]});\n",
    "            let data = fs.readFileSync(file);\n",
    "            res.end(data);\n",
    "        }else{\n",
    "            res.writeHead(404);\n",
    "            res.end();\n",
    "        }\n",
    "    })\n",
    "    \n",
    "    server.listen(8888,err=>{\n",
    "        if(err) throw err;\n",
    "        console.log('server listen 8888');\n",
    "    })\n",
    "    \n",
    "    const wss = new ws.Server({\n",
    "        port:8889\n",
    "    })\n",
    "    \n",
    "    wss.on('connection',socket=>{\n",
    "        socket.on('message',ms=>{\n",
    "            console.log('wss-> msg ->:',ms);\n",
    "        })\n",
    "        \n",
    "        chokidar.watch(path.resolve(__dirname,'dynamic')).on('all',(event,_path)=>{\n",
    "            console.log('file update',event,_path);\n",
    "            if(event!='change') return ;\n",
    "            let type = path.extname(_path).slice(1);\n",
    "            let p = _path.slice(_path.indexOf('dynamic')+7);\n",
    "            console.log('p1==>',p);\n",
    "            p = `.${p}`;\n",
    "            console.log(JSON.stringify({\n",
    "                type:type,\n",
    "                path,p\n",
    "            }))\n",
    "        })\n",
    "    })\n",
    "    \n",
    "    wss.on('error',error=>{\n",
    "        console.log('wss error',error);\n",
    "    })\n",
    "}"
   ]
  },
  {
   "cell_type": "markdown",
   "id": "7b7e9851-244d-43af-b8a1-57bc586a24c0",
   "metadata": {},
   "source": [
    "### playwright 测试"
   ]
  },
  {
   "cell_type": "code",
   "execution_count": null,
   "id": "ff33bde1-64c0-4e36-b261-6be950875522",
   "metadata": {
    "jupyter": {
     "source_hidden": true
    },
    "tags": []
   },
   "outputs": [],
   "source": [
    "{\n",
    "    const os = require('os');\n",
    "    const fs = require('fs-extra');\n",
    "    const path = require('path');\n",
    "    const {chromium} = require('playwright-chromium');\n",
    "    \n",
    "    const DIR = path.join(__dirname,'wsTemp');\n",
    "    \n",
    "    async function main(){\n",
    "        const browserServer = await chromium.launchServer();\n",
    "        \n",
    "        await fs.mkdirp(DIR);\n",
    "        await fs.writeFile(path.join(DIR,'wsEndpoint'),browserServer.wsEndpoint());\n",
    "        \n",
    "        await new Promise(res=>setTimeout(res,2000));\n",
    "        \n",
    "        const wsEndpoint = await fs.readFile(path.join(DIR,'wsEndpoint'),'utf-8');\n",
    "        const browser = await chromium.connect({\n",
    "            wsEndpoint\n",
    "        });\n",
    "        \n",
    "        const ctx = await browser.newPage();\n",
    "        browser.close();\n",
    "        process.exit(0);\n",
    "    }\n",
    "}"
   ]
  }
 ],
 "metadata": {
  "kernelspec": {
   "display_name": "TypeScript",
   "language": "typescript",
   "name": "tslab"
  },
  "language_info": {
   "codemirror_mode": {
    "mode": "typescript",
    "name": "javascript",
    "typescript": true
   },
   "file_extension": ".ts",
   "mimetype": "text/typescript",
   "name": "typescript",
   "version": "3.7.2"
  }
 },
 "nbformat": 4,
 "nbformat_minor": 5
}
