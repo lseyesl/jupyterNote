{
 "cells": [
  {
   "cell_type": "markdown",
   "metadata": {},
   "source": [
    "装饰者模式\n",
    "\n",
    "给对象动态地增加职责的方式称为装饰者模式(decorator)"
   ]
  },
  {
   "cell_type": "code",
   "execution_count": 1,
   "metadata": {},
   "outputs": [
    {
     "name": "stdout",
     "output_type": "stream",
     "text": [
      "fire normal\n",
      "fire upgrade 1\n",
      "fire upgrade 2\n"
     ]
    }
   ],
   "source": [
    "(function(){\n",
    "    var Plane = function(){}\n",
    "    \n",
    "    Plane.prototype.fire = function(){\n",
    "        console.log('fire normal')\n",
    "    }\n",
    "    \n",
    "    var MissileDecorator = function(plane){\n",
    "        this.plane = plane\n",
    "    }\n",
    "    \n",
    "    MissileDecorator.prototype.fire = function(){\n",
    "        this.plane.fire()\n",
    "        console.log('fire upgrade 1')\n",
    "    }\n",
    "    \n",
    "    var AtomDecorator = function(plane){\n",
    "        this.plane = plane\n",
    "    }\n",
    "    \n",
    "    AtomDecorator.prototype.fire = function(){\n",
    "        this.plane.fire()\n",
    "        console.log('fire upgrade 2')\n",
    "    }\n",
    "    \n",
    "    var plane = new Plane()\n",
    "    plane = new MissileDecorator(plane)\n",
    "    plane = new AtomDecorator(plane)\n",
    "    \n",
    "    plane.fire()\n",
    "})()"
   ]
  },
  {
   "cell_type": "code",
   "execution_count": 2,
   "metadata": {},
   "outputs": [
    {
     "name": "stdout",
     "output_type": "stream",
     "text": [
      "1\n",
      "2\n"
     ]
    }
   ],
   "source": [
    "(function(){\n",
    "    var a = function(){\n",
    "        console.log(1)\n",
    "    }\n",
    "    \n",
    "    var _a = a;\n",
    "    \n",
    "    a = function(){\n",
    "        _a()\n",
    "        console.log(2)\n",
    "    }\n",
    "    \n",
    "    a()\n",
    "})()"
   ]
  },
  {
   "cell_type": "code",
   "execution_count": null,
   "metadata": {},
   "outputs": [],
   "source": [
    "(function(){\n",
    "    Function.prototype.before = function(beforefn){\n",
    "        var __self = this;\n",
    "        return function(){\n",
    "            beforefn.apply(this,arguments)\n",
    "            return __self.apply(this,arguments)\n",
    "        }\n",
    "    }\n",
    "    \n",
    "    Function.prototype.after = function(afterfn){\n",
    "        var __self = this;\n",
    "        return function(){\n",
    "            var res = __self.apply(this,arguments)\n",
    "            afterfn.apply(this,arguments)\n",
    "            return res;\n",
    "        }\n",
    "    }\n",
    "})()"
   ]
  },
  {
   "cell_type": "markdown",
   "metadata": {},
   "source": [
    "代理模式和装饰者模式最重要的区别在于它们的意图和设计目的\n",
    "\n",
    "代理模式的目的是对本体提供一个替代者\n",
    "\n",
    "装饰者模式是为本体动态加入行为"
   ]
  }
 ],
 "metadata": {
  "kernelspec": {
   "display_name": "JavaScript",
   "language": "javascript",
   "name": "jslab"
  },
  "language_info": {
   "file_extension": ".js",
   "mimetype": "text/javascript",
   "name": "javascript",
   "version": ""
  }
 },
 "nbformat": 4,
 "nbformat_minor": 4
}
