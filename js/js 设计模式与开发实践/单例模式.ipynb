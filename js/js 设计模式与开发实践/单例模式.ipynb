{
 "cells": [
  {
   "cell_type": "markdown",
   "metadata": {},
   "source": [
    "单例模式的定义： 保证一个类仅有一个实例，并提供一个访问它的全局访问点。"
   ]
  },
  {
   "cell_type": "code",
   "execution_count": 1,
   "metadata": {},
   "outputs": [
    {
     "name": "stderr",
     "output_type": "stream",
     "text": [
      "12:18 - Property 'instance' does not exist on type 'typeof Singleton'.\n",
      "13:18 - Property 'instance' does not exist on type 'typeof Singleton'.\n",
      "15:21 - Property 'instance' does not exist on type 'typeof Singleton'.\n"
     ]
    }
   ],
   "source": [
    "(function(){\n",
    "    var Singleton = function(name){\n",
    "        this.name = name;\n",
    "        this.instance = null;\n",
    "    }\n",
    "    \n",
    "    Singleton.prototype.getName = function(){\n",
    "        console.log(this.name)\n",
    "    }\n",
    "    \n",
    "    Singleton.getInstance = function(name){\n",
    "        if(!this.instance){\n",
    "            this.instance = new Singleton(name)\n",
    "        }\n",
    "        return this.instance;\n",
    "    }\n",
    "    \n",
    "    var a = Singleton.getInstance('sven1'),\n",
    "        b = Singleton.getInstance('sven2');\n",
    "    console.log(a === b);\n",
    "    console.log(a.getName(),b.getName())\n",
    "})()"
   ]
  },
  {
   "cell_type": "code",
   "execution_count": 2,
   "metadata": {},
   "outputs": [
    {
     "name": "stdout",
     "output_type": "stream",
     "text": [
      "true\n",
      "sven1\n",
      "sven1\n",
      "undefined undefined\n"
     ]
    }
   ],
   "source": [
    "(function(){\n",
    "    var Singleton = function(name){\n",
    "        this.name = name;\n",
    "    }\n",
    "    \n",
    "    Singleton.prototype.getName = function(){\n",
    "        console.log(this.name)\n",
    "    }\n",
    "    \n",
    "    Singleton.getInstance = (function(){\n",
    "        var instance = null;\n",
    "        return function(name){\n",
    "            if(!instance){\n",
    "                instance = new Singleton(name)\n",
    "            }\n",
    "            return instance; \n",
    "        }\n",
    "    })()\n",
    "    \n",
    "    var a = Singleton.getInstance('sven1'),\n",
    "        b = Singleton.getInstance('sven2');\n",
    "    console.log(a === b);\n",
    "    console.log(a.getName(),b.getName())\n",
    "\n",
    "})()"
   ]
  },
  {
   "cell_type": "code",
   "execution_count": 6,
   "metadata": {},
   "outputs": [
    {
     "name": "stdout",
     "output_type": "stream",
     "text": [
      "init\n",
      "true\n"
     ]
    }
   ],
   "source": [
    "(function(){\n",
    "    var CreateDiv = (function(){\n",
    "        var instance;\n",
    "        \n",
    "        var CreateDiv = function(html){\n",
    "            if(instance){\n",
    "                return instance\n",
    "            }\n",
    "            this.html = html\n",
    "            this.init()\n",
    "            return instance = this;\n",
    "        }\n",
    "        \n",
    "        CreateDiv.prototype.init = function(){\n",
    "//             var div = document.createElement('div')\n",
    "//             div.innerHTML = this.html;\n",
    "//             document.body.appendChild(div)\n",
    "            console.log('init')\n",
    "        }\n",
    "        \n",
    "        return CreateDiv;\n",
    "    })()\n",
    "    \n",
    "    var a = new CreateDiv('sven1'),\n",
    "        b = new CreateDiv('sven2');\n",
    "    \n",
    "    console.log(a === b)\n",
    "})()"
   ]
  },
  {
   "cell_type": "code",
   "execution_count": 7,
   "metadata": {},
   "outputs": [
    {
     "name": "stderr",
     "output_type": "stream",
     "text": [
      "24:13 - Only a void function can be called with the 'new' keyword.\n",
      "25:13 - Only a void function can be called with the 'new' keyword.\n"
     ]
    }
   ],
   "source": [
    "(function(){\n",
    "    var CreateDiv = function(html){\n",
    "        this.html = html;\n",
    "        this.init()\n",
    "    }\n",
    "    \n",
    "    CreateDiv.prototype.init = function(){\n",
    "//         var div = document.createElement('div');\n",
    "//         div.innerHTML = this.html;\n",
    "//         document.body.appendChild(div);\n",
    "        console.log('init')\n",
    "    }\n",
    "    \n",
    "    var ProxySingletonCreateDiv = (function(){\n",
    "        var instance;\n",
    "        return function(html){\n",
    "            if(!instance){\n",
    "                instance = new CreateDiv(html)\n",
    "            }\n",
    "            return instance\n",
    "        }\n",
    "    })();\n",
    "    \n",
    "    var a = new ProxySingletonCreateDiv('sven1'),\n",
    "        b = new ProxySingletonCreateDiv('sven2');\n",
    "    \n",
    "    console.log(a === b);\n",
    "})()"
   ]
  },
  {
   "cell_type": "markdown",
   "metadata": {},
   "source": [
    "减少全局变量的使用\n",
    "\n",
    "- 使用命名空间\n",
    "- 使用闭包封装私有变量"
   ]
  },
  {
   "cell_type": "code",
   "execution_count": null,
   "metadata": {},
   "outputs": [],
   "source": [
    "(function(){\n",
    "    var namespace1 = {\n",
    "        a:function(){\n",
    "            console.log(1)\n",
    "        },\n",
    "        b:function(){\n",
    "            console.log(2)\n",
    "        }\n",
    "    }\n",
    "    \n",
    "    \n",
    "    var MyApp = {};\n",
    "    MyApp.namespace = function(name){\n",
    "        var parts = name.split('.')\n",
    "        var current = MyApp;\n",
    "        for(var i in parts){\n",
    "            if(!current[parts[i]]){\n",
    "                current[parts[i]] = {}\n",
    "            }\n",
    "            \n",
    "            current = current[parts[i]];\n",
    "        }\n",
    "    }\n",
    "    \n",
    "    MyApp.namespace('event');\n",
    "    MyApp.namespace('dom.style');\n",
    "})()"
   ]
  },
  {
   "cell_type": "code",
   "execution_count": 8,
   "metadata": {},
   "outputs": [
    {
     "name": "stdout",
     "output_type": "stream",
     "text": [
      "sven - 29\n"
     ]
    }
   ],
   "source": [
    "(function(){\n",
    "    var user = (function(){\n",
    "        var _name = 'sven',\n",
    "            _age = 29;\n",
    "        \n",
    "        return {\n",
    "            getUserInfo: function(){\n",
    "                return `${_name} - ${_age}`\n",
    "            }\n",
    "        }\n",
    "    })()\n",
    "    \n",
    "    console.log(user.getUserInfo())\n",
    "})()"
   ]
  },
  {
   "cell_type": "markdown",
   "metadata": {},
   "source": [
    "## 惰性单例"
   ]
  },
  {
   "cell_type": "markdown",
   "metadata": {},
   "source": [
    "惰性单例指的是在需要的时候才创建对象实例"
   ]
  },
  {
   "cell_type": "code",
   "execution_count": null,
   "metadata": {},
   "outputs": [],
   "source": [
    "(function(){\n",
    "    var getSingle = function(fn){\n",
    "        var result;\n",
    "        \n",
    "        return function(){\n",
    "            return result || (result = fn.apply(this, arguments))\n",
    "        }\n",
    "    }\n",
    "})()"
   ]
  }
 ],
 "metadata": {
  "kernelspec": {
   "display_name": "JavaScript",
   "language": "javascript",
   "name": "jslab"
  },
  "language_info": {
   "file_extension": ".js",
   "mimetype": "text/javascript",
   "name": "javascript",
   "version": ""
  }
 },
 "nbformat": 4,
 "nbformat_minor": 4
}
