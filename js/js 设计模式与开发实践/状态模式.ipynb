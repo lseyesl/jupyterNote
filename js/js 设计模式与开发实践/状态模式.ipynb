{
 "cells": [
  {
   "cell_type": "markdown",
   "metadata": {},
   "source": [
    "状态模式\n",
    "\n",
    "状态模式的关键是区分事物内部的状态，事物内部状态的改变往往会带来事物的行为改变"
   ]
  },
  {
   "cell_type": "code",
   "execution_count": 2,
   "metadata": {},
   "outputs": [
    {
     "name": "stdout",
     "output_type": "stream",
     "text": [
      "open\n"
     ]
    }
   ],
   "source": [
    "(function(){\n",
    "    var Light = function(){\n",
    "        this.state = 'off';\n",
    "        this.button = null;\n",
    "    }\n",
    "    \n",
    "    Light.prototype.buttomWasPressed = function(){\n",
    "        if(this.state === 'off'){\n",
    "            console.log('open')\n",
    "            this.state = 'on'\n",
    "        }else if(this.state === 'on'){\n",
    "            console.log('close')\n",
    "            this.state = 'off'\n",
    "        }\n",
    "    }\n",
    "    \n",
    "    var light = new Light;\n",
    "    light.buttomWasPressed()\n",
    "})()"
   ]
  },
  {
   "cell_type": "code",
   "execution_count": 6,
   "metadata": {},
   "outputs": [
    {
     "name": "stdout",
     "output_type": "stream",
     "text": [
      "week\n",
      "strong\n",
      "close\n"
     ]
    }
   ],
   "source": [
    "//状态模式\n",
    "(function(){\n",
    "    var OffLightState = function(light){\n",
    "        this.light = light\n",
    "    }\n",
    "    OffLightState.prototype.buttonWasPressed = function(){\n",
    "        console.log('week');\n",
    "        this.light.setState(this.light.weakLightState);\n",
    "    }\n",
    "    \n",
    "    var WeakLightState = function(light){\n",
    "        this.light = light\n",
    "    }\n",
    "    \n",
    "    WeakLightState.prototype.buttonWasPressed = function(){\n",
    "        console.log('strong')\n",
    "        this.light.setState(this.light.strongLightState);\n",
    "    }\n",
    "    \n",
    "    var StrongLightState = function(light){\n",
    "        this.light = light;\n",
    "    }\n",
    "    \n",
    "    StrongLightState.prototype.buttonWasPressed = function(){\n",
    "        console.log('close')\n",
    "        this.light.setState(this.light.offLightState);\n",
    "    }\n",
    "    \n",
    "    var Light = function(){\n",
    "        this.offLightState = new OffLightState(this);\n",
    "        this.weakLightState = new WeakLightState(this);\n",
    "        this.strongLightState = new StrongLightState(this);\n",
    "        this.button = null;\n",
    "        this.currState = this.offLightState;\n",
    "    }\n",
    "    \n",
    "    Light.prototype.setState = function(newState){\n",
    "        this.currState = newState;\n",
    "    }\n",
    "    \n",
    "    var light = new Light();\n",
    "    light.currState.buttonWasPressed();\n",
    "    light.currState.buttonWasPressed();\n",
    "    light.currState.buttonWasPressed();\n",
    "    \n",
    "})()"
   ]
  },
  {
   "cell_type": "markdown",
   "metadata": {},
   "source": [
    "允许一个对象在其内部状态改变时改变它的行为，对象看起来似乎修改了它的类"
   ]
  },
  {
   "cell_type": "markdown",
   "metadata": {},
   "source": [
    "状态模式的优点\n",
    "- 定义了状态和行为之间的关系，并将它们封装在一个类中。通过增加新的状态类，很容易增加新的状态和转换\n",
    "- 避免Context无限膨胀，状态切换的逻辑被分布在状态类中，也去掉了Context中原本过多的条件分支\n",
    "- 用对象代替字符串来记录当前状态，使得状态的切换更加一目了然\n",
    "- Context中的请求动作和状态类中封装的行为可以非常容易的独立变化而互不影响\n",
    "\n",
    "确定\n",
    "- 定义过多的状态类\n",
    "- 逻辑过于分散，无法看出整个状态机的逻辑\n",
    "\n",
    "优化\n",
    "- 管理state对象的创建和销毁  需要时创建或对象池\n",
    "- 共享state对象"
   ]
  },
  {
   "cell_type": "markdown",
   "metadata": {},
   "source": [
    "状态模式和策略模式\n",
    "\n",
    "策略模式的策略是平行无关的\n",
    "\n",
    "状态模式的状态是对应封装的"
   ]
  },
  {
   "cell_type": "code",
   "execution_count": 8,
   "metadata": {},
   "outputs": [
    {
     "name": "stdout",
     "output_type": "stream",
     "text": [
      "off\n",
      "on\n"
     ]
    }
   ],
   "source": [
    "(function(){\n",
    "    var Light = function(){\n",
    "        this.currState = FSM.off;\n",
    "        this.button = null;\n",
    "    }\n",
    "    \n",
    "    var FSM = {\n",
    "        off:{\n",
    "            buttonWasPressed:function(){\n",
    "                console.log('off')\n",
    "                this.currState = FSM.on\n",
    "            }\n",
    "        },\n",
    "        on:{\n",
    "            buttonWasPressed:function(){\n",
    "                console.log('on')\n",
    "                this.currState = FSM.off\n",
    "            }\n",
    "        },\n",
    "    }\n",
    "    \n",
    "    var light = new Light;\n",
    "    light.currState.buttonWasPressed.call(light);\n",
    "    light.currState.buttonWasPressed.call(light);\n",
    "})()"
   ]
  },
  {
   "cell_type": "code",
   "execution_count": null,
   "metadata": {},
   "outputs": [],
   "source": [
    "//表驱动的有限状态机\n",
    "//javascript-state-machine\n",
    "(function(){\n",
    "    var fsm = StateMachine.create({\n",
    "        initial:'off',\n",
    "        events:[\n",
    "            {name:'buttonWasPressed',from:'off',to:'on'},\n",
    "            {name:'buttonWasPressed',from:'on',to:'off'},\n",
    "        ],\n",
    "        callbacks:{\n",
    "            onbuttonWasPressed:function(event,from,to){\n",
    "                console.log(arguments)\n",
    "            }\n",
    "        },\n",
    "        error:function(eventName,from,to,args,errorCode,errorMessage){\n",
    "            console.log(arguments)\n",
    "        }\n",
    "    })\n",
    "})()"
   ]
  }
 ],
 "metadata": {
  "kernelspec": {
   "display_name": "JavaScript",
   "language": "javascript",
   "name": "jslab"
  },
  "language_info": {
   "file_extension": ".js",
   "mimetype": "text/javascript",
   "name": "javascript",
   "version": ""
  }
 },
 "nbformat": 4,
 "nbformat_minor": 4
}
