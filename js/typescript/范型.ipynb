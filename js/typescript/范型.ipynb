{
 "cells": [
  {
   "cell_type": "markdown",
   "metadata": {},
   "source": [
    "# 范型\n",
    "\n",
    "一般情况：\n",
    "T -> type\n",
    "K -> key\n",
    "V -> value\n",
    "E -> element"
   ]
  },
  {
   "cell_type": "code",
   "execution_count": 2,
   "metadata": {},
   "outputs": [
    {
     "name": "stderr",
     "output_type": "stream",
     "text": [
      "12:17 - Cannot find name 'keyof'.\n",
      "12:23 - ',' expected.\n",
      "12:23 - 'Person' only refers to a type, but is being used as a value here.\n",
      "13:17 - 'K2' only refers to a type, but is being used as a value here.\n",
      "14:17 - 'K3' only refers to a type, but is being used as a value here.\n"
     ]
    }
   ],
   "source": [
    "{\n",
    "    interface Person {\n",
    "      name: string;\n",
    "      age: number;\n",
    "      location: string;\n",
    "    }\n",
    "\n",
    "    type K1 = keyof Person; // \"name\" | \"age\" | \"location\"\n",
    "    type K2 = keyof Person[];  // number | \"length\" | \"push\" | \"concat\" | ...\n",
    "    type K3 = keyof { [x: string]: Person };  // string | number\n",
    "}"
   ]
  },
  {
   "cell_type": "markdown",
   "metadata": {},
   "source": [
    "interface vs type\n",
    "\n",
    "- 如果你需要使用类型注解的层次结构，请使用接口。它能使用 implements 和 extends 为一个简单的对象类型（如上面例子中的 Coordinates）使用类型别名，只需要给它一个语义化的名字即可。\n",
    "- 当你想给联合类型和交叉类型提供一个语义化的名称时，一个类型别名将会是一个好的选择。\n"
   ]
  }
 ],
 "metadata": {
  "kernelspec": {
   "display_name": "TypeScript",
   "language": "typescript",
   "name": "tslab"
  },
  "language_info": {
   "codemirror_mode": {
    "mode": "typescript",
    "name": "javascript",
    "typescript": true
   },
   "file_extension": ".ts",
   "mimetype": "text/typescript",
   "name": "typescript",
   "version": "3.7.2"
  }
 },
 "nbformat": 4,
 "nbformat_minor": 4
}
