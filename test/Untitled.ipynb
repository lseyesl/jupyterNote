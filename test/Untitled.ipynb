{
 "cells": [
  {
   "cell_type": "code",
   "execution_count": null,
   "metadata": {},
   "outputs": [],
   "source": [
    "{\n",
    "    var num = 'global';\n",
    "    function a(){\n",
    "        console.log(`a call num is ${this.num}`);\n",
    "    }\n",
    "    \n",
    "    function b(){\n",
    "        this.num='func b';\n",
    "        this.c=a;\n",
    "        this.d=a.call(this);\n",
    "        this.e=a.call(null);\n",
    "        this.f=a.call(global);\n",
    "        this.g=a.bind(this)\n",
    "        this.h=a.bind(null)\n",
    "        this.i=a.bind(global)\n",
    "    }\n",
    "    \n",
    "    var _obj = new b;\n",
    "    _obj.c();\n",
    "    var _a = _obj.c;\n",
    "    a();\n",
    "    _obj.g();\n",
    "    var _b = _obj.g;\n",
    "    _b();\n",
    "    var _c = _obj.h;\n",
    "    _c();\n",
    "    var _d = _obj.i;\n",
    "    _d();\n",
    "    \n",
    "}"
   ]
  },
  {
   "cell_type": "code",
   "execution_count": 10,
   "metadata": {},
   "outputs": [
    {
     "name": "stdout",
     "output_type": "stream",
     "text": [
      "undefined\n"
     ]
    }
   ],
   "source": [
    "{\n",
    "    let name='2';\n",
    "    var a = {\n",
    "        name:'1',\n",
    "        fn:()=>{\n",
    "            console.log(this.name);\n",
    "        }\n",
    "    }\n",
    "    a.fn();\n",
    "}"
   ]
  },
  {
   "cell_type": "markdown",
   "metadata": {},
   "source": [
    "“箭头函数”的this，总是指向定义时所在的对象，而不是运行时所在的对象"
   ]
  },
  {
   "cell_type": "code",
   "execution_count": 36,
   "metadata": {},
   "outputs": [
    {
     "name": "stdout",
     "output_type": "stream",
     "text": [
      "[Function: add]\n",
      "[Function: add]\n",
      "[Function: add]\n"
     ]
    }
   ],
   "source": [
    "{\n",
    "    \n",
    "    \n",
    "    var args=[];\n",
    "    function add(){        \n",
    "        if(arguments.length){\n",
    "            args=args.concat([].slice.call(arguments,0));\n",
    "            return add;\n",
    "        }else{\n",
    "            return args.reduce((prev,next)=>{\n",
    "                return prev+next;\n",
    "            },0);\n",
    "        }\n",
    "        \n",
    "    }\n",
    "    function add2(){\n",
    "         args=args.concat([].slice.call(arguments,0));\n",
    "            return add;\n",
    "    }\n",
    "    add2.toString=function(){\n",
    "         return args.reduce((prev,next)=>{\n",
    "            return prev+next;\n",
    "        },0);\n",
    "    }\n",
    "//     Function.prototype.toString=function (){\n",
    "//         return args.reduce((prev,next)=>{\n",
    "//             return prev+next;\n",
    "//         },0);\n",
    "//     }\n",
    "//     Function.prototype.valueOf=function (){\n",
    "//         return args.reduce((prev,next)=>{\n",
    "//             return prev+next;\n",
    "//         },0);\n",
    "//     }\n",
    "//     Object.prototype.toString=function (){\n",
    "//         return args.reduce((prev,next)=>{\n",
    "//             return prev+next;\n",
    "//         },0);\n",
    "//     }\n",
    "//     Object.prototype.valueOf=function (){\n",
    "//         return args.reduce((prev,next)=>{\n",
    "//             return prev+next;\n",
    "//         },0);\n",
    "//     }\n",
    "    //console.log('add->',Object.prototype.toString.call(add));\n",
    "    console.log(add2(1));\n",
    "    console.log(add2(1,2));\n",
    "    console.log(add2(1)(2));\n",
    "}"
   ]
  },
  {
   "cell_type": "code",
   "execution_count": 37,
   "metadata": {},
   "outputs": [
    {
     "data": {
      "text/plain": [
       "[Function: add] { toString: [Function] }"
      ]
     },
     "execution_count": 37,
     "metadata": {},
     "output_type": "execute_result"
    }
   ],
   "source": [
    "{\n",
    "    function add(){\n",
    "        var args = add.args|[];\n",
    "        args=[].slice.call(arguments,0);\n",
    "        return add;\n",
    "    }\n",
    "    add.toString=function(){\n",
    "        return add.args.reduce((prev,next)=>{\n",
    "           return prev+next; \n",
    "        },0)\n",
    "    }\n",
    "    add(1);\n",
    "    add(2);\n",
    "}"
   ]
  },
  {
   "cell_type": "code",
   "execution_count": null,
   "metadata": {},
   "outputs": [],
   "source": [
    "{\n",
    "    function add(){\n",
    "        var args =[].slice(arguments,0);\n",
    "        cc.toString= function(){\n",
    "            return args.reduce((prev,next)=>{\n",
    "                return prev+next;\n",
    "            },0);\n",
    "        }\n",
    "        return function cc(){\n",
    "            args=args.concat([].slice(arguments,0));\n",
    "            return cc;\n",
    "        }\n",
    "    }\n",
    "    add(1);\n",
    "}"
   ]
  },
  {
   "cell_type": "code",
   "execution_count": 39,
   "metadata": {},
   "outputs": [
    {
     "ename": "SyntaxError",
     "evalue": "Invalid regular expression: missing /",
     "execution_count": 39,
     "output_type": "error",
     "traceback": [
      "evalmachine.<anonymous>:34",
      "    <button>text</button> fn",
      "                 ^",
      "",
      "SyntaxError: Invalid regular expression: missing /",
      "    at new Script (vm.js:84:7)",
      "    at createScript (vm.js:258:10)",
      "    at Object.runInThisContext (vm.js:306:10)",
      "    at run ([eval]:1054:15)",
      "    at onRunRequest ([eval]:888:18)",
      "    at onMessage ([eval]:848:13)",
      "    at process.emit (events.js:210:5)",
      "    at emit (internal/child_process.js:876:12)",
      "    at processTicksAndRejections (internal/process/task_queues.js:81:21)"
     ]
    }
   ],
   "source": [
    "{\n",
    "    function add(){\n",
    "        var args =[].slice.call(arguments,0);\n",
    "        function resadd(){\n",
    "            args= args.concat([].slice.call(arguments,0));\n",
    "            return resadd;\n",
    "        }\n",
    "        resadd.toString=function(){\n",
    "            return args.reduce((prev,next)=>{\n",
    "                return prev+next;\n",
    "            },0);\n",
    "        }\n",
    "        return resadd;\n",
    "    }\n",
    "    add(1);\n",
    "    \n",
    "    \n",
    "    \n",
    "    \n",
    "    \n",
    "    \n",
    "    \n",
    "    \n",
    "    \n",
    "    \n",
    "    function bingFn(dom,fn){createHtmlTag()}\n",
    "    \n",
    "    function createHtmlTag(tag,text){}\n",
    "    function cre(tag){\n",
    "        return {\n",
    "            \n",
    "        }\n",
    "    }\n",
    "    \n",
    "    cre(html)(text)(fn);\n",
    "    var a = cre(html)(text)\n",
    "    a(fn)\n",
    "    <button>text</button> fn\n",
    "    \n",
    "    func creEle\n",
    "    \n",
    "    creEle(pureE)(fn)\n",
    "    creEle(E)(fn)\n",
    "    creEle(Frame)(fn)\n",
    "}"
   ]
  },
  {
   "cell_type": "code",
   "execution_count": null,
   "metadata": {},
   "outputs": [],
   "source": []
  }
 ],
 "metadata": {
  "kernelspec": {
   "display_name": "Javascript (Node.js)",
   "language": "javascript",
   "name": "javascript"
  },
  "language_info": {
   "file_extension": ".js",
   "mimetype": "application/javascript",
   "name": "javascript",
   "version": "12.13.0"
  }
 },
 "nbformat": 4,
 "nbformat_minor": 4
}
