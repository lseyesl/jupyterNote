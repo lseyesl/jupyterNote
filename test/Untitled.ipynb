{
 "cells": [
  {
   "cell_type": "code",
   "execution_count": 6,
   "metadata": {},
   "outputs": [
    {
     "name": "stdout",
     "output_type": "stream",
     "text": [
      "<Buffer 62 79 74 65 77 69 73 65 72>\n"
     ]
    }
   ],
   "source": [
    "{\n",
    "    const buf = Buffer.from('bytewiser','utf8');\n",
    "    console.log(buf);\n",
    "}"
   ]
  },
  {
   "cell_type": "code",
   "execution_count": 7,
   "metadata": {},
   "outputs": [
    {
     "name": "stdout",
     "output_type": "stream",
     "text": [
      "Af8=\n"
     ]
    }
   ],
   "source": [
    "{\n",
    "    const arr = ['14','80','243'];\n",
    "    const buffer = new Buffer(arr);\n",
    "    console.log(buffer.toString('base64'));\n",
    "}"
   ]
  },
  {
   "cell_type": "code",
   "execution_count": null,
   "metadata": {},
   "outputs": [],
   "source": []
  }
 ],
 "metadata": {
  "kernelspec": {
   "display_name": "Javascript (Node.js)",
   "language": "javascript",
   "name": "javascript"
  },
  "language_info": {
   "file_extension": ".js",
   "mimetype": "application/javascript",
   "name": "javascript",
   "version": "10.16.0"
  }
 },
 "nbformat": 4,
 "nbformat_minor": 4
}
