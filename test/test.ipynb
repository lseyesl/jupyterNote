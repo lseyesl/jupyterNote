{
 "cells": [
  {
   "cell_type": "code",
   "execution_count": null,
   "metadata": {},
   "outputs": [],
   "source": [
    "{\n",
    "    var emotify = require(process.argv[2]);\n",
    "    console.log(emotify(process.argv[3]));\n",
    "}"
   ]
  },
  {
   "cell_type": "code",
   "execution_count": null,
   "metadata": {},
   "outputs": [],
   "source": [
    "{\n",
    "    var assert = require('assert');\n",
    "    var fn = require(process.argv[2]);\n",
    "    assert.equal(fn(42),true,'fn(42) is true');\n",
    "    \n",
    "}"
   ]
  },
  {
   "cell_type": "code",
   "execution_count": null,
   "metadata": {},
   "outputs": [],
   "source": [
    "{\n",
    "    //npm i tape\n",
    "    var tape = require('tape');\n",
    "    var fancify = require(process.argv[2]);\n",
    "    \n",
    "    tape('fancify str test',function(t){\n",
    "        t.equal(fancify('Hello'),'~*~Hello~*~','~*~Hello~*~');\n",
    "        t.equal(fancify('Hello',true),'~*~HELLO~*~','~*~HELLO~*~');\n",
    "        t.equal(fancify('Hello',false,'!'),'~!~Hello~!~','~!~Hello~!~');\n",
    "        t.end();\n",
    "    })\n",
    "}"
   ]
  },
  {
   "cell_type": "code",
   "execution_count": null,
   "metadata": {},
   "outputs": [],
   "source": [
    "{\n",
    "    var test = require('tape');\n",
    "    var fn = require(process.argv[2]);\n",
    "    test('nextTick',function(t){\n",
    "        t.plan(4);\n",
    "        fn(4,function(){\n",
    "            t.ok('done');\n",
    "        })\n",
    "    })\n",
    "}"
   ]
  },
  {
   "cell_type": "code",
   "execution_count": null,
   "metadata": {},
   "outputs": [],
   "source": [
    "{\n",
    "    var test = require('tape');\n",
    "    var fn = require(process.argv[2]);\n",
    "    test('yum',function(t){\n",
    "        t.plan(2);\n",
    "        t.equal(fn('food'),'yum');\n",
    "        t.throws(fn.bind(null,'chocolate'));\n",
    "    })\n",
    "}"
   ]
  }
 ],
 "metadata": {
  "kernelspec": {
   "display_name": "Javascript (Node.js)",
   "language": "javascript",
   "name": "javascript"
  },
  "language_info": {
   "file_extension": ".js",
   "mimetype": "application/javascript",
   "name": "javascript",
   "version": "12.13.0"
  }
 },
 "nbformat": 4,
 "nbformat_minor": 4
}
