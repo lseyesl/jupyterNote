{
 "cells": [
  {
   "cell_type": "code",
   "execution_count": 6,
   "metadata": {},
   "outputs": [
    {
     "name": "stdout",
     "output_type": "stream",
     "text": [
      "<Buffer 62 79 74 65 77 69 73 65 72>\n"
     ]
    }
   ],
   "source": [
    "{\n",
    "    const buf = Buffer.from('bytewiser','utf8');\n",
    "    console.log(buf);\n",
    "}"
   ]
  },
  {
   "cell_type": "code",
   "execution_count": 7,
   "metadata": {},
   "outputs": [
    {
     "name": "stdout",
     "output_type": "stream",
     "text": [
      "Af8=\n"
     ]
    }
   ],
   "source": [
    "{\n",
    "    const arr = ['14','80','243'];\n",
    "    const buffer = new Buffer(arr);\n",
    "    console.log(buffer.toString('base64'));\n",
    "}"
   ]
  },
  {
   "cell_type": "code",
   "execution_count": 1,
   "metadata": {},
   "outputs": [
    {
     "name": "stdout",
     "output_type": "stream",
     "text": [
      "0a141e\n"
     ]
    }
   ],
   "source": [
    "{\n",
    "    //let arr = process.argv.slice(2);\n",
    "    let arr = [10,20,30];\n",
    "    const buf = Buffer.from(arr);\n",
    "    console.log(buf.toString('hex'));\n",
    "}"
   ]
  },
  {
   "cell_type": "code",
   "execution_count": null,
   "metadata": {},
   "outputs": [],
   "source": [
    "{\n",
    "    var DOT = '.'.charCodeAt(0),BANG='!'.charCodeAt(0);\n",
    "    process.stdin.on('data',function(buff){\n",
    "        for(var i =0;i<buff.length;i++){\n",
    "            if(buff[i]===DOT) buff[i] = BANG;\n",
    "        }\n",
    "        console.log(buff);\n",
    "    })\n",
    "}"
   ]
  },
  {
   "cell_type": "code",
   "execution_count": null,
   "metadata": {},
   "outputs": [],
   "source": [
    "{\n",
    "    var fs = require('fs');\n",
    "    let _end = '\\n'.charCodeAt(0);\n",
    "    let start=0;\n",
    "    let buf = fs.readFileSync(process.argv[2]);\n",
    "    for(let i =0;i<buf.length;i++){\n",
    "            if(buf[i]===_end){\n",
    "                    console.log(buf.slice(start,i));\n",
    "                    start = i+1;\n",
    "            }\n",
    "    }\n",
    "    console.log(buf.slice(start));\n",
    "}"
   ]
  },
  {
   "cell_type": "code",
   "execution_count": null,
   "metadata": {},
   "outputs": [],
   "source": [
    "{\n",
    "     var buffers = [];\n",
    "\n",
    "    process.stdin.on('readable', function() {\n",
    "      var chunk = process.stdin.read();\n",
    "      if (chunk !== null) {\n",
    "        buffers.push(chunk);\n",
    "      }\n",
    "    });\n",
    "\n",
    "    process.stdin.on('end', function() {\n",
    "      console.log(Buffer.concat(buffers));\n",
    "    });\n",
    "}"
   ]
  },
  {
   "cell_type": "code",
   "execution_count": null,
   "metadata": {},
   "outputs": [],
   "source": [
    "{\n",
    "    process.stdin.on('data',function(buf){\n",
    "        let u8arr = new Uint8Array(buf);\n",
    "        console.log(JSON.stringify(Object.assign({},u8arr)));\n",
    "    })\n",
    "}"
   ]
  },
  {
   "cell_type": "code",
   "execution_count": null,
   "metadata": {},
   "outputs": [],
   "source": [
    "{\n",
    "    var u32arr = new Uint32Array(1);\n",
    "    u32arr[0]= process.argv[2];\n",
    "    //var u32arr = new Uint32Array([process.argv[2]]);\n",
    "    console.log(JSON.stringify(new Uint16Array(u23arr.buffer)));\n",
    "}"
   ]
  }
 ],
 "metadata": {
  "kernelspec": {
   "display_name": "Javascript (Node.js)",
   "language": "javascript",
   "name": "javascript"
  },
  "language_info": {
   "file_extension": ".js",
   "mimetype": "application/javascript",
   "name": "javascript",
   "version": "12.13.0"
  }
 },
 "nbformat": 4,
 "nbformat_minor": 4
}
