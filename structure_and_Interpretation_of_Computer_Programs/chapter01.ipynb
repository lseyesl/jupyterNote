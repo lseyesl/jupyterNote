{
 "cells": [
  {
   "cell_type": "markdown",
   "metadata": {},
   "source": [
    "# 构造过程抽象\n",
    "\n",
    "1. 将若干简单认知组合为一个复合认知，由此产生出各种复杂的认知\n",
    "1. 将两个认识放在一起对照，不管它们如何简单或者复杂，在这样做时并不将它们合二为一。由此得到关于它们的相互关系的认知。\n",
    "1. 将有关认知与那些在实际中和它们同在的所有其他认知隔离开，这就是抽象，所有具有普遍行的认知都是这样得到的。"
   ]
  },
  {
   "cell_type": "markdown",
   "metadata": {},
   "source": [
    "每种强有力的语言都为能够将简单的认识组合起来形成更复杂认知提供了三种机制：\n",
    "1. 基本表达式  用于表示语言所关心的最简单的个体\n",
    "1. 组合的方法  可以从较简单的东西出发 构造出复合的元素\n",
    "1. 抽象的方法  可以为复合对象命名，并将其当作单元去操作"
   ]
  },
  {
   "cell_type": "markdown",
   "metadata": {},
   "source": [
    "\"值向上穿行\"形式的求值形式是一类更一般的计算过程，叫做树形积累\n",
    "\n",
    "无论对于理解解释器的工作，还是实现解释器，环境的概念都是至关重要的。"
   ]
  },
  {
   "cell_type": "code",
   "execution_count": 2,
   "metadata": {},
   "outputs": [
    {
     "data": {
      "text/plain": [
       "16"
      ]
     },
     "execution_count": 2,
     "metadata": {},
     "output_type": "execute_result"
    }
   ],
   "source": [
    " (define (square x) (* x x))\n",
    " (square 4)"
   ]
  },
  {
   "cell_type": "markdown",
   "metadata": {},
   "source": [
    "正则序求值 -> 完全展开而后规约\n",
    "应用序求值 -> 先求值参数而后应用"
   ]
  },
  {
   "cell_type": "code",
   "execution_count": 14,
   "metadata": {},
   "outputs": [
    {
     "data": {
      "text/plain": [
       "1"
      ]
     },
     "execution_count": 14,
     "metadata": {},
     "output_type": "execute_result"
    }
   ],
   "source": [
    "(define (abs x)\n",
    "  (cond ((> x 0) x)\n",
    "        ((= x 0) 0)\n",
    "        ((< x 0) (- x))))\n",
    "\n",
    "(abs -1)"
   ]
  },
  {
   "cell_type": "code",
   "execution_count": 16,
   "metadata": {},
   "outputs": [
    {
     "data": {
      "text/plain": [
       "1"
      ]
     },
     "execution_count": 16,
     "metadata": {},
     "output_type": "execute_result"
    }
   ],
   "source": [
    "(define (abs2 x)\n",
    "  (if (< x 0)\n",
    "      (- x)\n",
    "      x))\n",
    "\n",
    "(abs2 -1)"
   ]
  },
  {
   "cell_type": "code",
   "execution_count": 12,
   "metadata": {},
   "outputs": [
    {
     "data": {
      "text/plain": [
       "#t"
      ]
     },
     "execution_count": 12,
     "metadata": {},
     "output_type": "execute_result"
    }
   ],
   "source": [
    "(define (>= x y)\n",
    "  (or (> x y) (= x y)))\n",
    "(>= 3 2)"
   ]
  },
  {
   "cell_type": "markdown",
   "metadata": {},
   "source": [
    "## 练习1 start"
   ]
  },
  {
   "cell_type": "code",
   "execution_count": 28,
   "metadata": {},
   "outputs": [
    {
     "data": {
      "text/plain": [
       "16"
      ]
     },
     "execution_count": 28,
     "metadata": {},
     "output_type": "execute_result"
    }
   ],
   "source": [
    "10\n",
    "(+ 5 3 4)\n",
    "(- 9 1)\n",
    "(/ 6 2)\n",
    "(+ (* 2 4) (- 4 6))\n",
    "(define a 3)\n",
    "(define b (+ a 1))\n",
    "(+ a b (* a b))\n",
    "(= a b)\n",
    "(if (and (> b a) (< b (* a b)))\n",
    "    b\n",
    "    a)\n",
    "(cond ((=  a 4) 6)\n",
    "      ((=  b 4) (+ 6 7 a))\n",
    "      (else 25))\n",
    "(+ 2 (if (> b a) b a))\n",
    "(* (cond ((> a b) a)\n",
    "         ((< a b) b)\n",
    "         (else -1))\n",
    "   (+ a 1))"
   ]
  },
  {
   "cell_type": "code",
   "execution_count": 29,
   "metadata": {},
   "outputs": [
    {
     "data": {
      "text/plain": [
       "-37/150"
      ]
     },
     "execution_count": 29,
     "metadata": {},
     "output_type": "execute_result"
    }
   ],
   "source": [
    "(/ (+ 5 4 (- 2 (- 3 (+ 6 (/ 4 5))))) (* 3 (- 6 2) (- 2 7)))"
   ]
  },
  {
   "cell_type": "code",
   "execution_count": 32,
   "metadata": {},
   "outputs": [
    {
     "data": {
      "text/plain": [
       "5"
      ]
     },
     "execution_count": 32,
     "metadata": {},
     "output_type": "execute_result"
    }
   ],
   "source": [
    "(define (MaxT a b c ) (\n",
    "                       cond ((and (> a b) (> b c)) (+ a b))\n",
    "                             ((and (> a b) (> c b)) (+ a c))\n",
    "                              (else (+ b c))))\n",
    "(MaxT 1 2 3)"
   ]
  },
  {
   "cell_type": "code",
   "execution_count": 34,
   "metadata": {},
   "outputs": [
    {
     "data": {
      "text/plain": [
       "2"
      ]
     },
     "execution_count": 34,
     "metadata": {},
     "output_type": "execute_result"
    }
   ],
   "source": [
    "(define (a-plus-abs-b a b)\n",
    "  ((if (> b 0) + -) a b))\n",
    "(a-plus-abs-b 1 -1)"
   ]
  },
  {
   "cell_type": "code",
   "execution_count": null,
   "metadata": {},
   "outputs": [],
   "source": [
    "(define (p) (p))\n",
    "(define (test x y)\n",
    "  (if (= x 0)\n",
    "      0\n",
    "      y))\n",
    "(test 0 (p))"
   ]
  },
  {
   "cell_type": "markdown",
   "metadata": {},
   "source": [
    "在数学里，人们通常关系的是说明性的描述(是什么)，计算机科学里，则关心行动性的描述(怎么做)"
   ]
  },
  {
   "cell_type": "code",
   "execution_count": 6,
   "metadata": {},
   "outputs": [
    {
     "data": {
      "text/plain": [
       "1.4142156862745097"
      ]
     },
     "execution_count": 6,
     "metadata": {},
     "output_type": "execute_result"
    }
   ],
   "source": [
    "(define (sqrt-iter guess x)\n",
    "  (if (good-enough? guess x)\n",
    "      guess\n",
    "      (sqrt-iter (improve guess x)\n",
    "                 x)))\n",
    "\n",
    "(define (improve guess x)\n",
    "  (average guess (/ x guess)))\n",
    "\n",
    "(define (average x y)\n",
    "  (/ (+ x y) 2))\n",
    "\n",
    "(define (good-enough? guess x)\n",
    "  (< (abs (- (square guess) x)) 0.001))\n",
    "\n",
    "(define (square x)\n",
    "  (* x x))\n",
    "\n",
    "(define (sqrt x)\n",
    "  (sqrt-iter 1.0 x))\n",
    "\n",
    "(sqrt 2)"
   ]
  },
  {
   "cell_type": "code",
   "execution_count": null,
   "metadata": {},
   "outputs": [],
   "source": [
    ";; new-if  嵌套过深 死循环\n",
    "(define (new-if predicate then-clause else-clause)\n",
    "  (cond (predicate then-clause)\n",
    "        (else else-clause)))\n",
    "\n",
    "(define (sqrt-iter guess x)\n",
    "  (new-if (good-enough? guess x)\n",
    "      guess\n",
    "      (sqrt-iter (improve guess x)\n",
    "                 x)))\n",
    "\n",
    "(define (improve guess x)\n",
    "  (average guess (/ x guess)))\n",
    "\n",
    "(define (average x y)\n",
    "  (/ (+ x y) 2))\n",
    "\n",
    "(define (good-enough? guess x)\n",
    "  (< (abs (- (square guess) x)) 0.001))\n",
    "\n",
    "(define (square x)\n",
    "  (* x x))\n",
    "\n",
    "(define (sqrt x)\n",
    "  (sqrt-iter 1.0 x))\n",
    "\n",
    "(sqrt 9)"
   ]
  },
  {
   "cell_type": "code",
   "execution_count": 5,
   "metadata": {},
   "outputs": [
    {
     "data": {
      "text/plain": [
       "1.414213562373095"
      ]
     },
     "execution_count": 5,
     "metadata": {},
     "output_type": "execute_result"
    }
   ],
   "source": [
    ";;更好的good-enough? 方法\n",
    "(define (sqrt-iter guess prevguess x)\n",
    "  (if (good-enough? guess prevguess)\n",
    "      guess\n",
    "      (sqrt-iter (improve guess x) guess\n",
    "                 x)))\n",
    "\n",
    "(define (improve guess x)\n",
    "  (average guess (/ x guess)))\n",
    "\n",
    "(define (average x y)\n",
    "  (/ (+ x y) 2))\n",
    "\n",
    "(define (good-enough? guess prevguess)\n",
    "  (< (/ (abs (- guess prevguess)) guess) 0.000001))\n",
    "\n",
    "(define (square x)\n",
    "  (* x x))\n",
    "\n",
    "(define (sqrt x)\n",
    "  (sqrt-iter 1.0 0.0 x))\n",
    "\n",
    "(sqrt 2)"
   ]
  },
  {
   "cell_type": "code",
   "execution_count": 7,
   "metadata": {},
   "outputs": [
    {
     "data": {
      "text/plain": [
       "3.0000000000000977"
      ]
     },
     "execution_count": 7,
     "metadata": {},
     "output_type": "execute_result"
    }
   ],
   "source": [
    ";; 立方根的牛顿法\n",
    "(define (sqrt-iter guess prevguess x)\n",
    "  (if (good-enough? guess prevguess)\n",
    "      guess\n",
    "      (sqrt-iter (improve guess x) guess\n",
    "                 x)))\n",
    "\n",
    "(define (improve guess x)\n",
    "  (/ (+ (/ x (square guess)) (* 2 guess)) 3))\n",
    "\n",
    "(define (average x y)\n",
    "  (/ (+ x y) 2))\n",
    "\n",
    "(define (good-enough? guess prevguess)\n",
    "  (< (/ (abs (- guess prevguess)) guess) 0.000001))\n",
    "\n",
    "(define (square x) \n",
    "  (* x x))\n",
    "\n",
    "(define (cube x)\n",
    "  (* x x x))\n",
    "\n",
    "(define (sqrt x)\n",
    "  (sqrt-iter 1.0 0.0 x))\n",
    "\n",
    "(sqrt 27)"
   ]
  },
  {
   "cell_type": "code",
   "execution_count": null,
   "metadata": {},
   "outputs": [],
   "source": [
    ";; 内部定义和块结构\n",
    "(define (sqrt x)\n",
    "  (define (good-enough? guess)\n",
    "    (< (abs (- (square guess) x)) 0.001))\n",
    "  (define (improve guess)\n",
    "    (average guess (/ x guess)))\n",
    "  (define (square x)\n",
    "    (* x x))\n",
    "  (define (sqrt-iter guess)\n",
    "    (if (good-enough? guess)\n",
    "        guess\n",
    "        (sqrt-iter (improve guess))))\n",
    "  (sqrt-iter 1.0)\n",
    "  )"
   ]
  },
  {
   "cell_type": "markdown",
   "metadata": {},
   "source": [
    " 练习1 end"
   ]
  },
  {
   "cell_type": "markdown",
   "metadata": {},
   "source": [
    "线性的递归和迭代"
   ]
  },
  {
   "cell_type": "code",
   "execution_count": null,
   "metadata": {},
   "outputs": [],
   "source": [
    ";;递归\n",
    "(define (factorial n)\n",
    "  (if (= n 1)\n",
    "      1\n",
    "      (* n (factorial (- n 1)))))\n",
    ";;迭代\n",
    "(define (factorial2 n)\n",
    "  (fact-iter 1 1 n))\n",
    "(define (fact-iter product counter max-count)\n",
    "  (if (> counter max-count)\n",
    "      product\n",
    "      (fact-iter (* counter product)\n",
    "                 (+ counter 1)\n",
    "                 max-count)))"
   ]
  },
  {
   "cell_type": "markdown",
   "metadata": {},
   "source": [
    "## 练习1 start"
   ]
  },
  {
   "cell_type": "code",
   "execution_count": null,
   "metadata": {},
   "outputs": [],
   "source": [
    "(define (+ a b)\n",
    "  (if (= a 0)\n",
    "      b\n",
    "      (inc (+ (dec a) b))))\n",
    "\n",
    ";; (inc (inc (inc ... (0 b))))"
   ]
  },
  {
   "cell_type": "code",
   "execution_count": null,
   "metadata": {},
   "outputs": [],
   "source": [
    "(define (+ a b)\n",
    "  (if (= a 0)\n",
    "      b\n",
    "      (+ (dec a) (inc b))))\n",
    "\n",
    ";;(+ a-- b++)-> (+ a-- b++) -> ... -> (+ 0 a+b)"
   ]
  },
  {
   "cell_type": "code",
   "execution_count": 15,
   "metadata": {},
   "outputs": [
    {
     "data": {
      "text/plain": [
       "65536"
      ]
     },
     "execution_count": 15,
     "metadata": {},
     "output_type": "execute_result"
    }
   ],
   "source": [
    "(define (A x y)\n",
    "  (cond ((= y 0) 0)\n",
    "        ((= x 0) (* 2 y))\n",
    "        ((= y 1) 2)\n",
    "        (else (A (- x 1)\n",
    "                 (A x (- y 1))))))\n",
    "\n",
    ";;(A * 0) => 0\n",
    ";;(A * 1) => 2 \n",
    ";;(A * 2) => (A *-1 (A * 1)) => (A *-1 2) => (A *-2 2) => 2y\n",
    ";;(A * 3) => (A *-1 (A * 2)) => (A *-2 (A *-1 (A *-1 1)))\n",
    ";;=> y!\n",
    ";;(A 0 *) => 2y \n",
    ";;\n",
    ";;(A 1 10) -> (A 0 (A 1 9)) -> ( A 0 (A 0 (A 1 8))) -> ([A 0]^10 (2)) -> 2^10\n",
    "(A 1 10)\n",
    ";;(A 2 4) -> (A 1 (A 2 3)) -> (A 0 (A 1 (A 2 3)))\n",
    "(A 2 4)\n",
    ";;(A 3 3)\n",
    "(A 3 3)"
   ]
  },
  {
   "cell_type": "code",
   "execution_count": null,
   "metadata": {},
   "outputs": [],
   "source": [
    "(define (fib n)\n",
    "  (cond ((= n 0) 0)\n",
    "        ((= n 1) 1)\n",
    "        (else (+ (fib (- n 1))\n",
    "                 (fib( - n 2))))))"
   ]
  },
  {
   "cell_type": "code",
   "execution_count": null,
   "metadata": {},
   "outputs": [],
   "source": [
    "(define (fib n)\n",
    "  (fib-iter 1 0 n))\n",
    "\n",
    "(define (fib-iter a b count)\n",
    "  (if (= count 0)\n",
    "      b\n",
    "      (fib-iter (+ a b) a (- count 1))))"
   ]
  },
  {
   "cell_type": "code",
   "execution_count": 17,
   "metadata": {},
   "outputs": [
    {
     "data": {
      "text/plain": [
       "292"
      ]
     },
     "execution_count": 17,
     "metadata": {},
     "output_type": "execute_result"
    }
   ],
   "source": [
    "(define (count-change amount)\n",
    "  (cc amount 5))\n",
    "\n",
    "(define (cc amount kinds-of-coins)\n",
    "  (cond ((= amount 0) 1)\n",
    "        ((or (< amount 0) (= kinds-of-coins 0)) 0)\n",
    "        (else (+ (cc amount (- kinds-of-coins 1))\n",
    "                 (cc (- amount (first-denomination kinds-of-coins))\n",
    "                     kinds-of-coins)))))\n",
    "\n",
    "(define (first-denomination kinds-of-coins)\n",
    "  (cond ((= kinds-of-coins 1) 1)\n",
    "        ((= kinds-of-coins 2) 5)\n",
    "        ((= kinds-of-coins 3) 10)\n",
    "        ((= kinds-of-coins 4) 25)\n",
    "        ((= kinds-of-coins 5) 50)))\n",
    "\n",
    "(count-change 100)"
   ]
  },
  {
   "cell_type": "code",
   "execution_count": 20,
   "metadata": {},
   "outputs": [
    {
     "data": {
      "text/plain": [
       "6"
      ]
     },
     "execution_count": 20,
     "metadata": {},
     "output_type": "execute_result"
    }
   ],
   "source": [
    "(define (f n)\n",
    "  (if (< n 3)\n",
    "      n\n",
    "      (+ (f (- n 1)) (f (- n 2)) (f (- n 3)))))\n",
    "(f 4)"
   ]
  },
  {
   "cell_type": "markdown",
   "metadata": {},
   "source": [
    "对付冗余计算的一种途径是通过重新安排，使计算过程能自动构造出一个已经计算出的表格。"
   ]
  },
  {
   "cell_type": "code",
   "execution_count": 28,
   "metadata": {},
   "outputs": [
    {
     "data": {
      "text/plain": [
       "3"
      ]
     },
     "execution_count": 28,
     "metadata": {},
     "output_type": "execute_result"
    }
   ],
   "source": [
    "(define (hax row col)\n",
    "  (cond ((or (= col 1) (= col row)) 1)\n",
    "       (else (+ (hax (- row 1) (quotient col 2)) (hax (- row 1) (+ (quotient col 2) 1)) ))))\n",
    "\n",
    "(hax 4 2)"
   ]
  },
  {
   "cell_type": "code",
   "execution_count": 26,
   "metadata": {},
   "outputs": [
    {
     "data": {
      "text/plain": [
       "1"
      ]
     },
     "execution_count": 26,
     "metadata": {},
     "output_type": "execute_result"
    }
   ],
   "source": [
    "(quotient 2 2)"
   ]
  },
  {
   "cell_type": "code",
   "execution_count": null,
   "metadata": {},
   "outputs": [],
   "source": [
    ";; sinx = 3* sin(x/3) - 4*sin^3(x/3)\n",
    "(define (cube x) (* x x x))\n",
    "\n",
    "(define (p x) (- (*3 x) (* 4 (cube x))))\n",
    "\n",
    "(define (sine angle)\n",
    "  (if (not (> (abs angle) 0.1))\n",
    "      angle\n",
    "      (p (sine (/ angle 3.0)))))"
   ]
  },
  {
   "cell_type": "code",
   "execution_count": null,
   "metadata": {},
   "outputs": [],
   "source": [
    ";;求幂\n",
    "(define (expt b n)\n",
    "  (if (= n 0)\n",
    "      1\n",
    "      (* b (expt b (-n 1)))))"
   ]
  },
  {
   "cell_type": "code",
   "execution_count": null,
   "metadata": {},
   "outputs": [],
   "source": [
    ";;求幂\n",
    "(define (expt b n)\n",
    "  (expt-iter b n 1))\n",
    "\n",
    "(define (expt-iter b counter product)\n",
    "  (if (= counter 0)\n",
    "      product\n",
    "      (expt-iter b\n",
    "                 (- counter 1)\n",
    "                 (* b product))))"
   ]
  },
  {
   "cell_type": "code",
   "execution_count": 34,
   "metadata": {},
   "outputs": [],
   "source": [
    ";;求幂\n",
    "(define (fast-expt b n)\n",
    "  (cond ((= n 0) 1)\n",
    "        ((even? n) (square (fast-expt b (/ n 2))))\n",
    "        (else (* b (fast-expt b (- n 1))))))\n",
    "\n",
    "(define (even? n)\n",
    "  (= (remainder n 2) 0))"
   ]
  },
  {
   "cell_type": "code",
   "execution_count": 36,
   "metadata": {},
   "outputs": [
    {
     "data": {
      "text/plain": [
       "16"
      ]
     },
     "execution_count": 36,
     "metadata": {},
     "output_type": "execute_result"
    }
   ],
   "source": [
    ";;求幂\n",
    "(define (fast-expt b n)\n",
    "  (expt-iter b n 1))\n",
    "\n",
    "(define (expt-iter b n a)\n",
    "  (cond ((= n 1) b)\n",
    "        ((< n 2) (* b a))\n",
    "        (else (expt-iter (* b b) (/ n 2) b))))\n",
    "\n",
    "(fast-expt 2 4)"
   ]
  },
  {
   "cell_type": "code",
   "execution_count": 38,
   "metadata": {},
   "outputs": [
    {
     "data": {
      "text/plain": [
       "8"
      ]
     },
     "execution_count": 38,
     "metadata": {},
     "output_type": "execute_result"
    }
   ],
   "source": [
    ";;求幂\n",
    "(define (fast-expt b n)\n",
    "  (expt-iter b n 1))\n",
    "(define (expt-iter b n a)\n",
    "  (if (= n 0)\n",
    "      a\n",
    "      (if (even? n)\n",
    "          (expt-iter (* n n) (/ n 2) a)\n",
    "          (expt-iter b (- n 1) (* a b)))))\n",
    "(define (even? n)\n",
    "  (= (remainder n 2) 0))\n",
    "  \n",
    "(fast-expt 2 3)"
   ]
  },
  {
   "cell_type": "code",
   "execution_count": 31,
   "metadata": {},
   "outputs": [
    {
     "data": {
      "text/plain": [
       "2"
      ]
     },
     "execution_count": 31,
     "metadata": {},
     "output_type": "execute_result"
    }
   ],
   "source": [
    "(remainder 4 2) ;;求余\n",
    "(quotient 4 2) ;;q求商"
   ]
  },
  {
   "cell_type": "markdown",
   "metadata": {},
   "source": [
    "欧几里得算法\n",
    "```\n",
    " a,b;\n",
    " r = module(a/b);\n",
    " GCD(a,b) = GCD(b,r)\n",
    "```"
   ]
  },
  {
   "cell_type": "code",
   "execution_count": null,
   "metadata": {},
   "outputs": [],
   "source": [
    "(define (gcd a b)\n",
    "  (if (= a b)\n",
    "      a\n",
    "      (gcd b (remainder a b))))"
   ]
  },
  {
   "cell_type": "code",
   "execution_count": 2,
   "metadata": {},
   "outputs": [
    {
     "data": {
      "text/plain": [
       "#t"
      ]
     },
     "execution_count": 2,
     "metadata": {},
     "output_type": "execute_result"
    }
   ],
   "source": [
    "(define (smallest-divisor n)\n",
    "  (find-divisor n 2))\n",
    "\n",
    "(define (find-divisor n test-divisor)\n",
    "  (cond ((> (square test-divisor) n) n)\n",
    "        ((divides? test-divisor n) test-divisor)\n",
    "        (else (find-divisor n (+ test-divisor 1)))))\n",
    "\n",
    "(define (divides? a b)\n",
    "  (= (remainder b a) 0))\n",
    "\n",
    "(define (prime? n)\n",
    "  (= n (smallest-divisor n)))\n",
    "\n",
    "(define (square x)\n",
    "  (* x x))\n",
    "\n",
    "(prime? 3)"
   ]
  },
  {
   "cell_type": "code",
   "execution_count": null,
   "metadata": {},
   "outputs": [],
   "source": [
    "(define (expmod base exp m)\n",
    "  (cond ((= exp 0) 1)\n",
    "        ((even? exp)\n",
    "         (remainder (square (expmod base (/ exp 2) m))\n",
    "                    m))\n",
    "        (else (reainder (* base (expmod base (- exp 1) m))\n",
    "                        m))))"
   ]
  },
  {
   "cell_type": "code",
   "execution_count": null,
   "metadata": {},
   "outputs": [],
   "source": [
    "(define (fermat-test n)\n",
    "  (define (try-it a)\n",
    "    (= (expmod a n n) a))\n",
    "  (try-it (+ 1 (random (- n 1)))))"
   ]
  },
  {
   "cell_type": "code",
   "execution_count": null,
   "metadata": {},
   "outputs": [],
   "source": [
    "(define (fast-prime? n times)\n",
    "  (cond ((= times 0) true)\n",
    "        ((fermat-test n) (fast-prime? n (- times 1)))\n",
    "        (else false)))"
   ]
  },
  {
   "cell_type": "code",
   "execution_count": 4,
   "metadata": {},
   "outputs": [
    {
     "name": "stdout",
     "output_type": "stream",
     "text": [
      "***"
     ]
    },
    {
     "name": "stderr",
     "output_type": "stream",
     "text": [
      "\u001b[0;31m\n",
      "Traceback (most recent call last):\n",
      "  File \"In [4]\", line 2, col 3, in 'application'\n",
      "  File \"In [4]\", line 2, col 3\n",
      "RunTimeError: attempt to apply non-procedure '<void>'\n",
      "\n",
      "\u001b[0m"
     ]
    }
   ],
   "source": [
    "(define disp \n",
    "  (display \"***\"))"
   ]
  },
  {
   "cell_type": "code",
   "execution_count": 9,
   "metadata": {},
   "outputs": [
    {
     "name": "stdout",
     "output_type": "stream",
     "text": [
      "1570611205.3063495"
     ]
    }
   ],
   "source": [
    "(display (current-time))"
   ]
  },
  {
   "cell_type": "code",
   "execution_count": 10,
   "metadata": {},
   "outputs": [
    {
     "name": "stdout",
     "output_type": "stream",
     "text": [
      "\n",
      "1000"
     ]
    },
    {
     "data": {
      "text/plain": [
       "#f"
      ]
     },
     "execution_count": 10,
     "metadata": {},
     "output_type": "execute_result"
    }
   ],
   "source": [
    "(define (timed-prime-test n)\n",
    "  (newline)\n",
    "  (display n)\n",
    "  (start-prime-test n (current-time)))\n",
    "\n",
    "(define (start-prime-test n start-time)\n",
    "  (define (smallest-divisor n)\n",
    "      (find-divisor n 2))\n",
    "\n",
    "    (define (find-divisor n test-divisor)\n",
    "      (cond ((> (square test-divisor) n) n)\n",
    "            ((divides? test-divisor n) test-divisor)\n",
    "            (else (find-divisor n (+ test-divisor 1)))))\n",
    "\n",
    "    (define (divides? a b)\n",
    "      (= (remainder b a) 0))\n",
    "\n",
    "    (define (prime? n)\n",
    "      (= n (smallest-divisor n)))\n",
    "\n",
    "    (define (square x)\n",
    "      (* x x))\n",
    "  (if (prime? n)\n",
    "      (report-prime (- (current-time) start-time))))\n",
    "\n",
    "(define (report-prime elapsed-time)\n",
    "  (display \" *** \")\n",
    "  (display elapsed-time))\n",
    "\n",
    "(timed-prime-test 1000)"
   ]
  },
  {
   "cell_type": "markdown",
   "metadata": {},
   "source": [
    "用高阶函数做抽象"
   ]
  },
  {
   "cell_type": "code",
   "execution_count": null,
   "metadata": {},
   "outputs": [],
   "source": [
    "(define (sum-integers a b)\n",
    "  (if (> a b)\n",
    "      0\n",
    "      (+ a (sum-integers (+ a 1) b))))"
   ]
  },
  {
   "cell_type": "code",
   "execution_count": null,
   "metadata": {},
   "outputs": [],
   "source": [
    "(define (cube a)\n",
    "  (* a a a))\n",
    "(define (sum-cubes a b)\n",
    "  (if (> a b)\n",
    "      0\n",
    "      (+ (cube a) (sum-cubes (+ a 1) b))))"
   ]
  },
  {
   "cell_type": "code",
   "execution_count": null,
   "metadata": {},
   "outputs": [],
   "source": [
    "(define (pi-sum a b)\n",
    "  (if (> a b)\n",
    "      0\n",
    "      (+ (/ 1.0 (* a (+ a 2))) (pi-sum (+ a 4) b))))"
   ]
  },
  {
   "cell_type": "code",
   "execution_count": 18,
   "metadata": {},
   "outputs": [
    {
     "name": "stdout",
     "output_type": "stream",
     "text": [
      "3025\n",
      "55\n",
      "3.141392653591793\n",
      "0.24998750000000042end"
     ]
    }
   ],
   "source": [
    ";;抽象版  提取公共部分\n",
    "(define (sum term a next b)\n",
    "  (if (> a b)\n",
    "      0\n",
    "      (+ (term a)\n",
    "         (sum term (next a) next b))))\n",
    "(define (inc n) (+ n 1))\n",
    "(define (cube n) (* n n n))\n",
    "(define (sum-cubes a b) (sum cube a inc b))\n",
    "\n",
    "(display (sum-cubes 1 10))\n",
    "(newline)\n",
    "\n",
    "(define (identity x) x)\n",
    "(define (sum-integers a b)\n",
    "  (sum identity a inc b))\n",
    "\n",
    "(display (sum-integers 1 10))\n",
    "(newline)\n",
    "\n",
    "(define (pi-sum a b)\n",
    "  (define (pi-term x)\n",
    "    (/ 1.0 (* x (+ x 2))))\n",
    "  (define (pi-next x)\n",
    "    (+ x 4))\n",
    "  (sum pi-term a pi-next b)\n",
    "  )\n",
    "\n",
    "(display (* 8 (pi-sum 1 10000)))\n",
    "(newline)\n",
    "\n",
    "\n",
    "(define (integral f a b dx)\n",
    "  (define (add-dx x) (+ x dx))\n",
    "  (* (sum f (+ a (/ dx 2.0)) add-dx b) dx))\n",
    "\n",
    "(display (integral cube 0 1 0.01))\n",
    "(newline)\n",
    "(display \"end\")"
   ]
  },
  {
   "cell_type": "markdown",
   "metadata": {},
   "source": [
    "`lambda` 表达式\n",
    "\n",
    "```scheme\n",
    "    (define (plus4 x) (+ x 4)\n",
    "    \n",
    "    (define plus4 (lambda (x) (+ x 4)))\n",
    "```"
   ]
  },
  {
   "cell_type": "code",
   "execution_count": 19,
   "metadata": {},
   "outputs": [
    {
     "data": {
      "text/plain": [
       "12"
      ]
     },
     "execution_count": 19,
     "metadata": {},
     "output_type": "execute_result"
    }
   ],
   "source": [
    "(define (square x) (* x x))\n",
    "((lambda ( x y z) (+ x y (square z))) 1 2 3)"
   ]
  },
  {
   "cell_type": "markdown",
   "metadata": {},
   "source": [
    "`let`创建局部变量\n",
    "\n",
    "```scheme\n",
    "    (let (\n",
    "          (<var><exp>)\n",
    "          (<var><exp>)\n",
    "          )\n",
    "          <body>)\n",
    "```"
   ]
  },
  {
   "cell_type": "code",
   "execution_count": 20,
   "metadata": {},
   "outputs": [
    {
     "name": "stderr",
     "output_type": "stream",
     "text": [
      "\u001b[0;31m\n",
      "Traceback (most recent call last):\n",
      "  File \"In [20]\", line 3, col 1, in 'f'\n",
      "  File \"In [20]\", line 1, col 14, in 'g'\n",
      "  File \"In [20]\", line 1, col 14, in 'g'\n",
      "  File \"In [20]\", line 1, col 14\n",
      "RunTimeError: attempt to apply non-procedure '2'\n",
      "\n",
      "\u001b[0m"
     ]
    }
   ],
   "source": [
    "(define (f g)(g 2))\n",
    "\n",
    "(f f)"
   ]
  },
  {
   "cell_type": "code",
   "execution_count": 21,
   "metadata": {},
   "outputs": [
    {
     "name": "stderr",
     "output_type": "stream",
     "text": [
      "\u001b[0;31m\n",
      "Traceback (most recent call last):\n",
      "  File \"In [21]\", line 26, col 23\n",
      "RunTimeError: unbound variable 'sin'\n",
      "\n",
      "\u001b[0m"
     ]
    }
   ],
   "source": [
    ";; 折半查找方程的根\n",
    "(define (search f neg-point pos-point)\n",
    "  (let ((midpoint (average neg-point pos-point)))\n",
    "    (if (close-enough? neg-point pos-point)\n",
    "        midpoint\n",
    "        (let ((test-value (f midpoint)))\n",
    "          (cond ((positive? test-value)\n",
    "                 (search f neg-point midpoint))\n",
    "                ((negative? test-value)\n",
    "                 (search f midpoint pos-point))\n",
    "                (else midpoint))))))\n",
    "\n",
    "(define (close-enough? x y)\n",
    "  (< (abs (- x y)) 0.001))\n",
    "\n",
    "(define (half-interval-method f a b)\n",
    "  (let ((a-value (f a))\n",
    "        (b-value (f b)))\n",
    "    (cond ((and (negative? a-value) (positive? b-value))\n",
    "           (search f a b))\n",
    "          ((and (negative? b-value) (positive? a-value))\n",
    "           (search f b a))\n",
    "          (else\n",
    "           (error \"values are not of opposite sign\" a b)))))\n",
    "\n",
    "(half-interval-method sin 2.0 4.0)"
   ]
  },
  {
   "cell_type": "code",
   "execution_count": null,
   "metadata": {},
   "outputs": [],
   "source": [
    "(define tolerance 0.0001)\n",
    "(define (fixed-point f first-guess)\n",
    "  (define (close-enough? v1 v2)\n",
    "    (< (abs (- v1 v2)) tolerance))\n",
    "  (define (try guess)\n",
    "    (let ((next (f guess)))\n",
    "      (if (close-enough? guess next)\n",
    "          next\n",
    "          (try next))))\n",
    "  (try first-guess))\n",
    "\n",
    "(fixed-point cos 1.0)\n"
   ]
  },
  {
   "cell_type": "code",
   "execution_count": null,
   "metadata": {},
   "outputs": [],
   "source": [
    "(define (average-damp f)\n",
    "  (lambda (x) (average x (f x))))"
   ]
  }
 ],
 "metadata": {
  "kernelspec": {
   "display_name": "Calysto Scheme 3",
   "language": "scheme",
   "name": "calysto_scheme"
  },
  "language_info": {
   "codemirror_mode": {
    "name": "scheme"
   },
   "mimetype": "text/x-scheme",
   "name": "scheme",
   "pygments_lexer": "scheme"
  }
 },
 "nbformat": 4,
 "nbformat_minor": 4
}
