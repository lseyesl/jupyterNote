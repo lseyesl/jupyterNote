{
 "cells": [
  {
   "cell_type": "markdown",
   "metadata": {},
   "source": [
    "# 构造数据抽象\n",
    "\n",
    "将数据对象组合起来，形成`复合数据`\n",
    "提升设计程序时所位于的概念层次，提高设计的模块化，增强语言的表达能力"
   ]
  },
  {
   "cell_type": "code",
   "execution_count": null,
   "metadata": {},
   "outputs": [],
   "source": [
    "(define (linear-combination a b x y)\n",
    "  (+ (* a x) (* b y)))\n"
   ]
  },
  {
   "cell_type": "code",
   "execution_count": null,
   "metadata": {},
   "outputs": [],
   "source": [
    "(define (linear-combination a b x y)\n",
    "  (add (mul a x) (mul b y)))"
   ]
  },
  {
   "cell_type": "code",
   "execution_count": 3,
   "metadata": {},
   "outputs": [
    {
     "name": "stdout",
     "output_type": "stream",
     "text": [
      "\n",
      "1/2\n",
      "5/6\n",
      "1/6\n",
      "6/9"
     ]
    }
   ],
   "source": [
    "(define (add-rat x y)\n",
    "  (make-rat (+ (* (numer x) (denom y))\n",
    "               (* (numer y) (denom x)))\n",
    "            (* (denom x) (denom y))))\n",
    "(define (sub-rat x y)\n",
    "  (make-rat (- (* (numer x) (denom y))\n",
    "               (* (numer y) (denom x)))\n",
    "            (* (denom x) (denom y))))\n",
    "(define (mul-rat x y)\n",
    "  (make-rat (* (numer x) (numer y))\n",
    "            (* (denom x) (denom y))))\n",
    "(define (div-rat x y)\n",
    "  (make-rat (* (numer x) (denom y))\n",
    "            (* (denom x) (numer y))))\n",
    "(define (equal-rat? x y)\n",
    "  (= (* (numer x) (denom y))\n",
    "     (* (numer y) (denom y))))\n",
    "\n",
    "(define (make-rat n d) (cons n d))\n",
    "(define (numer x) (car x))\n",
    "(define (denom x) (cdr x))\n",
    "\n",
    "(define (print-rat x)\n",
    "  (newline)\n",
    "  (display (numer x))\n",
    "  (display \"/\")\n",
    "  (display (denom x)))\n",
    "\n",
    "(define one-half (make-rat 1 2))\n",
    "(print-rat one-half)\n",
    "\n",
    "(define one-third (make-rat 1 3))\n",
    "\n",
    "(print-rat (add-rat one-half one-third))\n",
    "\n",
    "(print-rat (mul-rat one-half one-third))\n",
    "\n",
    "(print-rat (add-rat one-third one-third))"
   ]
  },
  {
   "cell_type": "markdown",
   "metadata": {},
   "source": [
    "数据抽象的基本思想是为每一类数据对象标识出一组操作，使得对这类数据对象的所有操作都可以基于他们表述，而且在操作这些数据对象时也只使用它们。\n",
    "优点-> 易于维护和修改"
   ]
  },
  {
   "cell_type": "code",
   "execution_count": 6,
   "metadata": {},
   "outputs": [
    {
     "name": "stdout",
     "output_type": "stream",
     "text": [
      "3\n",
      "4"
     ]
    }
   ],
   "source": [
    "(define (cons-mock x y)\n",
    "  (define (dispatch m)\n",
    "    (cond ((= m 0) x)\n",
    "          ((= m 1) y)\n",
    "          (else (error \"arguen not 0 or 1 --CONS\" m))))\n",
    "  dispatch)\n",
    "\n",
    "(define (car-mock z) (z 0))\n",
    "(define (cdr-mock z) (z 1))\n",
    "\n",
    "(define a (cons-mock 3 4))\n",
    "\n",
    "(display (car-mock a))\n",
    "(newline)\n",
    "(display (cdr-mock a))"
   ]
  },
  {
   "cell_type": "code",
   "execution_count": 7,
   "metadata": {},
   "outputs": [
    {
     "name": "stdout",
     "output_type": "stream",
     "text": [
      "2\n",
      "4"
     ]
    }
   ],
   "source": [
    "(define (cons x y)\n",
    "  (lambda (m) (m x y)))\n",
    "\n",
    "(define (car z)\n",
    "  (z (lambda (p q) p)))\n",
    "\n",
    "(define (cdr z)\n",
    "  (z (lambda (p q) q)))\n",
    "\n",
    "(define a (cons 2 4))\n",
    "(display (car a))\n",
    "(newline)\n",
    "(display (cdr a))"
   ]
  },
  {
   "cell_type": "code",
   "execution_count": 13,
   "metadata": {},
   "outputs": [
    {
     "name": "stdout",
     "output_type": "stream",
     "text": [
      "(1 2 3 4)"
     ]
    },
    {
     "name": "stderr",
     "output_type": "stream",
     "text": [
      "\u001b[0;31m\n",
      "Traceback (most recent call last):\n",
      "  File \"In [13]\", line 3, col 6, in 'application'\n",
      "  File \"In [13]\", line 3, col 6\n",
      "RunTimeError: attempt to apply non-procedure '12'\n",
      "\n",
      "\u001b[0m"
     ]
    }
   ],
   "source": [
    "(define one-through-four (list 1 2 3 4))\n",
    "(display one-through-four)"
   ]
  },
  {
   "cell_type": "code",
   "execution_count": 2,
   "metadata": {},
   "outputs": [
    {
     "data": {
      "text/plain": [
       "16"
      ]
     },
     "execution_count": 2,
     "metadata": {},
     "output_type": "execute_result"
    }
   ],
   "source": [
    "(define (list-ref items n)\n",
    "  (if (= n 0)\n",
    "      (car items)\n",
    "      (list-ref (cdr items) (- n 1))))\n",
    "\n",
    "(define squares (list 1 4 9 16 25))\n",
    "(list-ref squares 3)"
   ]
  },
  {
   "cell_type": "code",
   "execution_count": 1,
   "metadata": {},
   "outputs": [
    {
     "data": {
      "text/plain": [
       "1"
      ]
     },
     "execution_count": 1,
     "metadata": {},
     "output_type": "execute_result"
    }
   ],
   "source": [
    "(car (list 1 2 3))"
   ]
  },
  {
   "cell_type": "code",
   "execution_count": 3,
   "metadata": {},
   "outputs": [
    {
     "data": {
      "text/plain": [
       "4"
      ]
     },
     "execution_count": 3,
     "metadata": {},
     "output_type": "execute_result"
    }
   ],
   "source": [
    "(define (length items)\n",
    "  (if (null? items)\n",
    "      0\n",
    "      (+ 1 (length (cdr items)))))\n",
    "\n",
    "(define odds (list 1 3 5 7))\n",
    "(length odds)"
   ]
  },
  {
   "cell_type": "code",
   "execution_count": null,
   "metadata": {},
   "outputs": [],
   "source": [
    "(define (length items)\n",
    "  (define (length-iter a count)\n",
    "    (if (null? a)\n",
    "        count\n",
    "        (length-iter (cdr a) (+ 1 count))))\n",
    "  (length-iter items 0))"
   ]
  },
  {
   "cell_type": "code",
   "execution_count": 5,
   "metadata": {},
   "outputs": [
    {
     "data": {
      "text/plain": [
       "(1 4 5 3 4 6)"
      ]
     },
     "execution_count": 5,
     "metadata": {},
     "output_type": "execute_result"
    }
   ],
   "source": [
    "(define (append list1 list2)\n",
    "  (if (null? list1)\n",
    "      list2\n",
    "      (cons (car list1) (append (cdr list1) list2))))\n",
    "\n",
    "(append (list 1 4 5) (list 3 4 6))"
   ]
  },
  {
   "cell_type": "code",
   "execution_count": 6,
   "metadata": {},
   "outputs": [
    {
     "data": {
      "text/plain": [
       "((1 2 3) 4 5 6)"
      ]
     },
     "execution_count": 6,
     "metadata": {},
     "output_type": "execute_result"
    }
   ],
   "source": [
    "(cons (list 1 2 3) (list 4 5 6))"
   ]
  },
  {
   "cell_type": "code",
   "execution_count": 8,
   "metadata": {},
   "outputs": [
    {
     "data": {
      "text/plain": [
       "(10 20 30 40)"
      ]
     },
     "execution_count": 8,
     "metadata": {},
     "output_type": "execute_result"
    }
   ],
   "source": [
    "(define (scale-list items factor)\n",
    "  (if (null? items)\n",
    "      '()\n",
    "      (cons (* (car items) factor)\n",
    "            (scale-list (cdr items) factor))))\n",
    "\n",
    "(scale-list (list 1 2 3 4) 10)"
   ]
  },
  {
   "cell_type": "code",
   "execution_count": 10,
   "metadata": {},
   "outputs": [
    {
     "data": {
      "text/plain": [
       "(1 4 9 16)"
      ]
     },
     "execution_count": 10,
     "metadata": {},
     "output_type": "execute_result"
    }
   ],
   "source": [
    "(define (map proc items)\n",
    "         (if (null? items)\n",
    "             '()\n",
    "             (cons (proc (car items))\n",
    "                   (map proc (cdr items)))))\n",
    "\n",
    "(map (lambda (x) (* x x)) (list 1 2 3 4))\n",
    "\n",
    "(define (scale-list items factor)\n",
    "  (map (lambda (x) (* x factor))\n",
    "       items))"
   ]
  },
  {
   "cell_type": "code",
   "execution_count": null,
   "metadata": {},
   "outputs": [],
   "source": [
    "(define (count-leaves x)\n",
    "  (cond ((null? x) 0)\n",
    "        ((not (pair? x)) 1)\n",
    "        (else (+ (count-leaves (car x))\n",
    "                 (count-leaves (cdr x))))))"
   ]
  },
  {
   "cell_type": "code",
   "execution_count": 13,
   "metadata": {},
   "outputs": [
    {
     "data": {
      "text/plain": [
       "(10 (20 (30 40) 50) (60 70))"
      ]
     },
     "execution_count": 13,
     "metadata": {},
     "output_type": "execute_result"
    }
   ],
   "source": [
    "(define (scale-tree tree factor)\n",
    "  (cond ((null? tree) '())\n",
    "        ((not (pair? tree)) (* tree factor))\n",
    "        (else (cons (scale-tree (car tree) factor)\n",
    "                    (scale-tree (cdr tree) factor)))))\n",
    "\n",
    "(scale-tree (list 1 (list 2 (list 3 4) 5) (list 6 7)) 10)"
   ]
  },
  {
   "cell_type": "code",
   "execution_count": null,
   "metadata": {},
   "outputs": [],
   "source": [
    "(define (scale-tree tree factor)\n",
    "  (map (lambda (sub-tree)\n",
    "         (if (pair? sub-tree)\n",
    "             (scale-tree sub-tree factor)\n",
    "             (* sub-tree factor)))\n",
    "       tree))"
   ]
  },
  {
   "cell_type": "code",
   "execution_count": 17,
   "metadata": {},
   "outputs": [
    {
     "data": {
      "text/plain": [
       "(1 3)"
      ]
     },
     "execution_count": 17,
     "metadata": {},
     "output_type": "execute_result"
    }
   ],
   "source": [
    "(define (filter predicate squence)\n",
    "  (cond ((null? squence) '())\n",
    "        ((predicate (car squence))\n",
    "         (cons (car squence)\n",
    "               (filter predicate (cdr squence))))\n",
    "        (else (filter predicate (cdr squence)))))\n",
    "\n",
    "(filter odd? (list 1 2 3 4))"
   ]
  },
  {
   "cell_type": "code",
   "execution_count": 18,
   "metadata": {},
   "outputs": [
    {
     "data": {
      "text/plain": [
       "10"
      ]
     },
     "execution_count": 18,
     "metadata": {},
     "output_type": "execute_result"
    }
   ],
   "source": [
    "(define (accumulate op initial sequence)\n",
    "  (if (null? sequence)\n",
    "      initial\n",
    "      (op (car sequence)\n",
    "          (accumulate op initial (cdr sequence)))))\n",
    "\n",
    "(accumulate + 0 (list 1 2 3 4))"
   ]
  },
  {
   "cell_type": "markdown",
   "metadata": {},
   "source": [
    "**分层设计**\n",
    "\n",
    "一个复杂的系统应该通过一系列的层次构造出来，为了描述这些层次，需要使用一系列的语言。"
   ]
  },
  {
   "cell_type": "code",
   "execution_count": 26,
   "metadata": {},
   "outputs": [
    {
     "name": "stdout",
     "output_type": "stream",
     "text": [
      "1\n",
      "y"
     ]
    }
   ],
   "source": [
    "(define (deriv exp var)\n",
    "  (cond ((number? exp) 0)\n",
    "        ((variable? exp) \n",
    "         (if (same-variable? exp var ) 1 0))\n",
    "        ((sum? exp)\n",
    "         (make-sum (deriv (addend exp) var)\n",
    "                   (deriv (augend exp) var)))\n",
    "        ((product? exp)\n",
    "         (make-sum \n",
    "          (make-product (multiplier exp)\n",
    "                        (deriv (multiplicand exp) var))\n",
    "          (make-product (deriv (multiplier exp) var)\n",
    "                        (multiplicand exp))))\n",
    "        (else\n",
    "         (error \"unknow expression type -- DERIV\" exp))))\n",
    "\n",
    "(define (variable? x) (symbol? x))\n",
    "\n",
    "(define (same-variable? v1 v2)\n",
    "  (and (variable? v1) (variable? v2) (eq? v1 v2)))\n",
    "\n",
    ";(define (make-sum a1 a2) (list '+ a1 a2))\n",
    "(define (make-sum a1 a2)\n",
    "  (cond ((=number? a1 0) a2)\n",
    "        ((=number? a2 0) a1)\n",
    "        ((and (number? a1) (number? a2)) (+ a1 a2))\n",
    "        (else (list '+ a1 a2))))\n",
    "\n",
    ";;(define (make-product m1 m2) (list '* m1 m2))\n",
    "(define (make-product m1 m2)\n",
    "  (cond ((or (=number? m1 0) (=number? m2 0)) 0)\n",
    "        ((=number? m1 1) m2)\n",
    "        ((=number? m2 1) m1)\n",
    "        ((and (number? m1) (number? m2)) (* m1 m2))\n",
    "        (else (list '* m1 m2))))\n",
    "\n",
    "(define (sum? x)\n",
    "  (and (pair? x) (eq? (car x) '+)))\n",
    "\n",
    "(define (addend s) (cadr s))\n",
    "\n",
    "(define (augend s) (caddr s))\n",
    "\n",
    "(define (product? x) (and (pair? x) (eq? (car x) '*)))\n",
    "\n",
    "(define (multiplier p) (cadr p))\n",
    "\n",
    "(define (multiplicand p) (caddr p))\n",
    "\n",
    "(define (=number? exp num)\n",
    "  (and (number? exp) (= exp num)))\n",
    "\n",
    "(display (deriv '(+ x 3) 'x))\n",
    "(newline)\n",
    "(display (deriv '(* x y) 'x))"
   ]
  },
  {
   "cell_type": "code",
   "execution_count": null,
   "metadata": {},
   "outputs": [],
   "source": [
    "(define (element-of-set? x set)\n",
    "  (cond ((null? set) false)\n",
    "        ((equal? x (car set)) true)\n",
    "        (else (element-of-set? x (cdr set)))))\n",
    "\n",
    "(define (adjoin-set x set)\n",
    "  (if (element-of-set? x set)\n",
    "      set\n",
    "      (cons x set)))\n",
    "\n",
    "(define (intersection-set set1 set2)\n",
    "  (cond ((or (null? set1) (null? set2)) '())\n",
    "        ((elsement-of-set? (car set1) set2)\n",
    "         (cons (car set1)\n",
    "               (intersection-set (cdr set1) set2)))\n",
    "        (else (intersection-set (cdr set1) set2))))"
   ]
  },
  {
   "cell_type": "code",
   "execution_count": null,
   "metadata": {},
   "outputs": [],
   "source": [
    ";;有序表\n",
    "(define (element-of-set? x set)\n",
    "  (cond ((null? set) false)\n",
    "        ((= x (car set)) true)\n",
    "        ((< x (car set)) false)\n",
    "        (else (element-of-set? x (cdr set)))))\n",
    "\n",
    "(define (intersection-set set1 set2)\n",
    "  (if (or (null? set) (null? set2))\n",
    "      '()\n",
    "      (let ((x1 (car set1)) (x2 (car set2)))\n",
    "        (cond ((= x1 x2)\n",
    "               (cons x1 \n",
    "                     (intersection-set (cdr set1)\n",
    "                                       (cdr set2))))\n",
    "              ((< x1 x2)\n",
    "               (intersection-set (cdr set1) set2))\n",
    "              ((< x2 x1)\n",
    "               (intersection-set set1 (cdr set2)))))))"
   ]
  },
  {
   "cell_type": "code",
   "execution_count": null,
   "metadata": {},
   "outputs": [],
   "source": [
    "(define (entry tree) (car tree))\n",
    "\n",
    "(define (left-branch tree) (cadr tree))\n",
    "\n",
    "(define (right-branch tree) (caddr tree))\n",
    "\n",
    "(define (make-tree enter left right)\n",
    "  (list entry left right))\n",
    "\n",
    "(define (element-of-set? x set)\n",
    "  (cond ((null? set) false)\n",
    "        ((= x (entry set)) true)\n",
    "        ((< x (entry set))\n",
    "         (element-of-set? x (left-branch set)))\n",
    "        ((> x (entry set))\n",
    "         (element-of-set? x (right-branch set)))))\n",
    "\n",
    "(define (adjoin-set x set)\n",
    "  (cond ((null? set) (make-tree x '() '()))\n",
    "        ((= x (entry set)) set)\n",
    "        ((< x (entry set))\n",
    "         (make-tree (entry set)\n",
    "                    (adjoin-set x (left-branch set))\n",
    "                    (right-branch)))\n",
    "        ((> x (entry set))\n",
    "         (make-tree (entry set)\n",
    "                    (left-branch set)\n",
    "                    (adjoin-set x (right-branch set))))))"
   ]
  },
  {
   "cell_type": "code",
   "execution_count": 30,
   "metadata": {},
   "outputs": [
    {
     "name": "stdout",
     "output_type": "stream",
     "text": [
      "1\n",
      "(2 3)\n",
      "2\n",
      "3\n",
      "(3)"
     ]
    }
   ],
   "source": [
    "(define a (list 1 2 3))\n",
    "\n",
    "(display (car a))\n",
    "(newline)\n",
    "(display (cdr a))\n",
    "(newline)\n",
    "(display (cadr a))\n",
    "(newline)\n",
    "(display (caddr a))\n",
    "(newline)\n",
    "(display (cddr a))"
   ]
  },
  {
   "cell_type": "code",
   "execution_count": null,
   "metadata": {},
   "outputs": [],
   "source": [
    "(define (lookup given-key set-of-records)\n",
    "  (cond ((null? set-of-records) false)\n",
    "        ((equal? given-key (key (ar set-of-records)))\n",
    "         (car set-of-records))\n",
    "        (else (lookup given-key (cdr set-of-records)))))"
   ]
  },
  {
   "cell_type": "code",
   "execution_count": null,
   "metadata": {},
   "outputs": [],
   "source": [
    ";;huffman\n",
    "\n",
    "(define (make-leaf symbol weight)\n",
    "  (list 'leaf symbol weight))\n",
    "\n",
    "(define (leaf? object)\n",
    "  (eq? (car object) 'leaf))\n",
    "\n",
    "(define (symbol-leaf x) (cadr x))\n",
    "\n",
    "(define (weight-leaf x) (caddr x))\n",
    "\n",
    "(define (make-code-tree left right)\n",
    "  (list left\n",
    "        right\n",
    "        (append (symbols left) (symbols right))\n",
    "        (+ (weight left) (weight right))))\n",
    "\n",
    "(define (left-branch tree) (car tree))\n",
    "\n",
    "(define (right-branch tree) (cadr tree))\n",
    "\n",
    "(define (symbols tree)\n",
    "  (if (leaf? tree)\n",
    "      (list (symbol-leaf tree))\n",
    "      (caddr tree)))\n",
    "\n",
    "(define (weight tree)\n",
    "  (if (leaf? tree)\n",
    "      (weight-leaf tree)\n",
    "      (cadddr tree)))\n",
    "\n",
    "(define (decode bits tree)\n",
    "  (define (decode-1 bits current-branch)\n",
    "    (if (null? bits)\n",
    "        '()\n",
    "        (let ((next-branch \n",
    "               (choose-branch (car bits) current-branch)))\n",
    "          (if (leaf? next-branch)\n",
    "              (cons (symbol-leaf next-branch)\n",
    "                    (decode-1 (cdr bits) tree))\n",
    "              (decode-1 (cdr bits) next-branch)))))\n",
    "  (decode-1 bits tree))\n",
    "\n",
    "(define (choose-branch bit branch)\n",
    "  (cond ((= bit 0) (left-branch branch))\n",
    "        ((= bit 1 (right-branch branch))\n",
    "         (else error \"bad bit -- CHOOSE_BRANCH\" bit))))\n",
    "\n",
    "(define (adjoin-set x set)\n",
    "  (cond ((null? set) (list x))\n",
    "        ((< (weight x) (weight (car set))) (cons x set))\n",
    "        (else (cons (car set)\n",
    "                    (adjoin-set x (cdr set))))))\n",
    "\n",
    "(define (make-leaf-set pairs)\n",
    "  (if (null? paire)\n",
    "      '()\n",
    "      (let ((pair (car pairs)))\n",
    "        (adjoin-set (make-leaf (car pair) ;symbol\n",
    "                               (cadr pair)) ;frequency\n",
    "                    (make-leaf-set (cdr pairs))))))"
   ]
  },
  {
   "cell_type": "markdown",
   "metadata": {},
   "source": [
    "数据抽象壁障 是控制复杂性的强有力工具。\n",
    "将设计一个大程序的任务，分割为一组可以分别处理的较小任务。\n",
    "\n",
    "通用型过程"
   ]
  },
  {
   "cell_type": "code",
   "execution_count": null,
   "metadata": {},
   "outputs": [],
   "source": []
  }
 ],
 "metadata": {
  "kernelspec": {
   "display_name": "Calysto Scheme 3",
   "language": "scheme",
   "name": "calysto_scheme"
  },
  "language_info": {
   "codemirror_mode": {
    "name": "scheme"
   },
   "mimetype": "text/x-scheme",
   "name": "scheme",
   "pygments_lexer": "scheme"
  }
 },
 "nbformat": 4,
 "nbformat_minor": 4
}
