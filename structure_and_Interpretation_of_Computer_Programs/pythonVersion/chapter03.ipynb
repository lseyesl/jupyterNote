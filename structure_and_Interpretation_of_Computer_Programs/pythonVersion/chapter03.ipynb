{
 "cells": [
  {
   "attachments": {},
   "cell_type": "markdown",
   "metadata": {},
   "source": [
    "# chapter03\n"
   ]
  },
  {
   "cell_type": "code",
   "execution_count": null,
   "metadata": {},
   "outputs": [],
   "source": [
    "def scheme_eval(expr, env):\n",
    "    \"\"\"evaluate scheme expression expr in environment env.\"\"\"\n",
    "    if scheme_symbolp(expr):\n",
    "        return env[expr]\n",
    "    elif scheme_atomp(expr):\n",
    "        return expr\n",
    "    first, rest = expr.first, expr.second\n",
    "    if first == 'lambda':\n",
    "        return do_lambda_form(rest, env)\n",
    "    elif first == 'define':\n",
    "        do_define_form(rest, env)\n",
    "        return None\n",
    "    else:\n",
    "        procedure = scheme_eval(first, env)\n",
    "        args = rest.map(lambda operand: scheme_eval(operand, env))\n",
    "        return scheme_apply(procedure, args, env)\n",
    "\n",
    "    "
   ]
  }
 ],
 "metadata": {
  "kernelspec": {
   "display_name": "base",
   "language": "python",
   "name": "python3"
  },
  "language_info": {
   "codemirror_mode": {
    "name": "ipython",
    "version": 3
   },
   "file_extension": ".py",
   "mimetype": "text/x-python",
   "name": "python",
   "nbconvert_exporter": "python",
   "pygments_lexer": "ipython3",
   "version": "3.9.12"
  },
  "orig_nbformat": 4
 },
 "nbformat": 4,
 "nbformat_minor": 2
}
