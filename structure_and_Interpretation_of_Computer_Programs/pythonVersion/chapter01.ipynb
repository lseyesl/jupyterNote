{
 "cells": [
  {
   "cell_type": "code",
   "execution_count": 3,
   "metadata": {},
   "outputs": [
    {
     "data": {
      "text/plain": [
       "{'diaper', 'drawer', 'redder', 'repaid', 'reward'}"
      ]
     },
     "execution_count": 3,
     "metadata": {},
     "output_type": "execute_result"
    }
   ],
   "source": [
    "from urllib.request import urlopen\n",
    "shakespeare = urlopen('http://composingprograms.com/shakespeare.txt')\n",
    "words = set(shakespeare.read().decode().split())\n",
    "{w for w in words if len(w) == 6 and w[::-1] in words}"
   ]
  },
  {
   "cell_type": "code",
   "execution_count": 2,
   "metadata": {},
   "outputs": [
    {
     "data": {
      "text/plain": [
       "16"
      ]
     },
     "execution_count": 2,
     "metadata": {},
     "output_type": "execute_result"
    }
   ],
   "source": [
    "from operator import mul\n",
    "def square(x):\n",
    "    return mul(x,x)\n",
    "\n",
    "square(4)"
   ]
  },
  {
   "cell_type": "code",
   "execution_count": 3,
   "metadata": {},
   "outputs": [
    {
     "name": "stdout",
     "output_type": "stream",
     "text": [
      "2.5\n",
      "2\n"
     ]
    }
   ],
   "source": [
    "print(5/2)\n",
    "print(5//2)"
   ]
  },
  {
   "cell_type": "code",
   "execution_count": 4,
   "metadata": {},
   "outputs": [
    {
     "name": "stdout",
     "output_type": "stream",
     "text": [
      "Help on function pressure in module __main__:\n",
      "\n",
      "pressure()\n",
      "    this is a help txt\n",
      "\n"
     ]
    }
   ],
   "source": [
    "def pressure():\n",
    "    \"\"\"this is a help txt\"\"\"\n",
    "    return None\n",
    "\n",
    "help(pressure)"
   ]
  },
  {
   "cell_type": "code",
   "execution_count": 10,
   "metadata": {},
   "outputs": [
    {
     "name": "stdout",
     "output_type": "stream",
     "text": [
      "Help on function fib in module __main__:\n",
      "\n",
      "fib(n)\n",
      "    fib number\n",
      "\n",
      "13\n"
     ]
    },
    {
     "ename": "AssertionError",
     "evalue": "the number should be 13",
     "output_type": "error",
     "traceback": [
      "\u001b[0;31m---------------------------------------------------------------------------\u001b[0m",
      "\u001b[0;31mAssertionError\u001b[0m                            Traceback (most recent call last)",
      "\u001b[1;32m/Users/q/panel/jupyterNote/structure_and_Interpretation_of_Computer_Programs/pythonVersion/chapter01.ipynb 单元格 5\u001b[0m in \u001b[0;36m<cell line: 15>\u001b[0;34m()\u001b[0m\n\u001b[1;32m     <a href='vscode-notebook-cell:/Users/q/panel/jupyterNote/structure_and_Interpretation_of_Computer_Programs/pythonVersion/chapter01.ipynb#W4sZmlsZQ%3D%3D?line=11'>12</a>\u001b[0m \u001b[39mprint\u001b[39m(result)\n\u001b[1;32m     <a href='vscode-notebook-cell:/Users/q/panel/jupyterNote/structure_and_Interpretation_of_Computer_Programs/pythonVersion/chapter01.ipynb#W4sZmlsZQ%3D%3D?line=13'>14</a>\u001b[0m \u001b[39massert\u001b[39;00m fib(\u001b[39m8\u001b[39m) \u001b[39m==\u001b[39m \u001b[39m13\u001b[39m, \u001b[39m'\u001b[39m\u001b[39mthe number should be 13\u001b[39m\u001b[39m'\u001b[39m\n\u001b[0;32m---> <a href='vscode-notebook-cell:/Users/q/panel/jupyterNote/structure_and_Interpretation_of_Computer_Programs/pythonVersion/chapter01.ipynb#W4sZmlsZQ%3D%3D?line=14'>15</a>\u001b[0m \u001b[39massert\u001b[39;00m fib(\u001b[39m8\u001b[39m) \u001b[39m==\u001b[39m \u001b[39m11\u001b[39m, \u001b[39m'\u001b[39m\u001b[39mthe number should be 13\u001b[39m\u001b[39m'\u001b[39m\n",
      "\u001b[0;31mAssertionError\u001b[0m: the number should be 13"
     ]
    }
   ],
   "source": [
    "def fib(n):\n",
    "    \"\"\"fib number\"\"\"\n",
    "    pred, curr = 0, 1\n",
    "    k = 2\n",
    "    while k < n:\n",
    "        pred, curr = curr, pred + curr\n",
    "        k = k + 1\n",
    "    return curr\n",
    "\n",
    "help(fib)\n",
    "result = fib(8)\n",
    "print(result)\n",
    "\n",
    "assert fib(8) == 13, 'the number should be 13'\n",
    "assert fib(8) == 11, 'the number should be 13'"
   ]
  },
  {
   "cell_type": "code",
   "execution_count": null,
   "metadata": {},
   "outputs": [],
   "source": []
  }
 ],
 "metadata": {
  "kernelspec": {
   "display_name": "base",
   "language": "python",
   "name": "python3"
  },
  "language_info": {
   "codemirror_mode": {
    "name": "ipython",
    "version": 3
   },
   "file_extension": ".py",
   "mimetype": "text/x-python",
   "name": "python",
   "nbconvert_exporter": "python",
   "pygments_lexer": "ipython3",
   "version": "3.9.12"
  },
  "orig_nbformat": 4
 },
 "nbformat": 4,
 "nbformat_minor": 2
}
