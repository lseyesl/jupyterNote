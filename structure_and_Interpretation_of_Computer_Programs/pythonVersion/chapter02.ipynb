{
 "cells": [
  {
   "attachments": {},
   "cell_type": "markdown",
   "metadata": {},
   "source": [
    "# chapter02"
   ]
  },
  {
   "attachments": {},
   "cell_type": "markdown",
   "metadata": {},
   "source": [
    "## pair"
   ]
  },
  {
   "cell_type": "code",
   "execution_count": 5,
   "metadata": {},
   "outputs": [
    {
     "name": "stdout",
     "output_type": "stream",
     "text": [
      "pair[0]: 10\n",
      "pair[1]: 20\n",
      "x: 10\n",
      "y: 20\n",
      "getitem 0: 10\n",
      "getitem 1: 20\n"
     ]
    }
   ],
   "source": [
    "from operator import getitem\n",
    "\n",
    "pair = [10,20]\n",
    "print('pair[0]:',pair[0])\n",
    "print('pair[1]:',pair[1])\n",
    "x,y = pair\n",
    "print('x:',x)\n",
    "print('y:',y)\n",
    "\n",
    "print('getitem 0:',getitem(pair,0))\n",
    "print('getitem 1:',getitem(pair,1))"
   ]
  },
  {
   "cell_type": "code",
   "execution_count": 13,
   "metadata": {},
   "outputs": [
    {
     "name": "stdout",
     "output_type": "stream",
     "text": [
      "p: <function pair.<locals>.get at 0x7f88cd0980d0>\n",
      "p0: 20\n",
      "p1: 10\n"
     ]
    }
   ],
   "source": [
    "def pair(x,y):\n",
    "    \"\"\"return a function that represents a pair.\"\"\"\n",
    "    def get(index):\n",
    "        if index == 0:\n",
    "            return x\n",
    "        elif index == 1:\n",
    "            return y\n",
    "    return get\n",
    "\n",
    "def select(p,i):\n",
    "    \"\"\"return the element at index i of p\"\"\"\n",
    "    return p(i)\n",
    "\n",
    "p = pair(20,10)\n",
    "print('p:',p)\n",
    "p0 = select(p,0)\n",
    "print('p0:',p0)\n",
    "p1 = select(p,1)\n",
    "print('p1:',p1)\n",
    "\n"
   ]
  },
  {
   "cell_type": "code",
   "execution_count": 7,
   "metadata": {},
   "outputs": [
    {
     "data": {
      "text/plain": [
       "4"
      ]
     },
     "execution_count": 7,
     "metadata": {},
     "output_type": "execute_result"
    }
   ],
   "source": [
    "digits = [1,8,2,8]\n",
    "len(digits)"
   ]
  },
  {
   "cell_type": "code",
   "execution_count": 8,
   "metadata": {},
   "outputs": [
    {
     "data": {
      "text/plain": [
       "[2, 7, 1, 2, 3, 1, 2, 3, 1, 2, 3]"
      ]
     },
     "execution_count": 8,
     "metadata": {},
     "output_type": "execute_result"
    }
   ],
   "source": [
    "[2,7]+[1,2,3]*3"
   ]
  },
  {
   "cell_type": "code",
   "execution_count": 15,
   "metadata": {},
   "outputs": [
    {
     "name": "stdout",
     "output_type": "stream",
     "text": [
      "[x+1 for x in odds] [2, 4, 6, 8, 10]\n",
      "odds[0:-1] [1, 3, 5, 7]\n",
      "odds[0:-1] [1, 3, 5, 7, 9]\n",
      "odds[0:-1] [1, 3, 5, 7, 9]\n",
      "odds[0:-1] [9]\n",
      "odds[0:-1] []\n"
     ]
    }
   ],
   "source": [
    "odds = [1,3,5,7,9]\n",
    "print('[x+1 for x in odds]',[x+1 for x in odds])\n",
    "print('odds[0:-1]',odds[0:-1])\n",
    "print('odds[0:-1]',odds[0:])\n",
    "print('odds[0:-1]',odds[:])\n",
    "print('odds[0:-1]',odds[-1:])\n",
    "print('odds[0:-1]',odds[-1:-1])"
   ]
  },
  {
   "attachments": {},
   "cell_type": "markdown",
   "metadata": {},
   "source": [
    "## tree"
   ]
  },
  {
   "cell_type": "code",
   "execution_count": 9,
   "metadata": {},
   "outputs": [
    {
     "name": "stdout",
     "output_type": "stream",
     "text": [
      "t: [3, [1], [2, [1], [1]]]\n",
      "label(t): 3\n",
      "branches(t): [[1], [2, [1], [1]]]\n",
      "label(branches(t)[1]) 2\n",
      "is_leaf(t): False\n",
      "is_leaf(branches(t)[0]) True\n",
      "fib_tree(5): [5, [2, [1], [1, [0], [1]]], [3, [1, [0], [1]], [2, [1], [1, [0], [1]]]]]\n",
      "count_leaves(fib_tree(5)): 8\n",
      "partition_tree(6,4): [4, [4, [False], [3, [False], [2, [True], [1, [1, [True], [False]], [False]]]]], [3, [3, [True], [2, [2, [False], [1, [True], [False]]], [1, [1, [1, [True], [False]], [False]], [False]]]], [2, [2, [2, [True], [1, [1, [True], [False]], [False]]], [1, [1, [1, [1, [True], [False]], [False]], [False]], [False]]], [1, [1, [1, [1, [1, [1, [True], [False]], [False]], [False]], [False]], [False]], [False]]]]]\n",
      "4 + 2\n",
      "4 + 1 + 1\n",
      "3 + 3\n",
      "3 + 2 + 1\n",
      "3 + 1 + 1 + 1\n",
      "2 + 2 + 2\n",
      "2 + 2 + 1 + 1\n",
      "2 + 1 + 1 + 1 + 1\n",
      "1 + 1 + 1 + 1 + 1 + 1\n",
      "print_parts(partition_tree(6,4)) None\n",
      "right_binarize: [1, [2, [3, [4, [5, [6, 7]]]]]]\n"
     ]
    }
   ],
   "source": [
    "def tree(root_label,branches=[]):\n",
    "    for branch in branches:\n",
    "        assert is_tree(branch), 'branches must be trees'\n",
    "    return [root_label] + list(branches)\n",
    "\n",
    "def label(tree):\n",
    "    return tree[0]\n",
    "\n",
    "def branches(tree):\n",
    "    if type(tree) !=list:\n",
    "        return False\n",
    "    return tree[1:]\n",
    "\n",
    "def is_tree(tree):\n",
    "    if type(tree) != list or len(tree)<1:\n",
    "        return False\n",
    "    for branch in branches(tree):\n",
    "        if not is_tree(branch):\n",
    "            return False\n",
    "    return True\n",
    "\n",
    "def is_leaf(tree):\n",
    "    return not branches(tree)\n",
    "\n",
    "\n",
    "t = tree(3,[tree(1),tree(2,[tree(1),tree(1)])])\n",
    "print('t:',t)\n",
    "print('label(t):',label(t))\n",
    "print('branches(t):',branches(t))\n",
    "print('label(branches(t)[1])',label(branches(t)[1]))\n",
    "print('is_leaf(t):',is_leaf(t))\n",
    "print('is_leaf(branches(t)[0])',is_leaf(branches(t)[0]))\n",
    "\n",
    "def fib_tree(n):\n",
    "    if n == 0 or n == 1 :\n",
    "        return tree(n)\n",
    "    else:\n",
    "        left, right = fib_tree(n-2), fib_tree(n-1)\n",
    "        fib_n = label(left) + label(right)\n",
    "        return tree(fib_n, [left,right])\n",
    "    \n",
    "print('fib_tree(5):',fib_tree(5))\n",
    "\n",
    "def count_leaves(tree):\n",
    "    if is_leaf(tree):\n",
    "        return 1\n",
    "    else:\n",
    "        branch_counts = [count_leaves(b) for b in branches(tree)]\n",
    "        return sum(branch_counts)\n",
    "    \n",
    "print('count_leaves(fib_tree(5)):',count_leaves(fib_tree(5)))\n",
    "\n",
    "\n",
    "def partition_tree(n,m):\n",
    "    \"\"\"return a partition tree of n using parts of up to m.\"\"\"\n",
    "    if n == 0:\n",
    "        return tree(True)\n",
    "    elif n < 0 or m == 0:\n",
    "        return tree(False)\n",
    "    else:\n",
    "        left = partition_tree(n-m,m)\n",
    "        right = partition_tree(n,m-1)\n",
    "        return tree(m,[left,right])\n",
    "    \n",
    "print('partition_tree(6,4):',partition_tree(6,4))\n",
    "\n",
    "def print_parts(tree,partition=[]):\n",
    "    if is_leaf(tree):\n",
    "        if label(tree):\n",
    "            print(' + '.join(partition))\n",
    "    else:\n",
    "        left, right = branches(tree)\n",
    "        m = str(label(tree))\n",
    "        print_parts(left, partition + [m])\n",
    "        print_parts(right,partition)\n",
    "\n",
    "print('print_parts(partition_tree(6,4))',print_parts(partition_tree(6,4)))\n",
    "\n",
    "def right_binarize(tree):\n",
    "    \"\"\"construct a right-branching binary tree.\"\"\"\n",
    "    if is_leaf(tree):\n",
    "        return tree\n",
    "    if len(tree) > 2:\n",
    "        tree = [tree[0],tree[1:]]\n",
    "    return [right_binarize(b) for b in tree]\n",
    "\n",
    "print('right_binarize:',right_binarize([1,2,3,4,5,6,7]))"
   ]
  },
  {
   "attachments": {},
   "cell_type": "markdown",
   "metadata": {},
   "source": [
    "## link"
   ]
  },
  {
   "cell_type": "code",
   "execution_count": 17,
   "metadata": {},
   "outputs": [
    {
     "name": "stdout",
     "output_type": "stream",
     "text": [
      "first 1\n",
      "rest [2, [3, [4, 'empty']]]\n",
      "len 4\n",
      "len_recursive 4\n",
      "get item 2\n",
      "get item recursive 2\n",
      "double four [1, [2, [3, [4, [1, [2, [3, [4, 'empty']]]]]]]]\n",
      "apply_to_all_link [1, [4, [9, [16, 'empty']]]]\n",
      "keep_if_link [2, [4, 'empty']]\n",
      "join_link(four, \", \") 1, 2, 3, 4\n"
     ]
    }
   ],
   "source": [
    "empty = 'empty'\n",
    "def is_link(s):\n",
    "    \"\"\"s is a linked list if it is empty or a (first,reset) pair.\"\"\"\n",
    "    return s == empty or (len(s)==2 and is_link(s[1]))\n",
    "\n",
    "def link(first,rest):\n",
    "    \"\"\"construct a linked list from its first element and the reset.\"\"\"\n",
    "    assert is_link(rest), \"reset must be a lined list.\"\n",
    "    return [first,rest]\n",
    "\n",
    "def first(s):\n",
    "    \"\"\"return the first element of a lined list s.\"\"\"\n",
    "    assert is_link(s), \"first only applies to linked lists.\"\n",
    "    assert s != empty, \"empty linked list has no first element.\"\n",
    "    return s[0]\n",
    "\n",
    "def rest(s):\n",
    "    \"\"\"return the rest of the elements of a linked list s.\"\"\"\n",
    "    assert is_link(s), \"rest only applies to linked lists.\"\n",
    "    assert s !=empty, \"empty linked list has no rest.\"\n",
    "    return s[1]\n",
    "\n",
    "def len_link(s):\n",
    "    \"\"\"return the length of lined list s.\"\"\"\n",
    "    length = 0\n",
    "    while s != empty:\n",
    "        s, length = rest(s), length + 1\n",
    "    return length\n",
    "\n",
    "def len_link_recursive(s):\n",
    "    \"\"\"return the length of a lined list s.\"\"\"\n",
    "    if s == empty:\n",
    "        return 0\n",
    "    return 1 + len_link_recursive(rest(s))\n",
    "\n",
    "def getitem_link(s,i):\n",
    "    \"\"\"return the element at index i of linked list s.\"\"\"\n",
    "    while i > 0:\n",
    "        s, i = rest(s), i-1\n",
    "    return first(s)\n",
    "\n",
    "def getitem_link_recursive(s, i):\n",
    "    \"\"\"return the element at index i of linked list s.\"\"\"\n",
    "    if i == 0:\n",
    "        return first(s)\n",
    "    return getitem_link_recursive(rest(s), i - 1)\n",
    "\n",
    "def extend_link(s,t):\n",
    "    \"\"\"return a list with the elements of s followed by those of t.\"\"\"\n",
    "    assert is_link(s) and is_link(t)\n",
    "    if s == empty:\n",
    "        return t\n",
    "    else:\n",
    "        return link(first(s),extend_link(rest(s),t))\n",
    "\n",
    "def apply_to_all_link(f,s):\n",
    "    \"\"\"apply f to each element of s.\"\"\"\n",
    "    assert is_link(s)\n",
    "    if s == empty:\n",
    "        return s\n",
    "    else:\n",
    "        return link(f(first(s)),apply_to_all_link(f,rest(s)))\n",
    "    \n",
    "def keep_if_link(f,s):\n",
    "    \"\"\"return a list with elements of s for which f(e) is true.\"\"\"\n",
    "    assert is_link(s)\n",
    "    if s == empty:\n",
    "        return s\n",
    "    else:\n",
    "        kept = keep_if_link(f,rest(s))\n",
    "        if f(first(s)):\n",
    "            return link(first(s),kept)\n",
    "        else:\n",
    "            return kept\n",
    "        \n",
    "def join_link(s, separator):\n",
    "    \"\"\"return a string of all elements in s separated by separator\"\"\"\n",
    "    if s == empty:\n",
    "        return \"\"\n",
    "    elif rest(s) == empty:\n",
    "        return str(first(s))\n",
    "    else:\n",
    "        return str(first(s)) + separator + join_link(rest(s), separator)\n",
    "\n",
    "four = link(1,link(2,link(3,link(4, empty))))\n",
    "\n",
    "print('first',first(four))\n",
    "print('rest',rest(four))\n",
    "print('len',len_link(four))\n",
    "print('len_recursive', len_link_recursive(four))\n",
    "print('get item',getitem_link(four,1))\n",
    "print('get item recursive', getitem_link_recursive(four,1))\n",
    "print('double four', extend_link(four,four))\n",
    "print('apply_to_all_link', apply_to_all_link(lambda x: x*x, four))\n",
    "print('keep_if_link', keep_if_link(lambda x: x%2==0,four))\n",
    "print('join_link(four, \", \")',join_link(four, \", \"))\n",
    "\n"
   ]
  },
  {
   "cell_type": "code",
   "execution_count": 20,
   "metadata": {},
   "outputs": [
    {
     "name": "stdout",
     "output_type": "stream",
     "text": [
      "6 days, 0:00:00\n",
      "tues.year 2014\n"
     ]
    },
    {
     "data": {
      "text/plain": [
       "'Tuesday, May 13'"
      ]
     },
     "execution_count": 20,
     "metadata": {},
     "output_type": "execute_result"
    }
   ],
   "source": [
    "from datetime import date\n",
    "\n",
    "tues = date(2014,5,13)\n",
    "\n",
    "print(date(2014,5,19) - tues)\n",
    "print('tues.year',tues.year)\n",
    "tues.strftime('%A, %B %d')\n"
   ]
  },
  {
   "attachments": {},
   "cell_type": "markdown",
   "metadata": {},
   "source": [
    "## 字典"
   ]
  },
  {
   "cell_type": "code",
   "execution_count": 1,
   "metadata": {},
   "outputs": [
    {
     "name": "stdout",
     "output_type": "stream",
     "text": [
      "numerals {'I': 1.0, 'V': 5, 'X': 10, 'L': 50}\n",
      "sum numerals 66.0\n"
     ]
    }
   ],
   "source": [
    "numerals = {'I':1.0, 'V':5, 'X':10}\n",
    "numerals['L'] = 50\n",
    "\n",
    "print('numerals',numerals)\n",
    "\n",
    "print('sum numerals',sum(numerals.values()))"
   ]
  },
  {
   "attachments": {},
   "cell_type": "markdown",
   "metadata": {},
   "source": [
    "### 本地状体"
   ]
  },
  {
   "cell_type": "code",
   "execution_count": 1,
   "metadata": {},
   "outputs": [
    {
     "name": "stdout",
     "output_type": "stream",
     "text": [
      "funds 80\n",
      "funds 75\n"
     ]
    }
   ],
   "source": [
    "def make_withdraw(balance):\n",
    "    \"\"\"return a withdraw function that draws down balance with each call.\"\"\"\n",
    "    def withdraw(amount):\n",
    "        nonlocal balance # declare the name balance nonlocal\n",
    "        if amount > balance:\n",
    "            return \"Insufficient funds\"\n",
    "        balance = balance - amount\n",
    "        return balance\n",
    "    return withdraw\n",
    "\n",
    "wd = make_withdraw(100)\n",
    "print('funds',wd(20))\n",
    "print('funds',wd(5))"
   ]
  },
  {
   "cell_type": "code",
   "execution_count": 3,
   "metadata": {},
   "outputs": [
    {
     "name": "stdout",
     "output_type": "stream",
     "text": [
      "deposit(a,5) 25\n",
      "withdraw(a,17) 8\n",
      "check_balance(a) 8\n"
     ]
    }
   ],
   "source": [
    "def account(initial_balance):\n",
    "    def deposit(amount):\n",
    "        dispatch['balance'] += amount\n",
    "        return dispatch['balance']\n",
    "    def withdraw(amount):\n",
    "        if amount > dispatch['balance']:\n",
    "            return 'Insufficient funds'\n",
    "        dispatch['balance'] -= amount\n",
    "        return dispatch['balance']\n",
    "    dispatch = {\n",
    "        'deposit':deposit,\n",
    "        'withdraw': withdraw,\n",
    "        'balance': initial_balance\n",
    "        }\n",
    "    return dispatch\n",
    "\n",
    "def withdraw(account, amount):\n",
    "    return account['withdraw'](amount)\n",
    "def deposit(account, amount):\n",
    "    return account['deposit'](amount)\n",
    "def check_balance(account):\n",
    "    return account['balance']\n",
    "\n",
    "a = account(20)\n",
    "print('deposit(a,5)',deposit(a,5))\n",
    "print('withdraw(a,17)',withdraw(a,17))\n",
    "print('check_balance(a)',check_balance(a))"
   ]
  },
  {
   "cell_type": "code",
   "execution_count": 9,
   "metadata": {},
   "outputs": [
    {
     "name": "stdout",
     "output_type": "stream",
     "text": [
      "account.balance 0\n",
      "account.holder Kirk\n",
      "account.interest 0.02\n",
      "account.interest 6\n",
      "account.interest 5\n",
      "checking.deposit(10) 10\n",
      "checking.withdraw(5) 4\n",
      "checking.interest 0.01\n"
     ]
    }
   ],
   "source": [
    "class Account:\n",
    "    \"\"\"a bank account thtat has a non-negative balance.\"\"\"\n",
    "    interest = 0.02\n",
    "    def __init__(self, account_holder):\n",
    "        self.balance = 0\n",
    "        self.holder = account_holder\n",
    "    def deposit(self,amount):\n",
    "        \"\"\"increase the account balance by amount and return the new balance.\"\"\"\n",
    "        self.balance = self.balance + amount\n",
    "        return self.balance\n",
    "    def withdraw(self,amount):\n",
    "        \"\"\"decrease the account balance by amount and return the new balance.\"\"\"\n",
    "        if amount > self.balance:\n",
    "            return 'insufficient funds'\n",
    "        self.balance = self.balance - amount\n",
    "        return self.balance\n",
    "\n",
    "\n",
    "a = Account('Kirk')\n",
    "\n",
    "print('account.balance',a.balance)\n",
    "print('account.holder',a.holder)\n",
    "print('account.interest', a.interest)\n",
    "\n",
    "\n",
    "Account.interest = 6\n",
    "print('account.interest', a.interest)\n",
    "a.interest = 5\n",
    "print('account.interest', a.interest)\n",
    "\n",
    "\n",
    "class CheckingAccount(Account):\n",
    "    \"\"\"a bank account that charges for withdrawals.\"\"\"\n",
    "    withdraw_charge = 1\n",
    "    interest = 0.01\n",
    "    def withdraw(self, amount):\n",
    "        return Account.withdraw(self, amount + self.withdraw_charge)\n",
    "    \n",
    "\n",
    "checking = CheckingAccount('sam')\n",
    "print('checking.deposit(10)',checking.deposit(10))\n",
    "print('checking.withdraw(5)',checking.withdraw(5))\n",
    "print('checking.interest',checking.interest)"
   ]
  },
  {
   "attachments": {},
   "cell_type": "markdown",
   "metadata": {},
   "source": [
    "### 实例和对象"
   ]
  },
  {
   "cell_type": "code",
   "execution_count": 15,
   "metadata": {},
   "outputs": [
    {
     "name": "stdout",
     "output_type": "stream",
     "text": [
      "locals {'interest': 0.02, '__init__': <function make_account_class.<locals>.__init__ at 0x7f8f84388310>, 'deposit': <function make_account_class.<locals>.deposit at 0x7f8f843888b0>, 'withdraw': <function make_account_class.<locals>.withdraw at 0x7f8f843885e0>}\n",
      "holder Kirk\n",
      "interest 0.02\n",
      "deposit 20\n",
      "withdraw 15\n",
      "interest set None\n",
      "interest get 0.04\n",
      "interest Account 0.02\n",
      "interest 0.01\n",
      "deposit 20\n",
      "withdraw 14\n"
     ]
    }
   ],
   "source": [
    "def make_instance(cls):\n",
    "    \"\"\"return a new object instance, which is a dispatch dictionary.\"\"\"\n",
    "    def get_value(name):\n",
    "        if name in attributes:\n",
    "            return attributes[name]\n",
    "        else:\n",
    "            value = cls['get'](name)\n",
    "            return bind_method(value,instance)\n",
    "    def set_value(name,value):\n",
    "        attributes[name] = value\n",
    "    attributes = {}\n",
    "    instance = {'get': get_value,'set': set_value}\n",
    "    return instance\n",
    "\n",
    "\n",
    "def bind_method(value, instance):\n",
    "    \"\"\"return a bound method if values is callable, or value otherwise.\"\"\"\n",
    "    if callable(value):\n",
    "        def method(*args):\n",
    "            return value(instance,*args)\n",
    "        return method\n",
    "    else:\n",
    "        return value\n",
    "    \n",
    "def make_class(attributes, base_class=None):\n",
    "    \"\"\"return a new class,which is a dispatch dictionary.\"\"\"\n",
    "    def get_value(name):\n",
    "        if name in attributes:\n",
    "            return attributes[name]\n",
    "        elif base_class is not None:\n",
    "            return base_class['get'](name)\n",
    "    def set_value(name,value):\n",
    "        attributes[name] = value\n",
    "    def new(*args):\n",
    "        return init_instance(cls,*args)\n",
    "    cls = {'get':get_value,'set':set_value,'new':new}\n",
    "    return cls\n",
    "\n",
    "def init_instance(cls, *args):\n",
    "    \"\"\"return a new object with type cls, initialized with args.\"\"\"\n",
    "    instance = make_instance(cls)\n",
    "    init = cls['get']('__init__')\n",
    "    if init:\n",
    "        init(instance, *args)\n",
    "    return instance\n",
    "\n",
    "def make_account_class():\n",
    "    \"\"\"return the account class,which has deposit and withdraw methods.\"\"\"\n",
    "    interest = 0.02\n",
    "    def __init__(self,account_holder):\n",
    "        self['set']('holder',account_holder)\n",
    "        self['set']('balance',0)\n",
    "    def deposit(self, amount):\n",
    "        \"\"\"increase the account balance by amount and return the new balance.\"\"\"\n",
    "        new_balance = self['get']('balance') + amount\n",
    "        self['set']('balance',new_balance)\n",
    "        return self['get']('balance')\n",
    "    def withdraw(self,amount):\n",
    "        \"\"\"decrease the account balance by amount and return the new balance.\"\"\"\n",
    "        balance = self['get']('balance')\n",
    "        if amount > balance:\n",
    "            return 'insufficient funds'\n",
    "        self['set']('balance',balance -amount)\n",
    "        return self['get']('balance')\n",
    "    print('locals',locals())\n",
    "    return make_class(locals())\n",
    "\n",
    "Account = make_account_class()\n",
    "kirk_account = Account['new']('Kirk')\n",
    "print('holder',kirk_account['get']('holder'))\n",
    "print('interest',kirk_account['get']('interest'))\n",
    "print('deposit',kirk_account['get']('deposit')(20))\n",
    "print('withdraw',kirk_account['get']('withdraw')(5))\n",
    "print('interest set',kirk_account['set']('interest',0.04))\n",
    "print('interest get',kirk_account['get']('interest'))\n",
    "print('interest Account',Account['get']('interest'))\n",
    "\n",
    "def make_checking_account_class():\n",
    "    \"\"\"return the checkingAccount class,which imposes a $1 withdrawal fee.\"\"\"\n",
    "    interest = 0.01\n",
    "    withdraw_fee = 1\n",
    "    def withdraw(self,amount):\n",
    "        fee = self['get']('withdraw_fee')\n",
    "        return Account['get']('withdraw')(self, amount + fee)\n",
    "    return make_class(locals(), Account)\n",
    "\n",
    "\n",
    "CheckingAccount = make_checking_account_class()\n",
    "jack_acct = CheckingAccount['new']('Spock')\n",
    "print('interest',jack_acct['get']('interest'))\n",
    "print('deposit',jack_acct['get']('deposit')(20))\n",
    "print('withdraw',jack_acct['get']('withdraw')(5))"
   ]
  },
  {
   "attachments": {},
   "cell_type": "markdown",
   "metadata": {},
   "source": [
    "对象抽象的一个中心概念是范型函数，实现范型的三个不同的技术是：共享接口、类型分派、强制类型转换"
   ]
  },
  {
   "cell_type": "code",
   "execution_count": 16,
   "metadata": {},
   "outputs": [
    {
     "data": {
      "text/plain": [
       "7"
      ]
     },
     "execution_count": 16,
     "metadata": {},
     "output_type": "execute_result"
    }
   ],
   "source": [
    "def make_addr(n):\n",
    "    def addr(k):\n",
    "        return n + k\n",
    "    return addr\n",
    "\n",
    "class Addr(object):\n",
    "    def __init__(self,n):\n",
    "        self.n = n\n",
    "    def __call__(self,k):\n",
    "        return self.n + k\n",
    "    \n",
    "add_three_obj = Addr(3)\n",
    "add_three_obj(4)"
   ]
  },
  {
   "cell_type": "code",
   "execution_count": 4,
   "metadata": {},
   "outputs": [
    {
     "name": "stdout",
     "output_type": "stream",
     "text": [
      "ri.real 5\n",
      "ri.magnitude 13.0\n",
      "ri.real 9\n",
      "ri.magnitude 15.0\n",
      "ma.imag 2.0\n",
      "ma.real 1.2246467991473532e-16\n",
      "ma.imag 2.4492935982947064e-16\n",
      "ma.real -2.0\n",
      "ComplexRI(1,2) + ComplexMA(2,pi/2) complexRI(1,4)\n",
      "ComplexRI(0,1) * ComplexRI(0,1) ComplexMA(2,1)\n"
     ]
    }
   ],
   "source": [
    "from math import atan2,sin,cos,pi\n",
    "class Number:\n",
    "    def __add__(self, other):\n",
    "        return self.add(other)\n",
    "    def __mul__(self, other):\n",
    "        return self.mul(other)\n",
    "    \n",
    "\n",
    "    \n",
    "class Complex(Number):\n",
    "    def add(self,other):\n",
    "        return ComplexRI(self.real+other.real, self.imag+other.imag)\n",
    "    def mul(self,other):\n",
    "        magnitude = self.magnitude + other.magnitude\n",
    "        return ComplexMA(magnitude, self.angle + other.angle)\n",
    "    \n",
    "class ComplexMA(Complex):\n",
    "    def __init__(self,magnitude,angle):\n",
    "        self.magnitude = magnitude\n",
    "        self.angle = angle\n",
    "    @property\n",
    "    def real(self):\n",
    "        return self.magnitude * cos(self.angle)\n",
    "    @property\n",
    "    def imag(self):\n",
    "        return self.magnitude * sin(self.angle)\n",
    "    def __repr__(self):\n",
    "        return 'ComplexMA({0:g},{1:g})'.format(self.magnitude, self.angle/pi)\n",
    "    \n",
    "class ComplexRI(Complex):\n",
    "    def __init__(self,real,imag):\n",
    "        self.real = real\n",
    "        self.imag = imag\n",
    "    @property\n",
    "    def magnitude(self):\n",
    "        return (self.real ** 2 + self.imag ** 2) ** 0.5\n",
    "    @property\n",
    "    def angle(self):\n",
    "        return atan2(self.imag, self.real)\n",
    "    def __repr__(self):\n",
    "        return 'complexRI({0:g},{1:g})'.format(self.real,self.imag)\n",
    "    \n",
    "ri = ComplexRI(5,12)\n",
    "print('ri.real',ri.real)\n",
    "print('ri.magnitude',ri.magnitude)\n",
    "ri.real = 9\n",
    "print('ri.real',ri.real)\n",
    "print('ri.magnitude',ri.magnitude)\n",
    "\n",
    "ma = ComplexMA(2,pi/2)\n",
    "print('ma.imag',ma.imag)\n",
    "print('ma.real',ma.real)\n",
    "ma.angle = pi\n",
    "print('ma.imag',ma.imag)\n",
    "print('ma.real',ma.real)\n",
    "\n",
    "print('ComplexRI(1,2) + ComplexMA(2,pi/2)',ComplexRI(1,2) + ComplexMA(2,pi/2))\n",
    "print('ComplexRI(0,1) * ComplexRI(0,1)',ComplexRI(0,1) * ComplexRI(0,1))"
   ]
  },
  {
   "cell_type": "code",
   "execution_count": 9,
   "metadata": {},
   "outputs": [
    {
     "name": "stdout",
     "output_type": "stream",
     "text": [
      "Rational(2,5) + Rational(1,10) = Rational(1,2)\n",
      "Rational(1,4)  * Rational(2,3) = Rational(1,6)\n"
     ]
    }
   ],
   "source": [
    "from math import gcd\n",
    "\n",
    "class Rational(Number):\n",
    "    def __init__(self, number, denom):\n",
    "        g = gcd(number, denom)\n",
    "        self.number = number // g\n",
    "        self.denom = denom // g\n",
    "    def __repr__(self):\n",
    "        return 'Rational({0},{1})'.format(self.number, self.denom)\n",
    "    def add(self,other):\n",
    "        nx,dx = self.number , self.denom\n",
    "        ny,dy = other.number , other.denom\n",
    "        return Rational(nx*dy + ny*dx, dx*dy)\n",
    "    def mul(self,other):\n",
    "        number = self.number * other.number\n",
    "        denom = self.denom * other.denom\n",
    "        return Rational(number, denom)\n",
    "    \n",
    "print(\"Rational(2,5) + Rational(1,10) =\",Rational(2,5) + Rational(1,10))\n",
    "print(\"Rational(1,4)  * Rational(2,3) =\",Rational(1,4)  * Rational(2,3))"
   ]
  },
  {
   "cell_type": "code",
   "execution_count": 11,
   "metadata": {},
   "outputs": [
    {
     "name": "stdout",
     "output_type": "stream",
     "text": [
      "is_real(ComplexRI(1,1)) = False\n",
      "is_real(ComplexMA(2,pi)) = True\n"
     ]
    }
   ],
   "source": [
    "from math import pi\n",
    "def is_real(c):\n",
    "    \"\"\"return whether c is a real number with no imaginary part.\"\"\"\n",
    "    if isinstance(c,ComplexRI):\n",
    "        return c.imag == 0\n",
    "    elif isinstance(c,ComplexMA):\n",
    "        return c.angle % pi == 0\n",
    "    \n",
    "print('is_real(ComplexRI(1,1)) =', is_real(ComplexRI(1,1)))\n",
    "print('is_real(ComplexMA(2,pi)) =', is_real(ComplexMA(2,pi)))"
   ]
  }
 ],
 "metadata": {
  "kernelspec": {
   "display_name": "base",
   "language": "python",
   "name": "python3"
  },
  "language_info": {
   "codemirror_mode": {
    "name": "ipython",
    "version": 3
   },
   "file_extension": ".py",
   "mimetype": "text/x-python",
   "name": "python",
   "nbconvert_exporter": "python",
   "pygments_lexer": "ipython3",
   "version": "3.9.12"
  },
  "orig_nbformat": 4
 },
 "nbformat": 4,
 "nbformat_minor": 2
}
