{
 "cells": [
  {
   "cell_type": "markdown",
   "id": "81fcd94a-4109-459e-b07b-c792af70b554",
   "metadata": {},
   "source": [
    "变量\n",
    "\n",
    "```scheme\n",
    "(define <var> <body>)\n",
    "```"
   ]
  },
  {
   "cell_type": "code",
   "execution_count": 2,
   "id": "61452e60-7fa2-4071-bedd-85b59e414a77",
   "metadata": {},
   "outputs": [
    {
     "data": {
      "text/plain": [
       "2"
      ]
     },
     "execution_count": 2,
     "metadata": {},
     "output_type": "execute_result"
    }
   ],
   "source": [
    "(define size 2)\n",
    "size"
   ]
  },
  {
   "cell_type": "markdown",
   "id": "1a86cd16-6f48-467c-8475-af744969fbeb",
   "metadata": {},
   "source": [
    "函数\n",
    "\n",
    "```scheme\n",
    "(define (<name>  <formal parameters>) <body>)\n",
    "```"
   ]
  },
  {
   "cell_type": "code",
   "execution_count": 3,
   "id": "106bbd35-f09a-4a4d-8e55-c9c47e8e4da5",
   "metadata": {},
   "outputs": [
    {
     "data": {
      "text/plain": [
       "4"
      ]
     },
     "execution_count": 3,
     "metadata": {},
     "output_type": "execute_result"
    }
   ],
   "source": [
    "(define (sqrt x) (* x x))\n",
    "(sqrt 2)"
   ]
  },
  {
   "cell_type": "code",
   "execution_count": null,
   "id": "5e284698-67d9-485c-bd51-6a471a720e61",
   "metadata": {},
   "outputs": [],
   "source": []
  }
 ],
 "metadata": {
  "kernelspec": {
   "display_name": "Calysto Scheme 3",
   "language": "scheme",
   "name": "calysto_scheme"
  },
  "language_info": {
   "codemirror_mode": {
    "name": "scheme"
   },
   "mimetype": "text/x-scheme",
   "name": "scheme",
   "pygments_lexer": "scheme"
  }
 },
 "nbformat": 4,
 "nbformat_minor": 5
}
