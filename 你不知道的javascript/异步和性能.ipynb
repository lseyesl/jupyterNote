{
 "cells": [
  {
   "cell_type": "markdown",
   "metadata": {},
   "source": [
    "# 异步和性能"
   ]
  },
  {
   "cell_type": "markdown",
   "metadata": {},
   "source": [
    "## 异步"
   ]
  },
  {
   "cell_type": "code",
   "execution_count": null,
   "metadata": {},
   "outputs": [],
   "source": [
    "{\n",
    "    //伪代码\n",
    "    var eventLoop = [];\n",
    "    var event;\n",
    "    \n",
    "    while(true){\n",
    "        if(eventLoop.length > 0){\n",
    "            event = eventLoop.shift();\n",
    "            \n",
    "            try{\n",
    "                event();\n",
    "            }catch(err){\n",
    "                reportError(err);\n",
    "            }\n",
    "        }\n",
    "    }\n",
    "}"
   ]
  },
  {
   "cell_type": "markdown",
   "metadata": {},
   "source": [
    "## 回调"
   ]
  },
  {
   "cell_type": "markdown",
   "metadata": {},
   "source": [
    "## promise"
   ]
  },
  {
   "cell_type": "code",
   "execution_count": 1,
   "metadata": {},
   "outputs": [
    {
     "name": "stdout",
     "output_type": "stream",
     "text": [
      "err is ReferenceError: foo is not defined\n"
     ]
    }
   ],
   "source": [
    "{\n",
    "    var p = new Promise(function(resolve,reject){\n",
    "        foo.bar();\n",
    "        resolve(42);\n",
    "    })\n",
    "    \n",
    "    p.then(function(){\n",
    "        console.log(`never`);\n",
    "    },function(err){\n",
    "        console.log(`err is ${err}`);\n",
    "    })\n",
    "}"
   ]
  },
  {
   "cell_type": "code",
   "execution_count": 3,
   "metadata": {},
   "outputs": [
    {
     "name": "stdout",
     "output_type": "stream",
     "text": [
      "then err is ReferenceError: foo is not defined\n"
     ]
    }
   ],
   "source": [
    "{\n",
    "    var p = new Promise(function(resolve,reject){\n",
    "        resolve(42);\n",
    "    });\n",
    "    \n",
    "    p.then(function(){\n",
    "        foo.bar();\n",
    "        console.log(`this is an error`);\n",
    "    },function(err){\n",
    "        console.log(`err is ${err}`);\n",
    "    }).then(function(suc){\n",
    "        console.log(`then suc is ${suc}`)\n",
    "    },function(err){\n",
    "        console.log(`then err is ${err}`);\n",
    "    })\n",
    "}"
   ]
  },
  {
   "cell_type": "code",
   "execution_count": null,
   "metadata": {},
   "outputs": [],
   "source": [
    "{\n",
    "    Promise.all([])//等全部完成\n",
    "    Promise.race([])//等待第一个完成\n",
    "}"
   ]
  },
  {
   "cell_type": "markdown",
   "metadata": {},
   "source": [
    "`then` 接受一个或两个参数：1 用于完成回调，2 用于拒绝回调\n",
    "`catch` 接受一个拒绝回调 相当于`then(null,cb)`"
   ]
  },
  {
   "cell_type": "markdown",
   "metadata": {},
   "source": [
    "## 生成器"
   ]
  },
  {
   "cell_type": "code",
   "execution_count": 6,
   "metadata": {},
   "outputs": [
    {
     "name": "stdout",
     "output_type": "stream",
     "text": [
      "1x is 1\n",
      "2x is 2\n",
      "3x is 3\n",
      "iterator x is 3\n",
      "4x is 3\n"
     ]
    }
   ],
   "source": [
    "{\n",
    "    var x = 1;\n",
    "    \n",
    "    function *foo(){\n",
    "        x++;\n",
    "        yield;\n",
    "        console.log(`iterator x is ${x}`);\n",
    "    }\n",
    "    \n",
    "    function bar(){\n",
    "        x++;\n",
    "    }\n",
    "    \n",
    "    var it = foo();\n",
    "    console.log(`1x is ${x}`);\n",
    "    bar();\n",
    "    console.log(`2x is ${x}`);\n",
    "    it.next();\n",
    "    console.log(`3x is ${x}`);\n",
    "    it.next();\n",
    "    console.log(`4x is ${x}`);\n",
    "}"
   ]
  },
  {
   "cell_type": "code",
   "execution_count": 5,
   "metadata": {},
   "outputs": [
    {
     "name": "stdout",
     "output_type": "stream",
     "text": [
      "it.next() is {\"done\":false}\n",
      "res is {\"value\":42,\"done\":true}\n"
     ]
    }
   ],
   "source": [
    "{\n",
    "    function *foo(x){\n",
    "        let y = x *(yield);\n",
    "        return y;\n",
    "    }\n",
    "    \n",
    "    let it = foo(6);\n",
    "    console.log(`it.next() is ${JSON.stringify(it.next())}`);\n",
    "    \n",
    "    let res = it.next(7);\n",
    "    console.log(`res is ${JSON.stringify(res)}`);\n",
    "}"
   ]
  },
  {
   "cell_type": "code",
   "execution_count": 8,
   "metadata": {},
   "outputs": [
    {
     "name": "stdout",
     "output_type": "stream",
     "text": [
      "{\"value\":\"hello\",\"done\":false}\n",
      "{\"value\":42,\"done\":true}\n"
     ]
    }
   ],
   "source": [
    "{\n",
    "    function *foo(x){\n",
    "        let y = x *(yield \"hello\");\n",
    "        return y;\n",
    "    }\n",
    "    \n",
    "    let it = foo(6);\n",
    "    let res = it.next();\n",
    "    console.log(`${JSON.stringify(res)}`);\n",
    "    res = it.next(7);\n",
    "    console.log(`${JSON.stringify(res)}`);\n",
    "}"
   ]
  },
  {
   "cell_type": "code",
   "execution_count": 11,
   "metadata": {},
   "outputs": [
    {
     "name": "stdout",
     "output_type": "stream",
     "text": [
      "12 18\n"
     ]
    }
   ],
   "source": [
    "{\n",
    "    let a = 1;\n",
    "    let b = 2;\n",
    "    \n",
    "    function *foo(){\n",
    "        a++;\n",
    "        yield;\n",
    "        b = b*a;\n",
    "        a = (yield b) + 3;\n",
    "    }\n",
    "    \n",
    "    function *bar(){\n",
    "        b--;\n",
    "        yield;\n",
    "        a = (yield 8)+b;\n",
    "        b = a*(yield 2);\n",
    "    }\n",
    "    \n",
    "    function setp(gen){\n",
    "        let it = gen();\n",
    "        let last;\n",
    "        \n",
    "        return function(){\n",
    "            last = it.next(last).value;\n",
    "        }\n",
    "    }\n",
    "    \n",
    "    let s1 = setp(foo);\n",
    "    let s2 = setp(bar);\n",
    "    \n",
    "//     s1();\n",
    "//     s1();\n",
    "//     s1();\n",
    "    \n",
    "//     s2();\n",
    "//     s2();\n",
    "//     s2();\n",
    "//     s2();\n",
    "    \n",
    "    s2();\n",
    "    s2();\n",
    "    s1();\n",
    "    s2();\n",
    "    \n",
    "    s1();\n",
    "    \n",
    "    s1();\n",
    "    s2();\n",
    "    \n",
    "    console.log(a,b);\n",
    "}"
   ]
  },
  {
   "cell_type": "code",
   "execution_count": 13,
   "metadata": {},
   "outputs": [
    {
     "name": "stdout",
     "output_type": "stream",
     "text": [
      "1\n",
      "9\n",
      "33\n",
      "105\n"
     ]
    }
   ],
   "source": [
    "{\n",
    "    let gimmeSomething = (function(){\n",
    "        let nextVal;\n",
    "        \n",
    "        return function(){\n",
    "            if(nextVal === undefined){\n",
    "                nextVal = 1;\n",
    "            }else{\n",
    "                nextVal = (3*nextVal)+6;\n",
    "            }\n",
    "            return nextVal;\n",
    "        }\n",
    "    })();\n",
    "    \n",
    "    console.log(gimmeSomething());\n",
    "    console.log(gimmeSomething());\n",
    "    console.log(gimmeSomething());\n",
    "    console.log(gimmeSomething());\n",
    "}"
   ]
  },
  {
   "cell_type": "code",
   "execution_count": 14,
   "metadata": {},
   "outputs": [
    {
     "name": "stdout",
     "output_type": "stream",
     "text": [
      "1\n",
      "9\n",
      "33\n",
      "105\n"
     ]
    }
   ],
   "source": [
    "{\n",
    "    let something = (function(){\n",
    "        var nextVal;\n",
    "        \n",
    "        return {\n",
    "            [Symbol.iterator]:function(){return this;},\n",
    "            next:function(){\n",
    "                if(nextVal===undefined){\n",
    "                    nextVal = 1;\n",
    "                }else{\n",
    "                    nextVal = (3*nextVal)+6;\n",
    "                }\n",
    "                \n",
    "                return {done:false,value:nextVal};\n",
    "            }\n",
    "        }\n",
    "    })();\n",
    "    \n",
    "    console.log(something.next().value);\n",
    "    console.log(something.next().value);\n",
    "    console.log(something.next().value);\n",
    "    console.log(something.next().value);\n",
    "}"
   ]
  },
  {
   "cell_type": "code",
   "execution_count": 16,
   "metadata": {},
   "outputs": [
    {
     "name": "stdout",
     "output_type": "stream",
     "text": [
      "1\n",
      "9\n",
      "33\n",
      "105\n",
      "321\n",
      "969\n",
      "cleaning up!\n",
      "hello\n"
     ]
    }
   ],
   "source": [
    "{\n",
    "    function *something(){\n",
    "        try{\n",
    "            var nextVal;\n",
    "            while(true){\n",
    "                if(nextVal === undefined){\n",
    "                    nextVal = 1;\n",
    "                }else{\n",
    "                    nextVal = (3*nextVal)+6;\n",
    "                }\n",
    "\n",
    "                yield nextVal;\n",
    "            }\n",
    "        }\n",
    "        finally{\n",
    "            console.log(`cleaning up!`);\n",
    "        }        \n",
    "    }\n",
    "    var it = something();\n",
    "    for(let v of it){\n",
    "        console.log(v);\n",
    "        if(v>500){\n",
    "            console.log(\n",
    "                it.return('hello').value\n",
    "            )\n",
    "        }\n",
    "    }\n",
    "}"
   ]
  },
  {
   "cell_type": "code",
   "execution_count": 20,
   "metadata": {},
   "outputs": [
    {
     "data": {
      "text/plain": [
       "{ value: undefined, done: false }"
      ]
     },
     "execution_count": 20,
     "metadata": {},
     "output_type": "execute_result"
    },
    {
     "name": "stdout",
     "output_type": "stream",
     "text": [
      "text is success\n"
     ]
    }
   ],
   "source": [
    "{\n",
    "    function foo(flag){\n",
    "        setTimeout(function(){\n",
    "            if(flag){\n",
    "                it.throw(flag);\n",
    "            }else{\n",
    "                it.next('success')\n",
    "            }\n",
    "        },1000);\n",
    "    }\n",
    "    \n",
    "    function *main(){\n",
    "        try{\n",
    "            let text = yield foo(false);\n",
    "            console.log(`text is ${text}`);\n",
    "        }catch(err){\n",
    "            console.error(err);\n",
    "        }\n",
    "    }\n",
    "    \n",
    "    let it = main();\n",
    "    it.next();\n",
    "}"
   ]
  },
  {
   "cell_type": "code",
   "execution_count": 21,
   "metadata": {},
   "outputs": [
    {
     "name": "stderr",
     "output_type": "stream",
     "text": [
      "Oops\n"
     ]
    }
   ],
   "source": [
    "{\n",
    "    function *main(){\n",
    "        let x = yield \"hello world\";\n",
    "        console.log(x);\n",
    "    }\n",
    "    \n",
    "    let it = main();\n",
    "    \n",
    "    it.next();\n",
    "    \n",
    "    try{\n",
    "        it.throw('Oops');\n",
    "    }catch(err){\n",
    "        console.error(err);\n",
    "    }\n",
    "}"
   ]
  },
  {
   "cell_type": "code",
   "execution_count": 27,
   "metadata": {},
   "outputs": [
    {
     "name": "stdout",
     "output_type": "stream",
     "text": [
      "Promise { <pending> }\n"
     ]
    },
    {
     "name": "stderr",
     "output_type": "stream",
     "text": [
      "reject\n"
     ]
    }
   ],
   "source": [
    "{\n",
    "    function foo(flag){\n",
    "        return new Promise(function(resolve,reject){\n",
    "            setTimeout(function(){\n",
    "                if(flag){\n",
    "                    resolve('resolve');\n",
    "                }else{\n",
    "                    reject('reject');\n",
    "                }                           \n",
    "            },1000);\n",
    "        })\n",
    "    }\n",
    "    \n",
    "    function *main(){\n",
    "        try{\n",
    "            let text = yield foo(false/*or true*/);\n",
    "            console.log(text);\n",
    "        }\n",
    "        catch(err){\n",
    "            console.error(err);\n",
    "        }\n",
    "    }\n",
    "    \n",
    "    let it = main();\n",
    "    let p = it.next().value;\n",
    "    console.log(p);\n",
    "    p.then(function(text){\n",
    "        it.next(text);\n",
    "    },function(text){\n",
    "        it.throw(text);\n",
    "    })\n",
    "    \n",
    "}"
   ]
  },
  {
   "cell_type": "code",
   "execution_count": null,
   "metadata": {},
   "outputs": [],
   "source": [
    "{\n",
    "    function run(gen){\n",
    "        var args = [].slice.call(arguments,1),it;\n",
    "        \n",
    "        it = gen.apply(this,args);\n",
    "        \n",
    "        return Promise.resolve().\n",
    "            then(function handleNext(value){\n",
    "                var next = it.next(value);\n",
    "                \n",
    "                return (function handleResult(next){\n",
    "                    if(next.done){\n",
    "                        return next.value;\n",
    "                    }else{\n",
    "                        return Promise.resolve(next.value).\n",
    "                            then(handleNext,function handleErr(err){\n",
    "                                return Promise.resolve(\n",
    "                                    it.throw(err)\n",
    "                                ).then(handleResult);\n",
    "                        });\n",
    "                    }\n",
    "                })(next);\n",
    "        })\n",
    "    }\n",
    "}"
   ]
  },
  {
   "cell_type": "code",
   "execution_count": 29,
   "metadata": {},
   "outputs": [
    {
     "name": "stderr",
     "output_type": "stream",
     "text": [
      "reject\n"
     ]
    }
   ],
   "source": [
    "{\n",
    "    function foo(flag){\n",
    "        return new Promise(function(resolve,reject){\n",
    "            setTimeout(function(){\n",
    "                if(flag){\n",
    "                    resolve('resolve');\n",
    "                }else{\n",
    "                    reject('reject');\n",
    "                }                           \n",
    "            },1000);\n",
    "        })\n",
    "    }\n",
    "    \n",
    "    async function main(){\n",
    "        try{\n",
    "            let text = await foo(false/*or true*/);\n",
    "            console.log(text);\n",
    "        }\n",
    "        catch(err){\n",
    "            console.error(err);\n",
    "        }\n",
    "    }\n",
    "    \n",
    "    main();\n",
    "    \n",
    "}"
   ]
  },
  {
   "cell_type": "markdown",
   "metadata": {},
   "source": [
    "`yield * __` yield 委托"
   ]
  },
  {
   "cell_type": "code",
   "execution_count": 30,
   "metadata": {},
   "outputs": [
    {
     "name": "stdout",
     "output_type": "stream",
     "text": [
      "1.it.next() is {\"value\":1,\"done\":false}\n",
      "2.it.next() is {\"value\":2,\"done\":false}\n",
      "*foo() staring\n",
      "3.it.next() is {\"value\":3,\"done\":false}\n",
      "4.it.next() is {\"value\":4,\"done\":false}\n",
      "*foo() finished\n",
      "5.it.next() is {\"value\":5,\"done\":false}\n"
     ]
    }
   ],
   "source": [
    "{\n",
    "    function *foo(){\n",
    "        console.log(`*foo() staring`);\n",
    "        yield 3;\n",
    "        yield 4;\n",
    "        console.log(`*foo() finished`);\n",
    "    }\n",
    "    function *bar(){\n",
    "        yield 1;\n",
    "        yield 2;\n",
    "        yield *foo();\n",
    "        yield 5;\n",
    "    }\n",
    "    \n",
    "    let it = bar();\n",
    "    console.log(`1.it.next() is ${JSON.stringify(it.next())}`);\n",
    "    console.log(`2.it.next() is ${JSON.stringify(it.next())}`);\n",
    "    console.log(`3.it.next() is ${JSON.stringify(it.next())}`);\n",
    "    console.log(`4.it.next() is ${JSON.stringify(it.next())}`);\n",
    "    console.log(`5.it.next() is ${JSON.stringify(it.next())}`);\n",
    "}"
   ]
  },
  {
   "cell_type": "markdown",
   "metadata": {},
   "source": [
    "## 程序性能\n",
    "\n",
    "### web worker\n",
    "\n",
    "worker之间以及它们和主程序之间，不会共享任何作用域或资源。而是通过一个基本的事件消息机制相互联系。\n",
    "\n",
    "web worker不能访问主程序的任何全局变量，也不能访问页面DOM或其他资源。\n",
    "\n",
    "但是可以进行网络操作(`ajax`,`websockets`) 以及设定定时器。\n",
    "\n",
    "web worker可以访问`navigator`,`location`,`JSON`,`applicationCache`.\n",
    "\n",
    "还可以通过`importScripts(...)`加载额外的javascript脚本。\n",
    "\n",
    "web worker 常用于一下方面\n",
    "- 处理密集型数学计算\n",
    "- 大数据集排序\n",
    "- 数据处理 (压缩、音频分析、图像处理等)\n",
    "- 高流量网络通信"
   ]
  },
  {
   "cell_type": "code",
   "execution_count": null,
   "metadata": {},
   "outputs": [],
   "source": [
    "{\n",
    "    var w1 = new Worker(\"webworker.js\");\n",
    "    \n",
    "    w1.addEventListener('message',function(evt){\n",
    "        console.log(`w1 ge message is ${evt}`);\n",
    "    })\n",
    "    \n",
    "    w1.postMessage('go in');\n",
    "}"
   ]
  },
  {
   "cell_type": "markdown",
   "metadata": {},
   "source": [
    "### SIMD 单指令多数据"
   ]
  },
  {
   "cell_type": "markdown",
   "metadata": {},
   "source": [
    "## 性能测试与调优"
   ]
  },
  {
   "cell_type": "code",
   "execution_count": 32,
   "metadata": {},
   "outputs": [
    {
     "name": "stdout",
     "output_type": "stream",
     "text": [
      "Duration:1\n"
     ]
    }
   ],
   "source": [
    "{\n",
    "    var start = (new Date()).getTime();\n",
    "    var end = (new Date()).getTime();\n",
    "    console.log(`Duration:${end-start}`);\n",
    "}"
   ]
  },
  {
   "cell_type": "code",
   "execution_count": null,
   "metadata": {},
   "outputs": [],
   "source": []
  }
 ],
 "metadata": {
  "kernelspec": {
   "display_name": "Javascript (Node.js)",
   "language": "javascript",
   "name": "javascript"
  },
  "language_info": {
   "file_extension": ".js",
   "mimetype": "application/javascript",
   "name": "javascript",
   "version": "12.13.0"
  }
 },
 "nbformat": 4,
 "nbformat_minor": 4
}
