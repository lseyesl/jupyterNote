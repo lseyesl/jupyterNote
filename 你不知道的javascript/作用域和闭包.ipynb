{
 "cells": [
  {
   "cell_type": "markdown",
   "metadata": {},
   "source": [
    "# 作用域和闭包"
   ]
  },
  {
   "cell_type": "markdown",
   "metadata": {},
   "source": [
    "## 作用域\n",
    "\n",
    "编译\n",
    "- 分词/词法分析(Tokenizing/Lexing)\n",
    "- 解析/语法分析(Parsing)\n",
    "- 代码生成\n",
    "\n",
    "## 词法作用域\n",
    "\n",
    "作用域的工作模式\n",
    "- 词法作用域\n",
    "- 动态作用域\n",
    "\n",
    "运行时修改词法作用域\n",
    "- eval\n",
    "- with"
   ]
  },
  {
   "cell_type": "code",
   "execution_count": 1,
   "metadata": {},
   "outputs": [
    {
     "name": "stdout",
     "output_type": "stream",
     "text": [
      "1 3\n"
     ]
    }
   ],
   "source": [
    "{\n",
    "    function foo(str,a){\n",
    "        eval(str);\n",
    "        console.log(a,b);\n",
    "    }\n",
    "    \n",
    "    var b = 2;\n",
    "    foo(\"var b = 3;\",1);\n",
    "}"
   ]
  },
  {
   "cell_type": "markdown",
   "metadata": {},
   "source": [
    "## 函数作用域和块作用域"
   ]
  },
  {
   "cell_type": "code",
   "execution_count": 7,
   "metadata": {},
   "outputs": [
    {
     "name": "stdout",
     "output_type": "stream",
     "text": [
      "parent this is {\"son\":{\"fn2\":\"sonfn2\"}}\n",
      " and true and name is undefined\n",
      "son this is {\"fn2\":\"sonfn2\"}\n",
      " and true and name is undefined\n"
     ]
    }
   ],
   "source": [
    "{\n",
    "    var obj = {\n",
    "        parent:function a(){\n",
    "            console.log(`parent this is ${JSON.stringify(this)}\\n and ${obj===this} and name is ${this.name}`);\n",
    "        },\n",
    "        son:{\n",
    "            fn:function b(){\n",
    "                console.log(`son this is ${JSON.stringify(this)}\\n and ${obj.son===this} and name is ${this.name}`);\n",
    "            },\n",
    "            fn2:'sonfn2'\n",
    "        }\n",
    "    }\n",
    "    obj.parent();\n",
    "    obj.son.fn();\n",
    "}"
   ]
  },
  {
   "cell_type": "markdown",
   "metadata": {},
   "source": [
    "## 提升"
   ]
  },
  {
   "cell_type": "code",
   "execution_count": 10,
   "metadata": {},
   "outputs": [
    {
     "name": "stdout",
     "output_type": "stream",
     "text": [
      "var a is function\n",
      "var a is number\n"
     ]
    }
   ],
   "source": [
    "{\n",
    "    (function test(){\n",
    "        var a;\n",
    "        function a(){}\n",
    "        console.log(`var a is ${typeof a}`);\n",
    "        a = 1;\n",
    "        console.log(`var a is ${typeof a}`);\n",
    "    })();\n",
    "}"
   ]
  },
  {
   "cell_type": "code",
   "execution_count": 11,
   "metadata": {},
   "outputs": [
    {
     "name": "stdout",
     "output_type": "stream",
     "text": [
      "foo trigger\n"
     ]
    }
   ],
   "source": [
    "{\n",
    "    (function test(){\n",
    "        foo();\n",
    "        function foo(){\n",
    "            console.log(`foo trigger`);\n",
    "        }\n",
    "    })();\n",
    "}"
   ]
  },
  {
   "cell_type": "markdown",
   "metadata": {},
   "source": [
    "函数会被优先提升，其次是变量。"
   ]
  },
  {
   "cell_type": "markdown",
   "metadata": {},
   "source": [
    "## 作用域闭包"
   ]
  },
  {
   "cell_type": "code",
   "execution_count": 12,
   "metadata": {},
   "outputs": [
    {
     "data": {
      "text/plain": [
       "Timeout {\n",
       "  _idleTimeout: 1,\n",
       "  _idlePrev: [TimersList],\n",
       "  _idleNext: [Timeout],\n",
       "  _idleStart: 70553796,\n",
       "  _onTimeout: [Function],\n",
       "  _timerArgs: undefined,\n",
       "  _repeat: null,\n",
       "  _destroyed: false,\n",
       "  [Symbol(refed)]: true,\n",
       "  [Symbol(asyncId)]: 125,\n",
       "  [Symbol(triggerId)]: 111\n",
       "}"
      ]
     },
     "execution_count": 12,
     "metadata": {},
     "output_type": "execute_result"
    },
    {
     "name": "stdout",
     "output_type": "stream",
     "text": [
      "5\n",
      "5\n",
      "5\n",
      "5\n",
      "1\n",
      "2\n",
      "3\n",
      "4\n",
      "1\n",
      "2\n",
      "3\n",
      "4\n"
     ]
    }
   ],
   "source": [
    "{\n",
    "    for(var i =1;i<5;i++){\n",
    "        setTimeout(function(){\n",
    "            console.log(i);\n",
    "        },0);\n",
    "    }\n",
    "    for(var i =1;i<5;i++){\n",
    "        (function(j){\n",
    "            setTimeout(function(){\n",
    "                console.log(j);\n",
    "            },0);\n",
    "        })(i)\n",
    "    }\n",
    "    for(let ii =1;ii<5;ii++){\n",
    "        setTimeout(function(){\n",
    "            console.log(ii);\n",
    "        },0);\n",
    "    }\n",
    "}"
   ]
  },
  {
   "cell_type": "markdown",
   "metadata": {},
   "source": [
    "## 现代的模块机制"
   ]
  },
  {
   "cell_type": "code",
   "execution_count": null,
   "metadata": {},
   "outputs": [],
   "source": [
    "{\n",
    "    var MyModules = (function Manager(){\n",
    "        var modules = {};\n",
    "        \n",
    "        function define(name, deps, impl){\n",
    "            for(var i =0;i<deps.length;i++){\n",
    "                deps[i]=modules[deps[i]];\n",
    "            }\n",
    "            modules[name]=impl.apply(impl,deps);\n",
    "        }\n",
    "        \n",
    "        function get(name){\n",
    "            return modules[name];\n",
    "        }\n",
    "        \n",
    "        return {\n",
    "            define:define,\n",
    "            get:get\n",
    "        }\n",
    "    })();\n",
    "    \n",
    "    MyModules.define('bar',[],function(){\n",
    "        function hello(who){\n",
    "            return \"Let me introduce: \"+ who;\n",
    "        }\n",
    "        return {\n",
    "            hello:hello\n",
    "        };\n",
    "    });\n",
    "    \n",
    "    MyModules.define('foo',['bar'],function(){\n",
    "        console.log(JSON.stringify(arguments));\n",
    "        var hungry = 'hippo';\n",
    "        function awesome(){\n",
    "            console.log(bar.hello(hungry).toUpperCase());\n",
    "        }\n",
    "        \n",
    "        return {\n",
    "            awesome:awesome\n",
    "        };\n",
    "    });\n",
    "    \n",
    "    var bar = MyModules.get('bar');\n",
    "    var foo = MyModules.get('foo');\n",
    "    console.log(foo);\n",
    "    console.log(bar.hello('hippo'));\n",
    "    \n",
    "    foo.awesome();\n",
    "}"
   ]
  },
  {
   "cell_type": "markdown",
   "metadata": {},
   "source": [
    "## 动态作用域\n",
    "\n",
    "动态作用域 作用域链是基于调用栈，而不是代码中的作用域嵌套。"
   ]
  }
 ],
 "metadata": {
  "kernelspec": {
   "display_name": "Javascript (Node.js)",
   "language": "javascript",
   "name": "javascript"
  },
  "language_info": {
   "file_extension": ".js",
   "mimetype": "application/javascript",
   "name": "javascript",
   "version": "12.13.0"
  }
 },
 "nbformat": 4,
 "nbformat_minor": 4
}
