{
 "cells": [
  {
   "cell_type": "markdown",
   "metadata": {},
   "source": [
    "# 类型和语法"
   ]
  },
  {
   "cell_type": "markdown",
   "metadata": {},
   "source": [
    "## 类型\n",
    "\n",
    "javascript 内置类型：\n",
    "\n",
    "- 基本类型\n",
    "    - 空值 (null)\n",
    "    - 未定义 (undefined)\n",
    "    - 布尔值 (boolean)\n",
    "    - 数字 (number)\n",
    "    - 字符串 (string)\n",
    "    - 符号 (symbol)\n",
    "- 复杂类型\n",
    "    - 对象 (object)"
   ]
  },
  {
   "cell_type": "code",
   "execution_count": 5,
   "metadata": {},
   "outputs": [
    {
     "name": "stdout",
     "output_type": "stream",
     "text": [
      "typeof undefined === 'undefined' true\n",
      "typeof true === 'boolean' true\n",
      "typeof 42 === 'number' true\n",
      "typeof '42' === 'string' true\n",
      "typeof {left:42} === 'object' true\n",
      "typeof Symbol() === 'symbol' true\n",
      "-----------------\n",
      "typeof null === 'object' true\n"
     ]
    }
   ],
   "source": [
    "{\n",
    "    console.log(`typeof undefined === 'undefined'`,typeof undefined === 'undefined');\n",
    "    console.log(`typeof true === 'boolean'`,typeof true === 'boolean');\n",
    "    console.log(`typeof 42 === 'number'`,typeof 42 === 'number');\n",
    "    console.log(`typeof '42' === 'string'`,typeof '42' === 'string');\n",
    "    console.log(`typeof {left:42} === 'object'`,typeof {left:42} === 'object');\n",
    "    console.log(`typeof Symbol() === 'symbol'`,typeof Symbol() === 'symbol');\n",
    "    \n",
    "    console.log(`-----------------`);\n",
    "    \n",
    "    console.log(`typeof null === 'object'`,typeof null === 'object');\n",
    "}"
   ]
  },
  {
   "cell_type": "markdown",
   "metadata": {},
   "source": [
    "`null` 是唯一个用`typeof` 检测会返回'object'的基本类型"
   ]
  },
  {
   "cell_type": "code",
   "execution_count": 6,
   "metadata": {},
   "outputs": [
    {
     "data": {
      "text/plain": [
       "true"
      ]
     },
     "execution_count": 6,
     "metadata": {},
     "output_type": "execute_result"
    }
   ],
   "source": [
    "{\n",
    "    var a = null;\n",
    "    (!a && typeof a === 'object')\n",
    "}"
   ]
  },
  {
   "cell_type": "code",
   "execution_count": 7,
   "metadata": {},
   "outputs": [
    {
     "name": "stdout",
     "output_type": "stream",
     "text": [
      "2\n"
     ]
    }
   ],
   "source": [
    "{\n",
    "    function func(argv1,argv2){\n",
    "        \n",
    "    }\n",
    "    console.log(func.length) //function 的参数个数\n",
    "}"
   ]
  },
  {
   "cell_type": "markdown",
   "metadata": {},
   "source": [
    "javascript 中的变量是没有类型的，*只有值才有*\n",
    "\n",
    "`typeof` 运算符总会返回一个字符串\n",
    "\n",
    "依赖注入 (dependency injection)"
   ]
  },
  {
   "cell_type": "code",
   "execution_count": null,
   "metadata": {},
   "outputs": [],
   "source": [
    "javascript 中数字类型是基于IEEE 754 标准来实现的，给标准通常被称为“浮点数”\n",
    "javascript 使用的是“双精度”格式(64位二进制)"
   ]
  },
  {
   "cell_type": "code",
   "execution_count": 8,
   "metadata": {},
   "outputs": [
    {
     "name": "stdout",
     "output_type": "stream",
     "text": [
      "16 1\n"
     ]
    }
   ],
   "source": [
    "{\n",
    "    //parseInt(string, radix)\n",
    "    console.log(0x10,parseInt(0x10,2));\n",
    "    //console.log(0b10,parseInt(0b10,2));\n",
    "    //console.log(0o10,parseInt(0o10,2));\n",
    "}"
   ]
  },
  {
   "cell_type": "code",
   "execution_count": 11,
   "metadata": {},
   "outputs": [
    {
     "name": "stdout",
     "output_type": "stream",
     "text": [
      "2.220446049250313e-16 2.220446049250313e-16\n"
     ]
    }
   ],
   "source": [
    "{\n",
    "    if(!Number.EPSILON){\n",
    "        console.error(Number.EPSILON,'no defined');\n",
    "        Number.EPSILON = Math.pow(2,-52);\n",
    "    }\n",
    "    console.log(Number.EPSILON,Math.pow(2,-52));\n",
    "}"
   ]
  },
  {
   "cell_type": "code",
   "execution_count": 15,
   "metadata": {},
   "outputs": [
    {
     "name": "stdout",
     "output_type": "stream",
     "text": [
      "Number.MAX_VALUE eq 1.7976931348623157e+308\n",
      "Number.MIN_VALUE eq 5e-324\n",
      "Number.MAX_SAFE_INTEGER eq 9007199254740991\n",
      "Number.MIN_SAFE_INTEGER eq -9007199254740991\n"
     ]
    }
   ],
   "source": [
    "{\n",
    "    console.log(`Number.MAX_VALUE eq ${Number.MAX_VALUE}`);\n",
    "    console.log(`Number.MIN_VALUE eq ${Number.MIN_VALUE}`);\n",
    "    console.log(`Number.MAX_SAFE_INTEGER eq ${Number.MAX_SAFE_INTEGER}`);\n",
    "    console.log(`Number.MIN_SAFE_INTEGER eq ${Number.MIN_SAFE_INTEGER}`);\n",
    "}"
   ]
  },
  {
   "cell_type": "markdown",
   "metadata": {},
   "source": [
    "`window.isNaN`\n",
    "`Number.isNaN`"
   ]
  },
  {
   "cell_type": "code",
   "execution_count": 19,
   "metadata": {},
   "outputs": [
    {
     "name": "stdout",
     "output_type": "stream",
     "text": [
      "global.isNaN('ab') is true\n",
      "Number.isNaN('ab') is false\n"
     ]
    }
   ],
   "source": [
    "{\n",
    "    import \n",
    "    console.log(`global.isNaN('ab') is %c${global.isNaN('ab')}`,'color:red;');\n",
    "    console.log(`Number.isNaN('ab') is %c${Number.isNaN('ab')}`,'color:red;');\n",
    "}"
   ]
  },
  {
   "cell_type": "code",
   "execution_count": null,
   "metadata": {},
   "outputs": [],
   "source": [
    "{\n",
    "    function isNegZero(n){\n",
    "        n = Number(n);\n",
    "        return (n === 0) && (1/n === -Infinity);\n",
    "    }\n",
    "}"
   ]
  },
  {
   "cell_type": "markdown",
   "metadata": {},
   "source": [
    "`Object.is(...)`\n",
    "\n",
    "判断两个值是否绝对相等\n",
    "\n",
    "能使用 == 和 === 就尽量不使用Object.is ，因为前者效率更高，更通用。\n",
    "\n",
    "```javascript\n",
    "\n",
    "    if(!Object.is){\n",
    "        Object.is = function(v1,v2){\n",
    "            //判断是否为-0\n",
    "            if(v1 === 0 && v2 === 0){\n",
    "                return 1/v1 === 1/v2;\n",
    "            }\n",
    "            //判断NaN\n",
    "            if(v1!==v1){\n",
    "                return v2 !== v2;\n",
    "            }\n",
    "            //其他情况\n",
    "            return v1==v2;\n",
    "        }\n",
    "    }\n",
    "\n",
    "```"
   ]
  },
  {
   "cell_type": "code",
   "execution_count": 20,
   "metadata": {},
   "outputs": [
    {
     "name": "stdout",
     "output_type": "stream",
     "text": [
      "Object.is(0,-0) is false\n",
      "Object.is(1/'a',NaN) is true\n"
     ]
    }
   ],
   "source": [
    "{\n",
    "    console.log(`Object.is(0,-0) is ${Object.is(0,-0)}`);\n",
    "    console.log(`Object.is(1/'a',NaN) is ${Object.is(1/'a',NaN)}`);\n",
    "}"
   ]
  },
  {
   "cell_type": "markdown",
   "metadata": {},
   "source": [
    "### 值和引用\n",
    "\n",
    "简单值(标量基本类型 scalar primitive)总是通过值复制的方式来赋值/传递，包括 null, undefined, 字符串, 数字, 布尔和symbol;\n",
    "\n",
    "复合值(compound value)-- 对象(包括数组和封装对象)和函数，则总是通过引用复制的方式来赋值/传递。"
   ]
  },
  {
   "cell_type": "code",
   "execution_count": 23,
   "metadata": {},
   "outputs": [
    {
     "name": "stdout",
     "output_type": "stream",
     "text": [
      "x.push(4) now x is 1,2,3,4\n",
      "x reset and push (7) ,now x is 4,5,6,7\n",
      "x and argumenst now is 4,5,6,7 \n",
      " 4,5,6,7 \n",
      " and x is arguments[0]  true\n",
      "a now is 1,2,3,4\n"
     ]
    }
   ],
   "source": [
    "{\n",
    "    function foo(x){\n",
    "        x.push(4);\n",
    "        console.log(`x.push(4) now x is ${x}`);\n",
    "        \n",
    "        x = [4,5,6];\n",
    "        x.push(7);\n",
    "        console.log(`x reset and push (7) ,now x is ${x}`);\n",
    "        \n",
    "        console.log(`x and argumenst now is ${x} \\n ${arguments[0]} \\n and x is arguments[0]  ${Object.is(x,arguments[0])}`);\n",
    "    }\n",
    "    \n",
    "    let a = [1,2,3];\n",
    "    foo(a);\n",
    "    console.log(`a now is ${a}`);\n",
    "}"
   ]
  },
  {
   "cell_type": "markdown",
   "metadata": {},
   "source": [
    "原生函数(内建函数)：\n",
    "- String()\n",
    "- Number()\n",
    "- Boolean()\n",
    "- Array()\n",
    "- Object()\n",
    "- Function()\n",
    "- RegExp()\n",
    "- Date()\n",
    "- Error()\n",
    "- Symbol()"
   ]
  },
  {
   "cell_type": "code",
   "execution_count": 30,
   "metadata": {},
   "outputs": [
    {
     "name": "stdout",
     "output_type": "stream",
     "text": [
      "typeof a is object\n",
      "a instanceof String is true\n",
      "Object.prototype.toString.call(a) is [object String]\n",
      "[String: 'abc']\n"
     ]
    }
   ],
   "source": [
    "{   \n",
    "    var a = new String('abc');\n",
    "    console.log(`typeof a is ${typeof a}`);\n",
    "    console.log(`a instanceof String is ${a instanceof String}`);\n",
    "    console.log(`Object.prototype.toString.call(a) is ${Object.prototype.toString.call(a)}`);\n",
    "    console.log(a);\n",
    "}"
   ]
  },
  {
   "cell_type": "markdown",
   "metadata": {},
   "source": [
    "宽松相等(loose equals)\n",
    "严格相等(strict equals)\n",
    "\n",
    "**==允许在相等比较中进行强制类型转换，而===不允许**"
   ]
  },
  {
   "cell_type": "code",
   "execution_count": 32,
   "metadata": {},
   "outputs": [
    {
     "name": "stdout",
     "output_type": "stream",
     "text": [
      "+0==-0 is true\n"
     ]
    }
   ],
   "source": [
    "{\n",
    "    console.log(`+0==-0 is ${+0===-0}`);\n",
    "}"
   ]
  },
  {
   "cell_type": "markdown",
   "metadata": {},
   "source": [
    "- 字符串与数字比较\n",
    "    (1) 如果 Type(x) 是数字， Type(y) 是字符串，则返回 x == ToNumber(y) 的结果。\n",
    "    (2) 如果 Type(x) 是字符串， Type(y) 是数字，则返回 ToNumber(x) == y 的结果。\n",
    "- 其他类型和布尔类型之间的相等比较\n",
    "    (1) 如果 Type(x) 是布尔类型，则返回 ToNumber(x) == y 的结果；\n",
    "    (2) 如果 Type(y) 是布尔类型，则返回 x == ToNumber(y) 的结果。\n",
    "-  null 和 undefined 之间的相等比较\n",
    "    (1) 如果 x 为 null， y 为 undefined，则结果为 true。\n",
    "    (2) 如果 x 为 undefined， y 为 null，则结果为 true。\n",
    "-  对象和非对象之间的相等比较\n",
    "    (1) 如果 Type(x) 是字符串或数字， Type(y) 是对象，则返回 x == ToPrimitive(y) 的结果；\n",
    "    (2) 如果 Type(x) 是对象， Type(y) 是字符串或数字，则返回 ToPromitive(x) == y 的结果。\n",
    "    \n",
    "`ToPromitive`会调用自身的`valueof`或者`toString`方法。"
   ]
  },
  {
   "cell_type": "code",
   "execution_count": 33,
   "metadata": {},
   "outputs": [
    {
     "name": "stdout",
     "output_type": "stream",
     "text": [
      "yep, this happened.\n"
     ]
    }
   ],
   "source": [
    "{\n",
    "    var i = 2;\n",
    "    Number.prototype.valueOf = function(){\n",
    "        return i++;\n",
    "    }\n",
    "    \n",
    "    var a = new Number(42);\n",
    "    \n",
    "    if(a==2 && a==3){\n",
    "        console.log(`yep, this happened.`);\n",
    "    }\n",
    "}"
   ]
  },
  {
   "cell_type": "code",
   "execution_count": 34,
   "metadata": {},
   "outputs": [
    {
     "name": "stdout",
     "output_type": "stream",
     "text": [
      "0\n"
     ]
    }
   ],
   "source": [
    "{\n",
    "    console.log(Number(''))\n",
    "}"
   ]
  },
  {
   "cell_type": "markdown",
   "metadata": {},
   "source": [
    "## 语法"
   ]
  },
  {
   "cell_type": "code",
   "execution_count": 35,
   "metadata": {},
   "outputs": [
    {
     "name": "stdout",
     "output_type": "stream",
     "text": [
      "Hello\n",
      "world \n"
     ]
    }
   ],
   "source": [
    "{\n",
    "    function foo(){\n",
    "        bar:{\n",
    "            console.log(`Hello`);\n",
    "            break bar;\n",
    "            console.log(`never runs`);\n",
    "        }\n",
    "        console.log(`world `);\n",
    "    }\n",
    "    foo();\n",
    "}"
   ]
  },
  {
   "cell_type": "code",
   "execution_count": 40,
   "metadata": {},
   "outputs": [
    {
     "name": "stdout",
     "output_type": "stream",
     "text": [
      "Hello\n",
      "42\n"
     ]
    },
    {
     "ename": "Error",
     "evalue": "Oops!",
     "execution_count": 40,
     "output_type": "error",
     "traceback": [
      "evalmachine.<anonymous>:18",
      "            throw  new Error('Oops!');",
      "            ^",
      "",
      "Error: Oops!",
      "    at foo2 (evalmachine.<anonymous>:18:20)",
      "    at evalmachine.<anonymous>:22:17",
      "    at Script.runInThisContext (vm.js:116:20)",
      "    at Object.runInThisContext (vm.js:306:38)",
      "    at run ([eval]:1054:15)",
      "    at onRunRequest ([eval]:888:18)",
      "    at onMessage ([eval]:848:13)",
      "    at process.emit (events.js:210:5)",
      "    at emit (internal/child_process.js:876:12)",
      "    at processTicksAndRejections (internal/process/task_queues.js:81:21)"
     ]
    }
   ],
   "source": [
    "{\n",
    "    function foo(){\n",
    "        try{\n",
    "            return 42;\n",
    "        }\n",
    "        finally{\n",
    "            console.log('Hello');\n",
    "        }\n",
    "        console.log('never');\n",
    "    }\n",
    "    console.log(foo());\n",
    "    \n",
    "    function foo2(){\n",
    "        try{\n",
    "            return 42;\n",
    "        }\n",
    "        finally{\n",
    "            throw  new Error('Oops!');\n",
    "        }\n",
    "        console.log('never');\n",
    "    }\n",
    "    console.log(foo2());\n",
    "}"
   ]
  },
  {
   "cell_type": "code",
   "execution_count": 42,
   "metadata": {},
   "outputs": [
    {
     "name": "stdout",
     "output_type": "stream",
     "text": [
      "0,1,2,3,4,5,6,7,8,9\n"
     ]
    }
   ],
   "source": [
    "{\n",
    "    let arr = [];\n",
    "    for(let i=0;i<10;i++){\n",
    "        try{\n",
    "            continue;\n",
    "        }\n",
    "        finally{\n",
    "            arr.push(i);\n",
    "        }\n",
    "    }\n",
    "    console.log(arr.join(','));\n",
    "}"
   ]
  },
  {
   "cell_type": "code",
   "execution_count": 44,
   "metadata": {},
   "outputs": [
    {
     "name": "stdout",
     "output_type": "stream",
     "text": [
      "42\n",
      "undefined\n",
      "hello\n"
     ]
    }
   ],
   "source": [
    "{\n",
    "    function foo(){\n",
    "        try{\n",
    "            return 42;\n",
    "        }\n",
    "        finally{\n",
    "            \n",
    "        }\n",
    "    }\n",
    "    \n",
    "    function bar(){\n",
    "        try{\n",
    "            return 42;\n",
    "        }\n",
    "        finally{\n",
    "            return ;\n",
    "        }\n",
    "    }\n",
    "    \n",
    "    function baz(){\n",
    "        try{\n",
    "            return 42;\n",
    "        }\n",
    "        finally{\n",
    "            return \"hello\";\n",
    "        }\n",
    "    }\n",
    "    \n",
    "    console.log(foo());\n",
    "    console.log(bar());\n",
    "    console.log(baz());\n",
    "}"
   ]
  },
  {
   "cell_type": "code",
   "execution_count": null,
   "metadata": {},
   "outputs": [],
   "source": []
  }
 ],
 "metadata": {
  "kernelspec": {
   "display_name": "Javascript (Node.js)",
   "language": "javascript",
   "name": "javascript"
  },
  "language_info": {
   "file_extension": ".js",
   "mimetype": "application/javascript",
   "name": "javascript",
   "version": "12.13.0"
  }
 },
 "nbformat": 4,
 "nbformat_minor": 4
}
