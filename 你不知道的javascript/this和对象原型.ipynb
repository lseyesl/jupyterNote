{
 "cells": [
  {
   "cell_type": "markdown",
   "metadata": {},
   "source": [
    "# this和对象原型"
   ]
  },
  {
   "cell_type": "markdown",
   "metadata": {},
   "source": [
    "## this"
   ]
  },
  {
   "cell_type": "code",
   "execution_count": 6,
   "metadata": {},
   "outputs": [
    {
     "name": "stdout",
     "output_type": "stream",
     "text": [
      "this is [object global]\n",
      "foo:6\n",
      "this.count is NaN\n",
      "this is [object global]\n",
      "foo:7\n",
      "this.count is NaN\n",
      "this is [object global]\n",
      "foo:8\n",
      "this.count is NaN\n",
      "this is [object global]\n",
      "foo:9\n",
      "this.count is NaN\n",
      "0\n",
      "global==this?true\n",
      " string=>[object global]\n"
     ]
    }
   ],
   "source": [
    "{\n",
    "    function foo(num){\n",
    "        console.log(`this is ${this.toString()}`);\n",
    "        console.log(`foo:${num}`);\n",
    "        this.count++;\n",
    "        console.log(`this.count is ${this.count}`);\n",
    "    }\n",
    "    foo.count = 0;\n",
    "    for(var i =0;i<10;i++){\n",
    "        if(i>5){\n",
    "            foo(i);\n",
    "        }\n",
    "    }\n",
    "    console.log(foo.count);\n",
    "    console.log(`global==this?${global==this}\\n string=>${this}`);\n",
    "}"
   ]
  },
  {
   "cell_type": "code",
   "execution_count": 7,
   "metadata": {},
   "outputs": [
    {
     "name": "stdout",
     "output_type": "stream",
     "text": [
      "this is [object global]\n",
      "foo:6\n",
      "foo.count is 1\n",
      "this is [object global]\n",
      "foo:7\n",
      "foo.count is 2\n",
      "this is [object global]\n",
      "foo:8\n",
      "foo.count is 3\n",
      "this is [object global]\n",
      "foo:9\n",
      "foo.count is 4\n",
      "4\n",
      "global==this?true\n",
      " string=>[object global]\n"
     ]
    }
   ],
   "source": [
    "{\n",
    "    function foo(num){\n",
    "        console.log(`this is ${this.toString()}`);\n",
    "        console.log(`foo:${num}`);\n",
    "        foo.count++;\n",
    "        console.log(`foo.count is ${foo.count}`);\n",
    "    }\n",
    "    foo.count = 0;\n",
    "    for(var i =0;i<10;i++){\n",
    "        if(i>5){\n",
    "            foo(i);\n",
    "        }\n",
    "    }\n",
    "    console.log(foo.count);\n",
    "    console.log(`global==this?${global==this}\\n string=>${this}`);\n",
    "}"
   ]
  },
  {
   "cell_type": "code",
   "execution_count": 8,
   "metadata": {},
   "outputs": [
    {
     "name": "stdout",
     "output_type": "stream",
     "text": [
      "this is function foo(num){\n",
      "        console.log(`this is ${this.toString()}`);\n",
      "        console.log(`foo:${num}`);\n",
      "        this.count++;\n",
      "        console.log(`this.count is ${this.count}`);\n",
      "    }\n",
      "foo:6\n",
      "this.count is 1\n",
      "this is function foo(num){\n",
      "        console.log(`this is ${this.toString()}`);\n",
      "        console.log(`foo:${num}`);\n",
      "        this.count++;\n",
      "        console.log(`this.count is ${this.count}`);\n",
      "    }\n",
      "foo:7\n",
      "this.count is 2\n",
      "this is function foo(num){\n",
      "        console.log(`this is ${this.toString()}`);\n",
      "        console.log(`foo:${num}`);\n",
      "        this.count++;\n",
      "        console.log(`this.count is ${this.count}`);\n",
      "    }\n",
      "foo:8\n",
      "this.count is 3\n",
      "this is function foo(num){\n",
      "        console.log(`this is ${this.toString()}`);\n",
      "        console.log(`foo:${num}`);\n",
      "        this.count++;\n",
      "        console.log(`this.count is ${this.count}`);\n",
      "    }\n",
      "foo:9\n",
      "this.count is 4\n",
      "4\n",
      "global==this?true\n",
      " string=>[object global]\n"
     ]
    }
   ],
   "source": [
    "{\n",
    "    function foo(num){\n",
    "        console.log(`this is ${this.toString()}`);\n",
    "        console.log(`foo:${num}`);\n",
    "        this.count++;\n",
    "        console.log(`this.count is ${this.count}`);\n",
    "    }\n",
    "    foo.count = 0;\n",
    "    for(var i =0;i<10;i++){\n",
    "        if(i>5){\n",
    "            foo.call(foo,i);\n",
    "        }\n",
    "    }\n",
    "    console.log(foo.count);\n",
    "    console.log(`global==this?${global==this}\\n string=>${this}`);\n",
    "}"
   ]
  },
  {
   "cell_type": "markdown",
   "metadata": {},
   "source": [
    "`this`在任何情况下都不指向函数的词法作用域\n",
    "`this` 是在运行时进行绑定的，而不是在编写时绑定，它的上下文取决于函数调用时的各种条件。\n",
    "`this` 的绑定和函数声明的位置没有任何关系，只取决与函数的调用方式。"
   ]
  },
  {
   "cell_type": "code",
   "execution_count": 9,
   "metadata": {},
   "outputs": [
    {
     "name": "stdout",
     "output_type": "stream",
     "text": [
      "a is done\n",
      "b is done\n"
     ]
    }
   ],
   "source": [
    "{\n",
    "    function a(){\n",
    "        console.log(`a is done`);\n",
    "        var a = 2;\n",
    "        this.b();\n",
    "    }\n",
    "    function b(){\n",
    "        console.log(`b is done`);\n",
    "    }\n",
    "    a();\n",
    "}"
   ]
  },
  {
   "cell_type": "markdown",
   "metadata": {},
   "source": [
    "`this`绑定规则\n",
    "\n",
    "- 默认绑定\n",
    "- 隐式绑定\n",
    "- 显式绑定\n",
    "- new 绑定\n",
    "    new构造函数\n",
    "    - 创建（或者构造）一个全新的对象。\n",
    "    - 这个新对象会被执行[[prototype]]连接\n",
    "    - 这个新对象会绑定到函数调用的this\n",
    "    - 如果函数没有返回其他对象，那个new 表达式中的函数调用会自动返回这个新对象。"
   ]
  },
  {
   "cell_type": "code",
   "execution_count": 10,
   "metadata": {},
   "outputs": [
    {
     "name": "stdout",
     "output_type": "stream",
     "text": [
      "2\n"
     ]
    }
   ],
   "source": [
    "{\n",
    "    //默认绑定\n",
    "    function foo(){\n",
    "        console.log(this.a);\n",
    "    }\n",
    "    var a = 2;\n",
    "    foo();\n",
    "}"
   ]
  },
  {
   "cell_type": "code",
   "execution_count": 12,
   "metadata": {},
   "outputs": [
    {
     "name": "stdout",
     "output_type": "stream",
     "text": [
      "2\n",
      "2\n"
     ]
    }
   ],
   "source": [
    "{\n",
    "    //隐式绑定\n",
    "    function foo(){\n",
    "        console.log(this.a);\n",
    "    }\n",
    "    var obj = {\n",
    "        a:2,\n",
    "        foo:foo\n",
    "    };\n",
    "    var obj2 ={\n",
    "        a:4,\n",
    "        obj:obj\n",
    "    }\n",
    "    \n",
    "    obj.foo();\n",
    "    obj2.obj.foo();\n",
    "}"
   ]
  },
  {
   "cell_type": "code",
   "execution_count": 13,
   "metadata": {},
   "outputs": [
    {
     "name": "stdout",
     "output_type": "stream",
     "text": [
      "oops,global\n"
     ]
    }
   ],
   "source": [
    "{\n",
    "    //隐式丢失\n",
    "    function foo(){\n",
    "        console.log(this.a);\n",
    "    }\n",
    "    function doFoo(fn){\n",
    "        fn();\n",
    "    }\n",
    "    var obj = {\n",
    "        a:2,\n",
    "        foo:foo\n",
    "    };\n",
    "    var a = 'oops,global';\n",
    "    doFoo(obj.foo);\n",
    "}"
   ]
  },
  {
   "cell_type": "code",
   "execution_count": 14,
   "metadata": {},
   "outputs": [
    {
     "name": "stdout",
     "output_type": "stream",
     "text": [
      "2\n"
     ]
    }
   ],
   "source": [
    "{\n",
    "    //硬绑定\n",
    "    function foo(){\n",
    "        console.log(this.a);\n",
    "    }\n",
    "    var obj = {\n",
    "        a:2\n",
    "    };\n",
    "    \n",
    "    foo.call(obj);\n",
    "}"
   ]
  },
  {
   "cell_type": "code",
   "execution_count": 16,
   "metadata": {},
   "outputs": [
    {
     "name": "stdout",
     "output_type": "stream",
     "text": [
      "a:2 b:3\n",
      "function () { [native code] }\n",
      "a:2 b:3\n"
     ]
    }
   ],
   "source": [
    "{\n",
    "    //DMZ\n",
    "    function foo(a,b){\n",
    "        console.log(`a:${a} b:${b}`);\n",
    "    }\n",
    "    var o = Object.create(null);\n",
    "    foo.apply(o,[2,3]);\n",
    "    \n",
    "    var bar = foo.bind(o,2);\n",
    "    bar(3);\n",
    "}"
   ]
  },
  {
   "cell_type": "markdown",
   "metadata": {},
   "source": [
    "## 对象"
   ]
  },
  {
   "cell_type": "code",
   "execution_count": 22,
   "metadata": {},
   "outputs": [
    {
     "name": "stdout",
     "output_type": "stream",
     "text": [
      "myObject's key is foobar,foobaz\n"
     ]
    }
   ],
   "source": [
    "{\n",
    "    //可计算属性\n",
    "    var prefix = 'foo';\n",
    "    var myObject = {\n",
    "        [prefix+'bar']:'hello',\n",
    "        [prefix+'baz']:'world'\n",
    "    };\n",
    "    console.log(`myObject's key is ${Object.keys(myObject)}`);\n",
    "}"
   ]
  },
  {
   "cell_type": "code",
   "execution_count": 25,
   "metadata": {},
   "outputs": [
    {
     "name": "stdout",
     "output_type": "stream",
     "text": [
      "myObject.a before change is 2\n",
      "myObject.a after change is 2\n"
     ]
    }
   ],
   "source": [
    "{\n",
    "    var myObject = {};\n",
    "    Object.defineProperty(myObject,'a',{\n",
    "        value:2,\n",
    "        writable:false,\n",
    "        configurable:true,//设置为false，则不能再修改此属性\n",
    "        enumerable:true\n",
    "    });\n",
    "    console.log(`myObject.a before change is ${myObject.a}`);\n",
    "    myObject.a = 3;\n",
    "    console.log(`myObject.a after change is ${myObject.a}`);\n",
    "}"
   ]
  },
  {
   "cell_type": "code",
   "execution_count": 26,
   "metadata": {},
   "outputs": [
    {
     "name": "stdout",
     "output_type": "stream",
     "text": [
      "myObject's keys is a\n"
     ]
    }
   ],
   "source": [
    "{\n",
    "    var myObject = {\n",
    "        a:2\n",
    "    };\n",
    "    Object.preventExtensions(myObject);\n",
    "    myObject.b = 3;\n",
    "    console.log(`myObject's keys is ${Object.keys(myObject)}`);\n",
    "}"
   ]
  },
  {
   "cell_type": "markdown",
   "metadata": {},
   "source": [
    "密封\n",
    "`Object.seal(...)` 会在现有对象上调用`Object.preventExtensions(...)`,并设置属性为`configurable:false`\n",
    "冻结\n",
    "`Object.freeze(...)` 会在现有对象上调用`Object.preventExtensions(...)`,并设置属性为`writable:false`"
   ]
  },
  {
   "cell_type": "code",
   "execution_count": 28,
   "metadata": {},
   "outputs": [
    {
     "name": "stdout",
     "output_type": "stream",
     "text": [
      "myObject.a is \n",
      "myObject.a is changes:5\n"
     ]
    }
   ],
   "source": [
    "{\n",
    "    var myObject = {\n",
    "        _a:'',\n",
    "        get a(){\n",
    "            return this._a; \n",
    "        },\n",
    "        set a(val){\n",
    "            this._a = 'changes:'+val;\n",
    "        }\n",
    "    }\n",
    "    console.log(`myObject.a is ${myObject.a}`);\n",
    "    myObject.a = 5;\n",
    "    console.log(`myObject.a is ${myObject.a}`);\n",
    "}"
   ]
  },
  {
   "cell_type": "code",
   "execution_count": 29,
   "metadata": {},
   "outputs": [
    {
     "name": "stdout",
     "output_type": "stream",
     "text": [
      "2\n",
      "3\n"
     ]
    }
   ],
   "source": [
    "{\n",
    "    var myObject = {\n",
    "        a:2,\n",
    "        b:3\n",
    "    };\n",
    "    Object.defineProperty(myObject,Symbol.iterator,{\n",
    "        enumerable:false,\n",
    "        writable:false,\n",
    "        configurable:true,\n",
    "        value:function(){\n",
    "            var o = this;\n",
    "            var idx = 0;\n",
    "            var ks = Object.keys(o);\n",
    "            return {\n",
    "                next:function(){\n",
    "                    return {\n",
    "                        value:o[ks[idx++]],\n",
    "                        done:(idx>ks.length)\n",
    "                    }\n",
    "                }\n",
    "            }\n",
    "        }\n",
    "    });\n",
    "    for(var v of myObject){\n",
    "        console.log(v);\n",
    "    }\n",
    "}"
   ]
  },
  {
   "cell_type": "markdown",
   "metadata": {},
   "source": [
    "## 混合对象\"类\"\n",
    "\n",
    "- 实例化 (instantiation)\n",
    "- 继承 (inheritance)\n",
    "- 多态 (polymorphism)"
   ]
  },
  {
   "cell_type": "code",
   "execution_count": 36,
   "metadata": {},
   "outputs": [
    {
     "name": "stdout",
     "output_type": "stream",
     "text": [
      "Here is my trick: jump rope\n"
     ]
    }
   ],
   "source": [
    "{\n",
    "    class CoolGuy {\n",
    "        specialTrick ;\n",
    "        constructor(trick){\n",
    "            this.specialTrick = trick;\n",
    "        }\n",
    "        showOff(){\n",
    "            console.log(\"Here is my trick:\",this.specialTrick);\n",
    "        }\n",
    "    }\n",
    "\n",
    "    let Joe = new CoolGuy('jump rope');\n",
    "    Joe.showOff();\n",
    "}"
   ]
  },
  {
   "cell_type": "markdown",
   "metadata": {},
   "source": [
    "## 原型"
   ]
  },
  {
   "cell_type": "code",
   "execution_count": 38,
   "metadata": {},
   "outputs": [
    {
     "name": "stdout",
     "output_type": "stream",
     "text": [
      "newObj is {},newObj.a is 2\n",
      "newObj is {\"a\":5},newObj.a is 5\n",
      "newObj is {},newObj.a is 2\n"
     ]
    }
   ],
   "source": [
    "{\n",
    "    let oldObj = {\n",
    "        a:2\n",
    "    };\n",
    "    \n",
    "    let newObj = Object.create(oldObj);\n",
    "    console.log(`newObj is ${JSON.stringify(newObj)},newObj.a is ${newObj.a}`);\n",
    "    newObj.a = 5;\n",
    "    console.log(`newObj is ${JSON.stringify(newObj)},newObj.a is ${newObj.a}`);\n",
    "    delete newObj.a;\n",
    "    console.log(`newObj is ${JSON.stringify(newObj)},newObj.a is ${newObj.a}`);\n",
    "}"
   ]
  },
  {
   "cell_type": "code",
   "execution_count": 40,
   "metadata": {},
   "outputs": [
    {
     "name": "stdout",
     "output_type": "stream",
     "text": [
      "newObj is {},newObj.a is 2,oldObj is {\"a\":2}\n",
      "newObj is {\"a\":3},newObj.a is 3,oldObj is {\"a\":2}\n",
      "newObj is {},newObj.a is 2,oldObj is {\"a\":2}\n"
     ]
    }
   ],
   "source": [
    "{\n",
    "    let oldObj = {\n",
    "        a:2\n",
    "    };\n",
    "    \n",
    "    let newObj = Object.create(oldObj);\n",
    "    console.log(`newObj is ${JSON.stringify(newObj)},newObj.a is ${newObj.a},oldObj is ${JSON.stringify(oldObj)}`);\n",
    "    newObj.a++;\n",
    "    console.log(`newObj is ${JSON.stringify(newObj)},newObj.a is ${newObj.a},oldObj is ${JSON.stringify(oldObj)}`);\n",
    "    delete newObj.a;\n",
    "    console.log(`newObj is ${JSON.stringify(newObj)},newObj.a is ${newObj.a},oldObj is ${JSON.stringify(oldObj)}`);\n",
    "}"
   ]
  },
  {
   "cell_type": "code",
   "execution_count": null,
   "metadata": {},
   "outputs": [],
   "source": [
    "{\n",
    "    // defore es6\n",
    "    Bar.prototype= Object.create(Foo.prototype);\n",
    "    // after es6\n",
    "    Object.setPrototypeOf(Bar.prototype,Foo.prototype);\n",
    "}"
   ]
  },
  {
   "cell_type": "markdown",
   "metadata": {},
   "source": [
    "instanceof 回答的问题是：在a的整个[[Prototype]]链中，是否有指向Foo.prototype的对象。"
   ]
  },
  {
   "cell_type": "code",
   "execution_count": null,
   "metadata": {},
   "outputs": [],
   "source": [
    "{\n",
    "    Foo.prototype.isPrototypeOf(a);\n",
    "}"
   ]
  },
  {
   "cell_type": "markdown",
   "metadata": {},
   "source": [
    "isPrototpeOf(..)回答的问题是：在a的整个[[Prototype]]链中，是否出现过Foo.prototype。"
   ]
  },
  {
   "cell_type": "markdown",
   "metadata": {},
   "source": [
    "## 行为委托\n",
    "\n",
    "### 面向委托的设计"
   ]
  },
  {
   "cell_type": "code",
   "execution_count": null,
   "metadata": {},
   "outputs": [],
   "source": [
    "{\n",
    "    function Widget(width,height){\n",
    "        this.width=width||50;\n",
    "        this.height=height||50;\n",
    "        this.$elem = null;\n",
    "    }\n",
    "    \n",
    "    Widget.prototype.render = function($where){\n",
    "        if(this.$elem){\n",
    "            this.$elem.css({\n",
    "                width:this.width+'px',\n",
    "                height:this.height+'px'\n",
    "            }).appendTo($where);\n",
    "        }\n",
    "    }\n",
    "    \n",
    "    function Button(width,height,label){\n",
    "        Widget.call(this,width,height);\n",
    "        this.label = label || 'Default';\n",
    "        this.$elem = $('<button>').text(this.label);\n",
    "    }\n",
    "    \n",
    "    Button.prototype = Object.create(Widget.prototype);\n",
    "    \n",
    "    Button.prototype.render = function($where){\n",
    "        Widget.prototype.render.call(this,$where);\n",
    "        this.$elem.click(this.onClick.bind(this));\n",
    "    }\n",
    "    \n",
    "    Button.prototype.onClick = function(evt){\n",
    "        console.log(`Button ${this.label} clicked!`);\n",
    "    }\n",
    "    \n",
    "    $(document).ready(function(){\n",
    "        var $body = $(document.body);\n",
    "        var btn1 = new Button(125,30,'Hello');\n",
    "        var btn2 = new Button(150,40,'world');\n",
    "        \n",
    "        btn1.render($body);\n",
    "        btn2.render($body);\n",
    "    })\n",
    "}"
   ]
  },
  {
   "cell_type": "code",
   "execution_count": null,
   "metadata": {},
   "outputs": [],
   "source": [
    "{\n",
    "    class Widget {\n",
    "        constructor(width,height){\n",
    "            this.width = width||50;\n",
    "            this.height = height||50;\n",
    "            this.$elem = null;\n",
    "        }\n",
    "        \n",
    "        render($where){\n",
    "            if(this.$elem){\n",
    "                this.$elem.css({\n",
    "                    width:this.width+'px',\n",
    "                    height:this.height+'px'\n",
    "                }).appendTo($where);\n",
    "            }\n",
    "        }\n",
    "    }\n",
    "    \n",
    "    class Button extends Widget {\n",
    "        constructor(width,height,label){\n",
    "            super(width,height);\n",
    "            this.label = label || 'Default';\n",
    "            this.$elem = $('<button>').text(this.label);\n",
    "        }\n",
    "        render($where){\n",
    "            super($where);\n",
    "            this.$elem.click(this.onClick.bind(this));\n",
    "        }\n",
    "        onClick(evt){\n",
    "            console.log(`Button ${this.label} clicked!`);\n",
    "        }\n",
    "    }\n",
    "    \n",
    "    $(document).ready(function(){\n",
    "        var $body = $(document.body);\n",
    "        var btn1 = new Button(125,30,'Hello');\n",
    "        var btn2 = new Button(150,40,'world');\n",
    "        \n",
    "        btn1.render($body);\n",
    "        btn2.render($body);\n",
    "    })\n",
    "}"
   ]
  },
  {
   "cell_type": "code",
   "execution_count": null,
   "metadata": {},
   "outputs": [],
   "source": [
    "{\n",
    "    var Widget = {\n",
    "        init:function(width,height){\n",
    "            this.width = width||50;\n",
    "            this.height = height||50;\n",
    "            this.$elem = null;\n",
    "        },\n",
    "        insert:function($where){\n",
    "            if(this.$elem){\n",
    "                this.$elem.css({\n",
    "                    width:this.width+'px',\n",
    "                    height:this.height+'px'\n",
    "                }).appendTo($where);\n",
    "            }\n",
    "        }\n",
    "    }\n",
    "    \n",
    "    var Button = Object.create(Widget);\n",
    "    Button.setup = function(width,height,label){\n",
    "        this.init(width,height);\n",
    "        this.lable=  label || 'Default';\n",
    "        this.$elem = $('<button>').text(this.label);\n",
    "    }\n",
    "    Button.build = function($where){\n",
    "        this.insert($where);\n",
    "        this.$elem.click(this.onClick.bind(this));\n",
    "    }\n",
    "    Button.onClick = function(evt){\n",
    "        console.log( \"Button '\" + this.label + \"' clicked!\" );\n",
    "    }\n",
    "    $( document ).ready( function(){\n",
    "        var $body = $( document.body );\n",
    "        var btn1 = Object.create( Button );\n",
    "        btn1.setup( 125, 30, \"Hello\" );\n",
    "        var btn2 = Object.create( Button );\n",
    "        btn2.setup( 150, 40, \"World\" );\n",
    "        btn1.build( $body );\n",
    "        btn2.build( $body );\n",
    "    } );\n",
    "}"
   ]
  }
 ],
 "metadata": {
  "kernelspec": {
   "display_name": "Javascript (Node.js)",
   "language": "javascript",
   "name": "javascript"
  },
  "language_info": {
   "file_extension": ".js",
   "mimetype": "application/javascript",
   "name": "javascript",
   "version": "12.13.0"
  }
 },
 "nbformat": 4,
 "nbformat_minor": 4
}
