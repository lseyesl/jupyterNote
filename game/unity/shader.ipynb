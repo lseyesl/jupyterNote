{
 "cells": [
  {
   "attachments": {},
   "cell_type": "markdown",
   "metadata": {},
   "source": [
    "# unity shader\n",
    "\n",
    "![渲染流水线的三个概念阶段](./assets/pipeline.png)\n",
    "\n",
    "- 应用阶段 输出渲染所需要的几何信息\n",
    "- 几何阶段 原始坐标转换为屏幕空间坐标，输出屏幕空间二维顶点坐标，顶点对应的深度值，着色等相关信息\n",
    "- 光栅化阶段 渲染出最终的图像\n",
    "\n",
    "![gup pipeline](./assets/gpu_pipeline.png)"
   ]
  },
  {
   "cell_type": "code",
   "execution_count": null,
   "metadata": {},
   "outputs": [],
   "source": []
  }
 ],
 "metadata": {
  "language_info": {
   "name": "python"
  },
  "orig_nbformat": 4
 },
 "nbformat": 4,
 "nbformat_minor": 2
}
