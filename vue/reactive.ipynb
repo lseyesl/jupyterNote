{
 "cells": [
  {
   "cell_type": "code",
   "execution_count": 9,
   "metadata": {},
   "outputs": [
    {
     "name": "stdout",
     "output_type": "stream",
     "text": [
      "get { a: 1 } a { a: 1 }\n",
      "1\n",
      "set { a: 1 } a 2 { a: 1 }\n",
      "get { a: 2 } a { a: 2 }\n",
      "2\n"
     ]
    }
   ],
   "source": [
    "{\n",
    "    const origin = {a:1}\n",
    "    const hander = {\n",
    "        get(target, props, receiver) {\n",
    "            console.log('get',target,props,receiver);\n",
    "            return Reflect.get(target,props,receiver);\n",
    "        },\n",
    "        set(target, props, value, receiver){\n",
    "            console.log('set',target,props,value,receiver);\n",
    "            return Reflect.set(target,props,value,receiver);\n",
    "        }\n",
    "    }\n",
    "    let proxy = new Proxy(origin,hander);\n",
    "    console.log(proxy.a);\n",
    "    proxy.a = 2;\n",
    "    console.log(proxy.a);\n",
    "}"
   ]
  },
  {
   "cell_type": "code",
   "execution_count": null,
   "metadata": {},
   "outputs": [],
   "source": []
  }
 ],
 "metadata": {
  "kernelspec": {
   "display_name": "JavaScript",
   "language": "javascript",
   "name": "jslab"
  },
  "language_info": {
   "file_extension": ".js",
   "mimetype": "text/javascript",
   "name": "javascript",
   "version": ""
  }
 },
 "nbformat": 4,
 "nbformat_minor": 4
}
