{
 "cells": [
  {
   "cell_type": "markdown",
   "id": "99ede5e2-864d-42b4-b6c8-e3c6428a47b7",
   "metadata": {},
   "source": [
    "# vite"
   ]
  },
  {
   "cell_type": "markdown",
   "id": "a9664034-2db4-417a-853f-82d35e367d64",
   "metadata": {},
   "source": [
    "## hmr"
   ]
  },
  {
   "cell_type": "code",
   "execution_count": null,
   "id": "5a44f15d-18c0-4ea3-87ca-1e5867d05fba",
   "metadata": {},
   "outputs": [],
   "source": [
    "{\n",
    "    /*\n",
    "        ws msg type\n",
    "    */\n",
    "    \n",
    "    let payload = {\n",
    "        type:null,\n",
    "        updates:[{\n",
    "            type:null,\n",
    "            path:null,\n",
    "            timestamp:null\n",
    "        }],\n",
    "        event:null,\n",
    "        data:null,\n",
    "        paths:null,\n",
    "        err:null,\n",
    "    }\n",
    "    switch(payload.type){\n",
    "        case 'connected':\n",
    "            setInterval(()=>ws.send('ping'),1000) // 保持 ws keep alive;\n",
    "            break;\n",
    "        case 'update':\n",
    "            if(isFirst && hasError){\n",
    "                window.location.reload()\n",
    "            }else{\n",
    "                clearError();\n",
    "            }\n",
    "            \n",
    "            payload.updates.forEach(item=>{\n",
    "                if(item.type == 'js-update'){\n",
    "                    // 如果更新的是js文件\n",
    "                    queueUpdate(fetchUpdate(item))\n",
    "                }else{\n",
    "                    // 如果是css文件\n",
    "                    link.href = item.path + '?v='+ item.timestamp;\n",
    "                    // 更新link的 href地址\n",
    "                }\n",
    "                \n",
    "            })\n",
    "            break;\n",
    "        case 'custom':\n",
    "            const cbs = customListenersMap.get(payload.event);\n",
    "            if(cbs){\n",
    "                cbs.forEach(cb=>cb(payload.data))\n",
    "            }\n",
    "            break;\n",
    "        case 'full-reload':\n",
    "            window.location.reload();\n",
    "            break;\n",
    "        case 'prune':\n",
    "            // 清理残留的无用modules 逻辑，消除影响。side effects;\n",
    "            payload.paths.forEach(path=>{\n",
    "                const fn = pruneMap.get(path);\n",
    "                if(fn){\n",
    "                    fn(dataMap.get(path))\n",
    "                }\n",
    "            })\n",
    "            break;\n",
    "        case 'error':\n",
    "            showError();\n",
    "            break;\n",
    "        default:\n",
    "            return payload;\n",
    "    }\n",
    "\n",
    "}"
   ]
  }
 ],
 "metadata": {
  "kernelspec": {
   "display_name": "TypeScript",
   "language": "typescript",
   "name": "tslab"
  },
  "language_info": {
   "codemirror_mode": {
    "mode": "typescript",
    "name": "javascript",
    "typescript": true
   },
   "file_extension": ".ts",
   "mimetype": "text/typescript",
   "name": "typescript",
   "version": "3.7.2"
  }
 },
 "nbformat": 4,
 "nbformat_minor": 5
}
