{
 "cells": [
  {
   "attachments": {},
   "cell_type": "markdown",
   "metadata": {},
   "source": [
    "# zustand\n",
    "\n",
    "## 是什么\n",
    "\n",
    "zustand 是一个状态管理库\n",
    "\n",
    "## 解决了什么\n",
    "\n",
    "解决状态同步问题\n",
    "\n",
    "## 它是如何解决这个问题的"
   ]
  },
  {
   "cell_type": "code",
   "execution_count": null,
   "metadata": {},
   "outputs": [],
   "source": [
    "/**\n",
    " * 这个方法返回一个闭包，保证了state,listeners的存活状态\n",
    " * 几个方法都使用箭头函数，保证能正确获取到相应的值\n",
    " * \n",
    " * createState 形如\n",
    " * (setState,getState,subscribe,destroy)=>({\n",
    " *   xx:0,\n",
    " *   fn:()=>{\n",
    " *      // 在这里可以直接调用上面传过来的4个方法去更新闭包中的状态\n",
    " *   }\n",
    " * })\n",
    " */\n",
    "\n",
    "const createStoreImpl = (createState)=>{\n",
    "    let state;\n",
    "    let listeners = new Set();\n",
    "\n",
    "    const setState = (partial, replace)=>{\n",
    "        const nextState = typeof partial === 'function' ? partial(state) : partial;\n",
    "        if(!Object.is(nextState, state)){\n",
    "            state = replace ? nextState : Object.assign({}, state, nextState);\n",
    "            listeners.forEach(listener => listener(state));\n",
    "        }\n",
    "    }\n",
    "\n",
    "    const getState = ()=> state;\n",
    "\n",
    "    const subscribe = (listener)=>{\n",
    "        listeners.add(listener);\n",
    "        return ()=>listeners.delete(listener)\n",
    "    }\n",
    "\n",
    "    const destroy = ()=>{\n",
    "        listeners.clear();\n",
    "    }\n",
    "\n",
    "    const api = {setState, getState, subscribe, destroy};\n",
    "    state = createState(setState, getState, subscribe, destroy);\n",
    "\n",
    "    return api;\n",
    "}\n",
    "\n",
    "\n",
    "/**\n",
    " * 这一步是如果调用create时传递了方法就说明是要生成一个store,\n",
    " * 否则就直接返回创建方法\n",
    " */\n",
    "const createStore = (createState)=>{\n",
    "    createState? createStoreImpl(createState): createStoreImpl;\n",
    "}\n"
   ]
  },
  {
   "attachments": {},
   "cell_type": "markdown",
   "metadata": {},
   "source": [
    "## 如何在react 中应用\n",
    "\n",
    "`import useSyncExternalStoreExports from 'use-sync-external-store/shim/with-select`\n",
    "\n",
    "主要是使用了react 官方提供的一个可以使用外部状态管理的库"
   ]
  }
 ],
 "metadata": {
  "kernelspec": {
   "display_name": "JavaScript",
   "language": "javascript",
   "name": "jslab"
  },
  "language_info": {
   "name": "javascript",
   "version": "3.9.12"
  },
  "orig_nbformat": 4
 },
 "nbformat": 4,
 "nbformat_minor": 2
}
