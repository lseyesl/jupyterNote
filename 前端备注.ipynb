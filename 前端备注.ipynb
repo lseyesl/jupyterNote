{
 "cells": [
  {
   "cell_type": "markdown",
   "metadata": {},
   "source": [
    "复制粘贴代码"
   ]
  },
  {
   "cell_type": "code",
   "execution_count": null,
   "metadata": {},
   "outputs": [],
   "source": [
    "view.on('click', '.js_copy', function () {\n",
    "    var self = $(this);\n",
    "    if (self.hasClass('disable')) {\n",
    "        return false;\n",
    "    }\n",
    "    self.addClass('disable');\n",
    "    self.find('i').text('成功！');\n",
    "    var selectObj = $(this).find('input[type=text]')[0];\n",
    "    var target = document.activeElement;\n",
    "    selectObj.focus();\n",
    "    if(selectObj.setSelectionRange){\n",
    "        selectObj.setSelectionRange(0, selectObj.value.length);\n",
    "        document.execCommand('copy', false);\n",
    "    }else{\n",
    "        var range = selectObj.createTextRange();                   \n",
    "        range.select();\n",
    "        range.execCommand('copy')\n",
    "    }                \n",
    "\n",
    "    target.focus();\n",
    "    setTimeout(function () {\n",
    "        self.find('i').text('复制');\n",
    "        self.removeClass('disable');\n",
    "    }, 800);\n",
    "});"
   ]
  }
 ],
 "metadata": {
  "kernelspec": {
   "display_name": "Javascript (Node.js)",
   "language": "javascript",
   "name": "javascript"
  },
  "language_info": {
   "file_extension": ".js",
   "mimetype": "application/javascript",
   "name": "javascript",
   "version": "12.13.0"
  }
 },
 "nbformat": 4,
 "nbformat_minor": 4
}
