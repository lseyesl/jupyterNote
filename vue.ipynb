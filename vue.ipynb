{
 "cells": [
  {
   "cell_type": "markdown",
   "metadata": {},
   "source": [
    "vue笔记"
   ]
  },
  {
   "cell_type": "markdown",
   "metadata": {},
   "source": [
    "`vue`使用`defineProperty`去监听绑定到对象的属性。\n",
    "在`get` `set` 方法中，不能直接使用`this`去返回`a`的属性值，会造成循环调用"
   ]
  },
  {
   "cell_type": "code",
   "execution_count": 6,
   "metadata": {},
   "outputs": [
    {
     "name": "stdout",
     "output_type": "stream",
     "text": [
      "you trigger get: -\n",
      "-\n",
      "you trigger set: 1\n"
     ]
    },
    {
     "data": {
      "text/plain": [
       "'1'"
      ]
     },
     "execution_count": 6,
     "metadata": {},
     "output_type": "execute_result"
    }
   ],
   "source": [
    "{\n",
    "    let a = {};\n",
    "    let tempa = {str:'-'};\n",
    "    Object.defineProperty(a,'str',{\n",
    "        get:function(){\n",
    "            console.log('you trigger get:',tempa.str);\n",
    "            return tempa.str;\n",
    "        },\n",
    "        set:function(newStr){\n",
    "            console.log('you trigger set:',newStr);\n",
    "            tempa.str = newStr;\n",
    "        }\n",
    "    })\n",
    "    console.log(a.str);\n",
    "    a.str='1';\n",
    "}"
   ]
  },
  {
   "cell_type": "markdown",
   "metadata": {},
   "source": [
    "对数组的监听是通过修改数组的方法完成的,然后通过原型上`Array`的方法实现真正的方法调用。"
   ]
  },
  {
   "cell_type": "code",
   "execution_count": 9,
   "metadata": {},
   "outputs": [
    {
     "name": "stdout",
     "output_type": "stream",
     "text": [
      "argv: [ 1, 2, 3 ]\n",
      "{ event: 'push',\n",
      "  args: [ 1, 2, 3 ],\n",
      "  array: [ 1, 2, 3, pop: [Function], push: [Function] ] }\n",
      "argv: []\n",
      "{ event: 'pop',\n",
      "  args: [],\n",
      "  array: [ 1, 2, pop: [Function], push: [Function] ] }\n",
      "arr [ 1, 2, pop: [Function], push: [Function] ]\n"
     ]
    }
   ],
   "source": [
    "{\n",
    "    let arr = [];\n",
    "    let proto = Array.prototype,\n",
    "        slice = proto.slice,\n",
    "        mutatorMethods = ['pop','push'];\n",
    "   mutatorMethods.forEach(method=>{\n",
    "       arr[method]=function(...argv){\n",
    "           console.log('argv:',[...argv]);\n",
    "           proto[method].apply(this,argv);\n",
    "           console.log({\n",
    "               event:method,\n",
    "               args:slice.call(argv),\n",
    "               array:arr\n",
    "           })\n",
    "       }\n",
    "   })\n",
    "   arr.push(1,2,3)\n",
    "   arr.pop()\n",
    "   console.log('arr',arr);\n",
    "}"
   ]
  },
  {
   "cell_type": "markdown",
   "metadata": {},
   "source": [
    "用`proxy`代替`defineProperty`"
   ]
  },
  {
   "cell_type": "code",
   "execution_count": 6,
   "metadata": {},
   "outputs": [
    {
     "name": "stdout",
     "output_type": "stream",
     "text": [
      "set:-target->[object Object],name->x,value->1\n",
      "target[x]:1\n",
      "set:-target->[object Object],name->y\n",
      "target[y]:undefined\n",
      "set:-target->[object Object],name->x\n",
      "target[x]:1\n"
     ]
    }
   ],
   "source": [
    "{\n",
    "    let a = {};\n",
    "    let tempa = Object.create({});\n",
    "    let handler = {\n",
    "        get:function(target,name){\n",
    "            console.log(`set:-target->${target},name->${name}`);\n",
    "            console.log(`target[${name}]:${target[name]}`);\n",
    "            //使用Reflct\n",
    "            Reflect.get(target,name);\n",
    "        },\n",
    "        set:function(target,name,value){\n",
    "            console.log(`set:-target->${target},name->${name},value->${value}`);\n",
    "            //target[name]=value;\n",
    "            Reflect.set(target,name,value)\n",
    "            console.log(`target[${name}]:${target[name]}`);\n",
    "        }\n",
    "    }\n",
    "    \n",
    "    let reala = new Proxy(a,handler);\n",
    "    reala.x=1;\n",
    "    reala.y;\n",
    "    reala.x;\n",
    "}"
   ]
  },
  {
   "cell_type": "markdown",
   "metadata": {},
   "source": [
    "reflect and proxy have completely different purposes and different capabilities.\n",
    "\n",
    "the `Proxy` object is used to define custom behavior for fundamental operations (e.g. property lookup, assignment, enumeration, function invocation,etc).\n",
    "\n",
    "`Reflect` is a built-in object that provides methods for interceptable javascript operations. the methods are the same as those of proxy handlers."
   ]
  },
  {
   "cell_type": "code",
   "execution_count": 3,
   "metadata": {},
   "outputs": [
    {
     "name": "stdout",
     "output_type": "stream",
     "text": [
      "obj.a: foo\n",
      "Reflct: foo\n",
      "obj.c: undefined\n",
      "Reflct: undefined\n",
      "obj.a: foo\n",
      "Reflct: foo\n",
      "obj.c: default\n",
      "Reflct: default\n"
     ]
    }
   ],
   "source": [
    "{\n",
    "    const obj = {\n",
    "        a:'foo',\n",
    "        b:'bar'\n",
    "    };\n",
    "    \n",
    "    console.log('obj.a:',obj.a);\n",
    "    console.log('Reflct:',Reflect.get(obj,'a'));\n",
    "    console.log('obj.c:',obj.c);\n",
    "    console.log('Reflct:',Reflect.get(obj,'c'));\n",
    "    \n",
    "    const proxy = new Proxy(obj,{\n",
    "        get(target,property){\n",
    "            return property in target? target[property]:'default';\n",
    "        }\n",
    "    })\n",
    "    \n",
    "    console.log('obj.a:',proxy.a);\n",
    "    console.log('Reflct:',Reflect.get(proxy,'a'));\n",
    "    console.log('obj.c:',proxy.c);\n",
    "    console.log('Reflct:',Reflect.get(proxy,'c'));\n",
    "}"
   ]
  },
  {
   "cell_type": "markdown",
   "metadata": {},
   "source": [
    "```javascript\n",
    "    new Proxy(obj,{\n",
    "        get:Reflect.get\n",
    "    })\n",
    "```"
   ]
  }
 ],
 "metadata": {
  "kernelspec": {
   "display_name": "Javascript (Node.js)",
   "language": "javascript",
   "name": "javascript"
  },
  "language_info": {
   "name": ""
  }
 },
 "nbformat": 4,
 "nbformat_minor": 4
}
