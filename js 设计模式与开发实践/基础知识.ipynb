{
 "cells": [
  {
   "cell_type": "markdown",
   "metadata": {},
   "source": [
    "# 基础知识"
   ]
  },
  {
   "cell_type": "markdown",
   "metadata": {},
   "source": [
    "## 面向对象的javascript"
   ]
  },
  {
   "cell_type": "markdown",
   "metadata": {},
   "source": [
    "关注对象的行为，而不关注对象本身"
   ]
  },
  {
   "cell_type": "code",
   "execution_count": 1,
   "metadata": {},
   "outputs": [
    {
     "name": "stdout",
     "output_type": "stream",
     "text": [
      "加个合唱团\n",
      "合唱团人数： 1\n",
      "加个合唱团\n",
      "合唱团人数： 2\n"
     ]
    }
   ],
   "source": [
    "{\n",
    "    var duck = {\n",
    "        duckSinging: function (){\n",
    "            console.log('嘎嘎嘎');\n",
    "        }\n",
    "    }\n",
    "    \n",
    "    var chicken = {\n",
    "        duckSinging: function(){\n",
    "            console.log('嘎嘎嘎');\n",
    "        }\n",
    "    }\n",
    "    \n",
    "    var choir = [];\n",
    "    \n",
    "    var joinChoir = function (animal){\n",
    "        if(animal && typeof animal.duckSinging === 'function') {\n",
    "            choir.push(animal);\n",
    "            console.log('加个合唱团');\n",
    "            console.log('合唱团人数：',choir.length);\n",
    "        }\n",
    "    };\n",
    "    \n",
    "    joinChoir(duck);\n",
    "    joinChoir(chicken);\n",
    "}"
   ]
  },
  {
   "cell_type": "code",
   "execution_count": 3,
   "metadata": {},
   "outputs": [
    {
     "name": "stdout",
     "output_type": "stream",
     "text": [
      "嘎嘎嘎\n",
      "咯咯咯\n"
     ]
    }
   ],
   "source": [
    "{\n",
    "    var makeSound = function (animal){\n",
    "        if(animal instanceof Duck){\n",
    "            console.log('嘎嘎嘎')\n",
    "        }else if(animal instanceof Chicken){\n",
    "            console.log('咯咯咯')\n",
    "        }\n",
    "    }\n",
    "    \n",
    "    var Duck = function(){}\n",
    "    var Chicken = function(){}\n",
    "    \n",
    "    makeSound(new Duck())\n",
    "    makeSound(new Chicken())\n",
    "}"
   ]
  },
  {
   "cell_type": "markdown",
   "metadata": {},
   "source": [
    "多态背后的思想是将“做什么”和“谁去做以及怎样去做”分离开来。也就是将“不变的事物”和“可能改变的食物”分离开来。"
   ]
  },
  {
   "cell_type": "code",
   "execution_count": 5,
   "metadata": {},
   "outputs": [
    {
     "name": "stdout",
     "output_type": "stream",
     "text": [
      "嘎嘎嘎\n",
      "咯咯咯\n",
      "汪汪汪\n"
     ]
    }
   ],
   "source": [
    "{\n",
    "    var makeSound = function(animal){\n",
    "        animal.sound();\n",
    "    }\n",
    "    \n",
    "    var Duck = function(){}\n",
    "    \n",
    "    Duck.prototype.sound = function(){\n",
    "        console.log('嘎嘎嘎')\n",
    "    }\n",
    "    \n",
    "    var Chicken = function(){}\n",
    "    \n",
    "    Chicken.prototype.sound = function(){\n",
    "        console.log('咯咯咯')\n",
    "    }\n",
    "    \n",
    "    /*附加*/\n",
    "    var Dog = function(){}\n",
    "    Dog.prototype.sound = function(){\n",
    "        console.log('汪汪汪')\n",
    "    }\n",
    "    \n",
    "    makeSound(new Duck)\n",
    "    makeSound(new Chicken)\n",
    "    makeSound(new Dog)\n",
    "}"
   ]
  },
  {
   "cell_type": "markdown",
   "metadata": {},
   "source": [
    "使用继承来得到多态效果，是让对象表现出多态性的最常用手段。\n",
    "\n",
    "继承通常包括实现继承和接口继承"
   ]
  },
  {
   "cell_type": "markdown",
   "metadata": {},
   "source": [
    "封装"
   ]
  },
  {
   "cell_type": "code",
   "execution_count": 6,
   "metadata": {},
   "outputs": [
    {
     "name": "stdout",
     "output_type": "stream",
     "text": [
      "func getName-> sven\n",
      "filed __name-> undefined\n"
     ]
    }
   ],
   "source": [
    "{\n",
    "    var myObject = (function(){\n",
    "        var __name = 'sven';\n",
    "        return {\n",
    "            getName: function(){\n",
    "                return __name;\n",
    "            }\n",
    "        }\n",
    "    })()\n",
    "    \n",
    "    console.log('func getName->',myObject.getName());\n",
    "    console.log('filed __name->',myObject.__name);\n",
    "}"
   ]
  },
  {
   "cell_type": "markdown",
   "metadata": {},
   "source": [
    "封装在更重要的层面体现为*封装变化*"
   ]
  },
  {
   "cell_type": "code",
   "execution_count": null,
   "metadata": {},
   "outputs": [],
   "source": [
    "考虑你的设计中哪些地方可能变化，这种方式与关注会导致重新设计的原因相反。它不是考虑什么时候会迫使你的设计改变，而是考虑你怎样才能够\n",
    "在不重新设计的情况下进行改变。这里的关键在于封装发生变化的概念，这是许多设计模式的主题。\n",
    "\n",
    "- 创建型模式 封装创建对象的变化\n",
    "- 结构型模式 封装对象之间的组合关系\n",
    "- 行为型模式 封装对象的行为变化"
   ]
  },
  {
   "cell_type": "code",
   "execution_count": 13,
   "metadata": {},
   "outputs": [
    {
     "name": "stdout",
     "output_type": "stream",
     "text": [
      "blood 500\n",
      "attackLevel 10\n",
      "defenseLevel 7\n"
     ]
    }
   ],
   "source": [
    "(function (){\n",
    "    var Plane = function (){\n",
    "        this.blood = 100;\n",
    "        this.attackLevel = 1;\n",
    "        this.defenseLevel = 1;\n",
    "    }\n",
    "    \n",
    "    var plane = new Plane()\n",
    "    plane.blood = 500;\n",
    "    plane.attackLevel = 10;\n",
    "    plane.defenseLevel = 7;\n",
    "    \n",
    "    var clonePlane = Object.create(plane);\n",
    "    console.log('blood',clonePlane.blood)\n",
    "    console.log('attackLevel',clonePlane.attackLevel)\n",
    "    console.log('defenseLevel',clonePlane.defenseLevel)\n",
    "\n",
    "})()"
   ]
  },
  {
   "cell_type": "code",
   "execution_count": 15,
   "metadata": {},
   "outputs": [
    {
     "name": "stdout",
     "output_type": "stream",
     "text": [
      "false\n",
      "{}\n",
      "{ b: 1, c: 2 }\n"
     ]
    }
   ],
   "source": [
    "/*测试 Object.create*/\n",
    "\n",
    "(function(){\n",
    "    var origin = {\n",
    "        b:1,\n",
    "        c:2\n",
    "    }\n",
    "    \n",
    "    var test = Object.create(origin);\n",
    "    \n",
    "    console.log(test === origin)\n",
    "    console.log(test)\n",
    "    console.log(origin)\n",
    "})()"
   ]
  },
  {
   "cell_type": "code",
   "execution_count": null,
   "metadata": {},
   "outputs": [],
   "source": [
    "/*模拟create*/\n",
    "(function(){\n",
    "    Object.create = Object.create || function(obj){\n",
    "        var F = function(){}\n",
    "        F.prototype = obj\n",
    "        return new F;\n",
    "    }\n",
    "})()"
   ]
  },
  {
   "cell_type": "markdown",
   "metadata": {},
   "source": [
    "原型编程的基本规则\n",
    "\n",
    "- 所有的数据都是对象\n",
    "- 要得到一个对象，不是通过实例化类，而是找到一个对象作为原型并克隆它\n",
    "- 对象会记住它的原型\n",
    "- 如果对象无法响应某个请求，它会把这个请求委托给它自己的原型"
   ]
  },
  {
   "cell_type": "code",
   "execution_count": 16,
   "metadata": {},
   "outputs": [
    {
     "name": "stdout",
     "output_type": "stream",
     "text": [
      "true\n",
      "true\n"
     ]
    }
   ],
   "source": [
    "{\n",
    "    var obj1 = new Object()\n",
    "    var obj2 = {}\n",
    "    \n",
    "    console.log(Object.getPrototypeOf(obj1) === Object.prototype)\n",
    "    console.log(Object.getPrototypeOf(obj2) === Object.prototype)\n",
    "}"
   ]
  },
  {
   "cell_type": "code",
   "execution_count": 19,
   "metadata": {},
   "outputs": [
    {
     "name": "stdout",
     "output_type": "stream",
     "text": [
      "sven\n",
      "sven\n",
      "true\n"
     ]
    }
   ],
   "source": [
    "(function(){\n",
    "    /*\n",
    "        在这里Person不是类，而是函数构造器，javascript的函数既可以当普通函数调用，还可以作为构造器调用\n",
    "        当使用new 运算符来调用函数时，此时的函数就是一个构造器\n",
    "        \n",
    "        new运算符来创建对象的过程，实际上也是先克隆 Object.prototype对象，再进行一些其他额外的操作。\n",
    "    */\n",
    "    function Person(name){\n",
    "        this.name = name\n",
    "    }\n",
    "    \n",
    "    Person.prototype.getName = function(){\n",
    "        return this.name\n",
    "    }\n",
    "    \n",
    "    var a = new Person('sven');\n",
    "    \n",
    "    console.log(a.name)\n",
    "    console.log(a.getName())\n",
    "    console.log(Object.getPrototypeOf(a) === Person.prototype)\n",
    "})()"
   ]
  },
  {
   "cell_type": "code",
   "execution_count": 21,
   "metadata": {},
   "outputs": [
    {
     "name": "stdout",
     "output_type": "stream",
     "text": [
      "Test1 { test: 1 }\n",
      "{}\n"
     ]
    }
   ],
   "source": [
    "(function(){\n",
    "    function Test1(){\n",
    "        this.test =1;\n",
    "        return Number(1)\n",
    "    }\n",
    "    function Test2(){\n",
    "        this.test = 2;\n",
    "        return {}\n",
    "    }\n",
    "    \n",
    "    var t1 = new Test1,\n",
    "        t2 = new Test2;\n",
    "    \n",
    "    console.log(t1)\n",
    "    console.log(t2)\n",
    "})()\n",
    "/*\n",
    "    当函数作为构造函数时，如果函数内return 一个对象，则返回该对象，若为其他基本类型则返回 this.\n",
    "*/"
   ]
  },
  {
   "cell_type": "code",
   "execution_count": 22,
   "metadata": {},
   "outputs": [
    {
     "name": "stderr",
     "output_type": "stream",
     "text": [
      "15:13 - Property '__proto__' does not exist on type 'Object'.\n"
     ]
    }
   ],
   "source": [
    "/*\n",
    "    简单模拟new运算的过程\n",
    "*/\n",
    "(function(){\n",
    "    function Person(name){\n",
    "        this.name = name;\n",
    "    }\n",
    "    Person.prototype.getName = function(){\n",
    "        return this.name;\n",
    "    }\n",
    "    \n",
    "    var objectFactory = function(){\n",
    "        var obj = new Object(),\n",
    "            Constructor = [].shift.call(arguments);\n",
    "        obj.__proto__ = Constructor.prototype;\n",
    "        var ret = Constructor.apply(obj, arguments);\n",
    "        \n",
    "        return typeof ret === 'object' ? ret : obj;\n",
    "    }\n",
    "    \n",
    "    var a = objectFactory(Person, 'seven');\n",
    "    \n",
    "    console.log(a.name)\n",
    "    console.log(a.getName())\n",
    "    console.log(Object.getPrototypeOf(a) === Person.prototype)\n",
    "})()"
   ]
  },
  {
   "cell_type": "code",
   "execution_count": 23,
   "metadata": {},
   "outputs": [
    {
     "name": "stdout",
     "output_type": "stream",
     "text": [
      "sven\n"
     ]
    }
   ],
   "source": [
    "(function(){\n",
    "    var obj = {name:'sven'}\n",
    "    var A = function(){}\n",
    "    A.prototype = obj\n",
    "    \n",
    "    var a = new A\n",
    "    console.log(a.name)\n",
    "})()"
   ]
  },
  {
   "cell_type": "code",
   "execution_count": null,
   "metadata": {},
   "outputs": [],
   "source": [
    "上述代码执行的过程\n",
    "- 尝试遍历对象a中的所有属性，但没有找到name 这个属性\n",
    "- 查找name 属性的这个请求被委托给对对象a 的构造器的原型，他被a.__proto__ 记录着并且指向A.prototype，而A.prototype 被设置为对象obj\n",
    "- 在对象obj 中找到了 name 属性，并返回它的值"
   ]
  },
  {
   "cell_type": "code",
   "execution_count": 24,
   "metadata": {},
   "outputs": [
    {
     "name": "stdout",
     "output_type": "stream",
     "text": [
      "sven\n"
     ]
    }
   ],
   "source": [
    "(function (){\n",
    "    var A = function(){}\n",
    "    A.prototype = {name:'sven'}\n",
    "    \n",
    "    var B = function(){}\n",
    "    B.prototype = new A();\n",
    "    \n",
    "    var b = new B;\n",
    "    console.log(b.name)\n",
    "})()"
   ]
  },
  {
   "cell_type": "code",
   "execution_count": 25,
   "metadata": {},
   "outputs": [
    {
     "name": "stdout",
     "output_type": "stream",
     "text": [
      "Scamp  says  woof\n"
     ]
    }
   ],
   "source": [
    "(function(){\n",
    "    class Animal {\n",
    "        constructor(name){\n",
    "            this.name = name;\n",
    "        }\n",
    "        getName(){\n",
    "            return this.name;\n",
    "        }\n",
    "    }\n",
    "    \n",
    "    class Dog extends Animal {\n",
    "        constructor(name){\n",
    "            super(name);\n",
    "        }\n",
    "        speak(){\n",
    "            return \"woof\";\n",
    "        }\n",
    "    }\n",
    "    \n",
    "    var dog = new Dog('Scamp');\n",
    "    console.log(dog.getName(),' says ', dog.speak())\n",
    "})()"
   ]
  },
  {
   "cell_type": "markdown",
   "metadata": {},
   "source": [
    "## this, call , apply"
   ]
  },
  {
   "cell_type": "markdown",
   "metadata": {},
   "source": [
    "javascript 的this 总是指向一个对象(运行时基于函数的执行环境动态绑定，而非函数被声明时的环境)\n",
    "\n",
    "- 作为对象的方法调用(指向该对象)\n",
    "- 作为普通函数调用(指向window)\n",
    "- 构造器调用(指向返回的对象)\n",
    "- call ,apply ,bind 调用(指向调用的第一个参数)"
   ]
  },
  {
   "cell_type": "markdown",
   "metadata": {},
   "source": [
    "## 闭包和高阶函数"
   ]
  },
  {
   "cell_type": "markdown",
   "metadata": {},
   "source": [
    "闭包的形成与变量的作用域以及变量的生存周期密切相关。\n",
    "\n",
    "对于全局变量来说，其声明周期是永久的，除非主动销毁\n",
    "函数内部声明的变量，会在函数调用结束后被销毁\n",
    "\n",
    "闭包的更多作用\n",
    "\n",
    "- 封装变量(提炼函数是代码重构的一种常见手段)\n",
    "- 延续局部变量的寿命"
   ]
  },
  {
   "cell_type": "code",
   "execution_count": null,
   "metadata": {},
   "outputs": [],
   "source": [
    "(function(){\n",
    "    var mult = (function(){\n",
    "        var cache = {}\n",
    "        var calculate = function(){\n",
    "            var a = 1;\n",
    "            for(var i =0,l = arguments.length;i<l;i++){\n",
    "                a = a* arguments[i];\n",
    "            }\n",
    "            return a;\n",
    "        }\n",
    "        \n",
    "        return function(){\n",
    "            var args = Array.prototype.join.call(arguments,',');\n",
    "            if(args in cache){\n",
    "                return cache[args];\n",
    "            }else{\n",
    "                return cache[args] = calculate.apply(null, arguments)\n",
    "            }\n",
    "        }\n",
    "    })();\n",
    "})()"
   ]
  },
  {
   "cell_type": "markdown",
   "metadata": {},
   "source": [
    "### 闭包和内存泄漏\n",
    "\n",
    "如果闭包的作用域链中保存着一些DOM节点，这个时候就有可能造成内存泄漏。\n",
    "主要原因是DOM节点由于引用无法被销毁。"
   ]
  },
  {
   "cell_type": "markdown",
   "metadata": {},
   "source": [
    "### 高阶函数\n",
    "\n",
    "- 函数可以作为参数被传递\n",
    "- 函数可以作为返回值输出\n",
    "\n",
    "AOP(面向切面编程)的主要作用是把一些跟核心业务逻辑模块无关的功能抽离出来。"
   ]
  },
  {
   "cell_type": "code",
   "execution_count": 26,
   "metadata": {},
   "outputs": [
    {
     "name": "stderr",
     "output_type": "stream",
     "text": [
      "2:23 - Property 'before' does not exist on type 'Function'.\n",
      "10:24 - Property 'after' does not exist on type 'Function'.\n",
      "23:17 - Property 'after' does not exist on type '() => void'.\n"
     ]
    }
   ],
   "source": [
    "(function(){\n",
    "   Function.prototype.before = function(beforefn){\n",
    "       var _self = this;\n",
    "       return function(){\n",
    "           beforefn.apply(this,arguments);\n",
    "           return _self.apply(this,arguments)\n",
    "       }\n",
    "   } \n",
    "    \n",
    "    Function.prototype.after = function(afterfn){\n",
    "        var _self = this;\n",
    "        return function(){\n",
    "            var ret = _self.apply(this,arguments)\n",
    "            afterfn.apply(this,arguments)\n",
    "            return ret;\n",
    "        }\n",
    "    }\n",
    "    \n",
    "    var func = function(){\n",
    "        console.log(2);\n",
    "    }\n",
    "    \n",
    "    func = func.after(function(){\n",
    "        console.log(3)\n",
    "    }).before(function(){\n",
    "        console.log(1)\n",
    "    })\n",
    "    \n",
    "    func()\n",
    "})()"
   ]
  },
  {
   "cell_type": "code",
   "execution_count": 29,
   "metadata": {},
   "outputs": [
    {
     "name": "stdout",
     "output_type": "stream",
     "text": [
      "600\n"
     ]
    }
   ],
   "source": [
    "(function(){\n",
    "    var currying = function curry(fn){\n",
    "        var args = [];\n",
    "        return function inner(){\n",
    "            if(arguments.length === 0){\n",
    "                return fn.apply(this,args)\n",
    "            }else{\n",
    "                [].push.apply(args,arguments);\n",
    "                return inner;\n",
    "            }\n",
    "        }\n",
    "    }\n",
    "    \n",
    "    var cost = (function(){\n",
    "        var money = 0;\n",
    "        return function(){\n",
    "            for(var i =0,l= arguments.length;i<l;i++){\n",
    "                money += arguments[i]\n",
    "            }\n",
    "            \n",
    "            return money\n",
    "        }\n",
    "    })()\n",
    "    \n",
    "    var _cost = currying(cost)\n",
    "    _cost(100)\n",
    "    _cost(200)\n",
    "    _cost(300)\n",
    "    console.log(_cost());\n",
    "})()"
   ]
  },
  {
   "cell_type": "code",
   "execution_count": null,
   "metadata": {},
   "outputs": [],
   "source": [
    "(function(){\n",
    "   Function.prototype.uncurrying = function(){\n",
    "       var self = this;\n",
    "       return function(){\n",
    "           var obj = Array.prototype.shift.call(arguments);\n",
    "           return self.apply(obj,arguments);\n",
    "       }\n",
    "   } \n",
    "   \n",
    "   var push = Array.prototype.push.uncurrying();\n",
    "   (function(){\n",
    "       push(arguments,4);\n",
    "       console.log(arguments)\n",
    "   })(1,2,3)\n",
    "})()"
   ]
  },
  {
   "cell_type": "code",
   "execution_count": null,
   "metadata": {},
   "outputs": [],
   "source": [
    "{\n",
    "    //节流函数\n",
    "    var throttle = function(fn,interval){\n",
    "        var _self = fn,\n",
    "            timer,\n",
    "            firstTime = true;\n",
    "        \n",
    "        return function(){\n",
    "            var args = arguments,\n",
    "                _me = this;\n",
    "            \n",
    "            if(firstTime){\n",
    "                _self.apply(_me, args);\n",
    "                return firstTime = false;\n",
    "            }\n",
    "            \n",
    "            if(timer){\n",
    "                return false;\n",
    "            }\n",
    "            \n",
    "            timer = setTimeout(function(){\n",
    "                clearTimeout(timer);\n",
    "                timer = null;\n",
    "                _self.apply(_me, args);\n",
    "            },interval || 500)\n",
    "        }\n",
    "    }\n",
    "}"
   ]
  },
  {
   "cell_type": "code",
   "execution_count": null,
   "metadata": {},
   "outputs": [],
   "source": [
    "{\n",
    "    //分时函数\n",
    "    var timeChunk = function(ary, fn, count){\n",
    "        var obj,\n",
    "            t;\n",
    "        \n",
    "        var len = ary.length;\n",
    "        var start = function(){\n",
    "            for(var i =0;i<Math.min(count || 1, ary.length); i++){\n",
    "                var obj = ary.shift();\n",
    "                fn(obj);\n",
    "            }\n",
    "        }\n",
    "        \n",
    "        return function(){\n",
    "            t = setInterval(function(){\n",
    "                if(ary.length === 0){\n",
    "                    return clearInterval(t);\n",
    "                }\n",
    "                start()\n",
    "            },200)\n",
    "        }\n",
    "    }\n",
    "}"
   ]
  },
  {
   "cell_type": "code",
   "execution_count": null,
   "metadata": {},
   "outputs": [],
   "source": [
    "{\n",
    "    //惰性加载\n",
    "    var addEvent = (function(){\n",
    "        if(window.addEventListener){\n",
    "            return function(elem,type,handler){\n",
    "                elem.addEventListener(type,handler,false)\n",
    "            }\n",
    "        }\n",
    "        if(window.attachEvent){\n",
    "            return function(elem,type,handler){\n",
    "                ele.attachEvent('on'+type,handler)\n",
    "            }\n",
    "        }\n",
    "    })()\n",
    "    \n",
    "    var addEvent2 = function(elem,type,handler){\n",
    "        if(window.addEventListener){\n",
    "            addEvent = function(elem,type,handler){\n",
    "               elem.addEventListener(type,handler,false)\n",
    "            }\n",
    "        }\n",
    "        if(window.attachEvent){\n",
    "            addEvent = function(elem,type,handler){\n",
    "                ele.attachEvent('on'+type,handler)\n",
    "            }\n",
    "        }\n",
    "        \n",
    "        addEvent(elem,type,handler)\n",
    "    }\n",
    "}"
   ]
  }
 ],
 "metadata": {
  "kernelspec": {
   "display_name": "JavaScript",
   "language": "javascript",
   "name": "jslab"
  },
  "language_info": {
   "file_extension": ".js",
   "mimetype": "text/javascript",
   "name": "javascript",
   "version": ""
  }
 },
 "nbformat": 4,
 "nbformat_minor": 4
}
