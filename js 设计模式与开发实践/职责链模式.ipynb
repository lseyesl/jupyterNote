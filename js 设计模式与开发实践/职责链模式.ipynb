{
 "cells": [
  {
   "cell_type": "markdown",
   "metadata": {},
   "source": [
    "职责链模式\n",
    "\n",
    "使多个对象都有机会处理请求，从而避免请求的发送者和接收者之间的耦合关系，将这些对象连成一条链，并沿着这条链传递该请求，直到有一个对象处理它为止。"
   ]
  },
  {
   "cell_type": "code",
   "execution_count": 1,
   "metadata": {},
   "outputs": [
    {
     "name": "stdout",
     "output_type": "stream",
     "text": [
      "500元定金预购\n"
     ]
    }
   ],
   "source": [
    "(function(){\n",
    "    var order = function(orderType, pay, stock){\n",
    "        if(orderType === 1){\n",
    "            if(pay === true){\n",
    "                console.log('500元定金预购')\n",
    "            }else{\n",
    "                if(stock > 0){\n",
    "                    console.log('普通购买')\n",
    "                }else{\n",
    "                    console.log('手机库存不足')\n",
    "                }\n",
    "            }\n",
    "        }else if(orderType === 2){\n",
    "            if(pay === true){\n",
    "                console.log('200元定金预购')\n",
    "            }else{\n",
    "                if(stock > 0){\n",
    "                    console.log('普通购买')\n",
    "                }else{\n",
    "                    console.log('手机库存不足')\n",
    "                }\n",
    "            }\n",
    "        }else if(orderType === 3){\n",
    "            if(stock > 0){\n",
    "                console.log('普通购买')\n",
    "            }else{\n",
    "                console.log('手机库存不足')\n",
    "            }\n",
    "        }\n",
    "    }\n",
    "    \n",
    "    order(1,true,500)\n",
    "})()"
   ]
  },
  {
   "cell_type": "code",
   "execution_count": 4,
   "metadata": {},
   "outputs": [
    {
     "name": "stdout",
     "output_type": "stream",
     "text": [
      "200 -> 100\n",
      "normal\n"
     ]
    }
   ],
   "source": [
    "(function(){\n",
    "    var order500 = function(orderType,pay,stock){\n",
    "        if(orderType===1&&pay===true){\n",
    "            console.log('200 -> 100')\n",
    "        }else{\n",
    "            order200(orderType,pay,stock);\n",
    "        }\n",
    "    }\n",
    "    var order200 = function(orderType,pay,stock){\n",
    "        if(orderType===2&&pay===true){\n",
    "            console.log('100 -> 50')\n",
    "        }else{\n",
    "            orderNormal(orderType,pay,stock);\n",
    "        }\n",
    "    }\n",
    "    var orderNormal = function(orderType,pay,stock){\n",
    "        if(stock > 0){\n",
    "            console.log('normal')\n",
    "        }else{\n",
    "            console.log('no stock')\n",
    "        }\n",
    "    }\n",
    "    \n",
    "    order500(1,true,500)\n",
    "    order500(1,false,500)\n",
    "})()"
   ]
  },
  {
   "cell_type": "code",
   "execution_count": 7,
   "metadata": {},
   "outputs": [
    {
     "name": "stdout",
     "output_type": "stream",
     "text": [
      "200 -> 100\n",
      "100 -> 50\n"
     ]
    }
   ],
   "source": [
    "(function(){\n",
    "    var order500 = function(orderType,pay,stock){\n",
    "        if(orderType===1&&pay===true){\n",
    "            console.log('200 -> 100')\n",
    "        }else{\n",
    "            return 'nextSuccessor'\n",
    "        }\n",
    "    }\n",
    "    var order200 = function(orderType,pay,stock){\n",
    "        if(orderType===2&&pay===true){\n",
    "            console.log('100 -> 50')\n",
    "        }else{\n",
    "            return 'nextSuccessor'\n",
    "        }\n",
    "    }\n",
    "    var orderNormal = function(orderType,pay,stock){\n",
    "        if(stock > 0){\n",
    "            console.log('normal')\n",
    "        }else{\n",
    "            console.log('no stock')\n",
    "        }\n",
    "    }\n",
    "    \n",
    "    var Chain = function(fn){\n",
    "        this.fn = fn;\n",
    "        this.successor = null\n",
    "    }\n",
    "    \n",
    "    Chain.prototype.setNextSuccessor = function(successor){\n",
    "        return this.successor = successor\n",
    "    }\n",
    "    \n",
    "    Chain.prototype.passRequest = function(){\n",
    "        var ret = this.fn.apply(this,arguments)\n",
    "        if(ret === 'nextSuccessor'){\n",
    "            return this.successor && this.successor.passRequest.apply(this.successor,arguments)\n",
    "        }\n",
    "        return ret;\n",
    "    }\n",
    "    \n",
    "    var chainOrder500 = new Chain(order500);\n",
    "    var chainOrder200 = new Chain(order200);\n",
    "    var chainOrderNormal = new Chain(orderNormal);\n",
    "    \n",
    "    chainOrder500.setNextSuccessor(chainOrder200)\n",
    "    chainOrder200.setNextSuccessor(chainOrderNormal)\n",
    "    chainOrder500.passRequest(1,true,500)\n",
    "    chainOrder500.passRequest(2,true,500)\n",
    "})()"
   ]
  },
  {
   "cell_type": "code",
   "execution_count": 8,
   "metadata": {},
   "outputs": [
    {
     "name": "stdout",
     "output_type": "stream",
     "text": [
      "1\n",
      "2\n",
      "3\n"
     ]
    }
   ],
   "source": [
    "(function(){\n",
    "    var Chain = function(fn){\n",
    "        this.fn = fn;\n",
    "        this.successor = null\n",
    "    }\n",
    "    \n",
    "    Chain.prototype.setNextSuccessor = function(successor){\n",
    "        return this.successor = successor\n",
    "    }\n",
    "    \n",
    "    Chain.prototype.passRequest = function(){\n",
    "        var ret = this.fn.apply(this,arguments)\n",
    "        if(ret === 'nextSuccessor'){\n",
    "            return this.successor && this.successor.passRequest.apply(this.successor,arguments)\n",
    "        }\n",
    "        return ret;\n",
    "    }\n",
    "    \n",
    "    Chain.prototype.next = function(){\n",
    "        return this.successor && this.successor.passRequest.apply(this.successor, arguments)\n",
    "    }\n",
    "    \n",
    "    var fn1 = new Chain(function(){\n",
    "        console.log(1);\n",
    "        return 'nextSuccessor';\n",
    "    })\n",
    "    \n",
    "    var fn2 = new Chain(function(){\n",
    "        console.log(2);\n",
    "        var self = this;\n",
    "        setTimeout(function(){\n",
    "            self.next()\n",
    "        },1000)\n",
    "    })\n",
    "    \n",
    "    var fn3 = new Chain(function(){\n",
    "        console.log(3)\n",
    "    })\n",
    "    \n",
    "    fn1.setNextSuccessor(fn2).setNextSuccessor(fn3);\n",
    "    fn1.passRequest()\n",
    "})()"
   ]
  },
  {
   "cell_type": "code",
   "execution_count": 9,
   "metadata": {},
   "outputs": [
    {
     "name": "stderr",
     "output_type": "stream",
     "text": [
      "2:24 - Property 'after' does not exist on type 'Function'.\n",
      "17:8 - Property 'after' does not exist on type '() => string'.\n"
     ]
    }
   ],
   "source": [
    "(function(){\n",
    "    Function.prototype.after = function(fn){\n",
    "        var self = this;\n",
    "        return function(){\n",
    "            var ret = self.apply(this,arguments);\n",
    "            if(ret === 'nextSuccessor'){\n",
    "                return fn.apply(this,arguments)\n",
    "            }\n",
    "            \n",
    "            return ret;\n",
    "        }\n",
    "    }\n",
    "    \n",
    "    var order = (function(){\n",
    "        console.log(1);\n",
    "        return 'nextSuccessor'\n",
    "    }).after((function(){\n",
    "        console.log(2);\n",
    "        return 'nextSuccessor'\n",
    "    })).after((function(){\n",
    "        console.log(3);\n",
    "        return 'over'\n",
    "    }))\n",
    "    \n",
    "    order()\n",
    "})()"
   ]
  },
  {
   "cell_type": "code",
   "execution_count": null,
   "metadata": {},
   "outputs": [],
   "source": []
  }
 ],
 "metadata": {
  "kernelspec": {
   "display_name": "JavaScript",
   "language": "javascript",
   "name": "jslab"
  },
  "language_info": {
   "file_extension": ".js",
   "mimetype": "text/javascript",
   "name": "javascript",
   "version": ""
  }
 },
 "nbformat": 4,
 "nbformat_minor": 4
}
