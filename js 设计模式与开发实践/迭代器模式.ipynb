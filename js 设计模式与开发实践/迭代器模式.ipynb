{
 "cells": [
  {
   "cell_type": "markdown",
   "metadata": {},
   "source": [
    "迭代器模式是指提供一种方法顺序访问一个聚合对象中的各个元素，而又不需要暴露该对象的内部表示。"
   ]
  },
  {
   "cell_type": "code",
   "execution_count": 2,
   "metadata": {},
   "outputs": [
    {
     "name": "stdout",
     "output_type": "stream",
     "text": [
      "[ 0, 1 ]\n",
      "[ 1, 2 ]\n",
      "[ 2, 3 ]\n"
     ]
    }
   ],
   "source": [
    "(function(){\n",
    "    var each = function(ary, callback){\n",
    "        for(var i = 0,l = ary.length;i<l;i++){\n",
    "            callback.call(ary[i],i,ary[i]);\n",
    "        }\n",
    "    }\n",
    "    \n",
    "    each([1,2,3], function(i, n){\n",
    "        console.log([i, n])\n",
    "    })\n",
    "})()"
   ]
  },
  {
   "cell_type": "markdown",
   "metadata": {},
   "source": [
    "迭代器\n",
    "- 内部迭代器\n",
    "- 外部迭代器"
   ]
  },
  {
   "cell_type": "code",
   "execution_count": 3,
   "metadata": {},
   "outputs": [
    {
     "name": "stdout",
     "output_type": "stream",
     "text": [
      "[ 0, 1 ]\n",
      "[ 1, 2 ]\n",
      "[ 2, 3 ]\n"
     ]
    },
    {
     "name": "stderr",
     "output_type": "stream",
     "text": [
      "evalmachine.<anonymous>:18\n",
      "                throw new Error('ary1 ary2 not equal');\n",
      "                ^\n",
      "\n",
      "Error: ary1 ary2 not equal\n",
      "    at Number.<anonymous> (evalmachine.<anonymous>:18:23)\n",
      "    at each (evalmachine.<anonymous>:6:22)\n",
      "    at compare (evalmachine.<anonymous>:16:9)\n",
      "    at evalmachine.<anonymous>:23:5\n",
      "    at evalmachine.<anonymous>:24:3\n",
      "    at evalmachine.<anonymous>:26:3\n",
      "    at sigintHandlersWrap (vm.js:258:15)\n",
      "    at Script.runInThisContext (vm.js:129:14)\n",
      "    at Object.runInThisContext (vm.js:295:38)\n",
      "    at Object.execute (/opt/miniconda3/lib/node_modules/tslab/dist/executor.js:162:38)\n"
     ]
    }
   ],
   "source": [
    "(function(){\n",
    "    var each = function(ary, callback){\n",
    "        for(var i = 0,l = ary.length;i<l;i++){\n",
    "            callback.call(ary[i],i,ary[i]);\n",
    "        }\n",
    "    }\n",
    "    \n",
    "    each([1,2,3], function(i, n){\n",
    "        console.log([i, n])\n",
    "    })\n",
    "    \n",
    "    var compare = function(ary1, ary2){\n",
    "        if(ary1.length !== ary2.length){\n",
    "            throw new Error('ary1 ary2 not equal')\n",
    "        }\n",
    "        each(ary1,function(i,n){\n",
    "            if(n !== ary2[i]){\n",
    "                throw new Error('ary1 ary2 not equal')\n",
    "            }\n",
    "        })\n",
    "        \n",
    "        console.log('ary1 equal ary2')\n",
    "    }\n",
    "    \n",
    "    compare([1, 2, 3],[1, 2, 4])\n",
    "})()"
   ]
  },
  {
   "cell_type": "code",
   "execution_count": 5,
   "metadata": {},
   "outputs": [
    {
     "name": "stdout",
     "output_type": "stream",
     "text": [
      "iterator1 equal iterator2\n"
     ]
    }
   ],
   "source": [
    "(function(){\n",
    "    var Iterator = function(obj){\n",
    "        var current = 0;\n",
    "        var next = function(){\n",
    "            current += 1;\n",
    "        }\n",
    "        \n",
    "        var isDone = function(){\n",
    "            return current >= obj.length;\n",
    "        }\n",
    "        \n",
    "        var getCurrItem = function(){\n",
    "            return obj[current];\n",
    "        }\n",
    "        \n",
    "        return {\n",
    "            next:next,\n",
    "            isDone:isDone,\n",
    "            getCurrItem:getCurrItem\n",
    "        }\n",
    "    }\n",
    "    \n",
    "    var compare = function(iterator1, iterator2){\n",
    "        while(!iterator1.isDone() && !iterator2.isDone()){\n",
    "            if(iterator1.getCurrItem() !== iterator2.getCurrItem()){\n",
    "                throw new Error('iterator1 iterator2 not equal')\n",
    "            }\n",
    "            iterator1.next()\n",
    "            iterator2.next()\n",
    "        }\n",
    "        console.log('iterator1 equal iterator2')\n",
    "    }\n",
    "    \n",
    "    var iterator1 = Iterator([1,2,3])\n",
    "    var iterator2 = Iterator([1,2,3])\n",
    "    \n",
    "    compare(iterator1,iterator2)\n",
    "    \n",
    "})()"
   ]
  },
  {
   "cell_type": "markdown",
   "metadata": {},
   "source": [
    "外部迭代器虽然调用方式相对复杂，但是适用面更广。\n",
    "\n",
    "无论是内部迭代器还是外部迭代器，只要被迭代的聚合对象拥有length属性而且可以用下标访问，就可以被迭代。"
   ]
  },
  {
   "cell_type": "code",
   "execution_count": null,
   "metadata": {},
   "outputs": [],
   "source": [
    "(function(){\n",
    "    $.each = function(obj, callback){\n",
    "        var value,\n",
    "            i = 0,\n",
    "            length = obj.length,\n",
    "            isArray = isArrayliek(obj);\n",
    "        \n",
    "        if(isArray){\n",
    "            for(;i<length;i++){\n",
    "                value = callback,call(obj[i],i,obj[i]);\n",
    "                \n",
    "                if(value === false){\n",
    "                    break;\n",
    "                }\n",
    "            }\n",
    "        }else {\n",
    "            for(i in obj){\n",
    "                value = callback.call(obj[i],i,obj[i]){\n",
    "                    if(value === false){\n",
    "                        break;\n",
    "                    }\n",
    "                }\n",
    "            }\n",
    "        }\n",
    "        \n",
    "        return obj;\n",
    "    }\n",
    "})()"
   ]
  },
  {
   "cell_type": "code",
   "execution_count": 6,
   "metadata": {},
   "outputs": [
    {
     "name": "stdout",
     "output_type": "stream",
     "text": [
      "2\n",
      "1\n",
      "0\n"
     ]
    }
   ],
   "source": [
    "(function(){\n",
    "    var reverseEach = function(ary,callback){\n",
    "        for(var l = ary.length-1;l>=0;l--){\n",
    "            callback(l,ary[l]);\n",
    "        }\n",
    "    }\n",
    "    \n",
    "    reverseEach([0,1,2],function(i,n){\n",
    "        console.log(n);\n",
    "    })\n",
    "})()"
   ]
  },
  {
   "cell_type": "code",
   "execution_count": 8,
   "metadata": {},
   "outputs": [
    {
     "name": "stdout",
     "output_type": "stream",
     "text": [
      "1\n",
      "2\n",
      "3\n"
     ]
    }
   ],
   "source": [
    "(function(){\n",
    "    var each = function(ary,callback){\n",
    "        for(var i =0,l=ary.length;i<l;i++){\n",
    "            if(callback(i,ary[i]) === false){\n",
    "                break;\n",
    "            }\n",
    "        }\n",
    "    }\n",
    "    each([1,2,3,4,5],function(i,n){\n",
    "        if(n>3){\n",
    "            return false\n",
    "        }\n",
    "        console.log(n)\n",
    "    })\n",
    "})()"
   ]
  },
  {
   "cell_type": "code",
   "execution_count": null,
   "metadata": {},
   "outputs": [],
   "source": []
  }
 ],
 "metadata": {
  "kernelspec": {
   "display_name": "JavaScript",
   "language": "javascript",
   "name": "jslab"
  },
  "language_info": {
   "file_extension": ".js",
   "mimetype": "text/javascript",
   "name": "javascript",
   "version": ""
  }
 },
 "nbformat": 4,
 "nbformat_minor": 4
}
