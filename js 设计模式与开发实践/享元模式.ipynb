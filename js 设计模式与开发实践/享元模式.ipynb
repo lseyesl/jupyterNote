{
 "cells": [
  {
   "cell_type": "markdown",
   "metadata": {},
   "source": [
    "享元模式是一种用于性能优化的模式。\n",
    "\n",
    "享元模式的核心是运用共享技术来有效支持大量细粒度的对象。"
   ]
  },
  {
   "cell_type": "code",
   "execution_count": null,
   "metadata": {},
   "outputs": [],
   "source": [
    "(function(){\n",
    "    var Model = function(sex){\n",
    "        this.sex = sex\n",
    "        this.underwear = null\n",
    "    }\n",
    "    \n",
    "    Model.prototype.takePhoto = function(){\n",
    "        console.log(`sex = ${this.sex} , underwear = ${this.underwear}`)\n",
    "    }\n",
    "    \n",
    "    var maleModel = new Model('male'),\n",
    "        femaleModel = new Model('female');\n",
    "    \n",
    "    for(var i = 1;i<= 50;i++){\n",
    "        maleModel.underwear = `underwear${i}`\n",
    "        maleModel.takePhoto()\n",
    "    }\n",
    "    \n",
    "    for(var i = 1;i<= 50;i++){\n",
    "        femaleModel.underwear = `underwear${i}`\n",
    "        femaleModel.takePhoto()\n",
    "    }\n",
    "    \n",
    "})()"
   ]
  },
  {
   "cell_type": "markdown",
   "metadata": {},
   "source": [
    "享元模式要求将对象的属性划分为内部状态和外部状态\n",
    "\n",
    "- 内部状态存储于对象内部\n",
    "- 内部状态可以被一些对象共享\n",
    "- 内部状态独立于具体的场景，通常不会改变\n",
    "- 外部状态取决于具体的场景，并根据场景而变化，外部状态不能被共享\n",
    "\n",
    "享元模式是一种用时间换空间的方式。"
   ]
  },
  {
   "cell_type": "markdown",
   "metadata": {},
   "source": [
    "享元模式的适用性\n",
    "- 一个程序中使用了大量的相似对象\n",
    "- 由于使用了大量对象，造成很大的内存开销\n",
    "- 对象的大多数状态都可以变为外部状态\n",
    "- 剥离出对象的外部状态之后，可以用相对较少的共享对象取代大量对象"
   ]
  },
  {
   "cell_type": "markdown",
   "metadata": {},
   "source": [
    "对象池"
   ]
  },
  {
   "cell_type": "code",
   "execution_count": 4,
   "metadata": {},
   "outputs": [],
   "source": [
    "(function(){\n",
    "    var toolTipFactory = (function(){\n",
    "        var toolTipPool = [];\n",
    "        \n",
    "        return {\n",
    "            create:function(){\n",
    "                if(toolTipPool.length === 0){\n",
    "                    var div = document.createElement('div');\n",
    "                    document.body.appendChild(div);\n",
    "                    return div;\n",
    "                }else{\n",
    "                    return toolTipPool.shift();\n",
    "                }\n",
    "            },\n",
    "            recover:function(tooltipDom){\n",
    "                return toolTipPool.push(tooltipDom)\n",
    "            }\n",
    "        }\n",
    "    })();\n",
    "})()"
   ]
  },
  {
   "cell_type": "code",
   "execution_count": null,
   "metadata": {},
   "outputs": [],
   "source": [
    "(function(){\n",
    "    var objectPoolFactory = function(createObjFn){\n",
    "        var objectPool = [];\n",
    "        return {\n",
    "            create:function(){\n",
    "                var obj = objectPool.length === 0?\n",
    "                    createObjFn.apply(this,arguments):objectPool.shift();\n",
    "                \n",
    "                return obj\n",
    "            },\n",
    "            recover:function(obj){\n",
    "                objectPool.push(obj)\n",
    "            }\n",
    "        }\n",
    "    }\n",
    "})()"
   ]
  }
 ],
 "metadata": {
  "kernelspec": {
   "display_name": "JavaScript",
   "language": "javascript",
   "name": "jslab"
  },
  "language_info": {
   "file_extension": ".js",
   "mimetype": "text/javascript",
   "name": "javascript",
   "version": ""
  }
 },
 "nbformat": 4,
 "nbformat_minor": 4
}
