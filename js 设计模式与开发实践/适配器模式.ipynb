{
 "cells": [
  {
   "cell_type": "markdown",
   "metadata": {},
   "source": [
    "适配器模式\n",
    "\n",
    "作用是解决两个软件实体间的接口不兼容的问题。"
   ]
  },
  {
   "cell_type": "markdown",
   "metadata": {},
   "source": [
    "- 适配器模式主要用来解决两个已有接口之间不匹配的问题\n",
    "- 装饰者模式和代理模式也不会改变原有对象的接口，但装饰者模式的作用是为了给对象增加功能，代理模式是为了控制对对象的访问\n",
    "- 外观模式最显著的特点是定义了一个新的接口"
   ]
  }
 ],
 "metadata": {
  "kernelspec": {
   "display_name": "JavaScript",
   "language": "javascript",
   "name": "jslab"
  },
  "language_info": {
   "file_extension": ".js",
   "mimetype": "text/javascript",
   "name": "javascript",
   "version": ""
  }
 },
 "nbformat": 4,
 "nbformat_minor": 4
}
