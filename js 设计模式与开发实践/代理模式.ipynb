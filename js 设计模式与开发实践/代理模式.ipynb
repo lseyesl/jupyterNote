{
 "cells": [
  {
   "cell_type": "markdown",
   "metadata": {},
   "source": [
    "代理模式是为一个对象提供一个代用品或占位符，以便控制对它的访问。"
   ]
  },
  {
   "cell_type": "code",
   "execution_count": 2,
   "metadata": {},
   "outputs": [
    {
     "name": "stdout",
     "output_type": "stream",
     "text": [
      "收到花 Flower {}\n"
     ]
    }
   ],
   "source": [
    "(function(){\n",
    "    var Flower = function(){}\n",
    "    \n",
    "    var xiaoming = {\n",
    "        sendFlower:function(target){\n",
    "            var flower = new Flower();\n",
    "            target.receiveFlower(flower);\n",
    "        }\n",
    "    }\n",
    "    \n",
    "    var A = {\n",
    "        receiveFlower:function(flower){\n",
    "            console.log('收到花', flower);\n",
    "        }\n",
    "    }\n",
    "    \n",
    "    xiaoming.sendFlower(A)\n",
    "    \n",
    "})()"
   ]
  },
  {
   "cell_type": "code",
   "execution_count": 4,
   "metadata": {},
   "outputs": [
    {
     "name": "stdout",
     "output_type": "stream",
     "text": [
      "收到花 Flower {}\n"
     ]
    }
   ],
   "source": [
    "(function(){\n",
    "    var Flower= function(){}\n",
    "    \n",
    "    var xiaoming = {\n",
    "        sendFlower:function(target){\n",
    "            var flower = new Flower();\n",
    "            target.receiveFlower(flower);\n",
    "        }\n",
    "    }\n",
    "    \n",
    "    var B = {\n",
    "        receiveFlower:function(flower){\n",
    "            A.receiveFlower(flower)\n",
    "        }\n",
    "    }\n",
    "    \n",
    "    var A = {\n",
    "        receiveFlower:function(flower){\n",
    "            console.log('收到花',flower);\n",
    "        }\n",
    "    }\n",
    "    \n",
    "    xiaoming.sendFlower(B)\n",
    "})()"
   ]
  },
  {
   "cell_type": "code",
   "execution_count": 6,
   "metadata": {},
   "outputs": [
    {
     "name": "stdout",
     "output_type": "stream",
     "text": [
      "收到花 Flower {}\n"
     ]
    }
   ],
   "source": [
    "(function(){\n",
    "    var Flower= function(){}\n",
    "    \n",
    "    var xiaoming = {\n",
    "        sendFlower:function(target){\n",
    "            var flower = new Flower();\n",
    "            target.receiveFlower(flower);\n",
    "        }\n",
    "    }\n",
    "    \n",
    "    var B = {\n",
    "        receiveFlower:function(flower){\n",
    "            A.listenGoodMood(function(){\n",
    "                A.receiveFlower(flower)\n",
    "            })            \n",
    "        }\n",
    "    }\n",
    "    \n",
    "    var A = {\n",
    "        receiveFlower:function(flower){\n",
    "            console.log('收到花',flower);\n",
    "        },\n",
    "        listenGoodMood:function(fn){\n",
    "            setTimeout(function(){\n",
    "                fn()\n",
    "            },1000);\n",
    "        }\n",
    "    }\n",
    "    \n",
    "    xiaoming.sendFlower(B)\n",
    "})()"
   ]
  },
  {
   "cell_type": "markdown",
   "metadata": {},
   "source": [
    "代理模式\n",
    "\n",
    "- 虚拟代理 开销很大的对象，延迟到真正需要它的时候再去创建\n",
    "- 保护代理 控制对象访问"
   ]
  },
  {
   "cell_type": "code",
   "execution_count": null,
   "metadata": {},
   "outputs": [],
   "source": [
    "(function(){\n",
    "    var myImage = (function(){\n",
    "        var imgNode = document.createElement('img');\n",
    "        document.body.appendChild(imgNode);\n",
    "        \n",
    "        return {\n",
    "            setSrc:function(src){\n",
    "                imgNode.src = src\n",
    "            }\n",
    "        }\n",
    "    })()\n",
    "    \n",
    "    var proxyImage = (function(){\n",
    "        var img = new Image;\n",
    "        img.onload = function(){\n",
    "            myImage.setSrc(this.src)\n",
    "        }\n",
    "        \n",
    "        return {\n",
    "            setSrc:function(src){\n",
    "                myImage.setSrc('local.gif')\n",
    "                img.src = src;\n",
    "            }\n",
    "        }\n",
    "    })()\n",
    "    \n",
    "    proxyImage.setSrc('new.gif')\n",
    "})()"
   ]
  },
  {
   "cell_type": "markdown",
   "metadata": {},
   "source": [
    "单一职责原则：一个类（通常也包括对象和函数等）而言，应该仅有一个引起它变化的原因。"
   ]
  },
  {
   "cell_type": "markdown",
   "metadata": {},
   "source": [
    "面向接口编程迎合依赖倒置原则，通过接口向上转型，从而避开了编译器的类型检查。"
   ]
  },
  {
   "cell_type": "code",
   "execution_count": null,
   "metadata": {},
   "outputs": [],
   "source": [
    "(function(){\n",
    "    var synchronousFile = function(id){\n",
    "        console.log('start sync, id is',id);\n",
    "    }\n",
    "    \n",
    "    var proxySynchronousFile = (function(){\n",
    "        var cache = [],\n",
    "            timer;\n",
    "        \n",
    "        return function(id){\n",
    "            cache.push(id);\n",
    "            if(timer){\n",
    "                return\n",
    "            }\n",
    "            \n",
    "            timer = setTimeout(function(){\n",
    "                synchronousFile(cache.join(','));\n",
    "                clearTimeout(timer);\n",
    "                timer = null;\n",
    "                cache.length = 0;\n",
    "            }, 2000);\n",
    "        }\n",
    "    })\n",
    "})()"
   ]
  },
  {
   "cell_type": "code",
   "execution_count": null,
   "metadata": {},
   "outputs": [],
   "source": [
    "(function(){\n",
    "    var miniConsole = (function(){\n",
    "        var cache = [];\n",
    "        var handler = function(ev){\n",
    "            if(ev.keyCode === 113){\n",
    "                var script = document.createElement('script');\n",
    "                script.onload = function(){\n",
    "                    for(var i =0,fn;fn = cache[i++];){\n",
    "                        fn()\n",
    "                    }\n",
    "                }\n",
    "                \n",
    "                script.src = 'miniConsole.js';\n",
    "                document.getElementsByTagName('head')[0].appendChild(script);\n",
    "                document.body.removeEventListener('keydown',handler);\n",
    "            }\n",
    "        }\n",
    "        document.body.addEventListener('keydown',handler,false);\n",
    "        \n",
    "        return {\n",
    "            log:function(){\n",
    "                var args = arguments;\n",
    "                cache.push(function(){\n",
    "                    return miniConsole.log.apply(miniConsole,args);\n",
    "                })\n",
    "            }\n",
    "        }\n",
    "    })()\n",
    "    \n",
    "    miniConsole.log(11);\n",
    "})()"
   ]
  },
  {
   "cell_type": "code",
   "execution_count": null,
   "metadata": {},
   "outputs": [],
   "source": [
    "//缓存代理\n",
    "(function(){\n",
    "    var mult = function(){\n",
    "        console.log('开始计算');\n",
    "        var a= 1;\n",
    "        for(var i = 0,l= arguments.length;i<l;i++){\n",
    "            a = a* arguments[i];\n",
    "        }\n",
    "        \n",
    "        return a;\n",
    "    }\n",
    "    \n",
    "    var proxyMult = (function(){\n",
    "        var cache = {};\n",
    "        return function(){\n",
    "            var args = Array.prototype.join.call(arguments,',');\n",
    "            if(args in cache){\n",
    "                return cache[args];\n",
    "            }\n",
    "            return cache[args] = mult.apply(this, arguments);\n",
    "        }\n",
    "    })();\n",
    "    \n",
    "    proxyMult(1,2,3)\n",
    "    proxyMult(1,2,3)\n",
    "})()"
   ]
  },
  {
   "cell_type": "code",
   "execution_count": null,
   "metadata": {},
   "outputs": [],
   "source": [
    "(function(){\n",
    "    var mult = function(){\n",
    "        var a = 1;\n",
    "        for(var i =0,l = arguments.length;i<l;i++){\n",
    "            a = a* arguments[i]\n",
    "        }\n",
    "        return a;\n",
    "    }\n",
    "    \n",
    "    var plus = function(){\n",
    "        var a = 0;\n",
    "        for(var i =0,l = arguments.length;i<l;i++){\n",
    "            a = a+arguments[i]\n",
    "        }\n",
    "        return a;\n",
    "    }\n",
    "    \n",
    "    var createProxyFactory = function(fn){\n",
    "        var cache = {};\n",
    "        return function(){\n",
    "            var args = Array.prototype.join.call(arguments,',');\n",
    "            if(args in cache){\n",
    "                return cache[args];\n",
    "            }\n",
    "            return cache[args] = fn.apply(this, arguments);\n",
    "        }\n",
    "    }\n",
    "    \n",
    "    var proxyMult = createProxyFactory(mult),\n",
    "        proxyPlus = createProxyFactory(plus);\n",
    "})()"
   ]
  }
 ],
 "metadata": {
  "kernelspec": {
   "display_name": "JavaScript",
   "language": "javascript",
   "name": "jslab"
  },
  "language_info": {
   "file_extension": ".js",
   "mimetype": "text/javascript",
   "name": "javascript",
   "version": ""
  }
 },
 "nbformat": 4,
 "nbformat_minor": 4
}
