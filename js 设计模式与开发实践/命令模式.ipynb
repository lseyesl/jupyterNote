{
 "cells": [
  {
   "cell_type": "markdown",
   "metadata": {},
   "source": [
    "命令模式"
   ]
  },
  {
   "cell_type": "markdown",
   "metadata": {},
   "source": [
    "命令模式的由来，是回调函数的一个面向对象的替代品"
   ]
  },
  {
   "cell_type": "code",
   "execution_count": 1,
   "metadata": {},
   "outputs": [
    {
     "name": "stdout",
     "output_type": "stream",
     "text": [
      "close\n",
      "openpc\n",
      "login qq\n"
     ]
    }
   ],
   "source": [
    "(function(){\n",
    "    var closeDoorCommand ={\n",
    "        execute:function(){\n",
    "            console.log('close')\n",
    "        }\n",
    "    }\n",
    "    \n",
    "    var openPcCommand = {\n",
    "        execute:function(){\n",
    "            console.log('openpc')\n",
    "        }\n",
    "    }\n",
    "    \n",
    "    var openQQCommand = {\n",
    "        execute:function(){\n",
    "            console.log('login qq')\n",
    "        }\n",
    "    }\n",
    "    \n",
    "    var MacroCommand = function(){\n",
    "        return {\n",
    "            commandsList:[],\n",
    "            add:function(command){\n",
    "                this.commandsList.push(command)\n",
    "            },\n",
    "            execute:function(){\n",
    "                for(var i =0,command;command = this.commandsList[i++];){\n",
    "                    command.execute()\n",
    "                }\n",
    "            }\n",
    "        }\n",
    "    }\n",
    "    \n",
    "    var macroCommand = MacroCommand();\n",
    "    macroCommand.add(closeDoorCommand);\n",
    "    macroCommand.add(openPcCommand);\n",
    "    macroCommand.add(openQQCommand);\n",
    "    \n",
    "    macroCommand.execute();\n",
    "})()"
   ]
  },
  {
   "cell_type": "code",
   "execution_count": null,
   "metadata": {},
   "outputs": [],
   "source": []
  }
 ],
 "metadata": {
  "kernelspec": {
   "display_name": "JavaScript",
   "language": "javascript",
   "name": "jslab"
  },
  "language_info": {
   "file_extension": ".js",
   "mimetype": "text/javascript",
   "name": "javascript",
   "version": ""
  }
 },
 "nbformat": 4,
 "nbformat_minor": 4
}
