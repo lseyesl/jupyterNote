{
 "cells": [
  {
   "cell_type": "markdown",
   "metadata": {},
   "source": [
    "模板方法模式是一种只需要使用继承就可以实现的非常简单的模式\n",
    "- 抽象父类\n",
    "- 具体实现子类\n",
    "\n",
    "例如框架的声明周期"
   ]
  },
  {
   "cell_type": "code",
   "execution_count": 1,
   "metadata": {},
   "outputs": [
    {
     "name": "stdout",
     "output_type": "stream",
     "text": [
      "把水煮沸\n",
      "用沸水冲泡咖啡\n",
      "把咖啡倒进杯子\n",
      "加糖和牛奶\n"
     ]
    }
   ],
   "source": [
    "(function(){\n",
    "    var Coffee = function(){}\n",
    "    \n",
    "    Coffee.prototype.boilWater = function(){\n",
    "        console.log('把水煮沸')\n",
    "    }\n",
    "    Coffee.prototype.brewCoffeeGriends = function(){\n",
    "        console.log('用沸水冲泡咖啡')\n",
    "    }\n",
    "    Coffee.prototype.pourInCup = function(){\n",
    "        console.log('把咖啡倒进杯子')\n",
    "    }\n",
    "    Coffee.prototype.addSugarAndMilk = function(){\n",
    "        console.log('加糖和牛奶')\n",
    "    }\n",
    "    \n",
    "    Coffee.prototype.init = function(){\n",
    "        this.boilWater()\n",
    "        this.brewCoffeeGriends()\n",
    "        this.pourInCup()\n",
    "        this.addSugarAndMilk()\n",
    "    }\n",
    "    \n",
    "    var coffee = new Coffee\n",
    "    coffee.init()\n",
    "})()"
   ]
  },
  {
   "cell_type": "code",
   "execution_count": null,
   "metadata": {},
   "outputs": [],
   "source": [
    "(function(){\n",
    "    var Tea = function(){}\n",
    "    \n",
    "    Tea.prototype.boilWater = function(){\n",
    "        console.log('把水煮沸')\n",
    "    }\n",
    "    Tea.prototype.steepTeaBag = function(){\n",
    "        console.log('用沸水浸泡茶叶')\n",
    "    }\n",
    "    Tea.prototype.pourInCup = function(){\n",
    "        console.log('把茶水倒进杯子')\n",
    "    }\n",
    "    Tea.prototype.addLemon = function(){\n",
    "        console.log('加柠檬')\n",
    "    }\n",
    "    \n",
    "    Tea.prototype.init = function(){\n",
    "        this.boilWater()\n",
    "        this.steepTeaBag()\n",
    "        this.pourInCup()\n",
    "        this.addLemon()\n",
    "    }\n",
    "    \n",
    "    var tea = new Tea\n",
    "    tea.init()\n",
    "})()"
   ]
  },
  {
   "cell_type": "code",
   "execution_count": null,
   "metadata": {},
   "outputs": [],
   "source": [
    "(function(){\n",
    "    var Beverage = function(){}\n",
    "    Beverage.prototype.boilWater = function(){\n",
    "        console.log('把水煮沸')\n",
    "    }\n",
    "    Beverage.prototype.brew = function(){}\n",
    "    Beverage.prototype.pourInCup = function(){}\n",
    "    Beverage.prototype.addCondiments = function(){}\n",
    "    \n",
    "    Beverage.prototype.init = function(){\n",
    "        this.boilWater()\n",
    "        this.brew()\n",
    "        this.pourInCup()\n",
    "        this.addCondiments()\n",
    "    }\n",
    "    \n",
    "    \n",
    "    var Coffee = function(){}\n",
    "    Coffee.prototype = new Beverage()\n",
    "    \n",
    "    Coffee.prototype.brew = function(){\n",
    "        console.log('用沸水冲泡咖啡')\n",
    "    }\n",
    "    Coffee.prototype.pourInCup = function(){\n",
    "        console.log('把咖啡倒进杯子')\n",
    "    }\n",
    "    Coffee.prototype.addCondiments = function(){\n",
    "        console.log('加糖和牛奶')\n",
    "    }\n",
    "    \n",
    "    var coffee = new Coffee\n",
    "    coffee.init()\n",
    "})()"
   ]
  },
  {
   "cell_type": "markdown",
   "metadata": {},
   "source": [
    "模板方法模式是一种严重依赖抽象类的设计模式"
   ]
  },
  {
   "cell_type": "code",
   "execution_count": 1,
   "metadata": {},
   "outputs": [
    {
     "name": "stdout",
     "output_type": "stream",
     "text": [
      "把水煮沸\n",
      "冲泡\n",
      "倒入杯子\n",
      "加糖和牛奶\n"
     ]
    }
   ],
   "source": [
    "(function(){\n",
    "    var Beverage = function(param){\n",
    "        var boilWater = function(){\n",
    "            console.log('把水煮沸')\n",
    "        }\n",
    "        \n",
    "        var brew = param.brew || function(){\n",
    "            throw new Error('必须传递brew方法')\n",
    "        }\n",
    "        \n",
    "        var pourInCup = param.pourInCup || function(){\n",
    "            throw new Error('必须传递pourInCup')\n",
    "        }\n",
    "        \n",
    "        var addCondiments = param.addCondiments || function(){\n",
    "            throw new Error('必须传递addCondiments方法')\n",
    "        }\n",
    "        \n",
    "        var F = function(){}\n",
    "        \n",
    "        F.prototype.init = function(){\n",
    "            boilWater()\n",
    "            brew()\n",
    "            pourInCup()\n",
    "            addCondiments()\n",
    "        }\n",
    "        \n",
    "        return F\n",
    "    }\n",
    "    \n",
    "    var Coffee = Beverage({\n",
    "        brew:function(){\n",
    "            console.log('冲泡')\n",
    "        },\n",
    "        pourInCup:function(){\n",
    "            console.log('倒入杯子')\n",
    "        },\n",
    "        addCondiments:function(){\n",
    "            console.log('加糖和牛奶')\n",
    "        }\n",
    "    })\n",
    "    \n",
    "    var coffee = new Coffee\n",
    "    coffee.init()\n",
    "})()"
   ]
  },
  {
   "cell_type": "markdown",
   "metadata": {},
   "source": [
    "模板方法模式是一种典型的通过封装变化提高系统扩展性的设计模式。"
   ]
  }
 ],
 "metadata": {
  "kernelspec": {
   "display_name": "JavaScript",
   "language": "javascript",
   "name": "jslab"
  },
  "language_info": {
   "file_extension": ".js",
   "mimetype": "text/javascript",
   "name": "javascript",
   "version": ""
  }
 },
 "nbformat": 4,
 "nbformat_minor": 4
}
