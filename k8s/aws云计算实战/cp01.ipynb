{
 "cells": [
  {
   "cell_type": "markdown",
   "metadata": {},
   "source": [
    "云计算是一种普适的、方便的、按需提供网络访问的可配置的计算资\n",
    "源(如网络、服务器、存储、应用程序和服务)的共享池模型，它能够以\n",
    "最少的管理工作量或与服务提供者交互的方式快速进行分配和发布。\n",
    "\n",
    "云计算常被划分成以下几种类型：\n",
    "- 公有云 ——由某一机构、公司管理并对公众开放使用的云计算。 \n",
    "- 私有云 ——在单个的机构中通过虚拟化共享出来的IT基础设施。\n",
    "- 混合云 ——公有云和私有云的混合。\n",
    "\n",
    "云计算服务分类：\n",
    "- 基础设施即服务(IaaS) ——提供计算、存储和网络功能等基本资源。\n",
    "- 平台即服务(PaaS) ——提供将定制的应用部署到云上的平台。\n",
    "- 软件即服务(SaaS) ——结合了基础设施和软件并且运行在云端。"
   ]
  }
 ],
 "metadata": {
  "kernelspec": {
   "display_name": "Python 3.9.12 ('base')",
   "language": "python",
   "name": "python3"
  },
  "language_info": {
   "name": "python",
   "version": "3.9.12"
  },
  "orig_nbformat": 4,
  "vscode": {
   "interpreter": {
    "hash": "c30f2af5f468e7f5b45bcc30fca5f4886c90d54777aed916ed5f6294dfb24bf2"
   }
  }
 },
 "nbformat": 4,
 "nbformat_minor": 2
}
