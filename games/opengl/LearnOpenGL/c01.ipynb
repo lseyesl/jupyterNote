{
 "cells": [
  {
   "cell_type": "markdown",
   "metadata": {},
   "source": [
    "# glfw 基础结构\n",
    "\n",
    "## 创建一个窗口"
   ]
  },
  {
   "cell_type": "code",
   "execution_count": null,
   "metadata": {
    "vscode": {
     "languageId": "cpp"
    }
   },
   "outputs": [],
   "source": [
    "#include <glad/glad.h>\n",
    "#include <GLFW/glfw3.h>\n",
    "\n",
    "#include <iostream>\n",
    "\n",
    "void framebuffer_size_callback(GLFWwindow* window, int width, int height);\n",
    "void processInput(GLFWwindow *window);\n",
    "\n",
    "// settings\n",
    "// 设置窗口宽高\n",
    "const unsigned int SCR_WIDTH = 800;\n",
    "const unsigned int SCR_HEIGHT = 600;\n",
    "\n",
    "int main()\n",
    "{\n",
    "    // glfw: initialize and configure\n",
    "    // 初始化配置 设置opengl 版本\n",
    "    // ------------------------------\n",
    "    glfwInit();\n",
    "    glfwWindowHint(GLFW_CONTEXT_VERSION_MAJOR, 3);\n",
    "    glfwWindowHint(GLFW_CONTEXT_VERSION_MINOR, 3);\n",
    "    glfwWindowHint(GLFW_OPENGL_PROFILE, GLFW_OPENGL_CORE_PROFILE);\n",
    "\n",
    "#ifdef __APPLE__\n",
    "    glfwWindowHint(GLFW_OPENGL_FORWARD_COMPAT, GL_TRUE);\n",
    "#endif\n",
    "\n",
    "    // glfw window creation\n",
    "    // 创建窗口\n",
    "    // --------------------\n",
    "    GLFWwindow* window = glfwCreateWindow(SCR_WIDTH, SCR_HEIGHT, \"LearnOpenGL\", NULL, NULL);\n",
    "    if (window == NULL)\n",
    "    {\n",
    "        std::cout << \"Failed to create GLFW window\" << std::endl;\n",
    "        glfwTerminate();\n",
    "        return -1;\n",
    "    }\n",
    "    glfwMakeContextCurrent(window);\n",
    "    glfwSetFramebufferSizeCallback(window, framebuffer_size_callback);\n",
    "\n",
    "    // glad: load all OpenGL function pointers\n",
    "    // ---------------------------------------\n",
    "    if (!gladLoadGLLoader((GLADloadproc)glfwGetProcAddress))\n",
    "    {\n",
    "        std::cout << \"Failed to initialize GLAD\" << std::endl;\n",
    "        return -1;\n",
    "    }    \n",
    "\n",
    "    // 清除颜色\n",
    "    // 在mac下如果不加入一下两行代码，会出现红黑交替的窗口 \n",
    "    glClearColor(0.0f, 0.0f, 0.0f, 1.0f);\n",
    "    glClear(GL_COLOR_BUFFER_BIT);\n",
    "\n",
    "    // render loop\n",
    "    // 渲染循环 根据当前窗口是否关闭判断\n",
    "    // -----------\n",
    "    while (!glfwWindowShouldClose(window))\n",
    "    {\n",
    "        // input\n",
    "        // -----\n",
    "        processInput(window);\n",
    "\n",
    "        // glfw: swap buffers and poll IO events (keys pressed/released, mouse moved etc.)\n",
    "        // glfwSwapBuffers 双缓冲\n",
    "        // -------------------------------------------------------------------------------\n",
    "        glfwSwapBuffers(window);\n",
    "        glfwPollEvents();\n",
    "    }\n",
    "\n",
    "    // glfw: terminate, clearing all previously allocated GLFW resources.\n",
    "    // ------------------------------------------------------------------\n",
    "    glfwTerminate();\n",
    "    return 0;\n",
    "}\n",
    "\n",
    "// process all input: query GLFW whether relevant keys are pressed/released this frame and react accordingly\n",
    "// ---------------------------------------------------------------------------------------------------------\n",
    "void processInput(GLFWwindow *window)\n",
    "{\n",
    "    if(glfwGetKey(window, GLFW_KEY_ESCAPE) == GLFW_PRESS)\n",
    "        glfwSetWindowShouldClose(window, true);\n",
    "}\n",
    "\n",
    "// glfw: whenever the window size changed (by OS or user resize) this callback function executes\n",
    "// ---------------------------------------------------------------------------------------------\n",
    "void framebuffer_size_callback(GLFWwindow* window, int width, int height)\n",
    "{\n",
    "    // make sure the viewport matches the new window dimensions; note that width and \n",
    "    // height will be significantly larger than specified on retina displays.\n",
    "    glViewport(0, 0, width, height);\n",
    "}\n"
   ]
  },
  {
   "cell_type": "markdown",
   "metadata": {},
   "source": [
    "重点词汇：\n",
    "- 顶点数组对象 Vertex Array Object, VAO\n",
    "- 顶点缓冲对象 Vertex Buffer Object, VBO\n",
    "- 元素缓冲对象 Element Buffer Object, EBO or Index Buffer Object, IBO\n",
    "\n",
    "图形渲染管线的抽象展示\n",
    "![graph render pipe](../img/pipeline.png)\n",
    "\n",
    "OpenGL仅当3D坐标在3个轴（x、y和z）上-1.0到1.0的范围内时才处理它。所有在这个范围内的坐标叫做标准化设备坐标(Normalized Device Coordinates)，此范围内的坐标最终显示在屏幕上（在这个范围以外的坐标则不会显示）\n",
    "\n",
    "一旦你的顶点坐标已经在顶点着色器中处理过，它们就应该是标准化设备坐标了\n",
    "\n",
    "VAO VBO 的关系\n",
    "![VAO&VBO](../img/vao&vbo.png)"
   ]
  },
  {
   "cell_type": "code",
   "execution_count": null,
   "metadata": {
    "vscode": {
     "languageId": "cpp"
    }
   },
   "outputs": [],
   "source": [
    "// 数据如何存放到VBO中\n",
    "unsigned int VBO;\n",
    "glGenBuffers(1,&VBO);\n",
    "glBindBuffer(GL_ARRAY_BUFFER,VBO);\n",
    "glBufferData(GL_ARRAY_BUFFER,sizeof(vertices),vertices,GL_STATIC_DRAW);\n",
    "glVertexAttribPointer(0, 3, GL_FLOAT, GL_FALSE, 3 * sizeof(float), (void*)0);\n",
    "glEnableVertexAttribArray(0);\n",
    "glDeleteBuffers(1, &VBO);\n",
    "/**\n",
    " * GL_STATIC_DRAW ：数据不会或几乎不会改变。\n",
    " * GL_DYNAMIC_DRAW：数据会被改变很多。\n",
    " * GL_STREAM_DRAW ：数据每次绘制时都会改变。\n",
    " */"
   ]
  },
  {
   "cell_type": "code",
   "execution_count": null,
   "metadata": {
    "vscode": {
     "languageId": "cpp"
    }
   },
   "outputs": [],
   "source": [
    "// 数据存放到VAO中\n",
    "unsigned int VAO;\n",
    "glGenVertexArrays(1, &VAO);\n",
    "glBindVertexArray(VAO);\n",
    "glDeleteVertexArrays(1, &VAO);"
   ]
  },
  {
   "cell_type": "code",
   "execution_count": null,
   "metadata": {
    "vscode": {
     "languageId": "cpp"
    }
   },
   "outputs": [],
   "source": [
    " // 编译着色器\n",
    "\n",
    " // 着色器代码\n",
    "const char *vertexShaderSource = \"#version 330 core\\n\"\n",
    "    \"layout (location = 0) in vec3 aPos;\\n\"\n",
    "    \"void main()\\n\"\n",
    "    \"{\\n\"\n",
    "    \"   gl_Position = vec4(aPos.x, aPos.y, aPos.z, 1.0);\\n\"\n",
    "    \"}\\0\";\n",
    "\n",
    "unsigned int vertexShader;\n",
    "// 创建着色器\n",
    "vertexShader = glCreateShader(GL_VERTEX_SHADER);\n",
    "// 绑定着色器代码\n",
    "glShaderSource(vertexShader, 1, &vertexShaderSource, NULL);\n",
    "// 编译着色器代码\n",
    "glCompileShader(vertexShader);\n",
    "\n",
    "// 判断着色器是否编译成功\n",
    "int  success;\n",
    "char infoLog[512];\n",
    "glGetShaderiv(vertexShader, GL_COMPILE_STATUS, &success);\n",
    "if(!success)\n",
    "{\n",
    "    glGetShaderInfoLog(vertexShader, 512, NULL, infoLog);\n",
    "    std::cout << \"ERROR::SHADER::VERTEX::COMPILATION_FAILED\\n\" << infoLog << std::endl;\n",
    "}\n",
    "\n",
    "// 创建着色器程序\n",
    "unsigned int shaderProgram;\n",
    "shaderProgram = glCreateProgram();\n",
    "\n",
    "// 添加着色器\n",
    "glAttachShader(shaderProgram, vertexShader);\n",
    "// 链接着色器\n",
    "glLinkProgram(shaderProgram);\n",
    "\n",
    "// 判断程序是否链接成功\n",
    "glGetProgramiv(shaderProgram, GL_LINK_STATUS, &success);\n",
    "if (!success) {\n",
    "    glGetProgramInfoLog(shaderProgram, 512, NULL, infoLog);\n",
    "    std::cout << \"ERROR::SHADER::PROGRAM::LINKING_FAILED\\n\" << infoLog << std::endl;\n",
    "}\n",
    "// 删除着色器\n",
    "glDeleteShader(vertexShader);\n",
    "// 使用着色器程序\n",
    "glUseProgram(shaderProgram);\n",
    "// 绘制 图形 开始索引 绘制个数\n",
    "glDrawArrays(GL_TRIANGLES, 0, 3);"
   ]
  },
  {
   "cell_type": "markdown",
   "metadata": {},
   "source": [
    "元素缓冲对象是为了要解决由于绘制多边形只能使用三角形，但是会出现多个冗余点。\n",
    "使用元素缓冲对象把所有独立点放到数组中，通过数组下标合成完整数据"
   ]
  },
  {
   "cell_type": "code",
   "execution_count": null,
   "metadata": {
    "vscode": {
     "languageId": "cpp"
    }
   },
   "outputs": [],
   "source": [
    "float vertices[] = {\n",
    "    0.5f, 0.5f, 0.0f,   // 右上角\n",
    "    0.5f, -0.5f, 0.0f,  // 右下角\n",
    "    -0.5f, -0.5f, 0.0f, // 左下角\n",
    "    -0.5f, 0.5f, 0.0f   // 左上角\n",
    "};\n",
    "\n",
    "unsigned int indices[] = {\n",
    "    // 注意索引从0开始! \n",
    "    // 此例的索引(0,1,2,3)就是顶点数组vertices的下标，\n",
    "    // 这样可以由下标代表顶点组合成矩形\n",
    "\n",
    "    0, 1, 3, // 第一个三角形\n",
    "    1, 2, 3  // 第二个三角形\n",
    "};\n",
    "\n",
    "unsigned int EBO;\n",
    "glGenBuffers(1, &EBO);\n",
    "\n",
    "glBindBuffer(GL_ELEMENT_ARRAY_BUFFER, EBO);\n",
    "glBufferData(GL_ELEMENT_ARRAY_BUFFER, sizeof(indices), indices, GL_STATIC_DRAW);\n",
    "\n",
    "glBindBuffer(GL_ELEMENT_ARRAY_BUFFER, EBO);\n",
    "glDrawElements(GL_TRIANGLES, 6, GL_UNSIGNED_INT, 0);"
   ]
  },
  {
   "cell_type": "code",
   "execution_count": null,
   "metadata": {
    "vscode": {
     "languageId": "cpp"
    }
   },
   "outputs": [],
   "source": [
    "// 如何设置uniform 变量\n",
    "\n",
    "while(true){\n",
    "    double  timeValue = glfwGetTime();\n",
    "    int vertexColorLocation = glGetUniformLocation(shaderProgram, \"ourColor\");\n",
    "    glUniform4f(vertexColorLocation, 0.0f, greenValue, 0.0f, 1.0f);\n",
    "}"
   ]
  }
 ],
 "metadata": {
  "language_info": {
   "name": "python"
  },
  "orig_nbformat": 4
 },
 "nbformat": 4,
 "nbformat_minor": 2
}
